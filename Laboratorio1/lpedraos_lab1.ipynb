{
  "nbformat": 4,
  "nbformat_minor": 0,
  "metadata": {
    "colab": {
      "provenance": [],
      "include_colab_link": true
    },
    "kernelspec": {
      "name": "python3",
      "display_name": "Python 3"
    }
  },
  "cells": [
    {
      "cell_type": "markdown",
      "metadata": {
        "id": "view-in-github",
        "colab_type": "text"
      },
      "source": [
        "<a href=\"https://colab.research.google.com/github/lpedraoss/AlgorithmsUN2023II/blob/main/Laboratorio1/lpedraos_lab1.ipynb\" target=\"_parent\"><img src=\"https://colab.research.google.com/assets/colab-badge.svg\" alt=\"Open In Colab\"/></a>"
      ]
    },
    {
      "cell_type": "markdown",
      "source": [
        "# Name: Pedro A Perez P\n",
        "# Number in the list : 23\n",
        "# Last digit of the number in the list: 3"
      ],
      "metadata": {
        "id": "xbAWD-q6yn-x"
      }
    },
    {
      "cell_type": "markdown",
      "metadata": {
        "id": "r4rXWI4gCN5B"
      },
      "source": [
        "# Arithmetic Series\n",
        "\n",
        "## Modified from Arithmetic Series -  [Wolfram MathWorld](https://mathworld.wolfram.com/ArithmeticSeries.html) - [wikipedia](https://en.wikipedia.org/wiki/Arithmetic_progression)\n",
        "\n",
        "\n",
        "An arithmetic sequence $\\{a_k\\}$ for $k=1, 2, ..., $ in which each term is computed from the previous one by adding (or subtracting) a constant $d$.\n",
        "\n",
        "\\begin{align*}\n",
        "a_1 & \\\\\n",
        "a_2 &\\ \\ =\\ \\ a_1 + d  \\\\\n",
        "a_3 &\\ \\ =\\ \\ a_2 + d \\ \\ =\\ \\ a_1 + 2d   \\\\\n",
        "a_4 &\\ \\ =\\ \\ a_3 + d \\ \\ =\\ \\ a_2 + 2d \\ \\ =\\ \\ a_1 + 3d  \\\\\n",
        "\\vdots\\\\\n",
        "a_k &\\ \\ =\\ \\ a_{(k-1)}+d \\ =\\  a_{(k-2)}+2d \\ =\\  \\ldots \\ =\\  \\ a_1+(k-1)d\n",
        "\\end{align*}\n",
        "\n",
        "Therefore, for $k>=1$,\n",
        "\n",
        "$$ a_k = a_1 + (k-1)d$$\n",
        "\n",
        "With $a_1$ and $d$ given.\n",
        "\n",
        "<br />\n",
        "\n",
        "The sequence of the partial sum of the first $n$ terms of a sequence is called a series, in the case of an arithemetic sequence the series is called an arithmetic series.\n",
        "\n",
        "If  $a_1= 1$ and $d=1$ we have, the simplest arithmnetic sequence,  the natural numbers sequence $\\{a_k = k \\}$ for  $k=1, 2, ..., $  i.e. the seuqnece\n",
        "$$1, 2, ...,$$\n",
        "The  corresponding series is\n",
        "$$\n",
        "S_n = 1 + 2+ \\ldots + (n-1)+ n = \\sum_{k=1}^n k\n",
        "$$\n",
        "can be calculated as a function of $n$.\n",
        "\n",
        "Assume that we allign one $S_{n-1}$ with a second  $S_{n-1}$ that have the terms adden reverse order and you add term to term, we have\n",
        "\\begin{array}{llclclclclc}\n",
        "  S_{n-1} &=& 1 &+& 2 &+& \\ldots &+& (n-2) &+& (n-1) \\\\\n",
        "  S_{n-1} &=& (n-1)  &+& (n-2)  &+& \\ldots   &+& 2   &+& 1 \\\\\n",
        "   \\hline \\\\\n",
        "   2S_{n-1} &=& n  &+& n  &+& \\ldots   &+& n   &+& n \\\\\n",
        "\\end{array}\n",
        "so\n",
        "$$  2S_{n-1} = (n-1)n $$\n",
        "then\n",
        "$$  S_{n-1} = \\frac{1}{2} (n-1)n$$\n",
        "therefore\n",
        "$$  S_{n} = \\frac{1}{2} n(n+1)$$\n",
        "\n",
        "\n",
        "\\begin{align*}\n",
        "S_n &= \\sum_{k=1}^n a_k\t\\\\\n",
        "    &= \\sum_{k=1}^n[a_1+(k-1)d]\t\t\\\\\n",
        "    &= na_1 + d \\sum_{k=1}^n(k-1)\t\\\\\n",
        "    &= na_1 + d \\sum_{k=0}^{n-1} k\t\\\\\n",
        "    &= na_1 + d \\sum_{k=1}^{n-1} k\t\\\\\n",
        "    &= na_1 +  \\frac{1}{2} d(n-1)n\\\\\n",
        "\\end{align*}\n",
        "so\n",
        "$$ S_n =  \\frac{1}{2} n[2 a_1 +d(n-1)].$$\n",
        "\n",
        "Note, however, that\n",
        "$$a_1+a_n=a_1+[a_1+d(n-1)]=2a_1+d(n-1),$$\n",
        "so\n",
        "$$S_n = \\frac{1}{2}n(a_1+a_n),$$\n",
        "\n",
        "\n",
        "or $n$ times the arithmetic mean of the first and last terms! This is the trick Gauss used as a schoolboy to solve the problem of summing the integers from $1$ to $100$ given as busy-work by his teacher. While his classmates toiled away doing the addition longhand, Gauss wrote a single number, the correct answer\n",
        "\n",
        "$$\\frac{1}{2}(100)(1+100)=50·101=5050$$\n",
        "on his slate (Burton 1989, pp. 80-81; Hoffman 1998, p. 207). When the answers were examined, Gauss's proved to be the only correct one.\n",
        "\n",
        "<br />\n",
        "\n",
        "If  the sequence starts at index $0$, $\\{a_k\\}$ for $ k=0, 1, 2, ..., $ we have\n",
        "\n",
        "\\begin{align*}\n",
        "a_0 & \\\\\n",
        "a_1 &\\ \\ =\\ \\ a_0 + d  \\\\\n",
        "a_2 &\\ \\ =\\ \\ a_1 + d \\ \\ =\\ \\ a_0 + 2d   \\\\\n",
        "a_3 &\\ \\ =\\ \\ a_2 + d \\ \\ =\\ \\ a_1 + 2d \\ \\ =\\ \\ a_0 + 3d  \\\\\n",
        "\\vdots\\\\\n",
        "a_k &\\ \\ =\\ \\ a_{(k-1)}+d \\ =\\  a_{(k-2)}+2d \\ =\\  \\ldots \\ = \\  \\ a_1+(k-1)d \\ \\ =\\ \\ a_0+kd\n",
        "\\end{align*}\n",
        "\n",
        "<br />\n",
        "for given   $a_0$ and $d$.\n",
        "\n",
        "In this case the sum of the terms between $0$ and $n$ of  the arithemnetic sequence  is then given by\n",
        "\\begin{align*}\n",
        "S_n &= \\sum_{k=0}^{n} a_k\t\\\\\n",
        "    &= \\sum_{k=0}^{n}[a_0+kd]\t\t\\\\\n",
        "    &= (n+1) a_0 + d \\sum_{k=0}^{n} k\t\\\\\n",
        "    &= (n+1) a_0 + d \\sum_{k=1}^{} k\t\\\\\n",
        "    &=(n+1) a_0+  \\frac{1}{2} dn(n+1) \\\\\n",
        "\\end{align*}\n",
        "so\n",
        "$$ S_n =  \\frac{1}{2} (n+1)[2 a_0 + dn].$$\n",
        "<br />\n",
        "$$ S_n =  \\frac{1}{2} (n+1)[a_0+ a_n].$$\n",
        "\n",
        "\n"
      ]
    },
    {
      "cell_type": "markdown",
      "metadata": {
        "id": "GfBh-QHRcods"
      },
      "source": [
        "### Code\n",
        "####  The simplest arithmetic sequence and series\n",
        "\n",
        "The simplest arithmnetic sequence is\n",
        "\n",
        "\n",
        "$$a_n = 1, 2, ...,$$"
      ]
    },
    {
      "cell_type": "markdown",
      "metadata": {
        "id": "n36eWqEXiktl"
      },
      "source": [
        "The following code plots the first $n = 15$ terms of the simplest arithmnetic sequence\n",
        "$$\\{a_n = n\\} \\text{ for } n =1,2,\\ldots  $$\n",
        "i.e\n",
        "$$\\{a_n = n\\} =1,2,\\ldots $$\n",
        "adn the corresponding terms of the simplest arithmnetic series\n",
        "$$  S_n = 1 + 2+ \\ldots + (n-1)+ n = \\sum_{k=1}^n k=  \\frac{1}{2} n(n+1)$$\n"
      ]
    },
    {
      "cell_type": "markdown",
      "metadata": {
        "id": "_VyGiunIZknK"
      },
      "source": [
        "Plot"
      ]
    },
    {
      "cell_type": "code",
      "metadata": {
        "colab": {
          "base_uri": "https://localhost:8080/",
          "height": 430
        },
        "id": "gx3Q4uo-ONCi",
        "outputId": "d21536b2-69a7-48a4-cc4f-cfd9b927528d"
      },
      "source": [
        "import matplotlib.pyplot as plt\n",
        "import numpy as np\n",
        "\n",
        "n = 15\n",
        "S_n = 0\n",
        "Serie_S_n=[]\n",
        "Sequence_a_n =[]\n",
        "for i in range(1,n+1):\n",
        "  S_n = S_n + i\n",
        "  Serie_S_n.append(S_n)\n",
        "  Sequence_a_n.append(i)\n",
        "\n",
        "\n",
        "plt.plot(np.arange(1, n+1),Serie_S_n, color='black',label='Serie_S_n')\n",
        "plt.plot(np.arange(1, n+1), Sequence_a_n, color='red',label='Sequence_a_n')\n",
        "plt.xticks(np.arange(1, n+1))\n",
        "plt.legend();\n",
        "\n",
        "\n"
      ],
      "execution_count": 28,
      "outputs": [
        {
          "output_type": "display_data",
          "data": {
            "text/plain": [
              "<Figure size 640x480 with 1 Axes>"
            ],
            "image/png": "[encoded data removed]"
          },
          "metadata": {}
        }
      ]
    },
    {
      "cell_type": "code",
      "metadata": {
        "colab": {
          "base_uri": "https://localhost:8080/"
        },
        "id": "o2es6b4cysQk",
        "outputId": "b3c76050-456a-4f53-b7a1-ce9c9aa0034c"
      },
      "source": [
        "Sequence_a_n"
      ],
      "execution_count": 29,
      "outputs": [
        {
          "output_type": "execute_result",
          "data": {
            "text/plain": [
              "[1, 2, 3, 4, 5, 6, 7, 8, 9, 10, 11, 12, 13, 14, 15]"
            ]
          },
          "metadata": {},
          "execution_count": 29
        }
      ]
    },
    {
      "cell_type": "code",
      "metadata": {
        "colab": {
          "base_uri": "https://localhost:8080/"
        },
        "id": "T2VeBOBZ0ibg",
        "outputId": "2ca26269-5e31-4dba-cdc3-93ae434d86f6"
      },
      "source": [
        "Serie_S_n"
      ],
      "execution_count": 30,
      "outputs": [
        {
          "output_type": "execute_result",
          "data": {
            "text/plain": [
              "[1, 3, 6, 10, 15, 21, 28, 36, 45, 55, 66, 78, 91, 105, 120]"
            ]
          },
          "metadata": {},
          "execution_count": 30
        }
      ]
    },
    {
      "cell_type": "markdown",
      "metadata": {
        "id": "0ybfJdHxZGvW"
      },
      "source": [
        "The following code computes the  $n=10000000$  term of the airthmetic series\n",
        "$$  S_n = 1 + 2+ \\ldots + (n-1)+ n = \\sum_{k=1}^n =  \\frac{1}{2} n(n+1)$$"
      ]
    },
    {
      "cell_type": "code",
      "metadata": {
        "colab": {
          "base_uri": "https://localhost:8080/"
        },
        "id": "99xYHDQycnol",
        "outputId": "a21e2f92-385a-4cea-910f-7e32bafd11e4"
      },
      "source": [
        "n = 10000000\n",
        "S_n = 0\n",
        "for i in range(1,n+1):  # range(n+1) goes form 1 to n\n",
        "  S_n = S_n + i\n",
        "print(S_n)"
      ],
      "execution_count": null,
      "outputs": [
        {
          "output_type": "stream",
          "text": [
            "50000005000000\n"
          ],
          "name": "stdout"
        }
      ]
    },
    {
      "cell_type": "code",
      "metadata": {
        "colab": {
          "base_uri": "https://localhost:8080/"
        },
        "id": "RGCSuDGHeFwH",
        "outputId": "e1d60652-ce77-4933-a4dc-fa178257f349"
      },
      "source": [
        "(1/2)*n*(n+1)"
      ],
      "execution_count": null,
      "outputs": [
        {
          "output_type": "execute_result",
          "data": {
            "text/plain": [
              "50000005000000.0"
            ]
          },
          "metadata": {
            "tags": []
          },
          "execution_count": 8
        }
      ]
    },
    {
      "cell_type": "markdown",
      "metadata": {
        "id": "bg8zxAhcecpk"
      },
      "source": [
        "The following code computes the $n=10000000$ term of the airthmetic series\n",
        "$$ S_n  = \\sum_{k=1}^n a_k$$\n",
        "\n",
        "<br />\n",
        "for the airthmetic sequence $a_k = 10 + 3 (k-1) $ for $k=1,2,\\ldots$\n",
        "\n",
        "<br />\n",
        "$$ 10,13,16,19,21,\\ldots$$\n"
      ]
    },
    {
      "cell_type": "markdown",
      "metadata": {
        "id": "hg3ixQ3bZiVh"
      },
      "source": [
        "Plot"
      ]
    },
    {
      "cell_type": "code",
      "metadata": {
        "colab": {
          "base_uri": "https://localhost:8080/"
        },
        "id": "w8FP1XqSgnie",
        "outputId": "4a81915d-b3b6-4089-cb05-5a46b03ba87f"
      },
      "source": [
        "n = 10000000\n",
        "a = 10\n",
        "d = 3 #\n",
        "S_n = 0\n",
        "for i in range(1,n+1):  # range(n+19 goes form 1 to n\n",
        "  a_n = a + d * (i-1)\n",
        "  S_n = S_n + a_n\n",
        "print(S_n)"
      ],
      "execution_count": null,
      "outputs": [
        {
          "output_type": "stream",
          "text": [
            "150000085000000\n"
          ],
          "name": "stdout"
        }
      ]
    },
    {
      "cell_type": "code",
      "metadata": {
        "colab": {
          "base_uri": "https://localhost:8080/"
        },
        "id": "g_38RfB_hgg2",
        "outputId": "088f349a-3f72-4e5d-b977-30b61ddcbb25"
      },
      "source": [
        "n*(2*a +d*(n-1))/2"
      ],
      "execution_count": null,
      "outputs": [
        {
          "output_type": "execute_result",
          "data": {
            "text/plain": [
              "150000085000000.0"
            ]
          },
          "metadata": {
            "tags": []
          },
          "execution_count": 25
        }
      ]
    },
    {
      "cell_type": "code",
      "metadata": {
        "colab": {
          "base_uri": "https://localhost:8080/"
        },
        "id": "zS3qb_xE1u58",
        "outputId": "3a90e3cb-788b-49cc-db02-6b53b4d092d9"
      },
      "source": [
        "n*(a +a_n)/2"
      ],
      "execution_count": null,
      "outputs": [
        {
          "output_type": "execute_result",
          "data": {
            "text/plain": [
              "150000085000000.0"
            ]
          },
          "metadata": {
            "tags": []
          },
          "execution_count": 26
        }
      ]
    },
    {
      "cell_type": "code",
      "metadata": {
        "colab": {
          "base_uri": "https://localhost:8080/",
          "height": 449
        },
        "id": "7qesKez70zub",
        "outputId": "9ab4e9e3-eb40-4d98-dac5-8b60d240378f"
      },
      "source": [
        "import matplotlib.pyplot as plt\n",
        "import numpy as np\n",
        "\n",
        "n = 20\n",
        "a = 10\n",
        "d = 3\n",
        "S_n = 0\n",
        "Serie_S_n=[]\n",
        "Sequence_a_n =[]\n",
        "for i in range(1,n+1):  # range(n+1) goes form 1 to n\n",
        "  a_n = a + d * (i-1)\n",
        "  S_n = S_n + a_n\n",
        "  Serie_S_n.append(S_n)\n",
        "  Sequence_a_n.append(a_n)\n",
        "\n",
        "plt.plot(np.arange(1, n+1),Serie_S_n, color='black',label='Serie_S_n')\n",
        "plt.plot(np.arange(1, n+1),Sequence_a_n, color='red',label='Sequence_a_n')\n",
        "plt.xticks(np.arange(1, n+1))\n",
        "plt.legend()"
      ],
      "execution_count": null,
      "outputs": [
        {
          "output_type": "execute_result",
          "data": {
            "text/plain": [
              "<matplotlib.legend.Legend at 0x7c3dadd427d0>"
            ]
          },
          "metadata": {},
          "execution_count": 1
        },
        {
          "output_type": "display_data",
          "data": {
            "text/plain": [
              "<Figure size 640x480 with 1 Axes>"
            ],
            "image/png": "[encoded data removed]"
          },
          "metadata": {}
        }
      ]
    },
    {
      "cell_type": "markdown",
      "metadata": {
        "id": "r9qzONSlZq2q"
      },
      "source": [
        "## Your own example of arithmetic series $a_1$ is your list number and $d$ as the last digit of the your list number\n",
        "\n"
      ]
    },
    {
      "cell_type": "markdown",
      "metadata": {
        "id": "N-TxF1qxc-nk"
      },
      "source": []
    },
    {
      "cell_type": "code",
      "metadata": {
        "id": "SrJ_dPxS0pwP"
      },
      "source": [
        "def calcular_serie_aritmetica(a1, d, n):\n",
        "    # Inicializar la suma acumulativa\n",
        "    Sn = 0\n",
        "\n",
        "    # Crear listas para almacenar la serie y los términos individuales\n",
        "    serie_an = []\n",
        "    sequence_an = []\n",
        "\n",
        "    # Calcular la serie y los términos individuales\n",
        "    for i in range(1, n+1):\n",
        "        an = a1 + (i - 1) * d\n",
        "        Sn += an\n",
        "        serie_an.append(Sn)\n",
        "        sequence_an.append(an)\n",
        "\n",
        "    return serie_an, sequence_an, Sn\n",
        "\n",
        "# Ejemplos de uso\n",
        "a1_1, d_1, n_1 = 7, 7, 10\n",
        "a1_2, d_2, n_2 = 3, 2, 8\n",
        "a1_3, d_3, n_3 = 10, 5, 5\n",
        "a1_4, d_4, n_4 = 1, 1, 12"
      ],
      "execution_count": null,
      "outputs": []
    },
    {
      "cell_type": "code",
      "source": [
        "serie_an_1, sequence_an_1, Sn_1 = calcular_serie_aritmetica(a1_1, d_1, n_1)\n",
        "# Imprimir resultados\n",
        "print(f\"Caso 1 - Serie an: {serie_an_1}, Suma de los primeros {n_1} términos: {Sn_1}\")"
      ],
      "metadata": {
        "id": "QjJDx28sEV22",
        "colab": {
          "base_uri": "https://localhost:8080/"
        },
        "outputId": "d359b2d2-7369-4684-cd18-1673cac4be2a"
      },
      "execution_count": null,
      "outputs": [
        {
          "output_type": "stream",
          "name": "stdout",
          "text": [
            "Caso 1 - Serie an: [7, 21, 42, 70, 105, 147, 196, 252, 315, 385], Suma de los primeros 10 términos: 385\n"
          ]
        }
      ]
    },
    {
      "cell_type": "code",
      "source": [
        "serie_an_2, sequence_an_2, Sn_2 = calcular_serie_aritmetica(a1_2, d_2, n_2)\n",
        "print(f\"Caso 2 - Serie an: {serie_an_2}, Suma de los primeros {n_2} términos: {Sn_2}\")"
      ],
      "metadata": {
        "id": "3l2IV6BOEVv2",
        "colab": {
          "base_uri": "https://localhost:8080/"
        },
        "outputId": "869a6f20-2b59-4b6a-b183-4bb370993481"
      },
      "execution_count": null,
      "outputs": [
        {
          "output_type": "stream",
          "name": "stdout",
          "text": [
            "Caso 2 - Serie an: [3, 8, 15, 24, 35, 48, 63, 80], Suma de los primeros 8 términos: 80\n"
          ]
        }
      ]
    },
    {
      "cell_type": "code",
      "source": [
        "serie_an_3, sequence_an_3, Sn_3 = calcular_serie_aritmetica(a1_3, d_3, n_3)\n",
        "print(f\"Caso 3 - Serie an: {serie_an_3}, Suma de los primeros {n_3} términos: {Sn_3}\")"
      ],
      "metadata": {
        "id": "hWDNr6kHEVmm",
        "colab": {
          "base_uri": "https://localhost:8080/"
        },
        "outputId": "3082c63c-a97f-477a-8c1c-93328da0672b"
      },
      "execution_count": null,
      "outputs": [
        {
          "output_type": "stream",
          "name": "stdout",
          "text": [
            "Caso 3 - Serie an: [10, 25, 45, 70, 100], Suma de los primeros 5 términos: 100\n"
          ]
        }
      ]
    },
    {
      "cell_type": "code",
      "source": [
        "serie_an_4, sequence_an_4, Sn_4 = calcular_serie_aritmetica(a1_4, d_4, n_4)\n",
        "print(f\"Caso 4 - Serie an: {serie_an_4}, Suma de los primeros {n_4} términos: {Sn_4}\")"
      ],
      "metadata": {
        "colab": {
          "base_uri": "https://localhost:8080/"
        },
        "id": "lyfuJ_TqS5dY",
        "outputId": "bc843182-1445-48be-aec2-608acbeefc2e"
      },
      "execution_count": null,
      "outputs": [
        {
          "output_type": "stream",
          "name": "stdout",
          "text": [
            "Caso 4 - Serie an: [1, 3, 6, 10, 15, 21, 28, 36, 45, 55, 66, 78], Suma de los primeros 12 términos: 78\n"
          ]
        }
      ]
    },
    {
      "cell_type": "markdown",
      "metadata": {
        "id": "AKWJ1F7hac8T"
      },
      "source": [
        "# Geometric Series\n",
        "\n",
        "## Modified from Geometric Series -  [Wolfram MathWorld](https://mathworld.wolfram.com/GeometricSeries.html) - [wikipedia](https://en.wikipedia.org/wiki/Geometric_series)\n"
      ]
    },
    {
      "cell_type": "markdown",
      "metadata": {
        "id": "W5zx_-nR81GI"
      },
      "source": [
        "An geometric series is the sum of a sequence $\\{a_k\\}$ for $k=1, 2, ..., $ in which each term is computed from the previous  by multipliying constant $r$ and starts with 1.\n",
        "\n",
        "\\begin{align*}\n",
        "a_0 &\\ \\ =\\ \\ r^0 \\ \\ =\\ \\ 1\\\\\n",
        "a_1 &\\ \\ =\\ \\ a_0 *  r \\ \\ =\\ \\  r\\\\\n",
        "a_2 &\\ \\ =\\ \\ a_1 * r\\ \\ =\\ \\ a_0 * r^2  \\ \\ =\\ \\ r^2 \\\\\n",
        "a_3 &\\ \\ =\\ \\ a_2 * r \\ \\ =\\ \\ a_0 * r^3 \\ \\ =\\ \\  r^3  \\\\\n",
        "a_4 &\\ \\ =\\ \\ a_3 * r\\ \\  =\\ \\ a_0 * r^4 \\ \\  =\\ \\ r^4  \\\\\n",
        "\\vdots\\\\\n",
        "a_k &\\ \\ =\\ \\ a_{(k-1)}* r \\ =\\   a_0 * r^k \\ \\  =\\ \\  r^k\n",
        "\\end{align*}\n",
        "\n",
        "The sum of the first $n$ terms  of  the geometric sequence (called an geometric serie)  is then given by\n",
        "$$\n",
        "\\begin{array}{ll}\n",
        "S_n &=  1 + r + r^2 + \\cdots + r^{n-1} +r^n \\\\\n",
        " &=  (1 + r + r^2 + \\cdots + r^{n-1} ) +r^n \\\\\n",
        " &= S_{n-1}  +r^n\n",
        "\\end{array}\n",
        "$$\n",
        "\n",
        "$$\n",
        "\\begin{array}{ll}\n",
        "S_n &=  1 + r + r^2 + \\cdots + r^{n-1} +r^n \\\\\n",
        " &=  1 + (r + r^2 + \\cdots + r^{n-1}  +r^n)  \\\\\n",
        " &=   1 + r (1 +  r  + r^2 + \\cdots + r^{n-1} )  \\\\\n",
        "  &=   1 + r   S_{n-1}\n",
        "\\end{array}\n",
        "$$\n",
        "\n",
        "Then\n",
        "$$\n",
        " S_{n-1}  +r^n =   1 + r   S_{n-1}\n",
        "$$\n",
        "\n",
        "Therefore\n",
        "$$\n",
        " S_{n-1} (1 -r)   +r^n =   1 - r^n\n",
        "$$\n",
        "\n",
        "$$\n",
        " S_{n-1}   =   \\frac{1 - r^n }{1 -r}\n",
        "$$\n",
        "\n",
        "$$\n",
        " S_{n}   =   \\frac{1 - r^{n+1} }{1 -r}  = \\frac{ r^{n+1} - 1}{r -1}\n",
        "$$\n"
      ]
    },
    {
      "cell_type": "markdown",
      "metadata": {
        "id": "CDUYfT8k8crr"
      },
      "source": [
        "## Nodes in Complete Binary Tree with $L=0,1,2,\\cdots , L-1$ levels\n",
        "\n",
        "![](https://raw.githubusercontent.com/gjhernandezp/algorithms/master/Lab7/ComBinTree.png)\n",
        "\n",
        "In a complete binary tree you have in ecah level $k =0,1,2,\\cdots $  $ 2^k $\n",
        "\n",
        "$$\n",
        "\\begin{array}{ll}\n",
        "\\text {Level } 0 \\rightarrow 2^0 = 1 \\text { node (root)} \\\\\n",
        "\\text {Level } 1 \\rightarrow 2^1 = 2 \\text { nodes} \\\\\n",
        "\\text {Level } 2 \\rightarrow 2^2 = 4 \\text { nodes} \\\\\n",
        "\\text {Level } 3 \\rightarrow 2^3 = 8 \\text { nodes} \\\\\n",
        "\\vdots\\\\\n",
        "\\text {Level } k \\rightarrow 2^k  \\text { nodes} \\\\\n",
        "\\end{array}\n",
        "$$\n",
        "\n",
        "nodes, with $l = 0,1,2, ... $ the level\n",
        "\n",
        "Total number of the complte tree with $L=0,1,2,\\cdots , L-1$ levels\n",
        "\n",
        "$$\n",
        "2^0 + 2^1 + 2^2 + \\cdots +2^{L-1}  = 1 + 2 + 4 + \\cdots +2^{L-1} = \\sum_{k=0}^{L-1} 2^k = \\frac{ 2^{L} - 1}{2 -1} = 2^{L} - 1\n",
        "$$"
      ]
    },
    {
      "cell_type": "markdown",
      "source": [
        "## Add the a geometric series with $r =2$ up to 10** 6 and verify with the formula.  "
      ],
      "metadata": {
        "id": "TWqL3ugpEpIN"
      }
    },
    {
      "cell_type": "code",
      "source": [
        "from math import log2\n",
        "\n",
        "def generate_geometric_series_lists(r, L):\n",
        "    S_n = 0\n",
        "    ser_i = [i for i in range(L)]\n",
        "    Sequence_a_n = [r**i for i in range(L)]\n",
        "    Serie_S_n = [S_n := S_n + r**i for i in range(L)]\n",
        "    S_optimized = Serie_S_n[-1]\n",
        "\n",
        "    return ser_i, Sequence_a_n, Serie_S_n, S_optimized\n",
        "\n",
        "def geometric_series_sum(r, L):\n",
        "    return (1 - r**L) / (1 - r)\n",
        "\n",
        "\n",
        "def compare_sum(own_ans, S_formula):\n",
        "    if own_ans == S_formula:\n",
        "      print(\"Los resultados son iguales.\")\n",
        "      print(f\"S = {own_ans}\")\n",
        "    else:\n",
        "      print(\"Los resultados son diferentes.\")\n",
        "      print(f\"S (fórmula) = {S_formula}\")\n",
        "      print(f\"S (código optimizado) = {own_ans}\")\n",
        "\n",
        "\n",
        "# Calcular L\n",
        "L = int(log2(10**6)) + 1\n",
        "r = 2\n",
        "ser_i, Sequence_a_n, Serie_S_n, S_optimized = generate_geometric_series_lists(r, L)\n",
        "# Sumar usando la fórmula de la serie geométrica\n",
        "sum_formula = geometric_series_sum(r, L)\n"
      ],
      "metadata": {
        "id": "e3DmyWfVEtwV"
      },
      "execution_count": 72,
      "outputs": []
    },
    {
      "cell_type": "code",
      "source": [
        "compare_sum(S_optimized,sum_formula)"
      ],
      "metadata": {
        "id": "DUntYdM9FFc8",
        "colab": {
          "base_uri": "https://localhost:8080/"
        },
        "outputId": "ce29441a-5234-4200-c210-f1d0e66e1d2a"
      },
      "execution_count": 46,
      "outputs": [
        {
          "output_type": "stream",
          "name": "stdout",
          "text": [
            "Los resultados son iguales.\n",
            "S = 1048575\n"
          ]
        }
      ]
    },
    {
      "cell_type": "markdown",
      "source": [
        "## Plot and  print the first 20 terms and the partial sums."
      ],
      "metadata": {
        "id": "PXfwrckTEuZF"
      }
    },
    {
      "cell_type": "code",
      "source": [
        "import matplotlib.pyplot as plt\n",
        "\n",
        "# Obtener los primeros 20 términos y las sumas parciales\n",
        "first_20_terms = Sequence_a_n[:20]\n",
        "partial_sums = Serie_S_n[:20]\n",
        "\n",
        "# Imprimir los primeros 20 términos y las sumas parciales\n",
        "print(\"Primeros 20 términos:\")\n",
        "print(first_20_terms)\n",
        "print(\"\\nSumas parciales:\")\n",
        "print(partial_sums)\n",
        "\n",
        "# Graficar los primeros 20 términos y las sumas parciales\n",
        "plt.figure(figsize=(10, 5))\n",
        "plt.plot(range(1, 21), first_20_terms, label='Primeros 20 términos')\n",
        "plt.plot(range(1, 21), partial_sums, label='Sumas parciales')\n",
        "plt.xlabel('Término')\n",
        "plt.ylabel('Valor')\n",
        "plt.legend()\n",
        "plt.show()\n",
        "\n"
      ],
      "metadata": {
        "id": "YWdK15t3E2kN",
        "colab": {
          "base_uri": "https://localhost:8080/",
          "height": 567
        },
        "outputId": "6f1f4f81-1300-45dd-e1b0-882f5fd57021"
      },
      "execution_count": 47,
      "outputs": [
        {
          "output_type": "stream",
          "name": "stdout",
          "text": [
            "Primeros 20 términos:\n",
            "[1, 2, 4, 8, 16, 32, 64, 128, 256, 512, 1024, 2048, 4096, 8192, 16384, 32768, 65536, 131072, 262144, 524288]\n",
            "\n",
            "Sumas parciales:\n",
            "[1, 3, 7, 15, 31, 63, 127, 255, 511, 1023, 2047, 4095, 8191, 16383, 32767, 65535, 131071, 262143, 524287, 1048575]\n"
          ]
        },
        {
          "output_type": "display_data",
          "data": {
            "text/plain": [
              "<Figure size 1000x500 with 1 Axes>"
            ],
            "image/png": "[encoded data removed]"
          },
          "metadata": {}
        }
      ]
    },
    {
      "cell_type": "markdown",
      "metadata": {
        "id": "YiWlrhLZNMX9"
      },
      "source": [
        "## Your own examples of a geometric series with  $r =d+1$ with $d$  the last digit of the number in the list, add the series up to 10** 6 and verify with the formula.\n"
      ]
    },
    {
      "cell_type": "code",
      "metadata": {
        "id": "YvMkYU8UNOll",
        "colab": {
          "base_uri": "https://localhost:8080/"
        },
        "outputId": "f2ad1c04-55a8-49db-99b7-e81be1f608f0"
      },
      "source": [
        "from math import log\n",
        "\n",
        "def calculate_series(L, d):\n",
        "    r = d + 1\n",
        "    S_n = 0\n",
        "    Serie_S_n = []\n",
        "    Sequence_a_n = []\n",
        "    ser_i = []\n",
        "\n",
        "    for i in range(L):\n",
        "        ser_i.append(i)\n",
        "        S_n += r ** i\n",
        "        Serie_S_n.append(S_n)\n",
        "        Sequence_a_n.append(r ** i)\n",
        "    if d != 0:\n",
        "        ansFormula = (pow(r, L) - 1) / d\n",
        "    else:\n",
        "        print(\"No se puede dividir por cero.\")\n",
        "\n",
        "    return ser_i, Serie_S_n, Sequence_a_n, ansFormula\n",
        "\n",
        "\n",
        "L = int(log(pow(10, 6), 3)) + 1\n",
        "numberList = 8\n",
        "d = numberList%10\n",
        "ser_i, Serie_S_n, Sequence_a_n, ansFormula = calculate_series(L, d)\n",
        "\n",
        "\n",
        "def compare_ans_d(ans1, ans2):\n",
        "    if ans1 == ans2:\n",
        "        print(f\"S = {ans1}\", 'valor correcto')\n",
        "    else:\n",
        "        print('los valores no coinciden')\n",
        "compare_ans_d(Serie_S_n[-1], ansFormula)\n"
      ],
      "execution_count": 106,
      "outputs": [
        {
          "output_type": "stream",
          "name": "stdout",
          "text": [
            "S = 317733228541 valor correcto\n"
          ]
        }
      ]
    },
    {
      "cell_type": "markdown",
      "source": [
        "##  Plot the first 20 terms and the partial sums."
      ],
      "metadata": {
        "id": "ZMYI3sNVEcfC"
      }
    },
    {
      "cell_type": "code",
      "source": [
        "\n",
        "L = 20\n",
        "ser_i, Serie_S_n, Sequence_a_n, ansFormula = calculate_series(L, d)\n",
        "\n",
        "plt.plot(np.arange(1, L + 1),Serie_S_n, color='black',label='Serie_S_n')\n",
        "plt.plot(np.arange(1, L + 1),Sequence_a_n, color='red',label='Sequence_a_n')\n",
        "plt.xticks(np.arange(1, L + 1))\n",
        "plt.legend();\n"
      ],
      "metadata": {
        "id": "RC-2dFAxEYIt",
        "colab": {
          "base_uri": "https://localhost:8080/",
          "height": 445
        },
        "outputId": "a07640b8-b2f8-45eb-d82a-331abc025bb7"
      },
      "execution_count": 108,
      "outputs": [
        {
          "output_type": "display_data",
          "data": {
            "text/plain": [
              "<Figure size 640x480 with 1 Axes>"
            ],
            "image/png": "[encoded data removed]"
          },
          "metadata": {}
        }
      ]
    },
    {
      "cell_type": "markdown",
      "source": [
        "import matplotlib.pyplot as plt\n",
        "\n",
        "def plot_geometric_series(r, L):\n",
        "    terms = [r**i for i in range(L)]\n",
        "    partial_sums = [sum(terms[:i+1]) for i in range(L)]\n",
        "    \n",
        "    # Graficar los primeros 20 términos y las sumas parciales\n",
        "    plt.figure(figsize=(10, 5))\n",
        "    plt.plot(range(1, L+1), terms[:L], label='Primeros 20 términos')\n",
        "    plt.plot(range(1, L+1), partial_sums[:L], label='Sumas parciales')\n",
        "    plt.xlabel('Término')\n",
        "    plt.ylabel('Valor')\n",
        "    plt.legend()\n",
        "    plt.title(f'Gráfico de la Serie Geométrica')\n",
        "    plt.show()\n",
        "\n",
        "# Utilizamos r = 2 y L = 20\n",
        "r = 2\n",
        "L = 20\n",
        "\n",
        "# Llamamos a la función para graficar\n",
        "plot_geometric_series(r, L)\n"
      ],
      "metadata": {
        "id": "2z1kqKXhul_j"
      }
    },
    {
      "cell_type": "markdown",
      "metadata": {
        "id": "Dd3RWDwJe2xD"
      },
      "source": [
        "## Zenon Arrow\n",
        "\n",
        "![](https://raw.githubusercontent.com/gjhernandezp/algorithms/master/Lab7/zeno-paradox-arrow.png)\n",
        "\n",
        "Achilles and the tortoise - https://en.wikipedia.org/wiki/Zeno%27s_paradoxes\n",
        "\n",
        "\n",
        "\n",
        "$$\n",
        "\\lim_{n\\rightarrow \\infty} \\left\\{\\left(\\frac{1}{2}\\right)^0 + \\left(\\frac{1}{2}\\right)^1 +\\left(\\frac{1}{2}\\right)^2 + \\cdots +\\left(\\frac{1}{2}\\right)^{n} \\right\\} = \\lim_{n\\rightarrow \\infty} \\left\\{ 1 +\\frac{1}{2} + \\frac{1}{4} + \\frac{1}{8} + \\cdots +\\frac{1}{2^{n}}\\right\\}  = \\lim_{n\\rightarrow \\infty} \\sum_{k=0}^{n} \\left(\\frac{1}{2}\\right)^k = \\lim_{n\\rightarrow \\infty} \\frac{ 1- \\left(\\frac{1}{2}\\right)^n  }{1 - \\left(\\frac{1}{2}\\right) } = \\frac{ 1}{1 - \\left(\\frac{1}{2}\\right)} = 2\n",
        "$$"
      ]
    },
    {
      "cell_type": "markdown",
      "metadata": {
        "id": "R-J4EekBNPkd"
      },
      "source": [
        "## Sum the  geometric with  $r=\\frac{1}{2}$ add the series up to 10**3 and verify with the formula.\n",
        "\n"
      ]
    },
    {
      "cell_type": "code",
      "metadata": {
        "id": "8xdBovY3NEW_",
        "colab": {
          "base_uri": "https://localhost:8080/"
        },
        "outputId": "8a752ede-e029-4c1b-84ce-f874cdd49d08"
      },
      "source": [
        "def sum_geometric_series(r, n):\n",
        "    return (1 - r**n) / (1 - r)\n",
        "\n",
        "# Define the parameters for the geometric series\n",
        "r = 1/2\n",
        "n = 10**3\n",
        "\n",
        "# Calculate the sum using the formula\n",
        "sum_formula = sum_geometric_series(r, n)\n",
        "\n",
        "# Calculate the sum using direct summation\n",
        "sequence = [(1/2)**i for i in range(n+1)]\n",
        "sum_direct = sum(sequence)\n",
        "\n",
        "# Print the results\n",
        "print(f\"Sum using the formula: {sum_formula}\")\n",
        "print(f\"Sum using direct summation: {sum_direct}\")\n",
        "\n",
        "# Verify if the results are equal\n",
        "if sum_formula == sum_direct:\n",
        "    print(\"The results are equal.\")\n",
        "else:\n",
        "    print(\"The results are not equal. There may be a small numerical difference.\")\n"
      ],
      "execution_count": 117,
      "outputs": [
        {
          "output_type": "stream",
          "name": "stdout",
          "text": [
            "Sum using the formula: 2.0\n",
            "Sum using direct summation: 2.0\n",
            "The results are equal.\n"
          ]
        }
      ]
    },
    {
      "cell_type": "markdown",
      "source": [
        "# [texto del enlace](https://)## Plot and print the first 60 terms and the partial sums."
      ],
      "metadata": {
        "id": "5pp0GXjjFrgc"
      }
    },
    {
      "cell_type": "code",
      "source": [
        "import matplotlib.pyplot as plt\n",
        "import numpy as np\n",
        "\n",
        "def sum_geometric_series(r, n):\n",
        "    return (1 - r**(n+1)) / (1 - r)\n",
        "\n",
        "# Define the parameters for the geometric series\n",
        "r = 1/2\n",
        "n = 60\n",
        "\n",
        "# Calculate the first 60 terms and their partial sums\n",
        "terms = [(1/2)**i for i in range(n)]\n",
        "partial_sums = [sum_geometric_series(r, i) for i in range(n)]\n",
        "\n",
        "# Create an array with the indices of the terms\n",
        "indices = np.arange(1, n+1)\n",
        "\n",
        "# Create a new figure\n",
        "plt.figure(figsize=(10, 5))\n",
        "\n",
        "# Plot both the terms and partial sums on the same graph\n",
        "plt.plot(indices, terms, 'bo-', label='Terms')\n",
        "plt.plot(indices, partial_sums, 'ro-', label='Partial Sums')\n",
        "\n",
        "# Add labels and legend\n",
        "plt.title('Geometric Series: Terms and Partial Sums')\n",
        "plt.xlabel('Term Index')\n",
        "plt.ylabel('Value')\n",
        "plt.legend()\n",
        "\n",
        "# Show the plot\n",
        "plt.show()\n",
        "\n"
      ],
      "metadata": {
        "id": "BNEY8PfmFyM1",
        "colab": {
          "base_uri": "https://localhost:8080/",
          "height": 487
        },
        "outputId": "5f08d4e7-d050-4f99-e164-dd6f1623acb5"
      },
      "execution_count": 113,
      "outputs": [
        {
          "output_type": "display_data",
          "data": {
            "text/plain": [
              "<Figure size 1000x500 with 1 Axes>"
            ],
            "image/png": "[encoded data removed]"
          },
          "metadata": {}
        }
      ]
    },
    {
      "cell_type": "code",
      "source": [
        "print('Partial Sums: ',partial_sums)\n"
      ],
      "metadata": {
        "id": "o5kND4LWC1Pu",
        "outputId": "64e3502d-9daa-463f-b08b-786ad5aca67f",
        "colab": {
          "base_uri": "https://localhost:8080/"
        }
      },
      "execution_count": 114,
      "outputs": [
        {
          "output_type": "stream",
          "name": "stdout",
          "text": [
            "Partial Sums:  [1.0, 1.5, 1.75, 1.875, 1.9375, 1.96875, 1.984375, 1.9921875, 1.99609375, 1.998046875, 1.9990234375, 1.99951171875, 1.999755859375, 1.9998779296875, 1.99993896484375, 1.999969482421875, 1.9999847412109375, 1.9999923706054688, 1.9999961853027344, 1.9999980926513672, 1.9999990463256836, 1.9999995231628418, 1.999999761581421, 1.9999998807907104, 1.9999999403953552, 1.9999999701976776, 1.9999999850988388, 1.9999999925494194, 1.9999999962747097, 1.9999999981373549, 1.9999999990686774, 1.9999999995343387, 1.9999999997671694, 1.9999999998835847, 1.9999999999417923, 1.9999999999708962, 1.999999999985448, 1.999999999992724, 1.999999999996362, 1.999999999998181, 1.9999999999990905, 1.9999999999995453, 1.9999999999997726, 1.9999999999998863, 1.9999999999999432, 1.9999999999999716, 1.9999999999999858, 1.999999999999993, 1.9999999999999964, 1.9999999999999982, 1.9999999999999991, 1.9999999999999996, 1.9999999999999998, 2.0, 2.0, 2.0, 2.0, 2.0, 2.0, 2.0]\n"
          ]
        }
      ]
    },
    {
      "cell_type": "code",
      "source": [
        "print('Terms: ',terms)"
      ],
      "metadata": {
        "id": "Msf1AVvIC2-b",
        "outputId": "775bb681-d693-4237-da9b-ede9286d0e92",
        "colab": {
          "base_uri": "https://localhost:8080/"
        }
      },
      "execution_count": 115,
      "outputs": [
        {
          "output_type": "stream",
          "name": "stdout",
          "text": [
            "Terms:  [1.0, 0.5, 0.25, 0.125, 0.0625, 0.03125, 0.015625, 0.0078125, 0.00390625, 0.001953125, 0.0009765625, 0.00048828125, 0.000244140625, 0.0001220703125, 6.103515625e-05, 3.0517578125e-05, 1.52587890625e-05, 7.62939453125e-06, 3.814697265625e-06, 1.9073486328125e-06, 9.5367431640625e-07, 4.76837158203125e-07, 2.384185791015625e-07, 1.1920928955078125e-07, 5.960464477539063e-08, 2.9802322387695312e-08, 1.4901161193847656e-08, 7.450580596923828e-09, 3.725290298461914e-09, 1.862645149230957e-09, 9.313225746154785e-10, 4.656612873077393e-10, 2.3283064365386963e-10, 1.1641532182693481e-10, 5.820766091346741e-11, 2.9103830456733704e-11, 1.4551915228366852e-11, 7.275957614183426e-12, 3.637978807091713e-12, 1.8189894035458565e-12, 9.094947017729282e-13, 4.547473508864641e-13, 2.2737367544323206e-13, 1.1368683772161603e-13, 5.684341886080802e-14, 2.842170943040401e-14, 1.4210854715202004e-14, 7.105427357601002e-15, 3.552713678800501e-15, 1.7763568394002505e-15, 8.881784197001252e-16, 4.440892098500626e-16, 2.220446049250313e-16, 1.1102230246251565e-16, 5.551115123125783e-17, 2.7755575615628914e-17, 1.3877787807814457e-17, 6.938893903907228e-18, 3.469446951953614e-18, 1.734723475976807e-18]\n"
          ]
        }
      ]
    },
    {
      "cell_type": "markdown",
      "source": [
        "## Your own examples of a geometric series with $r=\\frac{1}{d+1}$  with $d$ add the series up to 10**3 and verify with the formula."
      ],
      "metadata": {
        "id": "y9RQsrrjFx2k"
      }
    },
    {
      "cell_type": "code",
      "source": [
        "\n",
        "\n",
        "\n",
        "# Calculate r and n\n",
        "r = 1 / (d + 1)\n",
        "n = 10**3\n",
        "\n",
        "# Calculate the sum using the formula\n",
        "sum_formula = ((1 - pow(r,n))/(1 - r))\n",
        "\n",
        "# Calculate the sum using direct summation\n",
        "sequence = [(1/(d+1))**i for i in range(n+1)]\n",
        "sum_direct = sum(sequence)\n",
        "\n",
        "# Print the results\n",
        "print(f\"Sum using the formula: {sum_formula}\")\n",
        "print(f\"Sum using direct summation: {sum_direct}\")\n",
        "\n",
        "# Verify if the results are equal\n",
        "if sum_formula == sum_direct:\n",
        "    print(\"The results are equal.\")\n",
        "else:\n",
        "    print(\"The results are not equal. There may be a small numerical difference.\")\n"
      ],
      "metadata": {
        "id": "CtWIsJxlGfGU",
        "colab": {
          "base_uri": "https://localhost:8080/"
        },
        "outputId": "cf197784-b715-4767-c610-78b19a9a5a51"
      },
      "execution_count": 119,
      "outputs": [
        {
          "output_type": "stream",
          "name": "stdout",
          "text": [
            "Sum using the formula: 1.125\n",
            "Sum using direct summation: 1.125\n",
            "The results are equal.\n"
          ]
        }
      ]
    },
    {
      "cell_type": "markdown",
      "source": [
        "## Plot and print the first 60 terms and the partial sums."
      ],
      "metadata": {
        "id": "sjX-Z7cwGhUt"
      }
    },
    {
      "cell_type": "code",
      "source": [
        "import matplotlib.pyplot as plt\n",
        "import numpy as np\n",
        "n = 60\n",
        "\n",
        "S_n = 0\n",
        "Serie_S_n = []\n",
        "Sequence_a_n = []\n",
        "\n",
        "for i in range(n):\n",
        "  a_n = r**i\n",
        "  S_n = S_n + a_n\n",
        "  Serie_S_n.append(S_n)\n",
        "  Sequence_a_n.append(a_n)\n",
        "\n",
        "plt.plot(np.arange(1, n + 1),Serie_S_n, color='black',label='Partial Sums')\n",
        "plt.plot(np.arange(1, n + 1),Sequence_a_n, color='red',label='terms')\n",
        "plt.legend();"
      ],
      "metadata": {
        "id": "tdyJ355mGjKG",
        "colab": {
          "base_uri": "https://localhost:8080/",
          "height": 430
        },
        "outputId": "919dc3f3-8461-4f7f-831c-e6e084a12db5"
      },
      "execution_count": 122,
      "outputs": [
        {
          "output_type": "display_data",
          "data": {
            "text/plain": [
              "<Figure size 640x480 with 1 Axes>"
            ],
            "image/png": "[encoded data removed]"
          },
          "metadata": {}
        }
      ]
    },
    {
      "cell_type": "markdown",
      "source": [
        "En resumen, los términos individuales de la serie geométrica disminuyen porque están siendo multiplicados por un valor menor que 1 en cada paso. Sin embargo, las sumas parciales aumentan porque se siguen agregando términos, aunque cada uno sea más pequeño que el anterior."
      ],
      "metadata": {
        "id": "Bxq4mTE0xn--"
      }
    },
    {
      "cell_type": "markdown",
      "metadata": {
        "id": "dh2ntBeoNQlN"
      },
      "source": [
        "# Power Sums Power Sums - [Wolfram MathWorld](https://mathworld.wolfram.com/PowerSum.html) - [wikipedia](https://en.wikipedia.org/wiki/Sums_of_powers) - [reserachgate](https://www.researchgate.net/publication/331933608_The_Powers_Sums_Bernoulli_Numbers_Bernoulli_Polynomials_Rethinked)\n",
        "\n"
      ]
    },
    {
      "cell_type": "markdown",
      "source": [
        "## Your own example of power sum with $p =$ last digit in the list $+ 1$, i.e., the sum $1^p+2^p+\\cdots + n^p$  series up to  $n=10^6$  and verify with the formula."
      ],
      "metadata": {
        "id": "kSYU0kwMCBXB"
      }
    },
    {
      "cell_type": "code",
      "metadata": {
        "id": "2PyxzzOZVIdl",
        "colab": {
          "base_uri": "https://localhost:8080/"
        },
        "outputId": "c832b02a-57cd-47fd-9c00-c1675b376b12"
      },
      "source": [
        "def power_sum_formula(p, n):\n",
        "    return (n**(p+1))/(p+1) + (n**p)/2 + (n**(p-1))/6 - 1/12\n",
        "\n",
        "# Get the last digit from user\n",
        "d = int(input(\"Enter the last digit of your number: \"))\n",
        "\n",
        "# Calculate p and n\n",
        "p = d + 1\n",
        "n = 10**6\n",
        "\n",
        "# Calculate the sum using the formula\n",
        "sum_formula = power_sum_formula(p, n)\n",
        "\n",
        "# Calculate the sum using direct summation\n",
        "sum_direct = sum(i**p for i in range(1, n+1))\n",
        "\n",
        "# Print the results\n",
        "print(f\"Sum using the formula: {sum_formula}\")\n",
        "print(f\"Sum using direct summation: {sum_direct}\")\n",
        "\n",
        "# Verify if the results are equal\n",
        "if sum_formula == sum_direct:\n",
        "    print(\"The results are equal.\")\n",
        "else:\n",
        "    print(\"The results are not equal. There may be a small numerical difference.\")\n"
      ],
      "execution_count": null,
      "outputs": [
        {
          "output_type": "stream",
          "name": "stdout",
          "text": [
            "Enter the last digit of your number: 7\n",
            "Sum using the formula: 1.1111161111127777e+53\n",
            "Sum using direct summation: 111111611111777777777777311111111111333333333333300000\n",
            "The results are not equal. There may be a small numerical difference.\n"
          ]
        }
      ]
    },
    {
      "cell_type": "markdown",
      "source": [
        "## Plot the firtst 20 terms and the partial sums"
      ],
      "metadata": {
        "id": "bLfkQAVNGx1c"
      }
    },
    {
      "cell_type": "code",
      "source": [
        "import matplotlib.pyplot as plt\n",
        "\n",
        "def power_sum_formula(p, n):\n",
        "    return (n**(p+1))/(p+1) + (n**p)/2 + (n**(p-1))/6 - 1/12\n",
        "\n",
        "# Define the parameters for the power sum\n",
        "d = int(input(\"Enter the last digit of your number: \"))  # Prompt for the last digit\n",
        "p = d + 1\n",
        "n = 20\n",
        "\n",
        "# Calculate the first 20 terms and their partial sums\n",
        "terms = [i**p for i in range(1, n+1)]\n",
        "partial_sums = [power_sum_formula(p, i) for i in range(1, n+1)]\n",
        "\n",
        "# Create an array with the indices of the terms\n",
        "indices = list(range(1, n+1))\n",
        "\n",
        "# Create a new figure\n",
        "plt.figure(figsize=(10, 5))\n",
        "\n",
        "# Plot both the terms and partial sums on the same graph\n",
        "plt.plot(indices, terms, 'bo-', label='Terms')\n",
        "plt.plot(indices, partial_sums, 'ro-', label='Partial Sums')\n",
        "\n",
        "# Add labels and legend\n",
        "plt.title('Power Sum: Terms and Partial Sums')\n",
        "plt.xlabel('Term Index')\n",
        "plt.ylabel('Value')\n",
        "plt.legend()\n",
        "\n",
        "# Show the plot\n",
        "plt.show()\n"
      ],
      "metadata": {
        "id": "j7EtiVSYG2E1",
        "colab": {
          "base_uri": "https://localhost:8080/",
          "height": 504
        },
        "outputId": "f8032f37-0307-486e-9072-da712e15e0cf"
      },
      "execution_count": null,
      "outputs": [
        {
          "name": "stdout",
          "output_type": "stream",
          "text": [
            "Enter the last digit of your number: 7\n"
          ]
        },
        {
          "output_type": "display_data",
          "data": {
            "text/plain": [
              "<Figure size 1000x500 with 1 Axes>"
            ],
            "image/png": "[encoded data removed]"
          },
          "metadata": {}
        }
      ]
    }
  ]
}