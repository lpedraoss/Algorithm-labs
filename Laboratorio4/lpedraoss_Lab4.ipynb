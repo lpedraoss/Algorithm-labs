{
  "nbformat": 4,
  "nbformat_minor": 0,
  "metadata": {
    "colab": {
      "provenance": [],
      "toc_visible": true
    },
    "kernelspec": {
      "name": "python3",
      "display_name": "Python 3"
    },
    "language_info": {
      "name": "python"
    }
  },
  "cells": [
    {
      "cell_type": "markdown",
      "source": [
        "**1. SUM OF TWO DIGITS**"
      ],
      "metadata": {
        "id": "Ga-nEsEfeOe4"
      }
    },
    {
      "cell_type": "code",
      "source": [
        "input_str = \"5 10\"  # Proporciona los números separados por un espacio"
      ],
      "metadata": {
        "id": "9CfZVpaacfx1"
      },
      "execution_count": 24,
      "outputs": []
    },
    {
      "cell_type": "code",
      "execution_count": 28,
      "metadata": {
        "colab": {
          "base_uri": "https://localhost:8080/"
        },
        "id": "If75aWGwW75T",
        "outputId": "06ef4d82-b03d-4e56-bca4-8bc42c25d58c"
      },
      "outputs": [
        {
          "output_type": "stream",
          "name": "stdout",
          "text": [
            "15\n"
          ]
        }
      ],
      "source": [
        "\n",
        "tokens = input_str.split()\n",
        "a = int(tokens[0])\n",
        "b = int(tokens[1])\n",
        "print(a + b)"
      ]
    },
    {
      "cell_type": "markdown",
      "source": [
        "**2. Maximum Pairwise Product Programming Challenge**"
      ],
      "metadata": {
        "id": "ljDl3-2-evma"
      }
    },
    {
      "cell_type": "code",
      "source": [
        "import random\n",
        "\n",
        "def generate_random_matrix(rows, cols, min_value, max_value):\n",
        "    # Verificar si los parámetros son válidos\n",
        "    if rows <= 0 or cols <= 0:\n",
        "        return \"El número de filas y columnas debe ser mayor que cero.\"\n",
        "\n",
        "    # Generar la matriz con números aleatorios\n",
        "    matrix = [[random.randint(min_value, max_value) for _ in range(cols)] for _ in range(rows)]\n",
        "\n",
        "    return matrix\n",
        "\n",
        "# Ingresar el tamaño de la matriz y los valores mínimos y máximos\n",
        "rows = 1\n",
        "cols = 10\n",
        "min_value = 1\n",
        "max_value = 14\n",
        "\n",
        "# Generar la matriz aleatoria\n",
        "random_matrix = generate_random_matrix(rows, cols, min_value, max_value)\n",
        "\n",
        "# Imprimir la matriz generada\n",
        "print(\"Matriz generada:\")\n",
        "random_matrix\n",
        "\n"
      ],
      "metadata": {
        "colab": {
          "base_uri": "https://localhost:8080/"
        },
        "id": "rEQnG8_sg1J0",
        "outputId": "4a1333a8-7b15-45fc-e062-6d3e7f931ff3"
      },
      "execution_count": 40,
      "outputs": [
        {
          "output_type": "stream",
          "name": "stdout",
          "text": [
            "Matriz generada:\n"
          ]
        },
        {
          "output_type": "execute_result",
          "data": {
            "text/plain": [
              "[[3, 4, 9, 3, 1, 11, 1, 4, 2, 12]]"
            ]
          },
          "metadata": {},
          "execution_count": 40
        }
      ]
    },
    {
      "cell_type": "code",
      "source": [
        "def max_product_in_matrix(matrix):\n",
        "    # Verificar si la matriz está vacía\n",
        "    if not matrix:\n",
        "        return \"La matriz está vacía.\"\n",
        "\n",
        "    # Inicializar variables para los dos números más grandes\n",
        "    max1 = float('-inf')  # Inicializar max1 con el valor negativo infinito\n",
        "    max2 = float('-inf')  # Inicializar max2 con el valor negativo infinito\n",
        "\n",
        "    # Recorrer la matriz para encontrar los dos números más grandes\n",
        "    for row in matrix:\n",
        "        for num in row:\n",
        "            if num > max1:\n",
        "                max2 = max1  # Guardar el antiguo máximo más grande en max2\n",
        "                max1 = num    # Establecer el nuevo número como el máximo más grande\n",
        "            elif num > max2:\n",
        "                max2 = num    # Establecer el número como el segundo máximo\n",
        "\n",
        "    # Calcular el producto de los dos números más grandes\n",
        "    max_product = max1 * max2\n",
        "\n",
        "    return max_product\n",
        "\n",
        "# Calcular y mostrar el producto de los dos números más grandes en la matriz\n",
        "result = max_product_in_matrix(random_matrix)\n",
        "print(f\"El producto de los dos números más grandes en la matriz es: {result}\")\n"
      ],
      "metadata": {
        "colab": {
          "base_uri": "https://localhost:8080/"
        },
        "id": "86wtC9qjfELM",
        "outputId": "31d67fe7-57a4-4612-dd1f-09ea55fd7bed"
      },
      "execution_count": 44,
      "outputs": [
        {
          "output_type": "stream",
          "name": "stdout",
          "text": [
            "El producto de los dos números más grandes en la matriz es: 132\n"
          ]
        }
      ]
    },
    {
      "cell_type": "markdown",
      "source": [],
      "metadata": {
        "id": "6uDGwSPhjo4V"
      }
    }
  ]
}