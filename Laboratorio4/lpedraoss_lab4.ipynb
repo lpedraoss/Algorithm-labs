{
  "cells": [
    {
      "cell_type": "code",
      "execution_count": null,
      "metadata": {
        "id": "im-VVd1__7VU",
        "colab": {
          "base_uri": "https://localhost:8080/"
        },
        "outputId": "7d2551e1-fe2c-427d-85a9-af1621f3335e"
      },
      "outputs": [
        {
          "output_type": "stream",
          "name": "stdout",
          "text": [
            "processor\t: 0\n",
            "vendor_id\t: GenuineIntel\n",
            "cpu family\t: 6\n",
            "model\t\t: 79\n",
            "model name\t: Intel(R) Xeon(R) CPU @ 2.20GHz\n",
            "stepping\t: 0\n",
            "microcode\t: 0xffffffff\n",
            "cpu MHz\t\t: 2199.998\n",
            "cache size\t: 56320 KB\n",
            "physical id\t: 0\n",
            "siblings\t: 2\n",
            "core id\t\t: 0\n",
            "cpu cores\t: 1\n",
            "apicid\t\t: 0\n",
            "initial apicid\t: 0\n",
            "fpu\t\t: yes\n",
            "fpu_exception\t: yes\n",
            "cpuid level\t: 13\n",
            "wp\t\t: yes\n",
            "flags\t\t: fpu vme de pse tsc msr pae mce cx8 apic sep mtrr pge mca cmov pat pse36 clflush mmx fxsr sse sse2 ss ht syscall nx pdpe1gb rdtscp lm constant_tsc rep_good nopl xtopology nonstop_tsc cpuid tsc_known_freq pni pclmulqdq ssse3 fma cx16 pcid sse4_1 sse4_2 x2apic movbe popcnt aes xsave avx f16c rdrand hypervisor lahf_lm abm 3dnowprefetch invpcid_single ssbd ibrs ibpb stibp fsgsbase tsc_adjust bmi1 hle avx2 smep bmi2 erms invpcid rtm rdseed adx smap xsaveopt arat md_clear arch_capabilities\n",
            "bugs\t\t: cpu_meltdown spectre_v1 spectre_v2 spec_store_bypass l1tf mds swapgs taa mmio_stale_data retbleed\n",
            "bogomips\t: 4399.99\n",
            "clflush size\t: 64\n",
            "cache_alignment\t: 64\n",
            "address sizes\t: 46 bits physical, 48 bits virtual\n",
            "power management:\n",
            "\n",
            "processor\t: 1\n",
            "vendor_id\t: GenuineIntel\n",
            "cpu family\t: 6\n",
            "model\t\t: 79\n",
            "model name\t: Intel(R) Xeon(R) CPU @ 2.20GHz\n",
            "stepping\t: 0\n",
            "microcode\t: 0xffffffff\n",
            "cpu MHz\t\t: 2199.998\n",
            "cache size\t: 56320 KB\n",
            "physical id\t: 0\n",
            "siblings\t: 2\n",
            "core id\t\t: 0\n",
            "cpu cores\t: 1\n",
            "apicid\t\t: 1\n",
            "initial apicid\t: 1\n",
            "fpu\t\t: yes\n",
            "fpu_exception\t: yes\n",
            "cpuid level\t: 13\n",
            "wp\t\t: yes\n",
            "flags\t\t: fpu vme de pse tsc msr pae mce cx8 apic sep mtrr pge mca cmov pat pse36 clflush mmx fxsr sse sse2 ss ht syscall nx pdpe1gb rdtscp lm constant_tsc rep_good nopl xtopology nonstop_tsc cpuid tsc_known_freq pni pclmulqdq ssse3 fma cx16 pcid sse4_1 sse4_2 x2apic movbe popcnt aes xsave avx f16c rdrand hypervisor lahf_lm abm 3dnowprefetch invpcid_single ssbd ibrs ibpb stibp fsgsbase tsc_adjust bmi1 hle avx2 smep bmi2 erms invpcid rtm rdseed adx smap xsaveopt arat md_clear arch_capabilities\n",
            "bugs\t\t: cpu_meltdown spectre_v1 spectre_v2 spec_store_bypass l1tf mds swapgs taa mmio_stale_data retbleed\n",
            "bogomips\t: 4399.99\n",
            "clflush size\t: 64\n",
            "cache_alignment\t: 64\n",
            "address sizes\t: 46 bits physical, 48 bits virtual\n",
            "power management:\n",
            "\n"
          ]
        }
      ],
      "source": [
        "!cat /proc/cpuinfo"
      ]
    },
    {
      "cell_type": "markdown",
      "metadata": {
        "id": "N1ok_-56OjB1"
      },
      "source": [
        "# I Solving the Sum of Two Digits Programming Challenge"
      ]
    },
    {
      "cell_type": "markdown",
      "metadata": {
        "id": "MMY7kmDSO0KM"
      },
      "source": [
        "## C++"
      ]
    },
    {
      "cell_type": "code",
      "execution_count": null,
      "metadata": {
        "colab": {
          "base_uri": "https://localhost:8080/"
        },
        "id": "2pGGf9BkPNIk",
        "outputId": "5803fbd6-4557-4391-e49e-e14cdbacb8e7"
      },
      "outputs": [
        {
          "output_type": "stream",
          "name": "stdout",
          "text": [
            "Writing APlusB.cpp\n"
          ]
        }
      ],
      "source": [
        "%%writefile APlusB.cpp\n",
        "#include <iostream>\n",
        "\n",
        "int sum_of_two_digits(int first_digit, int second_digit) {\n",
        "    return first_digit + second_digit;\n",
        "}\n",
        "\n",
        "int main() {\n",
        "    int a = 0;\n",
        "    int b = 0;\n",
        "    std::cin >> a;\n",
        "    std::cin >> b;\n",
        "    std::cout << sum_of_two_digits(a, b);\n",
        "    return 0;\n",
        "}"
      ]
    },
    {
      "cell_type": "code",
      "execution_count": null,
      "metadata": {
        "colab": {
          "base_uri": "https://localhost:8080/"
        },
        "id": "0G3ZKOYAPXSU",
        "outputId": "5fa3d1fe-682c-42d7-b9ff-faa6af24852a"
      },
      "outputs": [
        {
          "output_type": "stream",
          "name": "stdout",
          "text": [
            "4 8\n",
            "12"
          ]
        }
      ],
      "source": [
        "!g++ APlusB.cpp -o APlusB -std=c++11\n",
        "!./APlusB"
      ]
    },
    {
      "cell_type": "markdown",
      "metadata": {
        "id": "iNkG2HqfTl9c"
      },
      "source": [
        "### Test input output files"
      ]
    },
    {
      "cell_type": "code",
      "execution_count": null,
      "metadata": {
        "colab": {
          "base_uri": "https://localhost:8080/"
        },
        "id": "aTzU2efzMxly",
        "outputId": "e1764b3a-cfee-4d93-cad5-1789aff1c1a9"
      },
      "outputs": [
        {
          "output_type": "stream",
          "name": "stdout",
          "text": [
            "Writing input1.txt\n"
          ]
        }
      ],
      "source": [
        "%%writefile input1.txt\n",
        "4 8"
      ]
    },
    {
      "cell_type": "code",
      "execution_count": null,
      "metadata": {
        "colab": {
          "base_uri": "https://localhost:8080/"
        },
        "id": "zBJ0Gc0NQRet",
        "outputId": "4c70e521-8c9d-4e5a-cd99-5a6b1f7800c1"
      },
      "outputs": [
        {
          "output_type": "stream",
          "name": "stdout",
          "text": [
            "Writing output1.txt\n"
          ]
        }
      ],
      "source": [
        "%%writefile output1.txt\n",
        "12"
      ]
    },
    {
      "cell_type": "code",
      "execution_count": null,
      "metadata": {
        "colab": {
          "base_uri": "https://localhost:8080/"
        },
        "id": "IjEcIx63PJAN",
        "outputId": "4274baed-9e2d-4c20-9132-80baed6e6db1"
      },
      "outputs": [
        {
          "output_type": "stream",
          "name": "stdout",
          "text": [
            "Writing input2.txt\n"
          ]
        }
      ],
      "source": [
        "%%writefile input2.txt\n",
        "0 9"
      ]
    },
    {
      "cell_type": "code",
      "execution_count": null,
      "metadata": {
        "colab": {
          "base_uri": "https://localhost:8080/"
        },
        "id": "Up9gOrxURTmd",
        "outputId": "818de7ce-816b-43d9-f887-b7a01604fd33"
      },
      "outputs": [
        {
          "output_type": "stream",
          "name": "stdout",
          "text": [
            "Writing output2.txt\n"
          ]
        }
      ],
      "source": [
        "%%writefile output2.txt\n",
        "9"
      ]
    },
    {
      "cell_type": "code",
      "execution_count": null,
      "metadata": {
        "colab": {
          "base_uri": "https://localhost:8080/"
        },
        "id": "PST6G-s-Pwgc",
        "outputId": "14c7e8e2-02f2-4ab3-c93a-f19bee750008"
      },
      "outputs": [
        {
          "output_type": "stream",
          "name": "stdout",
          "text": [
            "12"
          ]
        }
      ],
      "source": [
        "!./APlusB < input1.txt"
      ]
    },
    {
      "cell_type": "code",
      "execution_count": null,
      "metadata": {
        "colab": {
          "base_uri": "https://localhost:8080/"
        },
        "id": "cKxZOjSlRfIN",
        "outputId": "e1e0d7bc-438f-48b9-f3a4-527d9d695429"
      },
      "outputs": [
        {
          "output_type": "stream",
          "name": "stdout",
          "text": [
            "9"
          ]
        }
      ],
      "source": [
        "!./APlusB < input2.txt"
      ]
    },
    {
      "cell_type": "markdown",
      "metadata": {
        "id": "Qw2TQWCCUwqk"
      },
      "source": [
        "### Comparing files with grep\n",
        "\n",
        "https://askubuntu.com/questions/546796/comparing-two-text-files"
      ]
    },
    {
      "cell_type": "code",
      "execution_count": null,
      "metadata": {
        "id": "WVIaAmMKU4QM"
      },
      "outputs": [],
      "source": [
        "!grep -xvFf output1.txt output1.txt"
      ]
    },
    {
      "cell_type": "code",
      "execution_count": null,
      "metadata": {
        "id": "MQU8gPPjQuYO",
        "colab": {
          "base_uri": "https://localhost:8080/"
        },
        "outputId": "44b4eea0-e7e8-4583-a74a-5d96d735b103"
      },
      "outputs": [
        {
          "output_type": "stream",
          "name": "stdout",
          "text": [
            "9\n"
          ]
        }
      ],
      "source": [
        "!grep -xvFf output1.txt output2.txt"
      ]
    },
    {
      "cell_type": "code",
      "execution_count": null,
      "metadata": {
        "colab": {
          "base_uri": "https://localhost:8080/"
        },
        "id": "jYL9OuYBTD_l",
        "outputId": "2c641446-814c-45a4-ed44-c04a8960173b"
      },
      "outputs": [
        {
          "output_type": "stream",
          "name": "stdout",
          "text": [
            "12\n"
          ]
        }
      ],
      "source": [
        "!grep -xvFf output2.txt output1.txt"
      ]
    },
    {
      "cell_type": "code",
      "execution_count": null,
      "metadata": {
        "id": "Jlja0Xm4TX9M"
      },
      "outputs": [],
      "source": [
        "!./APlusB < input1.txt> ctest1.txt\n",
        "!grep -xvFf output1.txt ctest1.txt"
      ]
    },
    {
      "cell_type": "code",
      "execution_count": null,
      "metadata": {
        "id": "g9OIUZA_QLCQ"
      },
      "outputs": [],
      "source": [
        "!./APlusB < input2.txt > ctest2.txt\n",
        "!grep -xvFf output2.txt ctest2.txt"
      ]
    },
    {
      "cell_type": "markdown",
      "metadata": {
        "id": "3BgOaDjUVJk6"
      },
      "source": [
        "## Python"
      ]
    },
    {
      "cell_type": "code",
      "execution_count": null,
      "metadata": {
        "colab": {
          "base_uri": "https://localhost:8080/"
        },
        "id": "DBvl-T0CTN_8",
        "outputId": "076963a1-b3cf-4152-b248-ff748b1f0330"
      },
      "outputs": [
        {
          "output_type": "stream",
          "name": "stdout",
          "text": [
            "Writing sum.py\n"
          ]
        }
      ],
      "source": [
        "%%writefile sum.py\n",
        "# python3\n",
        "\n",
        "def sum_of_two_digits(first_digit, second_digit):\n",
        "    return first_digit + second_digit\n",
        "\n",
        "if __name__ == '__main__':\n",
        "    a, b = map(int, input().split())\n",
        "    print(sum_of_two_digits(a, b))"
      ]
    },
    {
      "cell_type": "code",
      "execution_count": null,
      "metadata": {
        "colab": {
          "base_uri": "https://localhost:8080/"
        },
        "id": "QKoKM11_WGyF",
        "outputId": "a82078d3-a1c3-4cb5-f650-cd7feb3ece98"
      },
      "outputs": [
        {
          "output_type": "stream",
          "name": "stdout",
          "text": [
            "4 8\n",
            "12\n"
          ]
        }
      ],
      "source": [
        "!python sum.py"
      ]
    },
    {
      "cell_type": "code",
      "execution_count": null,
      "metadata": {
        "id": "cocFbPRTWrqt"
      },
      "outputs": [],
      "source": [
        "!python sum.py  < input1.txt> ptest1.txt\n",
        "!grep -xvFf output1.txt ptest1.txt"
      ]
    },
    {
      "cell_type": "code",
      "execution_count": null,
      "metadata": {
        "id": "MorKTa-XXASN"
      },
      "outputs": [],
      "source": [
        "!python sum.py  < input2.txt> ptest2.txt\n",
        "!grep -xvFf output2.txt ptest2.txt"
      ]
    },
    {
      "cell_type": "markdown",
      "metadata": {
        "id": "uvP-mOubW_5F"
      },
      "source": [
        "# II Solving The Maximum Pairwise Product Programming Challenge in C++"
      ]
    },
    {
      "cell_type": "markdown",
      "metadata": {
        "id": "C12yoFR6Xonl"
      },
      "source": [
        "## C++"
      ]
    },
    {
      "cell_type": "code",
      "source": [
        "%%writefile max_pairwise_product_full.cpp\n",
        "#include <iostream>\n",
        "#include <vector>\n",
        "#include <algorithm>\n",
        "\n",
        "int MaxPairwiseProduct(const std::vector<int>& numbers) {\n",
        "    int max_product = 0;\n",
        "    int aux_product = 0;\n",
        "    int n = numbers.size();\n",
        "\n",
        "    for (int first = 0; first < n; ++first) {\n",
        "        for (int second = 0; second < n; ++second) {\n",
        "          if ( first != second ){\n",
        "                aux_product = numbers[first] * numbers[second];\n",
        "                if (aux_product > max_product)  max_product = aux_product;\n",
        "          }\n",
        "        }\n",
        "    }\n",
        "\n",
        "    return max_product;\n",
        "}\n",
        "\n",
        "int main() {\n",
        "    int n;\n",
        "    std::cin >> n;\n",
        "    std::vector<int> numbers(n);\n",
        "    for (int i = 0; i < n; ++i) {\n",
        "        std::cin >> numbers[i];\n",
        "    }\n",
        "\n",
        "    std::cout << MaxPairwiseProduct(numbers) << \"\\n\";\n",
        "    return 0;\n",
        "}"
      ],
      "metadata": {
        "colab": {
          "base_uri": "https://localhost:8080/"
        },
        "id": "3LpfoGv2Ae81",
        "outputId": "37ed19de-03ed-46ed-9d70-5bb45798829d"
      },
      "execution_count": null,
      "outputs": [
        {
          "output_type": "stream",
          "name": "stdout",
          "text": [
            "Writing max_pairwise_product_full.cpp\n"
          ]
        }
      ]
    },
    {
      "cell_type": "code",
      "source": [
        "!g++ max_pairwise_product_full.cpp -o max_pairwise_product_full\n",
        "!./max_pairwise_product_full"
      ],
      "metadata": {
        "id": "PCVo1h6nCF9k",
        "colab": {
          "base_uri": "https://localhost:8080/"
        },
        "outputId": "37bf6103-9d63-49cc-f2df-0052f47c4f9e"
      },
      "execution_count": null,
      "outputs": [
        {
          "output_type": "stream",
          "name": "stdout",
          "text": [
            "5\n",
            "1 2 3 4 5\n",
            "20\n"
          ]
        }
      ]
    },
    {
      "cell_type": "markdown",
      "metadata": {
        "id": "m75IQQPbEHBS"
      },
      "source": [
        "$$n^2 \\ \\text{first != second  comparisons},  n^2 - n \\ \\ \\text{numbers[first] * numbers[second] products},  O(n^2)$$"
      ]
    },
    {
      "cell_type": "markdown",
      "metadata": {
        "id": "e7KhxHGNS3i0"
      },
      "source": [
        "### Test 1: Small numbers"
      ]
    },
    {
      "cell_type": "code",
      "execution_count": 263,
      "metadata": {
        "colab": {
          "base_uri": "https://localhost:8080/"
        },
        "id": "e1mmTzBgShT-",
        "outputId": "878c2356-7a0e-408f-dfb7-e04ec84f7a8e"
      },
      "outputs": [
        {
          "output_type": "stream",
          "name": "stdout",
          "text": [
            "Overwriting input1.txt\n"
          ]
        }
      ],
      "source": [
        "%%writefile input1.txt\n",
        "10\n",
        "1 2 3 4 5 6 7 8 9 10"
      ]
    },
    {
      "cell_type": "code",
      "execution_count": 265,
      "metadata": {
        "colab": {
          "base_uri": "https://localhost:8080/"
        },
        "id": "vy_uI0x7TCId",
        "outputId": "78c8e880-0bdf-4f9b-dcd4-76cf766be2a5"
      },
      "outputs": [
        {
          "output_type": "stream",
          "name": "stdout",
          "text": [
            "90\n"
          ]
        }
      ],
      "source": [
        "!./max_pairwise_product_full < input1.txt"
      ]
    },
    {
      "cell_type": "code",
      "execution_count": 264,
      "metadata": {
        "colab": {
          "base_uri": "https://localhost:8080/"
        },
        "id": "xaj6f9bxC6D6",
        "outputId": "fe3cb993-b6af-49b7-e495-53ae3f78c34d"
      },
      "outputs": [
        {
          "output_type": "stream",
          "name": "stdout",
          "text": [
            "Overwriting output1.txt\n"
          ]
        }
      ],
      "source": [
        "%%writefile output1.txt\n",
        "90"
      ]
    },
    {
      "cell_type": "code",
      "execution_count": 266,
      "metadata": {
        "id": "fYCjAdA_C-wy"
      },
      "outputs": [],
      "source": [
        "!./max_pairwise_product_full< input1.txt > ctest1.txt\n",
        "!grep -xvFf output1.txt ctest1.txt"
      ]
    },
    {
      "cell_type": "code",
      "source": [
        "%%writefile input2.txt\n",
        "10\n",
        "10 9 8 7 6 5 4 3 2 1"
      ],
      "metadata": {
        "colab": {
          "base_uri": "https://localhost:8080/"
        },
        "id": "ZPe40LY14_6f",
        "outputId": "c78823e4-7261-441d-d606-24821e0d1906"
      },
      "execution_count": 267,
      "outputs": [
        {
          "output_type": "stream",
          "name": "stdout",
          "text": [
            "Overwriting input2.txt\n"
          ]
        }
      ]
    },
    {
      "cell_type": "code",
      "source": [
        "%%writefile output2.txt\n",
        "90"
      ],
      "metadata": {
        "colab": {
          "base_uri": "https://localhost:8080/"
        },
        "id": "xiHmF7HA5Faa",
        "outputId": "256c7061-ef28-4f15-e4ed-21e457f2ca66"
      },
      "execution_count": 268,
      "outputs": [
        {
          "output_type": "stream",
          "name": "stdout",
          "text": [
            "Overwriting output2.txt\n"
          ]
        }
      ]
    },
    {
      "cell_type": "code",
      "source": [
        "!./max_pairwise_product_full< input2.txt > ctest2.txt\n",
        "!grep -xvFf output2.txt ctest2.txt"
      ],
      "metadata": {
        "id": "jjwc9kwb5t_k"
      },
      "execution_count": null,
      "outputs": []
    },
    {
      "cell_type": "markdown",
      "metadata": {
        "id": "IeZ3kTjpYmR9"
      },
      "source": [
        "### Test 2: largest input numbers 200000 200000 in the input"
      ]
    },
    {
      "cell_type": "code",
      "execution_count": 269,
      "metadata": {
        "colab": {
          "base_uri": "https://localhost:8080/"
        },
        "id": "LQNlZqaqYt7U",
        "outputId": "11a9aa18-7f61-4cca-849f-2bd48cecf666"
      },
      "outputs": [
        {
          "output_type": "stream",
          "name": "stdout",
          "text": [
            "Overwriting input3.txt\n"
          ]
        }
      ],
      "source": [
        "%%writefile input3.txt\n",
        "6\n",
        "1 3 200000 9 200000 23"
      ]
    },
    {
      "cell_type": "code",
      "execution_count": null,
      "metadata": {
        "colab": {
          "base_uri": "https://localhost:8080/"
        },
        "id": "GjQq7QOUCw-9",
        "outputId": "12fa7bbe-225a-4f99-a1db-ceebcbf83efa"
      },
      "outputs": [
        {
          "output_type": "execute_result",
          "data": {
            "text/plain": [
              "40000000000"
            ]
          },
          "metadata": {},
          "execution_count": 30
        }
      ],
      "source": [
        "200000*200000"
      ]
    },
    {
      "cell_type": "code",
      "execution_count": 270,
      "metadata": {
        "colab": {
          "base_uri": "https://localhost:8080/"
        },
        "id": "EuS6n3jtDK5C",
        "outputId": "f4fbc833-5c3b-44d0-f242-041433192d03"
      },
      "outputs": [
        {
          "output_type": "stream",
          "name": "stdout",
          "text": [
            "Overwriting output3.txt\n"
          ]
        }
      ],
      "source": [
        "%%writefile output3.txt\n",
        "40000000000"
      ]
    },
    {
      "cell_type": "code",
      "execution_count": 271,
      "metadata": {
        "colab": {
          "base_uri": "https://localhost:8080/"
        },
        "id": "2Wad2VZUZDxR",
        "outputId": "c1fbd764-d7c7-49dc-d618-e08a3a72ebe3"
      },
      "outputs": [
        {
          "output_type": "stream",
          "name": "stdout",
          "text": [
            "1345294336\n"
          ]
        }
      ],
      "source": [
        "!./max_pairwise_product_full < input3.txt"
      ]
    },
    {
      "cell_type": "code",
      "execution_count": 272,
      "metadata": {
        "colab": {
          "base_uri": "https://localhost:8080/"
        },
        "id": "pEvp1ieyDJGq",
        "outputId": "ac248ab0-4936-4996-e75b-73fdd063151b"
      },
      "outputs": [
        {
          "output_type": "stream",
          "name": "stdout",
          "text": [
            "1345294336\n"
          ]
        }
      ],
      "source": [
        "!./max_pairwise_product_full < input3.txt > ctest3.txt\n",
        "!grep -xvFf output3.txt ctest3.txt"
      ]
    },
    {
      "cell_type": "code",
      "source": [
        " %%writefile run_all_test.sh\n",
        "#!/bin/bash\n",
        "g++ max_pairwise_product_full.cpp -o max_pairwise_product_full\n",
        "for i in {1..3}\n",
        "do\n",
        "    ./max_pairwise_product_full < input$i.txt > ctest$i.txt\n",
        "    grep -xvFf output$i.txt ctest$i.txt\n",
        "done"
      ],
      "metadata": {
        "colab": {
          "base_uri": "https://localhost:8080/"
        },
        "id": "SrtJrKqM-God",
        "outputId": "3c3378d6-82c6-4da5-f2ef-9e48dd62912b"
      },
      "execution_count": 273,
      "outputs": [
        {
          "output_type": "stream",
          "name": "stdout",
          "text": [
            "Overwriting run_all_test.sh\n"
          ]
        }
      ]
    },
    {
      "cell_type": "code",
      "source": [
        "!chmod u+x run_all_test.sh\n",
        "!./run_all_test.sh"
      ],
      "metadata": {
        "colab": {
          "base_uri": "https://localhost:8080/"
        },
        "id": "wGWMHtzS-QnA",
        "outputId": "be923a0b-add4-4c63-d680-4289238aecfa"
      },
      "execution_count": 274,
      "outputs": [
        {
          "output_type": "stream",
          "name": "stdout",
          "text": [
            "1345294336\n"
          ]
        }
      ]
    },
    {
      "cell_type": "markdown",
      "metadata": {
        "id": "H2SC0Qt5HCzz"
      },
      "source": [
        "Changing the variables to long long"
      ]
    },
    {
      "cell_type": "code",
      "execution_count": 275,
      "metadata": {
        "colab": {
          "base_uri": "https://localhost:8080/"
        },
        "id": "MPcmsxiQZSfE",
        "outputId": "0c43e04b-54e5-49fe-8f58-3d88b7962df2"
      },
      "outputs": [
        {
          "output_type": "stream",
          "name": "stdout",
          "text": [
            "Overwriting max_pairwise_product_long_full.cpp\n"
          ]
        }
      ],
      "source": [
        "%%writefile max_pairwise_product_long_full.cpp\n",
        "#include <iostream>\n",
        "#include <vector>\n",
        "#include <algorithm>\n",
        "\n",
        "long long MaxPairwiseProduct(const std::vector<int>& numbers) {\n",
        "    long long max_product = 0LL;\n",
        "\t  long long aux_product = 0LL;\n",
        "    int n = numbers.size();\n",
        "\n",
        "    for (int first = 0; first < n; ++first) {\n",
        "        for (int second = 0; second < n; ++second) {\n",
        "          if ( first != second){\n",
        "                aux_product = (long long) numbers[first] * numbers[second];\n",
        "                if (aux_product > max_product)  max_product = aux_product;\n",
        "          }\n",
        "        }\n",
        "    }\n",
        "\n",
        "\n",
        "    return max_product;\n",
        "}\n",
        "\n",
        "int main() {\n",
        "    int n;\n",
        "    std::cin >> n;\n",
        "    std::vector<int> numbers(n);\n",
        "    for (int i = 0; i < n; ++i) {\n",
        "        std::cin >> numbers[i];\n",
        "    }\n",
        "\n",
        "    std::cout << MaxPairwiseProduct(numbers) << \"\\n\";\n",
        "    return 0;\n",
        "}\n"
      ]
    },
    {
      "cell_type": "code",
      "source": [
        "!g++ max_pairwise_product_long_full.cpp -o max_pairwise_product_long_full"
      ],
      "metadata": {
        "id": "W3xQpFXL6wjO"
      },
      "execution_count": 276,
      "outputs": []
    },
    {
      "cell_type": "code",
      "source": [
        "!./max_pairwise_product_long_full < input3.txt"
      ],
      "metadata": {
        "colab": {
          "base_uri": "https://localhost:8080/"
        },
        "id": "H5dvN9M3R9sV",
        "outputId": "b08ce14c-69ab-4504-9f54-68b271761529"
      },
      "execution_count": 277,
      "outputs": [
        {
          "output_type": "stream",
          "name": "stdout",
          "text": [
            "40000000000\n"
          ]
        }
      ]
    },
    {
      "cell_type": "markdown",
      "source": [
        "### Runing multuple test with a bash shell"
      ],
      "metadata": {
        "id": "gx-sEYdfQ8f8"
      }
    },
    {
      "cell_type": "code",
      "source": [
        " %%writefile run_all_test.sh\n",
        "#!/bin/bash\n",
        "g++ max_pairwise_product_long_full.cpp -o max_pairwise_product_long_full\n",
        "for i in {1..3}\n",
        "do\n",
        "    ./max_pairwise_product_long_full < input$i.txt > ctest$i.txt\n",
        "    grep -xvFf output$i.txt ctest$i.txt\n",
        "done"
      ],
      "metadata": {
        "colab": {
          "base_uri": "https://localhost:8080/"
        },
        "id": "O9qsq2nn7elw",
        "outputId": "889a309a-681a-49c9-c19f-772f4e35c499"
      },
      "execution_count": 278,
      "outputs": [
        {
          "output_type": "stream",
          "name": "stdout",
          "text": [
            "Overwriting run_all_test.sh\n"
          ]
        }
      ]
    },
    {
      "cell_type": "code",
      "source": [
        "!chmod u+x run_all_test.sh\n",
        "!./run_all_test.sh"
      ],
      "metadata": {
        "id": "0g5kKVph7xIA"
      },
      "execution_count": 279,
      "outputs": []
    },
    {
      "cell_type": "markdown",
      "metadata": {
        "id": "XPVHkHxH6_7s"
      },
      "source": [
        "### Test 3  stress tests 6 testing cases files input4.txt/output4.txt .. input10.txt/output10.txt\n",
        "\n",
        "---\n",
        "\n"
      ]
    },
    {
      "cell_type": "markdown",
      "source": [
        "----------------------------------------------------**Test *3.1***-------------------------------------------------"
      ],
      "metadata": {
        "id": "kNdssEKaLCtl"
      }
    },
    {
      "cell_type": "code",
      "execution_count": 465,
      "metadata": {
        "id": "PwqpBmYr69fu",
        "colab": {
          "base_uri": "https://localhost:8080/"
        },
        "outputId": "aae659cc-ec24-45b1-81e1-3af4c3867277"
      },
      "outputs": [
        {
          "output_type": "stream",
          "name": "stdout",
          "text": [
            "Overwriting input4.txt\n"
          ]
        }
      ],
      "source": [
        "%%writefile input4.txt\n",
        "10\n",
        "7 8 9554  5214  42  567 331 44  4 1"
      ]
    },
    {
      "cell_type": "code",
      "source": [
        "9554*5214"
      ],
      "metadata": {
        "colab": {
          "base_uri": "https://localhost:8080/"
        },
        "id": "znRSKu9iJv4y",
        "outputId": "109832c7-ec14-47f7-e67e-593142a39ab2"
      },
      "execution_count": 466,
      "outputs": [
        {
          "output_type": "execute_result",
          "data": {
            "text/plain": [
              "49814556"
            ]
          },
          "metadata": {},
          "execution_count": 466
        }
      ]
    },
    {
      "cell_type": "code",
      "source": [
        "%%writefile ctest4.txt\n",
        "49814556"
      ],
      "metadata": {
        "colab": {
          "base_uri": "https://localhost:8080/"
        },
        "id": "CGTeM2YuKYuV",
        "outputId": "4f2d4bc5-23f3-4fc1-fda2-8ffdf5d8824c"
      },
      "execution_count": 467,
      "outputs": [
        {
          "output_type": "stream",
          "name": "stdout",
          "text": [
            "Overwriting ctest4.txt\n"
          ]
        }
      ]
    },
    {
      "cell_type": "code",
      "execution_count": 468,
      "metadata": {
        "id": "jBCkMeR6Fw4y",
        "colab": {
          "base_uri": "https://localhost:8080/"
        },
        "outputId": "19063dc2-e52c-4c7b-f14e-99657c8f4ad9"
      },
      "outputs": [
        {
          "output_type": "stream",
          "name": "stdout",
          "text": [
            "49814556\n"
          ]
        }
      ],
      "source": [
        "!./max_pairwise_product_long_full < input4.txt"
      ]
    },
    {
      "cell_type": "code",
      "source": [
        "%%writefile output4.txt\n",
        "49814556"
      ],
      "metadata": {
        "colab": {
          "base_uri": "https://localhost:8080/"
        },
        "id": "U-MpdcGtJ6YS",
        "outputId": "2ec9fd9d-191c-4586-b451-36479a62aa29"
      },
      "execution_count": 469,
      "outputs": [
        {
          "output_type": "stream",
          "name": "stdout",
          "text": [
            "Overwriting output4.txt\n"
          ]
        }
      ]
    },
    {
      "cell_type": "code",
      "source": [
        "!./max_pairwise_product_long_full < input4.txt > ctest4.txt\n",
        "!grep -xvFf output4.txt ctest4.txt"
      ],
      "metadata": {
        "id": "zED8V8wu-eoM"
      },
      "execution_count": 471,
      "outputs": []
    },
    {
      "cell_type": "markdown",
      "source": [
        "----------------------------------------------------Test 3.2-------------------------------------------------"
      ],
      "metadata": {
        "id": "28Iz8x04L6xU"
      }
    },
    {
      "cell_type": "code",
      "source": [
        "%%writefile input5.txt\n",
        "5\n",
        "23  5 4455  6871  25"
      ],
      "metadata": {
        "colab": {
          "base_uri": "https://localhost:8080/"
        },
        "id": "mezxRXlSL88Z",
        "outputId": "8664a5f2-b8f8-436f-881f-a8ef6477e2b1"
      },
      "execution_count": 285,
      "outputs": [
        {
          "output_type": "stream",
          "name": "stdout",
          "text": [
            "Overwriting input5.txt\n"
          ]
        }
      ]
    },
    {
      "cell_type": "code",
      "source": [
        "4455*6871"
      ],
      "metadata": {
        "colab": {
          "base_uri": "https://localhost:8080/"
        },
        "id": "nwwrQG6AMPC-",
        "outputId": "0a359235-4a67-403f-ccb1-48318c9922f3"
      },
      "execution_count": 286,
      "outputs": [
        {
          "output_type": "execute_result",
          "data": {
            "text/plain": [
              "30610305"
            ]
          },
          "metadata": {},
          "execution_count": 286
        }
      ]
    },
    {
      "cell_type": "code",
      "source": [
        "%%writefile ctest5.txt\n",
        "30610305"
      ],
      "metadata": {
        "colab": {
          "base_uri": "https://localhost:8080/"
        },
        "id": "a3GTxPrpMVCK",
        "outputId": "97b54754-e796-454a-f1b3-8b696e49262b"
      },
      "execution_count": 287,
      "outputs": [
        {
          "output_type": "stream",
          "name": "stdout",
          "text": [
            "Overwriting ctest5.txt\n"
          ]
        }
      ]
    },
    {
      "cell_type": "code",
      "source": [
        "!./max_pairwise_product_long_full < input5.txt"
      ],
      "metadata": {
        "colab": {
          "base_uri": "https://localhost:8080/"
        },
        "id": "pjB6ohzwMa65",
        "outputId": "c0ea8939-6759-4cc4-82fd-562d97751514"
      },
      "execution_count": 288,
      "outputs": [
        {
          "output_type": "stream",
          "name": "stdout",
          "text": [
            "30610305\n"
          ]
        }
      ]
    },
    {
      "cell_type": "code",
      "source": [
        "%%writefile output5.txt\n",
        "30610305"
      ],
      "metadata": {
        "colab": {
          "base_uri": "https://localhost:8080/"
        },
        "id": "Lv3TT5a9MgsR",
        "outputId": "42b1d804-f688-47bd-be47-7bbfcfb1bf0b"
      },
      "execution_count": 289,
      "outputs": [
        {
          "output_type": "stream",
          "name": "stdout",
          "text": [
            "Overwriting output5.txt\n"
          ]
        }
      ]
    },
    {
      "cell_type": "code",
      "source": [
        "!./max_pairwise_product_long_full < input5.txt > ctest5.txt\n",
        "!grep -xvFf output5.txt ctest5.txt"
      ],
      "metadata": {
        "id": "5creajHDMv-v"
      },
      "execution_count": 472,
      "outputs": []
    },
    {
      "cell_type": "markdown",
      "source": [
        "---------------------------------------------------Test 3.3-------------------------------------------------"
      ],
      "metadata": {
        "id": "f9RAYYdqM4sv"
      }
    },
    {
      "cell_type": "code",
      "source": [
        "%%writefile input6.txt\n",
        "20\n",
        "12  3 6 7 918 4 1 2 85  3 7 23  45  68  72  23  100 58  75  64"
      ],
      "metadata": {
        "colab": {
          "base_uri": "https://localhost:8080/"
        },
        "id": "WNnxrGTpM7NZ",
        "outputId": "ced12af3-96a1-43ed-914e-ffa7956029b9"
      },
      "execution_count": 291,
      "outputs": [
        {
          "output_type": "stream",
          "name": "stdout",
          "text": [
            "Overwriting input6.txt\n"
          ]
        }
      ]
    },
    {
      "cell_type": "code",
      "source": [
        "918*100"
      ],
      "metadata": {
        "colab": {
          "base_uri": "https://localhost:8080/"
        },
        "id": "GOzyPpDVNPWh",
        "outputId": "04a90d07-344f-4723-e991-d3661093802d"
      },
      "execution_count": 292,
      "outputs": [
        {
          "output_type": "execute_result",
          "data": {
            "text/plain": [
              "91800"
            ]
          },
          "metadata": {},
          "execution_count": 292
        }
      ]
    },
    {
      "cell_type": "code",
      "source": [
        "%%writefile ctest6.txt\n",
        "91800"
      ],
      "metadata": {
        "colab": {
          "base_uri": "https://localhost:8080/"
        },
        "id": "siTs6VyFNT2x",
        "outputId": "87b2d4c6-46d6-459f-ab06-527eb3c37932"
      },
      "execution_count": 293,
      "outputs": [
        {
          "output_type": "stream",
          "name": "stdout",
          "text": [
            "Overwriting ctest6.txt\n"
          ]
        }
      ]
    },
    {
      "cell_type": "code",
      "source": [
        "!./max_pairwise_product_long_full < input6.txt"
      ],
      "metadata": {
        "colab": {
          "base_uri": "https://localhost:8080/"
        },
        "id": "mD-3_5cZNjOW",
        "outputId": "09485017-a6f0-49d8-d7df-428ece428010"
      },
      "execution_count": 294,
      "outputs": [
        {
          "output_type": "stream",
          "name": "stdout",
          "text": [
            "91800\n"
          ]
        }
      ]
    },
    {
      "cell_type": "code",
      "source": [
        "%%writefile output6.txt\n",
        "91800"
      ],
      "metadata": {
        "colab": {
          "base_uri": "https://localhost:8080/"
        },
        "id": "NyWfUu6UNzth",
        "outputId": "b92a5665-df19-4e94-a1c1-e827eff9af9e"
      },
      "execution_count": 295,
      "outputs": [
        {
          "output_type": "stream",
          "name": "stdout",
          "text": [
            "Overwriting output6.txt\n"
          ]
        }
      ]
    },
    {
      "cell_type": "code",
      "source": [
        "!./max_pairwise_product_long_full < input6.txt > ctest6.txt\n",
        "!grep -xvFf output6.txt ctest6.txt"
      ],
      "metadata": {
        "id": "zdpXqioHN-zP"
      },
      "execution_count": null,
      "outputs": []
    },
    {
      "cell_type": "markdown",
      "source": [
        "----------------------------------------------------Test 3.4-------------------------------------------------"
      ],
      "metadata": {
        "id": "hz6F4BpiOR9E"
      }
    },
    {
      "cell_type": "code",
      "source": [
        "%%writefile input7.txt\n",
        "3\n",
        "233356464 112745 4556658"
      ],
      "metadata": {
        "colab": {
          "base_uri": "https://localhost:8080/"
        },
        "id": "fRQLGlrVOVc-",
        "outputId": "8e598b64-b362-45b1-f9c0-e47da6035038"
      },
      "execution_count": 503,
      "outputs": [
        {
          "output_type": "stream",
          "name": "stdout",
          "text": [
            "Overwriting input7.txt\n"
          ]
        }
      ]
    },
    {
      "cell_type": "code",
      "source": [
        "233356464*4556658"
      ],
      "metadata": {
        "colab": {
          "base_uri": "https://localhost:8080/"
        },
        "id": "4wYiYhjCOhI8",
        "outputId": "2ba45795-f248-4cd8-9b61-e163875903b8"
      },
      "execution_count": 477,
      "outputs": [
        {
          "output_type": "execute_result",
          "data": {
            "text/plain": [
              "1063325598537312"
            ]
          },
          "metadata": {},
          "execution_count": 477
        }
      ]
    },
    {
      "cell_type": "code",
      "source": [
        "%%writefile ctest7.txt\n",
        "1063325598537312"
      ],
      "metadata": {
        "colab": {
          "base_uri": "https://localhost:8080/"
        },
        "id": "ZpZ5h0cZOorW",
        "outputId": "639e7a1f-da8c-4d51-fdbd-0835ad866411"
      },
      "execution_count": 505,
      "outputs": [
        {
          "output_type": "stream",
          "name": "stdout",
          "text": [
            "Overwriting ctest7.txt\n"
          ]
        }
      ]
    },
    {
      "cell_type": "code",
      "source": [
        "!./max_pairwise_product_long_full < input7.txt"
      ],
      "metadata": {
        "id": "RvI7spMXOxH-",
        "outputId": "0e27d5d3-4a39-4704-e643-92a93c8fc873",
        "colab": {
          "base_uri": "https://localhost:8080/"
        }
      },
      "execution_count": 506,
      "outputs": [
        {
          "output_type": "stream",
          "name": "stdout",
          "text": [
            "1063325598537312\n"
          ]
        }
      ]
    },
    {
      "cell_type": "code",
      "source": [
        "%%writefile output7.txt\n",
        "1063325598537312"
      ],
      "metadata": {
        "id": "eVG2i-wnPEkt",
        "outputId": "2e47b985-4728-480c-e34a-f80a5bf8b7a8",
        "colab": {
          "base_uri": "https://localhost:8080/"
        }
      },
      "execution_count": 507,
      "outputs": [
        {
          "output_type": "stream",
          "name": "stdout",
          "text": [
            "Overwriting output7.txt\n"
          ]
        }
      ]
    },
    {
      "cell_type": "code",
      "source": [
        "!./max_pairwise_product_long_full < input7.txt > ctest7.txt\n",
        "!grep -xvFf output7.txt ctest7.txt"
      ],
      "metadata": {
        "id": "SopuwqiPPLe1"
      },
      "execution_count": 508,
      "outputs": []
    },
    {
      "cell_type": "markdown",
      "source": [
        "---------------------------------------------------Test 3.5-------------------------------------------------"
      ],
      "metadata": {
        "id": "KZdMA6uNPcT9"
      }
    },
    {
      "cell_type": "code",
      "source": [
        "%%writefile input8.txt\n",
        "4\n",
        "10101 10001101 101 1 2"
      ],
      "metadata": {
        "id": "6bhSTF7zPdc1",
        "outputId": "4ffa5611-dfed-416c-bbd2-e78481c3cd81",
        "colab": {
          "base_uri": "https://localhost:8080/"
        }
      },
      "execution_count": 509,
      "outputs": [
        {
          "output_type": "stream",
          "name": "stdout",
          "text": [
            "Overwriting input8.txt\n"
          ]
        }
      ]
    },
    {
      "cell_type": "code",
      "source": [
        "10101*10001101"
      ],
      "metadata": {
        "id": "pH2LCaSvPrsM",
        "outputId": "b29e91db-b81c-4c8d-c679-3d52c675bec3",
        "colab": {
          "base_uri": "https://localhost:8080/"
        }
      },
      "execution_count": 501,
      "outputs": [
        {
          "output_type": "execute_result",
          "data": {
            "text/plain": [
              "101021121201"
            ]
          },
          "metadata": {},
          "execution_count": 501
        }
      ]
    },
    {
      "cell_type": "code",
      "source": [
        "%%writefile ctest8.txt\n",
        "101021121201"
      ],
      "metadata": {
        "id": "r2kmFl-KP0MI",
        "outputId": "4055c34e-6758-4df6-a8ee-10c1471769fd",
        "colab": {
          "base_uri": "https://localhost:8080/"
        }
      },
      "execution_count": 510,
      "outputs": [
        {
          "output_type": "stream",
          "name": "stdout",
          "text": [
            "Overwriting ctest8.txt\n"
          ]
        }
      ]
    },
    {
      "cell_type": "code",
      "source": [
        "!./max_pairwise_product_long_full < input8.txt"
      ],
      "metadata": {
        "id": "c84DRGjjQA80",
        "outputId": "dabff21e-f554-46a4-df29-038cde4f6a66",
        "colab": {
          "base_uri": "https://localhost:8080/"
        }
      },
      "execution_count": 511,
      "outputs": [
        {
          "output_type": "stream",
          "name": "stdout",
          "text": [
            "101021121201\n"
          ]
        }
      ]
    },
    {
      "cell_type": "code",
      "source": [
        "%%writefile output8.txt\n",
        "101021121201"
      ],
      "metadata": {
        "id": "MFw_KRLRQEnJ",
        "outputId": "867b96e6-f25e-4cf4-fdf9-99b76074b568",
        "colab": {
          "base_uri": "https://localhost:8080/"
        }
      },
      "execution_count": 512,
      "outputs": [
        {
          "output_type": "stream",
          "name": "stdout",
          "text": [
            "Overwriting output8.txt\n"
          ]
        }
      ]
    },
    {
      "cell_type": "code",
      "source": [
        "!./max_pairwise_product_long_full < input8.txt > ctest8.txt\n",
        "!grep -xvFf output8.txt ctest8.txt"
      ],
      "metadata": {
        "id": "sAn0CJX0QOJK"
      },
      "execution_count": 513,
      "outputs": []
    },
    {
      "cell_type": "markdown",
      "source": [
        "---------------------------------------------------Test 3.6-------------------------------------------------"
      ],
      "metadata": {
        "id": "UJaSC5RCQUJK"
      }
    },
    {
      "cell_type": "code",
      "source": [
        "%%writefile input9.txt\n",
        "7\n",
        "2 3 5 7 4 9 1"
      ],
      "metadata": {
        "id": "WPHHSnHTQZND",
        "outputId": "9f5aecbb-a3f0-4f1e-9766-f31b005736d2",
        "colab": {
          "base_uri": "https://localhost:8080/"
        }
      },
      "execution_count": 514,
      "outputs": [
        {
          "output_type": "stream",
          "name": "stdout",
          "text": [
            "Overwriting input9.txt\n"
          ]
        }
      ]
    },
    {
      "cell_type": "code",
      "source": [
        "7*9"
      ],
      "metadata": {
        "id": "Epb0fnQnQmBx",
        "outputId": "f6e366e7-5359-4347-a4d2-a7f3a7d893ae",
        "colab": {
          "base_uri": "https://localhost:8080/"
        }
      },
      "execution_count": 494,
      "outputs": [
        {
          "output_type": "execute_result",
          "data": {
            "text/plain": [
              "63"
            ]
          },
          "metadata": {},
          "execution_count": 494
        }
      ]
    },
    {
      "cell_type": "code",
      "source": [
        "%%writefile ctest9.txt\n",
        "63"
      ],
      "metadata": {
        "id": "N5n1nscCQqUI",
        "outputId": "0b956943-23ad-4ac4-9624-713e3729dc0a",
        "colab": {
          "base_uri": "https://localhost:8080/"
        }
      },
      "execution_count": 515,
      "outputs": [
        {
          "output_type": "stream",
          "name": "stdout",
          "text": [
            "Overwriting ctest9.txt\n"
          ]
        }
      ]
    },
    {
      "cell_type": "code",
      "source": [
        "!./max_pairwise_product_long_full < input9.txt"
      ],
      "metadata": {
        "id": "upZC1OIUQr7u",
        "outputId": "373fc0df-672c-41a1-9856-fc7c98e22707",
        "colab": {
          "base_uri": "https://localhost:8080/"
        }
      },
      "execution_count": 516,
      "outputs": [
        {
          "output_type": "stream",
          "name": "stdout",
          "text": [
            "63\n"
          ]
        }
      ]
    },
    {
      "cell_type": "code",
      "source": [
        "%%writefile output9.txt\n",
        "63"
      ],
      "metadata": {
        "id": "ojsPe6ooQzHS",
        "outputId": "8718254c-62d8-4a21-8d66-8e4850ef23cc",
        "colab": {
          "base_uri": "https://localhost:8080/"
        }
      },
      "execution_count": 517,
      "outputs": [
        {
          "output_type": "stream",
          "name": "stdout",
          "text": [
            "Overwriting output9.txt\n"
          ]
        }
      ]
    },
    {
      "cell_type": "code",
      "source": [
        "!./max_pairwise_product_long_full < input9.txt > ctest9.txt\n",
        "!grep -xvFf output9.txt ctest9.txt"
      ],
      "metadata": {
        "id": "0XInClImQ7ei"
      },
      "execution_count": 518,
      "outputs": []
    },
    {
      "cell_type": "markdown",
      "source": [
        "---------------------------------------------------Test 3.7-------------------------------------------------"
      ],
      "metadata": {
        "id": "6HOTspiORCnO"
      }
    },
    {
      "cell_type": "code",
      "source": [
        "%%writefile input10.txt\n",
        "12\n",
        "2 3 5 7 4 9 1 55 44 56 78 98"
      ],
      "metadata": {
        "id": "SdGR_iRRREwa",
        "outputId": "daa5df4a-a176-4a14-848e-70ca656c581d",
        "colab": {
          "base_uri": "https://localhost:8080/"
        }
      },
      "execution_count": 519,
      "outputs": [
        {
          "output_type": "stream",
          "name": "stdout",
          "text": [
            "Overwriting input10.txt\n"
          ]
        }
      ]
    },
    {
      "cell_type": "code",
      "source": [
        "78*98"
      ],
      "metadata": {
        "id": "GL3iz-IlRVCk",
        "outputId": "8d4f44df-d257-4294-9b82-bdd031c2c9ec",
        "colab": {
          "base_uri": "https://localhost:8080/"
        }
      },
      "execution_count": 314,
      "outputs": [
        {
          "output_type": "execute_result",
          "data": {
            "text/plain": [
              "7644"
            ]
          },
          "metadata": {},
          "execution_count": 314
        }
      ]
    },
    {
      "cell_type": "code",
      "source": [
        "%%writefile ctest10.txt\n",
        "7644"
      ],
      "metadata": {
        "id": "nPd_AYYJRb_S",
        "outputId": "9ca32aa0-1ac1-4770-f967-00b558600454",
        "colab": {
          "base_uri": "https://localhost:8080/"
        }
      },
      "execution_count": 520,
      "outputs": [
        {
          "output_type": "stream",
          "name": "stdout",
          "text": [
            "Overwriting ctest10.txt\n"
          ]
        }
      ]
    },
    {
      "cell_type": "code",
      "source": [
        "!./max_pairwise_product_long_full < input10.txt"
      ],
      "metadata": {
        "id": "5mlLAyPcRioW",
        "outputId": "e05aff29-749f-4748-9fa8-486db20e0d1e",
        "colab": {
          "base_uri": "https://localhost:8080/"
        }
      },
      "execution_count": 521,
      "outputs": [
        {
          "output_type": "stream",
          "name": "stdout",
          "text": [
            "7644\n"
          ]
        }
      ]
    },
    {
      "cell_type": "code",
      "source": [
        "%%writefile output10.txt\n",
        "7644"
      ],
      "metadata": {
        "id": "COcpbUfRRmnN",
        "outputId": "b763d268-c2b0-4e25-8e90-4f6d6eb7ddfc",
        "colab": {
          "base_uri": "https://localhost:8080/"
        }
      },
      "execution_count": 323,
      "outputs": [
        {
          "output_type": "stream",
          "name": "stdout",
          "text": [
            "Overwriting output10.txt\n"
          ]
        }
      ]
    },
    {
      "cell_type": "code",
      "source": [
        "!./max_pairwise_product_long_full < input10.txt > ctest10.txt\n",
        "!grep -xvFf output10.txt ctest10.txt"
      ],
      "metadata": {
        "id": "T4hzHzEMRuiW"
      },
      "execution_count": 522,
      "outputs": []
    },
    {
      "cell_type": "markdown",
      "source": [
        "-----------------all tests 4-10--------------"
      ],
      "metadata": {
        "id": "KHVcOjnukBQf"
      }
    },
    {
      "cell_type": "code",
      "source": [
        " %%writefile run_all_test2.sh\n",
        "#!/bin/bash\n",
        "g++ max_pairwise_product_long_full.cpp -o max_pairwise_product_long_full\n",
        "for i in {4..10}\n",
        "do\n",
        "    echo \"------------------------\"\n",
        "    ./max_pairwise_product_long_full < input$i.txt\n",
        "    differences=$(grep -xvFf output$i.txt ctest$i.txt)\n",
        "    if [ -n \"$differences\" ]; then\n",
        "        echo \"Diferencias encontradas en output$i.txt and ctest$i.txt:\"\n",
        "        echo \"$differences\"\n",
        "    else\n",
        "        echo \"input$i.txt: OK\"\n",
        "    fi\n",
        "done"
      ],
      "metadata": {
        "colab": {
          "base_uri": "https://localhost:8080/"
        },
        "id": "q9PuE-IMj5NB",
        "outputId": "435db795-0a04-4301-be81-f1273ad709a0"
      },
      "execution_count": 523,
      "outputs": [
        {
          "output_type": "stream",
          "name": "stdout",
          "text": [
            "Overwriting run_all_test2.sh\n"
          ]
        }
      ]
    },
    {
      "cell_type": "code",
      "source": [
        "!chmod u+x run_all_test2.sh\n",
        "!./run_all_test2.sh"
      ],
      "metadata": {
        "colab": {
          "base_uri": "https://localhost:8080/"
        },
        "id": "4aoQG5N3j9nj",
        "outputId": "256d554f-e853-4df2-db9a-2dcbf968c643"
      },
      "execution_count": 524,
      "outputs": [
        {
          "output_type": "stream",
          "name": "stdout",
          "text": [
            "------------------------\n",
            "49814556\n",
            "input4.txt: OK\n",
            "------------------------\n",
            "30610305\n",
            "input5.txt: OK\n",
            "------------------------\n",
            "91800\n",
            "input6.txt: OK\n",
            "------------------------\n",
            "1063325598537312\n",
            "input7.txt: OK\n",
            "------------------------\n",
            "101021121201\n",
            "input8.txt: OK\n",
            "------------------------\n",
            "63\n",
            "input9.txt: OK\n",
            "------------------------\n",
            "7644\n",
            "input10.txt: OK\n"
          ]
        }
      ]
    },
    {
      "cell_type": "markdown",
      "metadata": {
        "id": "9z9yr5QkeyJF"
      },
      "source": [
        "### Test 4  time test  measure the execution time running with the the largest worst cases input11.txt  (200000 increasing numbers) and inoput12.txt (199998 increasing numbers and  200000, 200000 at the end)"
      ]
    },
    {
      "cell_type": "code",
      "source": [
        "# input11.txt 200000 increasing numbers:  1 2 .. 200000\n",
        "\n",
        "%%writefile WriteTest.cpp\n",
        "\n",
        "#include <iostream>\n",
        "#include <fstream>\n",
        "#include <cstdlib>\n",
        "\n",
        "using namespace std;\n",
        "\n",
        "int main() {\n",
        "  // Create and open a text file\n",
        "  ofstream MyFile(\"input11.txt\");\n",
        "\n",
        " MyFile << 200000 <<\"\\n\";  // n\n",
        " for (int i=1; i <200001; i++){\n",
        "     MyFile << i <<\" \";\n",
        " }\n",
        "\n",
        "  // Close the file\n",
        "  MyFile.close();\n",
        "}"
      ],
      "metadata": {
        "colab": {
          "base_uri": "https://localhost:8080/"
        },
        "id": "UmB1ipWM_nSk",
        "outputId": "d07067f5-2b17-4c89-e183-f9a866af8242"
      },
      "execution_count": null,
      "outputs": [
        {
          "output_type": "stream",
          "name": "stdout",
          "text": [
            "Writing WriteTest.cpp\n"
          ]
        }
      ]
    },
    {
      "cell_type": "code",
      "execution_count": null,
      "metadata": {
        "id": "EH25TkOkZfD9"
      },
      "outputs": [],
      "source": [
        "!g++ WriteTest.cpp -o WriteTest\n",
        "!./WriteTest"
      ]
    },
    {
      "cell_type": "code",
      "source": [
        "199999 * 200000"
      ],
      "metadata": {
        "colab": {
          "base_uri": "https://localhost:8080/"
        },
        "id": "j0mokSOnCCtZ",
        "outputId": "a14988de-3051-4ac5-e8be-d888ed14b310"
      },
      "execution_count": null,
      "outputs": [
        {
          "output_type": "execute_result",
          "data": {
            "text/plain": [
              "39999800000"
            ]
          },
          "metadata": {},
          "execution_count": 85
        }
      ]
    },
    {
      "cell_type": "code",
      "source": [
        "%%writefile output11.txt\n",
        "39999800000"
      ],
      "metadata": {
        "id": "VoDhDV73B5Mo",
        "colab": {
          "base_uri": "https://localhost:8080/"
        },
        "outputId": "3c7de018-06f3-4748-e837-f780bec84282"
      },
      "execution_count": null,
      "outputs": [
        {
          "output_type": "stream",
          "name": "stdout",
          "text": [
            "Writing output11.txt\n"
          ]
        }
      ]
    },
    {
      "cell_type": "code",
      "execution_count": null,
      "metadata": {
        "colab": {
          "base_uri": "https://localhost:8080/"
        },
        "id": "oLiMjbAIfPlX",
        "outputId": "f826ea3f-f72b-4717-ea62-2f7ef073bff7"
      },
      "outputs": [
        {
          "output_type": "stream",
          "name": "stdout",
          "text": [
            "Overwriting WriteTest.cpp\n"
          ]
        }
      ],
      "source": [
        "# input12.txt 200000 decreasing numbers and 200000, 199999 ...  2 1\n",
        "\n",
        "%%writefile WriteTest.cpp\n",
        "\n",
        "#include <iostream>\n",
        "#include <fstream>\n",
        "#include <cstdlib>\n",
        "\n",
        "using namespace std;\n",
        "\n",
        "int main() {\n",
        "  // Create and open a text file\n",
        "  ofstream MyFile(\"input12.txt\");\n",
        "\n",
        " MyFile << 200000 <<\"\\n\";  // n\n",
        " for (int i=1; i <200001; i++){\n",
        "     MyFile << 200001-i <<\" \";\n",
        " }\n",
        "\n",
        "  // Close the file\n",
        "  MyFile.close();\n",
        "}"
      ]
    },
    {
      "cell_type": "code",
      "source": [
        "!g++ WriteTest.cpp -o WriteTest\n",
        "!./WriteTest"
      ],
      "metadata": {
        "id": "oULNBr_zAd9c"
      },
      "execution_count": null,
      "outputs": []
    },
    {
      "cell_type": "code",
      "source": [
        "%%writefile output12.txt\n",
        "39999800000"
      ],
      "metadata": {
        "colab": {
          "base_uri": "https://localhost:8080/"
        },
        "id": "PQLyocaFB-y4",
        "outputId": "1811925b-9f9d-4c05-d143-b1b5f1df108b"
      },
      "execution_count": null,
      "outputs": [
        {
          "output_type": "stream",
          "name": "stdout",
          "text": [
            "Writing output12.txt\n"
          ]
        }
      ]
    },
    {
      "cell_type": "markdown",
      "metadata": {
        "id": "JB6f03qO-lj9"
      },
      "source": [
        "Measure time\n",
        "\n",
        "https://askubuntu.com/questions/53444/how-can-i-measure-the-execution-time-of-a-terminal-process"
      ]
    },
    {
      "cell_type": "code",
      "execution_count": null,
      "metadata": {
        "id": "6p2QLEr576zk"
      },
      "outputs": [],
      "source": [
        "!g++ max_pairwise_product_long_full.cpp -o max_pairwise_product_long_full\n",
        "!time ./max_pairwise_product_long_full< input11.txt"
      ]
    },
    {
      "cell_type": "code",
      "source": [
        "!g++ max_pairwise_product_long_full.cpp -o max_pairwise_product_long_full\n",
        "!time ./max_pairwise_product_long_full< input12.txt"
      ],
      "metadata": {
        "id": "cnjCyeUdAnZj"
      },
      "execution_count": null,
      "outputs": []
    },
    {
      "cell_type": "markdown",
      "metadata": {
        "id": "FXClpBsUJuXC"
      },
      "source": [
        "##### Calculate the number or and upper bound to the number of instructions executed by the algorithm as a function of n, add in each line a comment with the number of instructions that are executed in that line."
      ]
    },
    {
      "cell_type": "code",
      "execution_count": 244,
      "metadata": {
        "colab": {
          "base_uri": "https://localhost:8080/"
        },
        "id": "uG6Mv-Pwlkii",
        "outputId": "bbb7516d-1328-4086-db22-79e3e3a4dfc9"
      },
      "outputs": [
        {
          "output_type": "stream",
          "name": "stdout",
          "text": [
            "Overwriting max_pairwise_product_long_full.cpp\n"
          ]
        }
      ],
      "source": [
        "%%writefile max_pairwise_product_long_full.cpp\n",
        "#include <iostream>\n",
        "#include <vector>\n",
        "#include <algorithm>\n",
        "\n",
        "long long MaxPairwiseProduct(const std::vector<int>& numbers) {              //N inst exec by line executed\n",
        "    long long max_product = 0LL;                                             //1\n",
        "\t  long long aux_product = 0LL;                                             //1\n",
        "    int n = numbers.size();                                                  //1\n",
        "\n",
        "    for (int first = 0; first < n; ++first) {                                //1+2n\n",
        "        for (int second = 0; second < n; ++second) {                         //n + 2n**2\n",
        "          if ( first != second ){                                            //n**2\n",
        "                aux_product = numbers[first] * numbers[second];              //n**2 -n\n",
        "                if (aux_product > max_product)                               //n**2 -n\n",
        "                    max_product = aux_product;                               //[1, n**2/2 - n/2] upper bound\n",
        "          }\n",
        "        }\n",
        "    }\n",
        "\n",
        "                                                                             // --------------\n",
        "    return max_product;                                                      // 4 + n + [5*n**2+1, 11*n**2/2  - n/2]  upper bound\n",
        "}\n",
        "\n",
        "int main() {                                              //N inst exec by line executed\n",
        "    int n;                                                //1\n",
        "    std::cin >> n;                                        //1\n",
        "    std::vector<int> numbers(n);                          //n\n",
        "    for (int i = 0; i < n; ++i) {                         //1 + 2n\n",
        "        std::cin >> numbers[i];                           //n\n",
        "    }\n",
        "\n",
        "    std::cout << MaxPairwiseProduct(numbers) << \"\\n\";     //1 + 1  + 4 + n + [5*n**2+1, 11*n**2/2  - n/2]\n",
        "\n",
        "    return 0;                                             // --------------\n",
        "}                                                         //  9 + 5*n + [5*n**2+1, 11*n**2/2  - n/2]  upper bound\n"
      ]
    },
    {
      "cell_type": "markdown",
      "metadata": {
        "id": "0vTsUg8OwcHs"
      },
      "source": [
        "Count executed intructions in code"
      ]
    },
    {
      "cell_type": "code",
      "execution_count": 243,
      "metadata": {
        "colab": {
          "base_uri": "https://localhost:8080/"
        },
        "id": "CuRKkqQc137V",
        "outputId": "d3d1db67-cab2-4869-c076-343f4f30a530"
      },
      "outputs": [
        {
          "output_type": "stream",
          "name": "stdout",
          "text": [
            "Overwriting max_pairwise_product_long_full_execints.cpp\n"
          ]
        }
      ],
      "source": [
        "%%writefile max_pairwise_product_long_full_execints.cpp\n",
        "#include <iostream>\n",
        "#include <vector>\n",
        "#include <algorithm>\n",
        "\n",
        "long long MaxPairwiseProduct(const std::vector<int>& numbers, long long &execints) {              //N inst exec by line executed\n",
        "\n",
        "    long long max_product = 0LL;                                             //1\n",
        "    execints++;\n",
        "\n",
        "\t  long long aux_product = 0LL;                                             //1\n",
        "    execints++;\n",
        "\n",
        "    int n = numbers.size();                                                  //1\n",
        "    execints++;\n",
        "\n",
        "    execints++;\n",
        "    for (int first = 0; first < n; ++first) {                                //1+2n\n",
        "        execints += 2;\n",
        "\n",
        "        execints++;\n",
        "        for (int second = 0; second < n; ++second) {                         //n + 2n**2\n",
        "          execints += 2;\n",
        "\n",
        "          execints++;\n",
        "          if ( first != second ){                                            //n**2\n",
        "                aux_product = numbers[first] * numbers[second];              //n**2 -n\n",
        "                execints++;\n",
        "\n",
        "                execints++;\n",
        "                if (aux_product > max_product){                               //n**2 -n\n",
        "                    max_product = aux_product;                               //[1,n**2/2 - n/2]  upper bound\n",
        "                    execints++;\n",
        "\n",
        "                }\n",
        "        }\n",
        "      }\n",
        "    }\n",
        "                                                                            // --------------\n",
        "    return max_product;                                                     // 4 + n + [5*n**2+1, 11*n**2/2  - n/2] upper bound\n",
        "}\n",
        "\n",
        "int main() {                                                 //N inst exec by line executed\n",
        "\n",
        "    long long execints =0LL;\n",
        "\n",
        "    int n;                                                   //1\n",
        "    execints++;\n",
        "\n",
        "    std::cin >> n;                                           //1\n",
        "    execints++;\n",
        "\n",
        "    std::vector<int> numbers(n);                             //n\n",
        "    execints += n;\n",
        "\n",
        "    execints++;\n",
        "    for (int i = 0; i < n; ++i) {                            //1 + 2n\n",
        "        execints += 2;\n",
        "\n",
        "        std::cin >> numbers[i];\n",
        "        execints++;                                          //n\n",
        "\n",
        "    }\n",
        "\n",
        "\n",
        "\n",
        "    //std::cout << MaxPairwiseProduct(numbers) << \"\\n\";      //1 + 1  + 4 + n + [5*n**2+1, 11*n**2/2  - n/2] upper bound\n",
        "\n",
        "\n",
        "    execints++;\n",
        "    int M = MaxPairwiseProduct(numbers,execints);\n",
        "\n",
        "    execints++;\n",
        "    std::cout <<  execints << \"\\n\";\n",
        "    return 0;                                                // --------------\n",
        "}                                                            // 9 + 5*n + [5*n**2+1, 11*n**2/2  - n/2]"
      ]
    },
    {
      "cell_type": "markdown",
      "source": [
        "The number of instructions executed by the algooirithm with a list of size $n$ is  \n",
        "\n",
        "$$T (n) = 9 + 5n + \\left[5n^2+1, 11\\frac{n^2}{2}  - \\frac{n}{2}\\right] \\ \\  \\text{upper bound}$$\n",
        "\n",
        "It depends on the size of the lists and  the order of the list.\n",
        "\n",
        "For the input1.txt\n",
        "```\n",
        "10\n",
        "1 2 3 4 5 6 7 8 9 10\n",
        "```\n",
        "$$T = 9 + 5(10) + 5(10)(10) +  9 + 5 + 4 + 3 + 2 + 2 + 2 + 2 + 1 + 0  = 589 $$\n",
        "\n",
        "$$T(10) \\in [560, 604]  $$\n"
      ],
      "metadata": {
        "id": "cUjHtvtdDsmr"
      }
    },
    {
      "cell_type": "code",
      "source": [
        "#The number of times that  max_product = aux_product; in the worst case is less than (n**2 -n)/2 -  upper bound\n",
        "\n",
        "   1  2  3  4  5  6  7  8  9  10\n",
        "1  x  2  3  4  5  6  7  8  9  10         9\n",
        "2  2  x  6  8  10 12 14 16 18 20         5 14\n",
        "3  3  6  x  12 15 18 21 24 27 30         4 18\n",
        "4  4  8  12 x  20 24 28 32 36 40         3 21\n",
        "5  5  10 15 20 x  30 35 40 45 50         2 23\n",
        "6  6  12 18 24 30 x  42 48 54 60         2 25\n",
        "7  7  14 21 28 35 42 x  56 63 70         2 27\n",
        "8  8  18 27 36 45 54 63 72 x  90         1 30\n",
        "10 10 20 30 40 50 60 70 60 90 x          0"
      ],
      "metadata": {
        "id": "K59xQMWiBNFj"
      },
      "execution_count": null,
      "outputs": []
    },
    {
      "cell_type": "code",
      "source": [
        "9 + 5*(10) + 5*(10)*(10) +  9 + 5 + 4 + 3 + 2 + 2 + 2 + 2 + 1 + 0"
      ],
      "metadata": {
        "colab": {
          "base_uri": "https://localhost:8080/"
        },
        "id": "E3O8dzFfEgir",
        "outputId": "9762167b-63df-4445-c7a8-d33678ecccc5"
      },
      "execution_count": null,
      "outputs": [
        {
          "output_type": "execute_result",
          "data": {
            "text/plain": [
              "589"
            ]
          },
          "metadata": {},
          "execution_count": 91
        }
      ]
    },
    {
      "cell_type": "code",
      "source": [
        "n = 10\n",
        "print( 9 + 5*n + 5*n**2+1,  9 + 5*n + 11*n**2/2  - n/2)"
      ],
      "metadata": {
        "colab": {
          "base_uri": "https://localhost:8080/"
        },
        "id": "TCpdl5u_Gq1a",
        "outputId": "9a1412cf-2d41-4107-a911-53fa6ee56096"
      },
      "execution_count": null,
      "outputs": [
        {
          "output_type": "stream",
          "name": "stdout",
          "text": [
            "560 604.0\n"
          ]
        }
      ]
    },
    {
      "cell_type": "code",
      "execution_count": 245,
      "metadata": {
        "colab": {
          "base_uri": "https://localhost:8080/"
        },
        "id": "Kuvm1C05ly2a",
        "outputId": "f14c9ad0-1bd3-4c0e-8dda-e97b67d85333"
      },
      "outputs": [
        {
          "output_type": "stream",
          "name": "stdout",
          "text": [
            "563\n"
          ]
        }
      ],
      "source": [
        "!g++ max_pairwise_product_long_full_execints.cpp -o max_pairwise_product_long_full_execints\n",
        "!./max_pairwise_product_long_full_execints < input1.txt"
      ]
    },
    {
      "cell_type": "markdown",
      "source": [
        "\n",
        "For the input2.txt\n",
        "```\n",
        "10\n",
        "10 9 8 7 6 5 4 3 2 1\n",
        "```\n",
        "$$T = 9 + 5*(10) + 5*(10)**2 +  1  = 560 $$"
      ],
      "metadata": {
        "id": "Yr_Lb7CaHfxB"
      }
    },
    {
      "cell_type": "code",
      "source": [
        "9 + 5*(10) + 5*(10)**2 +  1"
      ],
      "metadata": {
        "colab": {
          "base_uri": "https://localhost:8080/"
        },
        "id": "HOdqlwJiZUIp",
        "outputId": "4336c8c4-16e1-4c50-961a-f0d9af942d02"
      },
      "execution_count": null,
      "outputs": [
        {
          "output_type": "execute_result",
          "data": {
            "text/plain": [
              "560"
            ]
          },
          "metadata": {},
          "execution_count": 97
        }
      ]
    },
    {
      "cell_type": "code",
      "source": [
        "!g++ max_pairwise_product_long_full_execints.cpp -o max_pairwise_product_long_full_execints\n",
        "!./max_pairwise_product_long_full_execints < input4.txt\n",
        "n = 10"
      ],
      "metadata": {
        "id": "_znzLectjFSe",
        "colab": {
          "base_uri": "https://localhost:8080/"
        },
        "outputId": "f28d9189-9d2e-41d2-9cfd-e02acfb50282"
      },
      "execution_count": null,
      "outputs": [
        {
          "output_type": "stream",
          "name": "stdout",
          "text": [
            "563\n"
          ]
        }
      ]
    },
    {
      "cell_type": "markdown",
      "metadata": {
        "id": "L_uaamxeAHK7"
      },
      "source": [
        "\n",
        "For the input12.txt\n",
        "```\n",
        "200000\n",
        "200000  199999 ... 2 1\n",
        "```\n",
        "$$T = 9 + 5*(200000) + 5*(200000)**2 +1  = 200001000010 $$\n",
        "\n"
      ]
    },
    {
      "cell_type": "code",
      "source": [
        "9 + 5*(200000) + 5*(200000)**2 +1"
      ],
      "metadata": {
        "colab": {
          "base_uri": "https://localhost:8080/"
        },
        "id": "c7X-ewmeXe-h",
        "outputId": "4fcfdccb-ad97-4556-a762-6c802eca3044"
      },
      "execution_count": null,
      "outputs": [
        {
          "output_type": "execute_result",
          "data": {
            "text/plain": [
              "200001000010"
            ]
          },
          "metadata": {},
          "execution_count": 99
        }
      ]
    },
    {
      "cell_type": "markdown",
      "metadata": {
        "id": "NXW7QkoBL6xH"
      },
      "source": [
        "Calculate estimated time by instruction and number of instructions by second"
      ]
    },
    {
      "cell_type": "code",
      "source": [
        "!g++ max_pairwise_product_long_full_execints.cpp -o max_pairwise_product_long_full_execints\n",
        "!time ./max_pairwise_product_long_full_execints < input12.txt\n"
      ],
      "metadata": {
        "id": "BMH8mF3EKn2w",
        "colab": {
          "base_uri": "https://localhost:8080/"
        },
        "outputId": "ed7ec116-5b5a-4795-81f4-e7fa6d3b516e"
      },
      "execution_count": 246,
      "outputs": [
        {
          "output_type": "stream",
          "name": "stdout",
          "text": [
            "563\n",
            "\n",
            "real\t0m0.003s\n",
            "user\t0m0.002s\n",
            "sys\t0m0.001s\n"
          ]
        }
      ]
    },
    {
      "cell_type": "code",
      "execution_count": null,
      "metadata": {
        "colab": {
          "base_uri": "https://localhost:8080/"
        },
        "id": "pKqB3i7dIxnc",
        "outputId": "dca4e839-59d5-4c16-f17d-ac7281187827"
      },
      "outputs": [
        {
          "output_type": "execute_result",
          "data": {
            "text/plain": [
              "1.5299923499617505e-09"
            ]
          },
          "metadata": {},
          "execution_count": 103
        }
      ],
      "source": [
        "# Estimated time by instruction\n",
        "\n",
        "306/200001000010\n"
      ]
    },
    {
      "cell_type": "code",
      "execution_count": null,
      "metadata": {
        "colab": {
          "base_uri": "https://localhost:8080/"
        },
        "id": "18N1ouqeMhE1",
        "outputId": "a69a404e-3d6c-4271-d5b7-3f850381c200"
      },
      "outputs": [
        {
          "output_type": "execute_result",
          "data": {
            "text/plain": [
              "1.5299923499617505e-09"
            ]
          },
          "metadata": {},
          "execution_count": 104
        }
      ],
      "source": [
        "# Estimated number of instructions by second\n",
        "\n",
        "306/200001000010"
      ]
    },
    {
      "cell_type": "markdown",
      "source": [
        "# Estimate the maximun n that can be solved in 1 second\n",
        "\n",
        "$$5n^2 \\times 1.53*10^{-9} s = 1s$$\n",
        "\n",
        "$$ n \\approx 11000$$\n"
      ],
      "metadata": {
        "id": "KyuxejFkL5X_"
      }
    },
    {
      "cell_type": "code",
      "source": [
        "# Verify input13.txt\n",
        "%%writefile WriteTest.cpp\n",
        "\n",
        "#include <iostream>\n",
        "#include <fstream>\n",
        "#include <cstdlib>\n",
        "\n",
        "using namespace std;\n",
        "\n",
        "int main() {\n",
        "  // Create and open a text file\n",
        "  ofstream MyFile(\"input13.txt\");\n",
        "\n",
        " MyFile << 11000 <<\"\\n\";  // n\n",
        " for (int i=1; i <11001; i++){\n",
        "     MyFile << i <<\" \";\n",
        " }\n",
        "\n",
        "  // Close the file\n",
        "  MyFile.close();\n",
        "}"
      ],
      "metadata": {
        "colab": {
          "base_uri": "https://localhost:8080/"
        },
        "id": "WXu5jp-DLTOI",
        "outputId": "59b0e66e-a5b8-42fb-dfe2-a0be10de0612"
      },
      "execution_count": 247,
      "outputs": [
        {
          "output_type": "stream",
          "name": "stdout",
          "text": [
            "Overwriting WriteTest.cpp\n"
          ]
        }
      ]
    },
    {
      "cell_type": "code",
      "source": [
        "!g++ WriteTest.cpp -o WriteTest\n",
        "!./WriteTest"
      ],
      "metadata": {
        "id": "AQ8N52pUMCeT"
      },
      "execution_count": 248,
      "outputs": []
    },
    {
      "cell_type": "code",
      "source": [
        "!g++ max_pairwise_product_long_full.cpp -o max_pairwise_product_long_full\n",
        "!time ./max_pairwise_product_long_full< input13.txt"
      ],
      "metadata": {
        "colab": {
          "base_uri": "https://localhost:8080/"
        },
        "id": "ussuAokfM2du",
        "outputId": "c05c9140-e47e-4d89-edb2-6a04b3300e6b"
      },
      "execution_count": null,
      "outputs": [
        {
          "output_type": "stream",
          "name": "stdout",
          "text": [
            "120989000\n",
            "\n",
            "real\t0m0.856s\n",
            "user\t0m0.846s\n",
            "sys\t0m0.001s\n"
          ]
        }
      ]
    },
    {
      "cell_type": "markdown",
      "metadata": {
        "id": "Tm_AVmt-QQH4"
      },
      "source": [
        "## Python"
      ]
    },
    {
      "cell_type": "code",
      "execution_count": 257,
      "metadata": {
        "id": "kAEAoNZEQTCw",
        "colab": {
          "base_uri": "https://localhost:8080/"
        },
        "outputId": "ffe5a664-f02e-4b74-a997-97c1bf9a0a21"
      },
      "outputs": [
        {
          "output_type": "stream",
          "name": "stdout",
          "text": [
            "Archivo input13.txt creado y escrito correctamente.\n"
          ]
        }
      ],
      "source": [
        "# Crear y escribir en el archivo\n",
        "with open(\"input13.txt\", \"w\") as file:\n",
        "    file.write(\"11000\\n\")  # n\n",
        "    for i in range(1, 11001):\n",
        "        file.write(f\"{i} \")\n",
        "\n",
        "print(\"Archivo input13.txt creado y escrito correctamente.\")\n"
      ]
    },
    {
      "cell_type": "code",
      "execution_count": 250,
      "metadata": {
        "id": "gRCCcd7IQTKZ",
        "colab": {
          "base_uri": "https://localhost:8080/"
        },
        "outputId": "d1c27a55-2127-479a-c3c4-3413d114ae66"
      },
      "outputs": [
        {
          "output_type": "stream",
          "name": "stdout",
          "text": [
            "Overwriting max_pairwise_product_python.py\n"
          ]
        }
      ],
      "source": [
        "%%writefile max_pairwise_product_python.py\n",
        "def max_pairwise_product(numbers):\n",
        "    max_product = 0\n",
        "\n",
        "    for first in range(len(numbers)):\n",
        "        for second in range(len(numbers)):\n",
        "            if first != second:\n",
        "                aux_product = numbers[first] * numbers[second]\n",
        "                if aux_product > max_product:\n",
        "                    max_product = aux_product\n",
        "\n",
        "    return max_product\n",
        "\n",
        "if __name__ == \"__main__\":\n",
        "    n = int(input())\n",
        "    numbers = list(map(int, input().split()))\n",
        "\n",
        "    M = max_pairwise_product(numbers)\n",
        "    print(M)\n"
      ]
    },
    {
      "cell_type": "code",
      "execution_count": 251,
      "metadata": {
        "id": "hjw7TJrDL0d-",
        "colab": {
          "base_uri": "https://localhost:8080/"
        },
        "outputId": "7e8d28d4-b945-47f3-e157-4add34560567"
      },
      "outputs": [
        {
          "output_type": "stream",
          "name": "stdout",
          "text": [
            "120989000\n",
            "\n",
            "real\t0m19.457s\n",
            "user\t0m19.212s\n",
            "sys\t0m0.023s\n"
          ]
        }
      ],
      "source": [
        "# Verify\n",
        "!time python max_pairwise_product_python.py < input13.txt"
      ]
    },
    {
      "cell_type": "markdown",
      "metadata": {
        "id": "MKQKSC-vKePK"
      },
      "source": [
        "## Perform the same analysis for an algorithm in C++ and Python that uses\n",
        "$$\\frac{n^2 - n}{2} = O(n^2)\\ \\ \\text{products}$$"
      ]
    },
    {
      "cell_type": "code",
      "execution_count": null,
      "metadata": {
        "id": "jkkHHoxSK65p",
        "colab": {
          "base_uri": "https://localhost:8080/"
        },
        "outputId": "d379b540-1789-47f7-e8e8-d742d831b113"
      },
      "outputs": [
        {
          "output_type": "stream",
          "name": "stdout",
          "text": [
            "Writing max_pairwise_product.cpp\n"
          ]
        }
      ],
      "source": [
        "%%writefile max_pairwise_product.cpp\n",
        "#include <iostream>\n",
        "#include <vector>\n",
        "#include <algorithm>\n",
        "\n",
        "int MaxPairwiseProduct(const std::vector<int>& numbers) {\n",
        "    int max_product = 0;\n",
        "    int n = numbers.size();\n",
        "\n",
        "    for (int first = 0; first < n; ++first) {\n",
        "        for (int second = first + 1; second < n; ++second) {\n",
        "            max_product = std::max(max_product,\n",
        "                numbers[first] * numbers[second]);\n",
        "        }\n",
        "    }\n",
        "\n",
        "    return max_product;\n",
        "}\n",
        "\n",
        "int main() {\n",
        "    int n;\n",
        "    std::cin >> n;\n",
        "    std::vector<int> numbers(n);\n",
        "    for (int i = 0; i < n; ++i) {\n",
        "        std::cin >> numbers[i];\n",
        "    }\n",
        "\n",
        "    std::cout << MaxPairwiseProduct(numbers) << \"\\n\";\n",
        "    return 0;\n",
        "}"
      ]
    },
    {
      "cell_type": "code",
      "source": [
        "!g++ max_pairwise_product.cpp -o max_pairwise_product\n",
        "!time ./max_pairwise_product< input13.txt"
      ],
      "metadata": {
        "colab": {
          "base_uri": "https://localhost:8080/"
        },
        "id": "4DXLAQEc45KJ",
        "outputId": "0dd442d5-ccce-4e3a-edb0-c0627daa233e"
      },
      "execution_count": null,
      "outputs": [
        {
          "output_type": "stream",
          "name": "stdout",
          "text": [
            "120989000\n",
            "\n",
            "real\t0m0.596s\n",
            "user\t0m0.581s\n",
            "sys\t0m0.005s\n"
          ]
        }
      ]
    },
    {
      "cell_type": "code",
      "execution_count": 253,
      "metadata": {
        "id": "sU8-Ote7K8vz",
        "colab": {
          "base_uri": "https://localhost:8080/"
        },
        "outputId": "6814dafa-5324-4a28-b725-7eb36d435fa1"
      },
      "outputs": [
        {
          "output_type": "stream",
          "name": "stdout",
          "text": [
            "Overwriting max_pairwise_product_long.cpp\n"
          ]
        }
      ],
      "source": [
        "%%writefile max_pairwise_product_long.cpp\n",
        "#include <iostream>\n",
        "#include <vector>\n",
        "#include <algorithm>\n",
        "\n",
        "long long MaxPairwiseProduct(const std::vector<int>& numbers) {              //N inst exec by line executed\n",
        "    long long max_product = 0LL;                                             //1\n",
        "\t  long long aux_product = 0LL;                                             //1\n",
        "    int n = numbers.size();                                                  //1\n",
        "\n",
        "    for (int first = 0; first < n; ++first) {                                //1+2n\n",
        "        for (int second = first + 1; second < n; ++second) {                 //n + (n-1)n\n",
        "\t\t\t       aux_product =  (long long) numbers[first] * numbers[second];    //(n-1)n/2\n",
        "            if (max_product < aux_product)  {                                //(n-1)n/2\n",
        "\t\t\t\t        max_product = aux_product;                                   //[0, (n-1)n/2]\n",
        "             }\n",
        "        }\n",
        "    }\n",
        "                                                                             // --------------\n",
        "    return max_product;                                                      // 4 + 3n + [2(n-1)n, 2.5 (n-1)n] upper bound\n",
        "}\n",
        "\n",
        "int main() {                                              //N inst exec by line executed\n",
        "    int n;                                                //1\n",
        "    std::cin >> n;                                        //1\n",
        "    std::vector<int> numbers(n);                          //n\n",
        "    for (int i = 0; i < n; ++i) {                         //1 + 2n\n",
        "        std::cin >> numbers[i];                           //n\n",
        "    }\n",
        "\n",
        "    std::cout << MaxPairwiseProduct(numbers) << \"\\n\";     //1 + 1  + 4 + 3n + [2(n-1)n, 2.5 (n-1)n]\n",
        "    return 0;                                             // --------------\n",
        "}                                                         // 9 + 7n + [2(n-1)n, 2.5 (n-1)n] upper bound\n"
      ]
    },
    {
      "cell_type": "code",
      "source": [
        "!g++ max_pairwise_product_long.cpp -o max_pairwise_product_long\n",
        "!time ./max_pairwise_product_long< input13.txt"
      ],
      "metadata": {
        "colab": {
          "base_uri": "https://localhost:8080/"
        },
        "id": "Pz_zITAm5HtQ",
        "outputId": "b078e391-5011-475a-fecf-6f044b823329"
      },
      "execution_count": 258,
      "outputs": [
        {
          "output_type": "stream",
          "name": "stdout",
          "text": [
            "120989000\n",
            "\n",
            "real\t0m0.403s\n",
            "user\t0m0.400s\n",
            "sys\t0m0.001s\n"
          ]
        }
      ]
    },
    {
      "cell_type": "code",
      "execution_count": null,
      "metadata": {
        "id": "5QWT3fneK8nw",
        "colab": {
          "base_uri": "https://localhost:8080/"
        },
        "outputId": "adedb40c-9ac5-4051-da37-6b84a83735c4"
      },
      "outputs": [
        {
          "output_type": "stream",
          "name": "stdout",
          "text": [
            "Overwriting max_pairwise_product_python.py\n"
          ]
        }
      ],
      "source": [
        "%%writefile max_pairwise_product_python.py\n",
        "def max_pairwise_product(numbers):\n",
        "    max_product = 0\n",
        "    n = len(numbers)\n",
        "\n",
        "    for first in range(n):\n",
        "        for second in range(first + 1, n):\n",
        "            max_product = max(max_product, numbers[first] * numbers[second])\n",
        "\n",
        "    return max_product\n",
        "\n",
        "if __name__ == \"__main__\":\n",
        "    n = int(input())\n",
        "    numbers = list(map(int, input().split()))\n",
        "\n",
        "    print(max_pairwise_product(numbers))\n"
      ]
    },
    {
      "cell_type": "code",
      "source": [
        "!time python max_pairwise_product_python.py < input13.txt"
      ],
      "metadata": {
        "colab": {
          "base_uri": "https://localhost:8080/"
        },
        "id": "VCUobYza5OHX",
        "outputId": "4098a234-3538-491c-d685-a57aa7f5335e"
      },
      "execution_count": 254,
      "outputs": [
        {
          "output_type": "stream",
          "name": "stdout",
          "text": [
            "120989000\n",
            "\n",
            "real\t0m20.997s\n",
            "user\t0m20.713s\n",
            "sys\t0m0.019s\n"
          ]
        }
      ]
    },
    {
      "cell_type": "code",
      "execution_count": 255,
      "metadata": {
        "id": "mxIVvm1RK8dB",
        "colab": {
          "base_uri": "https://localhost:8080/"
        },
        "outputId": "8d8b85f2-a474-471a-e778-b6342e9da0ec"
      },
      "outputs": [
        {
          "output_type": "stream",
          "name": "stdout",
          "text": [
            "Overwriting max_pairwise_product_long.py\n"
          ]
        }
      ],
      "source": [
        "%%writefile max_pairwise_product_long.py\n",
        "def max_pairwise_product(numbers):\n",
        "    max_product = 0\n",
        "    n = len(numbers)\n",
        "\n",
        "    for first in range(n):\n",
        "        for second in range(first + 1, n):\n",
        "            aux_product = numbers[first] * numbers[second]\n",
        "            if max_product < aux_product:\n",
        "                max_product = aux_product\n",
        "\n",
        "    return max_product\n"
      ]
    },
    {
      "cell_type": "code",
      "source": [
        "!time python max_pairwise_product_long.py < input13.txt"
      ],
      "metadata": {
        "colab": {
          "base_uri": "https://localhost:8080/"
        },
        "id": "8FhjzJ1W5dCh",
        "outputId": "fb9f467c-055d-40e5-f405-94b2fb910ce0"
      },
      "execution_count": 259,
      "outputs": [
        {
          "output_type": "stream",
          "name": "stdout",
          "text": [
            "\n",
            "real\t0m0.054s\n",
            "user\t0m0.037s\n",
            "sys\t0m0.009s\n"
          ]
        }
      ]
    },
    {
      "cell_type": "markdown",
      "metadata": {
        "id": "1Hsbd-uHOb_j"
      },
      "source": [
        "### Sort solution in C++ and Python\n",
        "\n",
        "$$ O(n \\lg n)$$\n",
        "\n",
        "**Which sorting algorithm is used in GCC?**\n",
        "https://stackoverflow.com/questions/7221257/which-sorting-algorithm-is-used-in-gcc\n",
        "\n",
        "* ...  the algorithm is called introsort, a combination between Insertionsort, Quicksort & Heapsort. ...\n",
        "\n",
        "**Introsort**\n",
        "https://en.wikipedia.org/wiki/Introsort\n",
        "\n",
        "Introsort or introspective sort is a hybrid sorting algorithm that provides both fast average performance and (asymptotically) optimal worst-case performance. It begins with quicksort, it switches to heapsort when the recursion depth exceeds a level based on (the logarithm of) the number of elements being sorted and it switches to insertion sort when the number of elements is below some threshold\n",
        "\n",
        "*   Class\tSorting algorithm\n",
        "*   Data structure\tArray\n",
        "*   Worst-case performance\t$O(n \\lg n)$\n",
        "*   Average performance\t$O(n \\lg n)$\n",
        "\n",
        "**Tinsort**\n",
        "https://en.wikipedia.org/wiki/Timsort\n",
        "\n",
        "Timsort is a hybrid, stable sorting algorithm, derived from merge sort and insertion sort, designed to perform well on many kinds of real-world data. It was implemented by Tim Peters in 2002 for use in the Python programming language.\n",
        "\n",
        "*   Class\tSorting algorithm\n",
        "*   Data structure\tArray\n",
        "*   Worst-case performance\t$O(n \\lg n)$\n",
        "*   Best-case performance $O(n)$\n",
        "*   Average performance\t$O(n \\lg n)$\n",
        "*   Worst-case space complexity $O(n)$"
      ]
    },
    {
      "cell_type": "markdown",
      "metadata": {
        "id": "WMUthAXjOb_k"
      },
      "source": [
        "Add in each line a coment with the number of intstrcution that are executed in that line"
      ]
    },
    {
      "cell_type": "code",
      "execution_count": 404,
      "metadata": {
        "id": "2-sXOmqFOb_k",
        "colab": {
          "base_uri": "https://localhost:8080/"
        },
        "outputId": "a33b9bd5-cebc-450c-efb2-0ff6509c3d39"
      },
      "outputs": [
        {
          "output_type": "stream",
          "name": "stdout",
          "text": [
            "Overwriting max_pairwise_product_long_sort.cpp\n"
          ]
        }
      ],
      "source": [
        "%%writefile max_pairwise_product_long_sort.cpp\n",
        "#include <iostream>\n",
        "#include <vector>\n",
        "#include <algorithm>\n",
        "\n",
        "\n",
        "int main() {                                              // 1 instrucción para iniciar la función\n",
        "    int n;                                                // 1 instrucción para declarar la variable 'n'\n",
        "    std::cin >> n;                                        // 1 instrucción para leer el valor de 'n' desde la entrada estándar\n",
        "    std::vector<int> valores(n);                          // 1 instrucción para crear un vector de enteros 'valores' y asignarle capacidad para 'n' elementos\n",
        "\n",
        "    for (int i = 0; i < n; ++i) {\n",
        "        std::cin >> valores[i];                           // n instrucciones para leer 'n' valores desde la entrada estándar y asignarlos a elementos del vector\n",
        "    }\n",
        "\n",
        "    std::sort(valores.begin(), valores.end());            // n * lg(n) instrucciones en promedio para ordenar el vector 'valores'\n",
        "    std::cout << valores[n-1] * valores[n-2] << \"\\n\";     // 4 instrucciones para imprimir el resultado\n",
        "\n",
        "    return 0;                                             // 1 instrucción para finalizar la función\n",
        "}\n",
        "\n"
      ]
    },
    {
      "cell_type": "markdown",
      "metadata": {
        "id": "v8pdV9ABOb_k"
      },
      "source": [
        "Test with inputs 1 and 2\n",
        "\n"
      ]
    },
    {
      "cell_type": "code",
      "execution_count": 405,
      "metadata": {
        "id": "kdXAyLG4Ob_k",
        "colab": {
          "base_uri": "https://localhost:8080/"
        },
        "outputId": "82ae30de-1147-478b-cb7a-84feb8098234"
      },
      "outputs": [
        {
          "output_type": "stream",
          "name": "stdout",
          "text": [
            "90\n",
            "90\n"
          ]
        }
      ],
      "source": [
        "!g++ max_pairwise_product_long_sort.cpp -o max_pairwise_product_long_sort\n",
        "!./max_pairwise_product_long_sort < input1.txt\n",
        "\n",
        "!g++ max_pairwise_product_long_sort.cpp -o max_pairwise_product_long_sort\n",
        "!./max_pairwise_product_long_sort < input2.txt"
      ]
    },
    {
      "cell_type": "markdown",
      "metadata": {
        "id": "Sw-5X1q1Ob_k"
      },
      "source": [
        "Test and time it with input 3"
      ]
    },
    {
      "cell_type": "code",
      "execution_count": 406,
      "metadata": {
        "id": "ryHJ30WIOb_k",
        "colab": {
          "base_uri": "https://localhost:8080/"
        },
        "outputId": "95bba345-3fe4-4333-9833-679212534a70"
      },
      "outputs": [
        {
          "output_type": "stream",
          "name": "stdout",
          "text": [
            "1345294336\n",
            "\n",
            "real\t0m0.003s\n",
            "user\t0m0.000s\n",
            "sys\t0m0.003s\n"
          ]
        }
      ],
      "source": [
        "!g++ max_pairwise_product_long_sort.cpp -o max_pairwise_product_long_sort\n",
        "!time ./max_pairwise_product_long_sort < input3.txt"
      ]
    },
    {
      "cell_type": "markdown",
      "metadata": {
        "id": "oJGdPl1HOb_k"
      },
      "source": [
        "20 stress tests"
      ]
    },
    {
      "cell_type": "code",
      "execution_count": 407,
      "metadata": {
        "colab": {
          "base_uri": "https://localhost:8080/"
        },
        "outputId": "237a29c8-189a-4644-9a3d-9ef8d41874ba",
        "id": "DM7xtHQoMwIW"
      },
      "outputs": [
        {
          "output_type": "stream",
          "name": "stdout",
          "text": [
            "Overwriting input14.txt\n"
          ]
        }
      ],
      "source": [
        "%%writefile input14.txt\n",
        "10\n",
        "2 4 6 8 10 12 14 16 18 20"
      ]
    },
    {
      "cell_type": "code",
      "source": [
        "%%writefile ctest14.txt\n",
        "360"
      ],
      "metadata": {
        "id": "YukGS6GXuJbj"
      },
      "execution_count": null,
      "outputs": []
    },
    {
      "cell_type": "code",
      "source": [
        "%%writefile input15.txt\n",
        "5\n",
        "1 2 3 4 5"
      ],
      "metadata": {
        "colab": {
          "base_uri": "https://localhost:8080/"
        },
        "outputId": "dcc55789-044b-4f4a-e7d4-08d753490dd1",
        "id": "BCkbEhNNMwIX"
      },
      "execution_count": 409,
      "outputs": [
        {
          "output_type": "stream",
          "name": "stdout",
          "text": [
            "Overwriting input15.txt\n"
          ]
        }
      ]
    },
    {
      "cell_type": "code",
      "source": [
        "%%writefile ctest15.txt\n",
        "20"
      ],
      "metadata": {
        "id": "b0dAtKIuuNzL"
      },
      "execution_count": null,
      "outputs": []
    },
    {
      "cell_type": "code",
      "source": [
        "%%writefile input16.txt\n",
        "20\n",
        "6 2 58 28 4 54 468 654 45  45 52 545 2 52 52625 42 54 641 416 6544"
      ],
      "metadata": {
        "colab": {
          "base_uri": "https://localhost:8080/"
        },
        "id": "tVMCDgtJWD9z",
        "outputId": "f11ab29a-2010-420e-a4c7-c2a0937d07a3"
      },
      "execution_count": 411,
      "outputs": [
        {
          "output_type": "stream",
          "name": "stdout",
          "text": [
            "Overwriting input16.txt\n"
          ]
        }
      ]
    },
    {
      "cell_type": "code",
      "source": [
        "52625*6544"
      ],
      "metadata": {
        "colab": {
          "base_uri": "https://localhost:8080/"
        },
        "id": "0oArz29yuWh6",
        "outputId": "548cf572-7a07-44b5-e4b3-d1b9fe272e68"
      },
      "execution_count": 430,
      "outputs": [
        {
          "output_type": "execute_result",
          "data": {
            "text/plain": [
              "344378000"
            ]
          },
          "metadata": {},
          "execution_count": 430
        }
      ]
    },
    {
      "cell_type": "code",
      "source": [
        "%%writefile ctest16.txt\n",
        "344378000"
      ],
      "metadata": {
        "id": "wUWypEXRuT-g"
      },
      "execution_count": null,
      "outputs": []
    },
    {
      "cell_type": "code",
      "source": [
        "%%writefile input17.txt\n",
        "10\n",
        "0 0 0 0 0 0 0 0 0  0"
      ],
      "metadata": {
        "colab": {
          "base_uri": "https://localhost:8080/"
        },
        "id": "Vv84g5v36xF7",
        "outputId": "de320d50-d173-4e22-91a1-71129b89e4cf"
      },
      "execution_count": 413,
      "outputs": [
        {
          "output_type": "stream",
          "name": "stdout",
          "text": [
            "Overwriting input17.txt\n"
          ]
        }
      ]
    },
    {
      "cell_type": "code",
      "source": [
        "%%writefile ctest17.txt\n",
        "0"
      ],
      "metadata": {
        "colab": {
          "base_uri": "https://localhost:8080/"
        },
        "id": "tr1KsNaeufwF",
        "outputId": "8fac8fcc-cd28-4263-d44a-db216be41208"
      },
      "execution_count": 433,
      "outputs": [
        {
          "output_type": "stream",
          "name": "stdout",
          "text": [
            "Overwriting ctest17.txt\n"
          ]
        }
      ]
    },
    {
      "cell_type": "code",
      "source": [
        "%%writefile input18.txt\n",
        "10\n",
        "0 0 2 0 4 0 0 0 0  0"
      ],
      "metadata": {
        "colab": {
          "base_uri": "https://localhost:8080/"
        },
        "outputId": "db933c8e-eb85-4ef7-9c3a-930abfecb68a",
        "id": "kxpCrnfl7Wgu"
      },
      "execution_count": 415,
      "outputs": [
        {
          "output_type": "stream",
          "name": "stdout",
          "text": [
            "Overwriting input18.txt\n"
          ]
        }
      ]
    },
    {
      "cell_type": "code",
      "source": [
        "%%writefile ctest18.txt\n",
        "8"
      ],
      "metadata": {
        "colab": {
          "base_uri": "https://localhost:8080/"
        },
        "id": "DASEfxenuqmH",
        "outputId": "e54c934d-af79-4bce-d062-fd460770916e"
      },
      "execution_count": 436,
      "outputs": [
        {
          "output_type": "stream",
          "name": "stdout",
          "text": [
            "Overwriting ctest18.txt\n"
          ]
        }
      ]
    },
    {
      "cell_type": "code",
      "source": [
        "%%writefile input19.txt\n",
        "10\n",
        "1 2 3 4 5 6 7 8 9 10"
      ],
      "metadata": {
        "colab": {
          "base_uri": "https://localhost:8080/"
        },
        "outputId": "40486a7a-7bf8-47b6-975c-b73cfcc69b20",
        "id": "spcKlR3R7v-z"
      },
      "execution_count": 417,
      "outputs": [
        {
          "output_type": "stream",
          "name": "stdout",
          "text": [
            "Overwriting input19.txt\n"
          ]
        }
      ]
    },
    {
      "cell_type": "code",
      "source": [
        "%%writefile ctest19.txt\n",
        "90"
      ],
      "metadata": {
        "colab": {
          "base_uri": "https://localhost:8080/"
        },
        "id": "VOhhPMnZuxJI",
        "outputId": "eb59e14f-8580-48ca-9f15-01fab602e230"
      },
      "execution_count": 438,
      "outputs": [
        {
          "output_type": "stream",
          "name": "stdout",
          "text": [
            "Overwriting ctest19.txt\n"
          ]
        }
      ]
    },
    {
      "cell_type": "code",
      "source": [
        "%%writefile input20.txt\n",
        "5\n",
        "5 4 0 1 1"
      ],
      "metadata": {
        "colab": {
          "base_uri": "https://localhost:8080/"
        },
        "outputId": "0db5ce07-d755-402c-b2dc-655bc2918a55",
        "id": "yWud2BBT7wvL"
      },
      "execution_count": 440,
      "outputs": [
        {
          "output_type": "stream",
          "name": "stdout",
          "text": [
            "Overwriting input20.txt\n"
          ]
        }
      ]
    },
    {
      "cell_type": "code",
      "source": [
        "%%writefile ctest20.txt\n",
        "20"
      ],
      "metadata": {
        "colab": {
          "base_uri": "https://localhost:8080/"
        },
        "id": "GMJR2QfYu9OK",
        "outputId": "da3a3201-a323-4d39-9690-3423e748ac38"
      },
      "execution_count": 441,
      "outputs": [
        {
          "output_type": "stream",
          "name": "stdout",
          "text": [
            "Overwriting ctest20.txt\n"
          ]
        }
      ]
    },
    {
      "cell_type": "code",
      "source": [
        "%%writefile input21.txt\n",
        "4\n",
        "3 33 333 3333"
      ],
      "metadata": {
        "colab": {
          "base_uri": "https://localhost:8080/"
        },
        "outputId": "10f3e290-a4e0-4fb9-d6a1-cebec964ea1c",
        "id": "vd_X3oqu7xnS"
      },
      "execution_count": 421,
      "outputs": [
        {
          "output_type": "stream",
          "name": "stdout",
          "text": [
            "Overwriting input21.txt\n"
          ]
        }
      ]
    },
    {
      "cell_type": "code",
      "source": [
        "%%writefile ctest21.txt\n",
        "1109889"
      ],
      "metadata": {
        "colab": {
          "base_uri": "https://localhost:8080/"
        },
        "id": "cwmqHYNNvD3N",
        "outputId": "08dc2ec7-2db1-401d-9ca8-71005b6f67a0"
      },
      "execution_count": 442,
      "outputs": [
        {
          "output_type": "stream",
          "name": "stdout",
          "text": [
            "Overwriting ctest21.txt\n"
          ]
        }
      ]
    },
    {
      "cell_type": "code",
      "source": [
        "%%writefile input22.txt\n",
        "3\n",
        "3 33 333"
      ],
      "metadata": {
        "colab": {
          "base_uri": "https://localhost:8080/"
        },
        "outputId": "eb1b406d-0aef-44ce-e2f1-1a3af6267ae8",
        "id": "_SNZ33UDNm-9"
      },
      "execution_count": 423,
      "outputs": [
        {
          "output_type": "stream",
          "name": "stdout",
          "text": [
            "Overwriting input22.txt\n"
          ]
        }
      ]
    },
    {
      "cell_type": "code",
      "source": [
        "%%writefile ctest22.txt\n",
        "10989"
      ],
      "metadata": {
        "colab": {
          "base_uri": "https://localhost:8080/"
        },
        "id": "M3sDjQC2vLW3",
        "outputId": "68ae97bd-3df7-4be7-df4b-7a7e8d958576"
      },
      "execution_count": 444,
      "outputs": [
        {
          "output_type": "stream",
          "name": "stdout",
          "text": [
            "Overwriting ctest22.txt\n"
          ]
        }
      ]
    },
    {
      "cell_type": "code",
      "source": [
        "%%writefile input23.txt\n",
        "20\n",
        "0 1 2 3 4 5 6 7 8 9 10 11 12 13 14 15 16 17 18 19"
      ],
      "metadata": {
        "colab": {
          "base_uri": "https://localhost:8080/"
        },
        "outputId": "037db208-6eec-4c32-e6f6-cac5389f5968",
        "id": "_4XKPjVDNnsN"
      },
      "execution_count": 449,
      "outputs": [
        {
          "output_type": "stream",
          "name": "stdout",
          "text": [
            "Overwriting input23.txt\n"
          ]
        }
      ]
    },
    {
      "cell_type": "code",
      "source": [
        "18*19"
      ],
      "metadata": {
        "colab": {
          "base_uri": "https://localhost:8080/"
        },
        "id": "VtOjcpskvR6T",
        "outputId": "f84c35ce-3e81-4fb8-e328-a0a058ec2cab"
      },
      "execution_count": 445,
      "outputs": [
        {
          "output_type": "execute_result",
          "data": {
            "text/plain": [
              "342"
            ]
          },
          "metadata": {},
          "execution_count": 445
        }
      ]
    },
    {
      "cell_type": "code",
      "source": [
        "%%writefile ctest23.txt\n",
        "342"
      ],
      "metadata": {
        "colab": {
          "base_uri": "https://localhost:8080/"
        },
        "id": "hKl3-7SwwDDA",
        "outputId": "f40c47bc-1c9f-49c1-8796-cb30613921a3"
      },
      "execution_count": 454,
      "outputs": [
        {
          "output_type": "stream",
          "name": "stdout",
          "text": [
            "Overwriting ctest23.txt\n"
          ]
        }
      ]
    },
    {
      "cell_type": "markdown",
      "source": [
        "------si quisiera mas test, con el siguiente código se podria generar----"
      ],
      "metadata": {
        "id": "MO0WaMFJwSQ_"
      }
    },
    {
      "cell_type": "code",
      "source": [
        "import random\n",
        "\n",
        "# Genera 20 archivos desde input14 hasta input34\n",
        "for i in range(24, 35):\n",
        "    # Genera un número aleatorio de elementos en el rango de 2 a 10\n",
        "    num_elements = random.randint(2, 10)\n",
        "\n",
        "    # Genera una lista de números aleatorios en el rango de 0 a 10000\n",
        "    numbers = [random.randint(0, 10000) for _ in range(num_elements)]\n",
        "\n",
        "    # Nombre del archivo de entrada\n",
        "    input_filename = f'input{i}.txt'\n",
        "\n",
        "    # Escribe la lista de números en el archivo de entrada\n",
        "    with open(input_filename, 'w') as input_file:\n",
        "        input_file.write(f'{num_elements}\\n')\n",
        "        input_file.write(' '.join(map(str, numbers)))\n",
        "\n",
        "    # Calcula los dos valores más grandes en la lista\n",
        "    numbers.sort(reverse=True)\n",
        "    largest = numbers[0]\n",
        "    second_largest = numbers[1]\n",
        "\n",
        "    # Calcula el producto de los dos valores más grandes\n",
        "    product = largest * second_largest\n",
        "\n",
        "    # Nombre del archivo de salida\n",
        "    ctest_filename = f'ctest{i}.txt'\n",
        "\n",
        "    # Escribe el producto en el archivo de salida\n",
        "    with open(ctest_filename, 'w') as ctest_file:\n",
        "        ctest_file.write(str(product))\n",
        "\n",
        "    print(f'Se ha creado el archivo {input_filename}')\n",
        "    print(f'Se ha creado el archivo {ctest_filename}')\n",
        "\n"
      ],
      "metadata": {
        "colab": {
          "base_uri": "https://localhost:8080/"
        },
        "id": "aZMn0tiGmfFo",
        "outputId": "8f6604d7-d160-4a11-d21c-3f1d70d1816d"
      },
      "execution_count": 575,
      "outputs": [
        {
          "output_type": "stream",
          "name": "stdout",
          "text": [
            "Se ha creado el archivo input24.txt\n",
            "Se ha creado el archivo ctest24.txt\n",
            "Se ha creado el archivo input25.txt\n",
            "Se ha creado el archivo ctest25.txt\n",
            "Se ha creado el archivo input26.txt\n",
            "Se ha creado el archivo ctest26.txt\n",
            "Se ha creado el archivo input27.txt\n",
            "Se ha creado el archivo ctest27.txt\n",
            "Se ha creado el archivo input28.txt\n",
            "Se ha creado el archivo ctest28.txt\n",
            "Se ha creado el archivo input29.txt\n",
            "Se ha creado el archivo ctest29.txt\n",
            "Se ha creado el archivo input30.txt\n",
            "Se ha creado el archivo ctest30.txt\n",
            "Se ha creado el archivo input31.txt\n",
            "Se ha creado el archivo ctest31.txt\n",
            "Se ha creado el archivo input32.txt\n",
            "Se ha creado el archivo ctest32.txt\n",
            "Se ha creado el archivo input33.txt\n",
            "Se ha creado el archivo ctest33.txt\n",
            "Se ha creado el archivo input34.txt\n",
            "Se ha creado el archivo ctest34.txt\n"
          ]
        }
      ]
    },
    {
      "cell_type": "code",
      "source": [
        "8536*3576"
      ],
      "metadata": {
        "colab": {
          "base_uri": "https://localhost:8080/"
        },
        "id": "Mmr9XMN732W1",
        "outputId": "de37cc1b-c633-4735-eb41-4ddb88b3e315"
      },
      "execution_count": 547,
      "outputs": [
        {
          "output_type": "execute_result",
          "data": {
            "text/plain": [
              "30524736"
            ]
          },
          "metadata": {},
          "execution_count": 547
        }
      ]
    },
    {
      "cell_type": "markdown",
      "source": [
        "---------------- ya creados los test se procede a realizar el stress testing ------------------------"
      ],
      "metadata": {
        "id": "WJXTJIriqviY"
      }
    },
    {
      "cell_type": "code",
      "source": [
        " %%writefile torture_find_diference.sh\n",
        "#!/bin/bash\n",
        "\n",
        "g++ max_pairwise_product_long_sort.cpp -o max_pairwise_product_long_sort\n",
        "for i in {14..34}\n",
        "do\n",
        "    echo \"-----------------------------------\"\n",
        "    echo \"Running find_cpp with input$i.txt\"\n",
        "    ./max_pairwise_product_long_sort < input$i.txt>output$i.txt\n",
        "    ./max_pairwise_product_long_sort < input$i.txt\n",
        "    differences=$(grep -xvFf output$i.txt ctest$i.txt)\n",
        "    if [ -n \"$differences\" ]; then\n",
        "        echo \"Differences found in output$i.txt and ctest$i.txt:\"\n",
        "        echo \"$differences\"\n",
        "    else\n",
        "        echo \"input$i.txt: OK\"\n",
        "    fi\n",
        "done\n"
      ],
      "metadata": {
        "colab": {
          "base_uri": "https://localhost:8080/"
        },
        "id": "9wT1j2jKp4TC",
        "outputId": "87ad7f84-79d0-4ff7-e7f4-12eb9994a863"
      },
      "execution_count": 633,
      "outputs": [
        {
          "output_type": "stream",
          "name": "stdout",
          "text": [
            "Overwriting torture_find_diference.sh\n"
          ]
        }
      ]
    },
    {
      "cell_type": "code",
      "source": [
        "!chmod u+x torture_find_diference.sh\n",
        "!./torture_find_diference.sh"
      ],
      "metadata": {
        "colab": {
          "base_uri": "https://localhost:8080/"
        },
        "id": "DajBqmeJqFlU",
        "outputId": "26489179-c128-4861-b9c1-7ee15c47f3ec"
      },
      "execution_count": 600,
      "outputs": [
        {
          "output_type": "stream",
          "name": "stdout",
          "text": [
            "-----------------------------------\n",
            "Running find_cpp with input14.txt\n",
            "360\n",
            "input14.txt: OK\n",
            "-----------------------------------\n",
            "Running find_cpp with input15.txt\n",
            "20\n",
            "input15.txt: OK\n",
            "-----------------------------------\n",
            "Running find_cpp with input16.txt\n",
            "344378000\n",
            "input16.txt: OK\n",
            "-----------------------------------\n",
            "Running find_cpp with input17.txt\n",
            "0\n",
            "input17.txt: OK\n",
            "-----------------------------------\n",
            "Running find_cpp with input18.txt\n",
            "8\n",
            "input18.txt: OK\n",
            "-----------------------------------\n",
            "Running find_cpp with input19.txt\n",
            "90\n",
            "input19.txt: OK\n",
            "-----------------------------------\n",
            "Running find_cpp with input20.txt\n",
            "20\n",
            "input20.txt: OK\n",
            "-----------------------------------\n",
            "Running find_cpp with input21.txt\n",
            "1109889\n",
            "input21.txt: OK\n",
            "-----------------------------------\n",
            "Running find_cpp with input22.txt\n",
            "10989\n",
            "input22.txt: OK\n",
            "-----------------------------------\n",
            "Running find_cpp with input23.txt\n",
            "342\n",
            "input23.txt: OK\n",
            "-----------------------------------\n",
            "Running find_cpp with input24.txt\n",
            "72825312\n",
            "input24.txt: OK\n",
            "-----------------------------------\n",
            "Running find_cpp with input25.txt\n",
            "82210248\n",
            "input25.txt: OK\n",
            "-----------------------------------\n",
            "Running find_cpp with input26.txt\n",
            "72364773\n",
            "input26.txt: OK\n",
            "-----------------------------------\n",
            "Running find_cpp with input27.txt\n",
            "71564754\n",
            "input27.txt: OK\n",
            "-----------------------------------\n",
            "Running find_cpp with input28.txt\n",
            "85787586\n",
            "input28.txt: OK\n",
            "-----------------------------------\n",
            "Running find_cpp with input29.txt\n",
            "37752960\n",
            "input29.txt: OK\n",
            "-----------------------------------\n",
            "Running find_cpp with input30.txt\n",
            "52530252\n",
            "input30.txt: OK\n",
            "-----------------------------------\n",
            "Running find_cpp with input31.txt\n",
            "70851420\n",
            "input31.txt: OK\n",
            "-----------------------------------\n",
            "Running find_cpp with input32.txt\n",
            "42719898\n",
            "input32.txt: OK\n",
            "-----------------------------------\n",
            "Running find_cpp with input33.txt\n",
            "93265340\n",
            "input33.txt: OK\n",
            "-----------------------------------\n",
            "Running find_cpp with input34.txt\n",
            "51876696\n",
            "input34.txt: OK\n"
          ]
        }
      ]
    },
    {
      "cell_type": "markdown",
      "metadata": {
        "id": "2beTmWFPOb_k"
      },
      "source": [
        "Count executed instructions in code and verify with inputs 1,2 and 3\n"
      ]
    },
    {
      "cell_type": "code",
      "execution_count": 592,
      "metadata": {
        "id": "iuByv4x1Ob_k",
        "colab": {
          "base_uri": "https://localhost:8080/"
        },
        "outputId": "6014a252-8345-45e5-8a8a-f397ac3cef02"
      },
      "outputs": [
        {
          "output_type": "stream",
          "name": "stdout",
          "text": [
            "Overwriting max_pairwise_product_long_sort_instructions.cpp\n"
          ]
        }
      ],
      "source": [
        "%%writefile max_pairwise_product_long_sort_instructions.cpp\n",
        "#include <iostream>\n",
        "#include <vector>\n",
        "#include <fstream>\n",
        "#include <cmath>\n",
        "#include <algorithm>\n",
        "\n",
        "\n",
        "int main() {\n",
        "    int instrucciones = 0;\n",
        "    int n;\n",
        "    instrucciones++;\n",
        "\n",
        "    std::cin >> n;\n",
        "    instrucciones++;\n",
        "\n",
        "    std::vector<int> valores(n);\n",
        "    instrucciones++;\n",
        "\n",
        "    for (int i = 0; i < n; ++i) {\n",
        "        std::cin >> valores[i];\n",
        "        instrucciones++;\n",
        "    }\n",
        "\n",
        "    std::sort(valores.begin(), valores.end());\n",
        "    instrucciones = instrucciones + (n * log(n));\n",
        "\n",
        "    std::cout << valores[n-1] * valores[n-2] << \"\\n\";\n",
        "    std::cout << instrucciones << \"\\n\";\n",
        "    return 0;\n",
        "}"
      ]
    },
    {
      "cell_type": "code",
      "source": [
        "%%writefile max_pairwise_product_long_sort_instructions.sh\n",
        "#!/bin/bash\n",
        "\n",
        "g++ max_pairwise_product_long_sort_instructions.cpp -o max_pairwise_product_long_sort_instructions\n",
        "for i in {1..3}\n",
        "do\n",
        "    echo \"-----------------------------------\"\n",
        "    echo \"Count executed instructions with input$i.txt\"\n",
        "\n",
        "    ./max_pairwise_product_long_sort_instructions < input$i.txt\n",
        "\n",
        "done"
      ],
      "metadata": {
        "colab": {
          "base_uri": "https://localhost:8080/"
        },
        "id": "PPAg02Sx75Ij",
        "outputId": "1f017f32-9712-4bcf-82d2-3f28fed11006"
      },
      "execution_count": 587,
      "outputs": [
        {
          "output_type": "stream",
          "name": "stdout",
          "text": [
            "Overwriting max_pairwise_product_long_sort_instructions.sh\n"
          ]
        }
      ]
    },
    {
      "cell_type": "code",
      "source": [
        "!chmod u+x max_pairwise_product_long_sort_instructions.sh\n",
        "!./max_pairwise_product_long_sort_instructions.sh"
      ],
      "metadata": {
        "colab": {
          "base_uri": "https://localhost:8080/"
        },
        "id": "Lq_R2Qww8b5S",
        "outputId": "01c71224-c7a4-4983-f3bd-f6aa367178d0"
      },
      "execution_count": 593,
      "outputs": [
        {
          "output_type": "stream",
          "name": "stdout",
          "text": [
            "-----------------------------------\n",
            "Count executed instructions with input1.txt\n",
            "90\n",
            "36\n",
            "-----------------------------------\n",
            "Count executed instructions with input2.txt\n",
            "90\n",
            "36\n",
            "-----------------------------------\n",
            "Count executed instructions with input3.txt\n",
            "1345294336\n",
            "19\n"
          ]
        }
      ]
    },
    {
      "cell_type": "markdown",
      "metadata": {
        "id": "x2CXhkwTOb_l"
      },
      "source": [
        "Calculate estimated time by instruction and number of instructions by second"
      ]
    },
    {
      "cell_type": "code",
      "execution_count": 594,
      "metadata": {
        "id": "nTjxyTMtOb_l",
        "colab": {
          "base_uri": "https://localhost:8080/"
        },
        "outputId": "8c951c36-9625-420f-9bf7-05545ee109f0"
      },
      "outputs": [
        {
          "output_type": "stream",
          "name": "stdout",
          "text": [
            "90\n",
            "36\n",
            "CPU times: user 18 ms, sys: 794 µs, total: 18.8 ms\n",
            "Wall time: 1.11 s\n"
          ]
        }
      ],
      "source": [
        "%%time\n",
        "!g++ max_pairwise_product_long_sort_instructions.cpp -o max_pairwise_product_long_sort_instructions\n",
        "!./max_pairwise_product_long_sort_instructions < input1.txt"
      ]
    },
    {
      "cell_type": "code",
      "source": [
        "0.0167 /36"
      ],
      "metadata": {
        "colab": {
          "base_uri": "https://localhost:8080/"
        },
        "id": "tNCymTZeUSNT",
        "outputId": "dc072f49-3b0a-432b-9c4c-cbe1a15bdfe8"
      },
      "execution_count": null,
      "outputs": [
        {
          "output_type": "execute_result",
          "data": {
            "text/plain": [
              "0.0004638888888888889"
            ]
          },
          "metadata": {},
          "execution_count": 231
        }
      ]
    },
    {
      "cell_type": "markdown",
      "metadata": {
        "id": "VMKC5duEOQfk"
      },
      "source": [
        "### Efficient solution largest and second-largest in an list, array or vector in C++ and Python\n",
        " $$2.5 n = O(n)$$\n",
        "\n",
        "\n",
        "\n"
      ]
    },
    {
      "cell_type": "markdown",
      "metadata": {
        "id": "nLcKBwbU0QsE"
      },
      "source": [
        "Add in each line a coment with the number of intstrcution that are executed in that line"
      ]
    },
    {
      "cell_type": "code",
      "source": [
        "%%writefile max_pairwise_sort_efficient.cpp\n",
        "#include <iostream>\n",
        "#include <vector>\n",
        "#include <fstream>\n",
        "#include <cmath>\n",
        "#include <algorithm>\n",
        "\n",
        "using namespace std;\n",
        "\n",
        "int main() {\n",
        "    cout << \"--- C++ ---\" << \"\\n\";\n",
        "    int n;\n",
        "    cin >> n;                                 // 1 instrucción: Leer un entero desde la entrada estándar.\n",
        "    int maxValor = INT_MIN;                   // 1 instrucción: Inicializar maxValor.\n",
        "    int segMaxValor = INT_MIN;                // 1 instrucción: Inicializar segMaxValor.\n",
        "\n",
        "    vector<int> numbers(n);                   // n instrucciones: Crear un vector e inicializarlo.\n",
        "\n",
        "    for (int i = 0; i < n; ++i) {             // n instrucciones: Leer y almacenar valores en el vector.\n",
        "        cin >> numbers[i];\n",
        "    }\n",
        "\n",
        "    for (int i = 0; i < n; ++i) {             // n instrucciones: Realizar un bucle for.\n",
        "        int aux = numbers[i];                 // 1 instrucción: Asignar un valor a la variable aux.\n",
        "\n",
        "        if (aux > maxValor) {                 // 1 instrucción: Comparar aux con maxValor.\n",
        "            segMaxValor = maxValor;           // 1 instrucción: Asignar maxValor a segMaxValor.\n",
        "            maxValor = aux;                   // 1 instrucción: Asignar aux a maxValor.\n",
        "        } else if (aux > segMaxValor) {       // 1 instrucción: Comparar aux con segMaxValor.\n",
        "            segMaxValor = aux;                // 1 instrucción: Asignar aux a segMaxValor.\n",
        "        }\n",
        "    }\n",
        "\n",
        "    cout << \"Product: \" << maxNumber * secondMaxNumber << \"\\n\"; // 2 instrucciones: Realizar la multiplicación y la salida.\n",
        "    return 0;                                  // 1 instrucción: Devolver un valor.\n",
        "}"
      ],
      "metadata": {
        "colab": {
          "base_uri": "https://localhost:8080/"
        },
        "id": "z_wQ0DEGYRSg",
        "outputId": "074bbf06-95b3-4698-cab9-c4cc86ea92aa"
      },
      "execution_count": 595,
      "outputs": [
        {
          "output_type": "stream",
          "name": "stdout",
          "text": [
            "Overwriting max_pairwise_sort_efficient.cpp\n"
          ]
        }
      ]
    },
    {
      "cell_type": "code",
      "execution_count": 596,
      "metadata": {
        "id": "knls5Fh3NSt_",
        "colab": {
          "base_uri": "https://localhost:8080/"
        },
        "outputId": "a4157782-d7e5-4a32-f64c-1f4a1d949c57"
      },
      "outputs": [
        {
          "output_type": "stream",
          "name": "stdout",
          "text": [
            "Overwriting max_pairwise_sort_efficient.py\n"
          ]
        }
      ],
      "source": [
        "%%writefile max_pairwise_sort_efficient.py\n",
        "\n",
        "def max_pairwise_sort_efficient(valores):\n",
        "    n = len(valores)                          # 1 instrucción: Obtener la longitud de la lista \"valores\".\n",
        "    valores.sort()                            # n * log(n) instrucciones: Ordenar la lista \"valores\".\n",
        "\n",
        "    return valores[n - 1] * valores[n - 2]    # 2 instrucciones: Realizar la multiplicación y la resta.\n",
        "\n",
        "n = int(input())                              # 1 instrucción: Leer un entero desde la entrada estándar.\n",
        "\n",
        "valores = [int(i) for i in input().split()]  # n instrucciones: Leer y convertir valores desde la entrada estándar.\n",
        "print(max_pairwise_sort_efficient(valores))  # 1 instrucción: Llamar a la función e imprimir el resultado."
      ]
    },
    {
      "cell_type": "markdown",
      "metadata": {
        "id": "-JCijbWxNSii"
      },
      "source": [
        "Test with inputs 1 and 2\n",
        "\n"
      ]
    },
    {
      "cell_type": "code",
      "execution_count": 615,
      "metadata": {
        "id": "TrTGAfqlNVXT",
        "colab": {
          "base_uri": "https://localhost:8080/"
        },
        "outputId": "6ac6e281-bb92-4048-e08b-2dab06a09f8d"
      },
      "outputs": [
        {
          "output_type": "stream",
          "name": "stdout",
          "text": [
            "90\n",
            "90\n"
          ]
        }
      ],
      "source": [
        "!python3 max_pairwise_sort_efficient.py < input1.txt\n",
        "!python3 max_pairwise_sort_efficient.py < input2.txt"
      ]
    },
    {
      "cell_type": "markdown",
      "metadata": {
        "id": "PRX51wADNR8b"
      },
      "source": [
        "Test and time it with input 3"
      ]
    },
    {
      "cell_type": "code",
      "execution_count": 616,
      "metadata": {
        "id": "v4z7-Is_NRt7",
        "colab": {
          "base_uri": "https://localhost:8080/"
        },
        "outputId": "410fcfde-1a09-4a74-b404-fcf672413a84"
      },
      "outputs": [
        {
          "output_type": "stream",
          "name": "stdout",
          "text": [
            "40000000000\n",
            "\n",
            "real\t0m0.077s\n",
            "user\t0m0.050s\n",
            "sys\t0m0.011s\n"
          ]
        }
      ],
      "source": [
        "!time python3 max_pairwise_sort_efficient.py < input3.txt"
      ]
    },
    {
      "cell_type": "markdown",
      "metadata": {
        "id": "rpdfs0_TNZJf"
      },
      "source": [
        "20 stress tests"
      ]
    },
    {
      "cell_type": "code",
      "source": [
        " %%writefile torture_find_diference_python.sh\n",
        "#!/bin/bash\n",
        "\n",
        "for i in {14..34}\n",
        "do\n",
        "    echo \"-----------------------------------\"\n",
        "    echo \"Running find_cpp with input$i.txt\"\n",
        "    python max_pairwise_sort_efficient.py < input$i.txt>output$i.txt\n",
        "    python max_pairwise_sort_efficient.py < input$i.txt\n",
        "    differences=$(grep -xvFf output$i.txt ctest$i.txt)\n",
        "    if [ -n \"$differences\" ]; then\n",
        "        echo \"Differences found in output$i.txt and ctest$i.txt:\"\n",
        "        echo \"$differences\"\n",
        "    else\n",
        "        echo \"input$i.txt: OK\"\n",
        "    fi\n",
        "done"
      ],
      "metadata": {
        "colab": {
          "base_uri": "https://localhost:8080/"
        },
        "id": "gP5nsOd8-FZY",
        "outputId": "9988e5c2-51d9-4e4b-bff5-c2ff0805bfae"
      },
      "execution_count": 602,
      "outputs": [
        {
          "output_type": "stream",
          "name": "stdout",
          "text": [
            "Overwriting torture_find_diference_python.sh\n"
          ]
        }
      ]
    },
    {
      "cell_type": "code",
      "source": [
        "!chmod u+x torture_find_diference_python.sh\n",
        "!./torture_find_diference_python.sh"
      ],
      "metadata": {
        "colab": {
          "base_uri": "https://localhost:8080/"
        },
        "id": "4RlfcK_n-mEL",
        "outputId": "c8063cbd-54fb-46fd-e578-e713316cc64d"
      },
      "execution_count": 603,
      "outputs": [
        {
          "output_type": "stream",
          "name": "stdout",
          "text": [
            "-----------------------------------\n",
            "Running find_cpp with input14.txt\n",
            "360\n",
            "input14.txt: OK\n",
            "-----------------------------------\n",
            "Running find_cpp with input15.txt\n",
            "20\n",
            "input15.txt: OK\n",
            "-----------------------------------\n",
            "Running find_cpp with input16.txt\n",
            "344378000\n",
            "input16.txt: OK\n",
            "-----------------------------------\n",
            "Running find_cpp with input17.txt\n",
            "0\n",
            "input17.txt: OK\n",
            "-----------------------------------\n",
            "Running find_cpp with input18.txt\n",
            "8\n",
            "input18.txt: OK\n",
            "-----------------------------------\n",
            "Running find_cpp with input19.txt\n",
            "90\n",
            "input19.txt: OK\n",
            "-----------------------------------\n",
            "Running find_cpp with input20.txt\n",
            "20\n",
            "input20.txt: OK\n",
            "-----------------------------------\n",
            "Running find_cpp with input21.txt\n",
            "1109889\n",
            "input21.txt: OK\n",
            "-----------------------------------\n",
            "Running find_cpp with input22.txt\n",
            "10989\n",
            "input22.txt: OK\n",
            "-----------------------------------\n",
            "Running find_cpp with input23.txt\n",
            "342\n",
            "input23.txt: OK\n",
            "-----------------------------------\n",
            "Running find_cpp with input24.txt\n",
            "72825312\n",
            "input24.txt: OK\n",
            "-----------------------------------\n",
            "Running find_cpp with input25.txt\n",
            "82210248\n",
            "input25.txt: OK\n",
            "-----------------------------------\n",
            "Running find_cpp with input26.txt\n",
            "72364773\n",
            "input26.txt: OK\n",
            "-----------------------------------\n",
            "Running find_cpp with input27.txt\n",
            "71564754\n",
            "input27.txt: OK\n",
            "-----------------------------------\n",
            "Running find_cpp with input28.txt\n",
            "85787586\n",
            "input28.txt: OK\n",
            "-----------------------------------\n",
            "Running find_cpp with input29.txt\n",
            "37752960\n",
            "input29.txt: OK\n",
            "-----------------------------------\n",
            "Running find_cpp with input30.txt\n",
            "52530252\n",
            "input30.txt: OK\n",
            "-----------------------------------\n",
            "Running find_cpp with input31.txt\n",
            "70851420\n",
            "input31.txt: OK\n",
            "-----------------------------------\n",
            "Running find_cpp with input32.txt\n",
            "42719898\n",
            "input32.txt: OK\n",
            "-----------------------------------\n",
            "Running find_cpp with input33.txt\n",
            "93265340\n",
            "input33.txt: OK\n",
            "-----------------------------------\n",
            "Running find_cpp with input34.txt\n",
            "51876696\n",
            "input34.txt: OK\n"
          ]
        }
      ]
    },
    {
      "cell_type": "markdown",
      "metadata": {
        "id": "L8U4151JNbxk"
      },
      "source": [
        "Count executed instructions in code and verify with inputs 1,2 and 3\n"
      ]
    },
    {
      "cell_type": "code",
      "execution_count": 614,
      "metadata": {
        "id": "dh85RM8vNhFz",
        "colab": {
          "base_uri": "https://localhost:8080/"
        },
        "outputId": "430fe939-6b3e-4695-b2e8-d32b0adcfc01"
      },
      "outputs": [
        {
          "output_type": "stream",
          "name": "stdout",
          "text": [
            "Overwriting max_pairwise_sort_efficient_instructions.py\n"
          ]
        }
      ],
      "source": [
        "%%writefile max_pairwise_sort_efficient_instructions.py\n",
        "import math\n",
        "\n",
        "def max_pairwise_sort_efficient_instructions(valores):\n",
        "  global instrucciones\n",
        "  instrucciones += 1\n",
        "  n = len(valores)\n",
        "\n",
        "  valores.sort() # nlgn -- n\n",
        "  instrucciones += n * math.log(n)\n",
        "  instrucciones += 1\n",
        "  return valores[n-1] * valores[n-2]\n",
        "\n",
        "instrucciones = 0\n",
        "n = int(input())\n",
        "instrucciones += 1\n",
        "valores = [int(i) for i in input().split()]\n",
        "instrucciones += 1\n",
        "\n",
        "print(\"valor: \", max_pairwise_sort_efficient_instructions(valores))\n",
        "print(\"instrucciones: \", instrucciones)"
      ]
    },
    {
      "cell_type": "code",
      "source": [
        "!echo \"---input 1------\"\n",
        "! python3 max_pairwise_sort_efficient_instructions.py < input1.txt\n",
        "!echo \"---input 2------\"\n",
        "! python3 max_pairwise_sort_efficient_instructions.py < input2.txt\n",
        "!echo \"---input 3------\"\n",
        "! python3 max_pairwise_sort_efficient_instructions.py < input3.txt"
      ],
      "metadata": {
        "colab": {
          "base_uri": "https://localhost:8080/"
        },
        "id": "8A6d-ZnOcwr8",
        "outputId": "cf7b319f-9cab-407c-c014-fce291de48f5"
      },
      "execution_count": 619,
      "outputs": [
        {
          "output_type": "stream",
          "name": "stdout",
          "text": [
            "---input 1------\n",
            "valor:  90\n",
            "instrucciones:  27.02585092994046\n",
            "---input 2------\n",
            "valor:  90\n",
            "instrucciones:  27.02585092994046\n",
            "---input 3------\n",
            "valor:  40000000000\n",
            "instrucciones:  14.75055681536833\n"
          ]
        }
      ]
    },
    {
      "cell_type": "markdown",
      "metadata": {
        "id": "K6ybgCmpNygr"
      },
      "source": [
        "Calculate estimated time by instruction and number of instructions by second"
      ]
    },
    {
      "cell_type": "code",
      "execution_count": 620,
      "metadata": {
        "id": "kwe3G1O3Nz1w",
        "colab": {
          "base_uri": "https://localhost:8080/"
        },
        "outputId": "d8d684a0-6a30-4ad5-b906-1eebb80e204d"
      },
      "outputs": [
        {
          "output_type": "stream",
          "name": "stdout",
          "text": [
            "valor:  90\n",
            "instrucciones:  27.02585092994046\n",
            "\n",
            "real\t0m0.046s\n",
            "user\t0m0.035s\n",
            "sys\t0m0.007s\n"
          ]
        }
      ],
      "source": [
        "1!time python3 max_pairwise_sort_efficient_instructions.py < input1.txt"
      ]
    },
    {
      "cell_type": "code",
      "source": [
        "0.045/27"
      ],
      "metadata": {
        "colab": {
          "base_uri": "https://localhost:8080/"
        },
        "id": "0nh6qlBidqjh",
        "outputId": "e9aa1354-f0b8-407e-9fd8-5c21981f5b34"
      },
      "execution_count": 573,
      "outputs": [
        {
          "output_type": "execute_result",
          "data": {
            "text/plain": [
              "0.0016666666666666666"
            ]
          },
          "metadata": {},
          "execution_count": 573
        }
      ]
    },
    {
      "cell_type": "markdown",
      "metadata": {
        "id": "sUpIWcykOGpT"
      },
      "source": [
        "### Super efficient solution\n",
        "\n",
        "Whitout storing the list in memory, only stpring the largest and second largest and whitout calling a function, add in each line a coment with the number of instructions that are executed in that line\n",
        "\n",
        "in C++ and Python\n",
        " $$2 n = O(n)$$"
      ]
    },
    {
      "cell_type": "code",
      "execution_count": 621,
      "metadata": {
        "id": "hBLt_xBQLy8E",
        "colab": {
          "base_uri": "https://localhost:8080/"
        },
        "outputId": "ad82f0c1-da6e-4732-dca2-811fd49d0f3e"
      },
      "outputs": [
        {
          "output_type": "stream",
          "name": "stdout",
          "text": [
            "Overwriting max_pairwise_sort_super_efficient.cpp\n"
          ]
        }
      ],
      "source": [
        "%%writefile max_pairwise_sort_super_efficient.cpp\n",
        "#include <iostream>\n",
        "#include <vector>\n",
        "#include <fstream>\n",
        "#include <cmath>\n",
        "#include <algorithm>\n",
        "#include <climits>\n",
        "\n",
        "using namespace std;\n",
        "\n",
        "int main() {\n",
        "\n",
        "    int n;                                                      // 1 instrucción: Declarar una variable.\n",
        "    cin >> n;                                                   // 1 instrucción: Leer un entero desde la entrada estándar.\n",
        "    int maxValor = INT_MIN;                                     // 1 instrucción: Inicializar maxValor.\n",
        "    int segMaxValor = INT_MIN;                                  // 1 instrucción: Inicializar segMaxValor.\n",
        "\n",
        "    for (int i = 0; i < n; ++i) {                               // 1 + 2n instrucciones: Realizar un bucle for.\n",
        "        int aux = 0;                                            // n instrucciones: Declarar y asignar un valor a la variable aux.\n",
        "        cin >> aux;                                             // n instrucciones: Leer un entero desde la entrada estándar.\n",
        "\n",
        "        if (aux > maxValor) {                                   // n instrucciones: Comparar aux con maxValor.\n",
        "            segMaxValor = maxValor;                             // n instrucciones(peor caso): Asignar maxValor a segMaxValor.\n",
        "            maxValor = aux;                                     // n instrucciones(peor caso): Asignar aux a maxValor.\n",
        "        } else if (aux > segMaxValor) {                         // n instrucciones: Comparar aux con segMaxValor.\n",
        "            segMaxValor = aux;                                  // n instrucciones (peor caso): Asignar aux a segMaxValor.\n",
        "        }\n",
        "    }\n",
        "\n",
        "    cout << \"Product: \" << maxValor * segMaxValor << \"\\n\"; // 1 instrucción: Realizar la multiplicación y la salida.\n",
        "    return 0;                                                   // 1 instrucción: Devolver un valor.\n",
        "}"
      ]
    },
    {
      "cell_type": "markdown",
      "metadata": {
        "id": "683gc3roHqzb"
      },
      "source": [
        "Test with inputs 1 and 2\n",
        "\n",
        "\n"
      ]
    },
    {
      "cell_type": "code",
      "execution_count": 622,
      "metadata": {
        "id": "b7d4LA8OIc2_",
        "colab": {
          "base_uri": "https://localhost:8080/"
        },
        "outputId": "f382d166-f073-444e-ca83-fcd9142e16ce"
      },
      "outputs": [
        {
          "output_type": "stream",
          "name": "stdout",
          "text": [
            "Product: 90\n",
            "Product: 90\n"
          ]
        }
      ],
      "source": [
        "!g++ max_pairwise_sort_super_efficient.cpp -o max_pairwise_sort_super_efficient\n",
        "!./max_pairwise_sort_super_efficient < input1.txt\n",
        "!./max_pairwise_sort_super_efficient < input2.txt"
      ]
    },
    {
      "cell_type": "markdown",
      "metadata": {
        "id": "36Ugn1odIeJz"
      },
      "source": [
        "Test and time it with input 3"
      ]
    },
    {
      "cell_type": "code",
      "execution_count": 623,
      "metadata": {
        "id": "jDyMbCnxHqSN",
        "colab": {
          "base_uri": "https://localhost:8080/"
        },
        "outputId": "17ca648a-6a93-430e-b161-e21202262571"
      },
      "outputs": [
        {
          "output_type": "stream",
          "name": "stdout",
          "text": [
            "Product: 1345294336\n",
            "\n",
            "real\t0m0.003s\n",
            "user\t0m0.003s\n",
            "sys\t0m0.000s\n"
          ]
        }
      ],
      "source": [
        "!g++ max_pairwise_sort_super_efficient.cpp -o max_pairwise_sort_super_efficient\n",
        "!time ./max_pairwise_sort_super_efficient < input3.txt"
      ]
    },
    {
      "cell_type": "markdown",
      "metadata": {
        "id": "bhqiKQG6fjKM"
      },
      "source": [
        "20 stress tests"
      ]
    },
    {
      "cell_type": "code",
      "source": [
        " %%writefile torture_max_pairwise_sort_super_efficient.sh\n",
        "#!/bin/bash\n",
        "\n",
        "!g++ max_pairwise_sort_super_efficient.cpp -o max_pairwise_sort_super_efficient\n",
        "for i in {14..34}\n",
        "do\n",
        "    echo \"-----------------------------------\"\n",
        "    echo \"Running find_cpp with input$i.txt\"\n",
        "    ./max_pairwise_sort_super_efficient < input$i.txt\n",
        "\n",
        "done\n"
      ],
      "metadata": {
        "colab": {
          "base_uri": "https://localhost:8080/"
        },
        "id": "alsGiEOBBHtR",
        "outputId": "91125f96-7309-4859-ef3d-30c1b914e6d4"
      },
      "execution_count": 637,
      "outputs": [
        {
          "output_type": "stream",
          "name": "stdout",
          "text": [
            "Overwriting torture_max_pairwise_sort_super_efficient.sh\n"
          ]
        }
      ]
    },
    {
      "cell_type": "code",
      "source": [
        "!chmod u+x torture_max_pairwise_sort_super_efficient.sh\n",
        "!./torture_max_pairwise_sort_super_efficient.sh"
      ],
      "metadata": {
        "colab": {
          "base_uri": "https://localhost:8080/"
        },
        "id": "qbhEnvPhBsVu",
        "outputId": "a4076c0c-4cbe-45e6-8c5f-365d343822c2"
      },
      "execution_count": 638,
      "outputs": [
        {
          "output_type": "stream",
          "name": "stdout",
          "text": [
            "./torture_max_pairwise_sort_super_efficient.sh: line 3: !g++: command not found\n",
            "-----------------------------------\n",
            "Running find_cpp with input14.txt\n",
            "Product: 360\n",
            "-----------------------------------\n",
            "Running find_cpp with input15.txt\n",
            "Product: 20\n",
            "-----------------------------------\n",
            "Running find_cpp with input16.txt\n",
            "Product: 344378000\n",
            "-----------------------------------\n",
            "Running find_cpp with input17.txt\n",
            "Product: 0\n",
            "-----------------------------------\n",
            "Running find_cpp with input18.txt\n",
            "Product: 8\n",
            "-----------------------------------\n",
            "Running find_cpp with input19.txt\n",
            "Product: 90\n",
            "-----------------------------------\n",
            "Running find_cpp with input20.txt\n",
            "Product: 20\n",
            "-----------------------------------\n",
            "Running find_cpp with input21.txt\n",
            "Product: 1109889\n",
            "-----------------------------------\n",
            "Running find_cpp with input22.txt\n",
            "Product: 10989\n",
            "-----------------------------------\n",
            "Running find_cpp with input23.txt\n",
            "Product: 342\n",
            "-----------------------------------\n",
            "Running find_cpp with input24.txt\n",
            "Product: 72825312\n",
            "-----------------------------------\n",
            "Running find_cpp with input25.txt\n",
            "Product: 82210248\n",
            "-----------------------------------\n",
            "Running find_cpp with input26.txt\n",
            "Product: 72364773\n",
            "-----------------------------------\n",
            "Running find_cpp with input27.txt\n",
            "Product: 71564754\n",
            "-----------------------------------\n",
            "Running find_cpp with input28.txt\n",
            "Product: 85787586\n",
            "-----------------------------------\n",
            "Running find_cpp with input29.txt\n",
            "Product: 37752960\n",
            "-----------------------------------\n",
            "Running find_cpp with input30.txt\n",
            "Product: 52530252\n",
            "-----------------------------------\n",
            "Running find_cpp with input31.txt\n",
            "Product: 70851420\n",
            "-----------------------------------\n",
            "Running find_cpp with input32.txt\n",
            "Product: 42719898\n",
            "-----------------------------------\n",
            "Running find_cpp with input33.txt\n",
            "Product: 93265340\n",
            "-----------------------------------\n",
            "Running find_cpp with input34.txt\n",
            "Product: 51876696\n"
          ]
        }
      ]
    },
    {
      "cell_type": "markdown",
      "metadata": {
        "id": "fEXj8GHJH5p1"
      },
      "source": [
        "Count executed instructions in code and verify with inputs 1,2 and 3"
      ]
    },
    {
      "cell_type": "code",
      "execution_count": 642,
      "metadata": {
        "id": "LF1DHjKXIAsF",
        "colab": {
          "base_uri": "https://localhost:8080/"
        },
        "outputId": "bd42db1f-215d-41fb-93de-2191129a5ded"
      },
      "outputs": [
        {
          "output_type": "stream",
          "name": "stdout",
          "text": [
            "Overwriting max_pairwise_sort_super_efficient_count.cpp\n"
          ]
        }
      ],
      "source": [
        "%%writefile max_pairwise_sort_super_efficient_count.cpp\n",
        "#include <iostream>\n",
        "#include <vector>\n",
        "#include <fstream>\n",
        "#include <cmath>\n",
        "#include <algorithm>\n",
        "#include <climits>\n",
        "\n",
        "using namespace std;\n",
        "\n",
        "int main() {\n",
        "\n",
        "    int instrucciones = 0;\n",
        "    int n;\n",
        "    instrucciones ++;\n",
        "    cin >> n;\n",
        "    instrucciones ++;\n",
        "    int maxValor = INT_MIN;\n",
        "    instrucciones ++;\n",
        "    int segMaxValor = INT_MIN;\n",
        "    instrucciones ++;\n",
        "\n",
        "\n",
        "    instrucciones ++;\n",
        "    for (int i = 0; i < n; ++i) {\n",
        "        instrucciones += 2;\n",
        "        int aux = 0;\n",
        "        instrucciones ++;\n",
        "\n",
        "        cin>> aux;\n",
        "        instrucciones ++;\n",
        "        instrucciones ++;\n",
        "        instrucciones ++;\n",
        "\n",
        "        if (aux > maxValor){\n",
        "          segMaxValor = maxValor;\n",
        "          instrucciones ++;\n",
        "          maxValor = aux;\n",
        "          instrucciones++;\n",
        "\n",
        "        } else if (aux > segMaxValor) {\n",
        "          segMaxValor = aux;\n",
        "          instrucciones ++;\n",
        "        }\n",
        "\n",
        "    }\n",
        "\n",
        "    cout <<  \"instrucciones: \" << instrucciones << \" n: \"<< n << \" Valor: \" << maxValor * segMaxValor << \"\\n\";\n",
        "    return 0;\n",
        "}"
      ]
    },
    {
      "cell_type": "code",
      "source": [
        "!g++ max_pairwise_sort_super_efficient_count.cpp -o max_pairwise_sort_super_efficient_count\n",
        "!./max_pairwise_sort_super_efficient_count < input1.txt\n",
        "!./max_pairwise_sort_super_efficient_count < input2.txt\n",
        "!./max_pairwise_sort_super_efficient_count < input3.txt"
      ],
      "metadata": {
        "colab": {
          "base_uri": "https://localhost:8080/"
        },
        "id": "4wvFE_0sjcp4",
        "outputId": "9af1d0e3-aa42-424e-fc5c-a444af4c3ce8"
      },
      "execution_count": 643,
      "outputs": [
        {
          "output_type": "stream",
          "name": "stdout",
          "text": [
            "instrucciones: 85 n: 10 Valor: 90\n",
            "instrucciones: 68 n: 10 Valor: 90\n",
            "instrucciones: 49 n: 6 Valor: 1345294336\n"
          ]
        }
      ]
    },
    {
      "cell_type": "markdown",
      "metadata": {
        "id": "yae7sSm2IG9U"
      },
      "source": [
        "Calculate estimated time by instruction and number of instructions by second"
      ]
    },
    {
      "cell_type": "code",
      "execution_count": 644,
      "metadata": {
        "id": "suouY7BYL2dz",
        "colab": {
          "base_uri": "https://localhost:8080/"
        },
        "outputId": "3dad936f-db47-4d93-93ca-48369f4e48fc"
      },
      "outputs": [
        {
          "output_type": "stream",
          "name": "stdout",
          "text": [
            "instrucciones: 85 n: 10 Valor: 90\n",
            "CPU times: user 13.8 ms, sys: 3.33 ms, total: 17.1 ms\n",
            "Wall time: 914 ms\n"
          ]
        }
      ],
      "source": [
        "%%time\n",
        "!g++ max_pairwise_sort_super_efficient_count.cpp -o max_pairwise_sort_super_efficient_count\n",
        "!./max_pairwise_sort_super_efficient_count < input1.txt"
      ]
    },
    {
      "cell_type": "code",
      "source": [
        "0.0167 / 85"
      ],
      "metadata": {
        "colab": {
          "base_uri": "https://localhost:8080/"
        },
        "id": "zfMMNm4Qjw3h",
        "outputId": "c43a471f-2299-4b9c-faf9-319609478cdc"
      },
      "execution_count": 613,
      "outputs": [
        {
          "output_type": "execute_result",
          "data": {
            "text/plain": [
              "0.0001964705882352941"
            ]
          },
          "metadata": {},
          "execution_count": 613
        }
      ]
    },
    {
      "cell_type": "markdown",
      "metadata": {
        "id": "sy33CNNfPxcE"
      },
      "source": [
        "### Super efficient solution in Python\n",
        "\n",
        "Whitout storing the list in memory and whitout calling a function, add in each line a coment with the number of intstrcution that are executed in that line"
      ]
    },
    {
      "cell_type": "code",
      "execution_count": 645,
      "metadata": {
        "id": "_mOjJwKrPxcJ",
        "colab": {
          "base_uri": "https://localhost:8080/"
        },
        "outputId": "656cc83b-29cd-4fd7-c5b6-8fa630d34351"
      },
      "outputs": [
        {
          "output_type": "stream",
          "name": "stdout",
          "text": [
            "Overwriting max_pairwise_sort_super_efficient_instructions.py\n"
          ]
        }
      ],
      "source": [
        "%%writefile max_pairwise_sort_super_efficient_instructions.py\n",
        "\n",
        "def max_pairwise_sort_super_efficient_instructions(numbers):\n",
        "    global max_value\n",
        "    max_value=float(\"-inf\")\n",
        "    global second_max_value\n",
        "    second_max_value=float(\"-inf\")\n",
        "    global instrucciones\n",
        "    instrucciones=2\n",
        "\n",
        "    for num in numbers:\n",
        "        instrucciones=instrucciones+1\n",
        "        if num > max_value:\n",
        "            second_max_value = max_value\n",
        "            max_value = num\n",
        "            instrucciones=instrucciones+3\n",
        "        elif num > second_max_value:\n",
        "            second_max_value = num\n",
        "            instrucciones=instrucciones+5\n",
        "    return max_value*second_max_value\n",
        "\n",
        "n = int(input())\n",
        "numbers=[int(i) for i in input().split()]\n",
        "print(\"Resultado: \",max_pairwise_sort_super_efficient_instructions(numbers))\n",
        "print(\"Instrucciones: \",instrucciones+1)\n"
      ]
    },
    {
      "cell_type": "markdown",
      "metadata": {
        "id": "K08Eow0hPxcJ"
      },
      "source": [
        "Test with inputs 1 and 2\n",
        "\n",
        "\n"
      ]
    },
    {
      "cell_type": "code",
      "execution_count": 629,
      "metadata": {
        "id": "1_mUee2cPxcJ",
        "colab": {
          "base_uri": "https://localhost:8080/"
        },
        "outputId": "2b7a16c2-509f-4fcf-bcd1-82858104662e"
      },
      "outputs": [
        {
          "output_type": "stream",
          "name": "stdout",
          "text": [
            "Resultado:  90\n",
            "Instrucciones:  43\n",
            "Resultado:  90\n",
            "Instrucciones:  21\n"
          ]
        }
      ],
      "source": [
        "! python3 max_pairwise_sort_super_efficient_instructions.py < input1.txt\n",
        "! python3 max_pairwise_sort_super_efficient_instructions.py < input2.txt"
      ]
    },
    {
      "cell_type": "markdown",
      "metadata": {
        "id": "CE5DB3CmPxcJ"
      },
      "source": [
        "Test and time it with input 3"
      ]
    },
    {
      "cell_type": "code",
      "execution_count": 630,
      "metadata": {
        "id": "lyLhFOoePxcJ",
        "colab": {
          "base_uri": "https://localhost:8080/"
        },
        "outputId": "c52f2113-523f-469c-c8f0-45748392a205"
      },
      "outputs": [
        {
          "output_type": "stream",
          "name": "stdout",
          "text": [
            "Resultado:  40000000000\n",
            "Instrucciones:  28\n"
          ]
        }
      ],
      "source": [
        "! python3 max_pairwise_sort_super_efficient_instructions.py < input3.txt"
      ]
    },
    {
      "cell_type": "markdown",
      "metadata": {
        "id": "HZEI236lPxcK"
      },
      "source": [
        "20 stress tests"
      ]
    },
    {
      "cell_type": "code",
      "source": [
        " %%writefile torture_max_pairwise_sort_super_efficient_python.sh\n",
        "#!/bin/bash\n",
        "\n",
        "for i in {14..34}\n",
        "do\n",
        "    echo \"-----------------------------------\"\n",
        "    echo \"Running find_cpp with input$i.txt\"\n",
        "    python max_pairwise_sort_super_efficient_instructions.py < input$i.txt\n",
        "\n",
        "done\n"
      ],
      "metadata": {
        "id": "ORPQcio_C1vb",
        "outputId": "ec165874-2432-4871-9baf-ae5fcd9070b3",
        "colab": {
          "base_uri": "https://localhost:8080/"
        }
      },
      "execution_count": 647,
      "outputs": [
        {
          "output_type": "stream",
          "name": "stdout",
          "text": [
            "Writing torture_max_pairwise_sort_super_efficient_python.sh\n"
          ]
        }
      ]
    },
    {
      "cell_type": "code",
      "source": [
        "!chmod u+x torture_max_pairwise_sort_super_efficient_python.sh\n",
        "!./torture_max_pairwise_sort_super_efficient_python.sh"
      ],
      "metadata": {
        "id": "vLZHj9MtC65C",
        "outputId": "19edfac8-3893-4719-e1e0-5ab8150f0c15",
        "colab": {
          "base_uri": "https://localhost:8080/"
        }
      },
      "execution_count": 648,
      "outputs": [
        {
          "output_type": "stream",
          "name": "stdout",
          "text": [
            "-----------------------------------\n",
            "Running find_cpp with input14.txt\n",
            "Resultado:  360\n",
            "Instrucciones:  43\n",
            "-----------------------------------\n",
            "Running find_cpp with input15.txt\n",
            "Resultado:  20\n",
            "Instrucciones:  23\n",
            "-----------------------------------\n",
            "Running find_cpp with input16.txt\n",
            "Resultado:  344378000\n",
            "Instrucciones:  63\n",
            "-----------------------------------\n",
            "Running find_cpp with input17.txt\n",
            "Resultado:  0\n",
            "Instrucciones:  21\n",
            "-----------------------------------\n",
            "Running find_cpp with input18.txt\n",
            "Resultado:  8\n",
            "Instrucciones:  27\n",
            "-----------------------------------\n",
            "Running find_cpp with input19.txt\n",
            "Resultado:  90\n",
            "Instrucciones:  43\n",
            "-----------------------------------\n",
            "Running find_cpp with input20.txt\n",
            "Resultado:  20\n",
            "Instrucciones:  16\n",
            "-----------------------------------\n",
            "Running find_cpp with input21.txt\n",
            "Resultado:  1109889\n",
            "Instrucciones:  19\n",
            "-----------------------------------\n",
            "Running find_cpp with input22.txt\n",
            "Resultado:  10989\n",
            "Instrucciones:  15\n",
            "-----------------------------------\n",
            "Running find_cpp with input23.txt\n",
            "Resultado:  342\n",
            "Instrucciones:  83\n",
            "-----------------------------------\n",
            "Running find_cpp with input24.txt\n",
            "Resultado:  72825312\n",
            "Instrucciones:  30\n",
            "-----------------------------------\n",
            "Running find_cpp with input25.txt\n",
            "Resultado:  82210248\n",
            "Instrucciones:  31\n",
            "-----------------------------------\n",
            "Running find_cpp with input26.txt\n",
            "Resultado:  72364773\n",
            "Instrucciones:  24\n",
            "-----------------------------------\n",
            "Running find_cpp with input27.txt\n",
            "Resultado:  71564754\n",
            "Instrucciones:  32\n",
            "-----------------------------------\n",
            "Running find_cpp with input28.txt\n",
            "Resultado:  85787586\n",
            "Instrucciones:  29\n",
            "-----------------------------------\n",
            "Running find_cpp with input29.txt\n",
            "Resultado:  37752960\n",
            "Instrucciones:  13\n",
            "-----------------------------------\n",
            "Running find_cpp with input30.txt\n",
            "Resultado:  52530252\n",
            "Instrucciones:  23\n",
            "-----------------------------------\n",
            "Running find_cpp with input31.txt\n",
            "Resultado:  70851420\n",
            "Instrucciones:  16\n",
            "-----------------------------------\n",
            "Running find_cpp with input32.txt\n",
            "Resultado:  42719898\n",
            "Instrucciones:  27\n",
            "-----------------------------------\n",
            "Running find_cpp with input33.txt\n",
            "Resultado:  93265340\n",
            "Instrucciones:  27\n",
            "-----------------------------------\n",
            "Running find_cpp with input34.txt\n",
            "Resultado:  51876696\n",
            "Instrucciones:  19\n"
          ]
        }
      ]
    },
    {
      "cell_type": "markdown",
      "metadata": {
        "id": "R6qeUjPaPxcK"
      },
      "source": [
        "Calculate estimated time by instruction and number of instructions by second"
      ]
    },
    {
      "cell_type": "code",
      "execution_count": 649,
      "metadata": {
        "id": "iLdXYvn3PxcK",
        "colab": {
          "base_uri": "https://localhost:8080/"
        },
        "outputId": "429f8b00-8291-405d-e750-0ee34b4732b5"
      },
      "outputs": [
        {
          "output_type": "stream",
          "name": "stdout",
          "text": [
            "Resultado:  90\n",
            "Instrucciones:  43\n",
            "\n",
            "real\t0m0.043s\n",
            "user\t0m0.034s\n",
            "sys\t0m0.007s\n"
          ]
        }
      ],
      "source": [
        "!time python3 max_pairwise_sort_super_efficient_instructions.py < input1.txt"
      ]
    },
    {
      "cell_type": "code",
      "source": [
        "0.036/43"
      ],
      "metadata": {
        "colab": {
          "base_uri": "https://localhost:8080/"
        },
        "id": "FnSIlyUhy9pd",
        "outputId": "198118f1-c285-451b-cd36-43b6513e0597"
      },
      "execution_count": null,
      "outputs": [
        {
          "output_type": "execute_result",
          "data": {
            "text/plain": [
              "0.0008372093023255813"
            ]
          },
          "metadata": {},
          "execution_count": 47
        }
      ]
    }
  ],
  "metadata": {
    "colab": {
      "provenance": []
    },
    "kernelspec": {
      "display_name": "Python 3",
      "name": "python3"
    },
    "language_info": {
      "name": "python"
    }
  },
  "nbformat": 4,
  "nbformat_minor": 0
}