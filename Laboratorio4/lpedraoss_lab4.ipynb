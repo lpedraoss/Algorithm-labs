{
  "cells": [
    {
      "cell_type": "code",
      "execution_count": null,
      "metadata": {
        "id": "im-VVd1__7VU",
        "colab": {
          "base_uri": "https://localhost:8080/"
        },
        "outputId": "5756b01b-9664-484f-d643-03d7fe4f0168"
      },
      "outputs": [
        {
          "output_type": "stream",
          "name": "stdout",
          "text": [
            "processor\t: 0\n",
            "vendor_id\t: GenuineIntel\n",
            "cpu family\t: 6\n",
            "model\t\t: 79\n",
            "model name\t: Intel(R) Xeon(R) CPU @ 2.20GHz\n",
            "stepping\t: 0\n",
            "microcode\t: 0xffffffff\n",
            "cpu MHz\t\t: 2200.156\n",
            "cache size\t: 56320 KB\n",
            "physical id\t: 0\n",
            "siblings\t: 2\n",
            "core id\t\t: 0\n",
            "cpu cores\t: 1\n",
            "apicid\t\t: 0\n",
            "initial apicid\t: 0\n",
            "fpu\t\t: yes\n",
            "fpu_exception\t: yes\n",
            "cpuid level\t: 13\n",
            "wp\t\t: yes\n",
            "flags\t\t: fpu vme de pse tsc msr pae mce cx8 apic sep mtrr pge mca cmov pat pse36 clflush mmx fxsr sse sse2 ss ht syscall nx pdpe1gb rdtscp lm constant_tsc rep_good nopl xtopology nonstop_tsc cpuid tsc_known_freq pni pclmulqdq ssse3 fma cx16 pcid sse4_1 sse4_2 x2apic movbe popcnt aes xsave avx f16c rdrand hypervisor lahf_lm abm 3dnowprefetch invpcid_single ssbd ibrs ibpb stibp fsgsbase tsc_adjust bmi1 hle avx2 smep bmi2 erms invpcid rtm rdseed adx smap xsaveopt arat md_clear arch_capabilities\n",
            "bugs\t\t: cpu_meltdown spectre_v1 spectre_v2 spec_store_bypass l1tf mds swapgs taa mmio_stale_data retbleed\n",
            "bogomips\t: 4400.31\n",
            "clflush size\t: 64\n",
            "cache_alignment\t: 64\n",
            "address sizes\t: 46 bits physical, 48 bits virtual\n",
            "power management:\n",
            "\n",
            "processor\t: 1\n",
            "vendor_id\t: GenuineIntel\n",
            "cpu family\t: 6\n",
            "model\t\t: 79\n",
            "model name\t: Intel(R) Xeon(R) CPU @ 2.20GHz\n",
            "stepping\t: 0\n",
            "microcode\t: 0xffffffff\n",
            "cpu MHz\t\t: 2200.156\n",
            "cache size\t: 56320 KB\n",
            "physical id\t: 0\n",
            "siblings\t: 2\n",
            "core id\t\t: 0\n",
            "cpu cores\t: 1\n",
            "apicid\t\t: 1\n",
            "initial apicid\t: 1\n",
            "fpu\t\t: yes\n",
            "fpu_exception\t: yes\n",
            "cpuid level\t: 13\n",
            "wp\t\t: yes\n",
            "flags\t\t: fpu vme de pse tsc msr pae mce cx8 apic sep mtrr pge mca cmov pat pse36 clflush mmx fxsr sse sse2 ss ht syscall nx pdpe1gb rdtscp lm constant_tsc rep_good nopl xtopology nonstop_tsc cpuid tsc_known_freq pni pclmulqdq ssse3 fma cx16 pcid sse4_1 sse4_2 x2apic movbe popcnt aes xsave avx f16c rdrand hypervisor lahf_lm abm 3dnowprefetch invpcid_single ssbd ibrs ibpb stibp fsgsbase tsc_adjust bmi1 hle avx2 smep bmi2 erms invpcid rtm rdseed adx smap xsaveopt arat md_clear arch_capabilities\n",
            "bugs\t\t: cpu_meltdown spectre_v1 spectre_v2 spec_store_bypass l1tf mds swapgs taa mmio_stale_data retbleed\n",
            "bogomips\t: 4400.31\n",
            "clflush size\t: 64\n",
            "cache_alignment\t: 64\n",
            "address sizes\t: 46 bits physical, 48 bits virtual\n",
            "power management:\n",
            "\n"
          ]
        }
      ],
      "source": [
        "!cat /proc/cpuinfo"
      ]
    },
    {
      "cell_type": "markdown",
      "metadata": {
        "id": "N1ok_-56OjB1"
      },
      "source": [
        "# I Solving the Sum of Two Digits Programming Challenge"
      ]
    },
    {
      "cell_type": "markdown",
      "metadata": {
        "id": "MMY7kmDSO0KM"
      },
      "source": [
        "## C++"
      ]
    },
    {
      "cell_type": "code",
      "execution_count": null,
      "metadata": {
        "colab": {
          "base_uri": "https://localhost:8080/"
        },
        "id": "2pGGf9BkPNIk",
        "outputId": "0ffbbe57-cc7f-43d4-8a18-6be8c9ff6d1a"
      },
      "outputs": [
        {
          "output_type": "stream",
          "name": "stdout",
          "text": [
            "Overwriting APlusB.cpp\n"
          ]
        }
      ],
      "source": [
        "%%writefile APlusB.cpp\n",
        "#include <iostream>\n",
        "\n",
        "int sum_of_two_digits(int first_digit, int second_digit) {\n",
        "    return first_digit + second_digit;\n",
        "}\n",
        "\n",
        "int main() {\n",
        "    int a = 0;\n",
        "    int b = 0;\n",
        "    std::cin >> a;\n",
        "    std::cin >> b;\n",
        "    std::cout << sum_of_two_digits(a, b);\n",
        "    return 0;\n",
        "}"
      ]
    },
    {
      "cell_type": "code",
      "execution_count": null,
      "metadata": {
        "colab": {
          "base_uri": "https://localhost:8080/"
        },
        "id": "0G3ZKOYAPXSU",
        "outputId": "52c2ad76-4cb1-4bd7-eefc-1a3c869ce78e"
      },
      "outputs": [
        {
          "output_type": "stream",
          "name": "stdout",
          "text": [
            "4 8\n",
            "12"
          ]
        }
      ],
      "source": [
        "!g++ APlusB.cpp -o APlusB -std=c++11\n",
        "!./APlusB"
      ]
    },
    {
      "cell_type": "markdown",
      "metadata": {
        "id": "iNkG2HqfTl9c"
      },
      "source": [
        "### Test input output files"
      ]
    },
    {
      "cell_type": "code",
      "execution_count": null,
      "metadata": {
        "colab": {
          "base_uri": "https://localhost:8080/"
        },
        "id": "aTzU2efzMxly",
        "outputId": "e0fd9d38-5a7a-495e-9e9d-f9e9ee23b95c"
      },
      "outputs": [
        {
          "output_type": "stream",
          "name": "stdout",
          "text": [
            "Writing input1.txt\n"
          ]
        }
      ],
      "source": [
        "%%writefile input1.txt\n",
        "4 8"
      ]
    },
    {
      "cell_type": "code",
      "execution_count": null,
      "metadata": {
        "colab": {
          "base_uri": "https://localhost:8080/"
        },
        "id": "zBJ0Gc0NQRet",
        "outputId": "797413f5-ffec-4f12-808e-51f144f98630"
      },
      "outputs": [
        {
          "output_type": "stream",
          "name": "stdout",
          "text": [
            "Writing output1.txt\n"
          ]
        }
      ],
      "source": [
        "%%writefile output1.txt\n",
        "12"
      ]
    },
    {
      "cell_type": "code",
      "execution_count": null,
      "metadata": {
        "colab": {
          "base_uri": "https://localhost:8080/"
        },
        "id": "IjEcIx63PJAN",
        "outputId": "f498d0bf-c378-461f-9b45-8eb3cec12180"
      },
      "outputs": [
        {
          "output_type": "stream",
          "name": "stdout",
          "text": [
            "Overwriting input2.txt\n"
          ]
        }
      ],
      "source": [
        "%%writefile input2.txt\n",
        "0 9"
      ]
    },
    {
      "cell_type": "code",
      "execution_count": null,
      "metadata": {
        "colab": {
          "base_uri": "https://localhost:8080/"
        },
        "id": "Up9gOrxURTmd",
        "outputId": "67827aff-e4bb-41e1-e835-edb3e4bb843d"
      },
      "outputs": [
        {
          "output_type": "stream",
          "name": "stdout",
          "text": [
            "Writing output2.txt\n"
          ]
        }
      ],
      "source": [
        "%%writefile output2.txt\n",
        "9"
      ]
    },
    {
      "cell_type": "code",
      "execution_count": null,
      "metadata": {
        "colab": {
          "base_uri": "https://localhost:8080/"
        },
        "id": "PST6G-s-Pwgc",
        "outputId": "fc3cd2ab-523c-4ef1-f360-f4a9118e8764"
      },
      "outputs": [
        {
          "output_type": "stream",
          "name": "stdout",
          "text": [
            "12"
          ]
        }
      ],
      "source": [
        "!./APlusB < input1.txt"
      ]
    },
    {
      "cell_type": "code",
      "execution_count": null,
      "metadata": {
        "colab": {
          "base_uri": "https://localhost:8080/"
        },
        "id": "cKxZOjSlRfIN",
        "outputId": "45780284-471d-4812-a7a6-ea9d445972e6"
      },
      "outputs": [
        {
          "output_type": "stream",
          "name": "stdout",
          "text": [
            "9"
          ]
        }
      ],
      "source": [
        "!./APlusB < input2.txt"
      ]
    },
    {
      "cell_type": "markdown",
      "metadata": {
        "id": "Qw2TQWCCUwqk"
      },
      "source": [
        "### Comparing files with grep\n",
        "\n",
        "https://askubuntu.com/questions/546796/comparing-two-text-files"
      ]
    },
    {
      "cell_type": "code",
      "execution_count": null,
      "metadata": {
        "id": "WVIaAmMKU4QM"
      },
      "outputs": [],
      "source": [
        "!grep -xvFf output1.txt output1.txt"
      ]
    },
    {
      "cell_type": "code",
      "execution_count": null,
      "metadata": {
        "id": "MQU8gPPjQuYO",
        "colab": {
          "base_uri": "https://localhost:8080/"
        },
        "outputId": "7e66e5fa-d252-4f26-de14-7b780f1c8ab1"
      },
      "outputs": [
        {
          "output_type": "stream",
          "name": "stdout",
          "text": [
            "9\n"
          ]
        }
      ],
      "source": [
        "!grep -xvFf output1.txt output2.txt"
      ]
    },
    {
      "cell_type": "code",
      "execution_count": null,
      "metadata": {
        "colab": {
          "base_uri": "https://localhost:8080/"
        },
        "id": "jYL9OuYBTD_l",
        "outputId": "0b2ceb6c-1601-412f-fbc2-ec1fcd8ed761"
      },
      "outputs": [
        {
          "output_type": "stream",
          "name": "stdout",
          "text": [
            "12\n"
          ]
        }
      ],
      "source": [
        "!grep -xvFf output2.txt output1.txt"
      ]
    },
    {
      "cell_type": "code",
      "execution_count": null,
      "metadata": {
        "id": "Jlja0Xm4TX9M"
      },
      "outputs": [],
      "source": [
        "!./APlusB < input1.txt> ctest1.txt\n",
        "!grep -xvFf output1.txt ctest1.txt"
      ]
    },
    {
      "cell_type": "code",
      "execution_count": null,
      "metadata": {
        "id": "g9OIUZA_QLCQ"
      },
      "outputs": [],
      "source": [
        "!./APlusB < input2.txt > ctest2.txt\n",
        "!grep -xvFf output2.txt ctest2.txt"
      ]
    },
    {
      "cell_type": "markdown",
      "metadata": {
        "id": "3BgOaDjUVJk6"
      },
      "source": [
        "## Python"
      ]
    },
    {
      "cell_type": "code",
      "execution_count": null,
      "metadata": {
        "colab": {
          "base_uri": "https://localhost:8080/"
        },
        "id": "DBvl-T0CTN_8",
        "outputId": "ce521f79-db7d-4cc6-abc1-69459cb2b91a"
      },
      "outputs": [
        {
          "output_type": "stream",
          "name": "stdout",
          "text": [
            "Overwriting sum.py\n"
          ]
        }
      ],
      "source": [
        "%%writefile sum.py\n",
        "# python3\n",
        "\n",
        "def sum_of_two_digits(first_digit, second_digit):\n",
        "    return first_digit + second_digit\n",
        "\n",
        "if __name__ == '__main__':\n",
        "    a, b = map(int, input().split())\n",
        "    print(sum_of_two_digits(a, b))"
      ]
    },
    {
      "cell_type": "code",
      "execution_count": null,
      "metadata": {
        "colab": {
          "base_uri": "https://localhost:8080/"
        },
        "id": "QKoKM11_WGyF",
        "outputId": "c99ad0a2-88b2-4b81-c378-98dbb6aa2597"
      },
      "outputs": [
        {
          "output_type": "stream",
          "name": "stdout",
          "text": [
            "2 5\n",
            "7\n"
          ]
        }
      ],
      "source": [
        "!python sum.py"
      ]
    },
    {
      "cell_type": "code",
      "execution_count": null,
      "metadata": {
        "id": "cocFbPRTWrqt"
      },
      "outputs": [],
      "source": [
        "!python sum.py  < input1.txt> ptest1.txt\n",
        "!grep -xvFf output1.txt ptest1.txt"
      ]
    },
    {
      "cell_type": "code",
      "execution_count": null,
      "metadata": {
        "id": "MorKTa-XXASN"
      },
      "outputs": [],
      "source": [
        "!python sum.py  < input2.txt> ptest2.txt\n",
        "!grep -xvFf output2.txt ptest2.txt"
      ]
    },
    {
      "cell_type": "markdown",
      "metadata": {
        "id": "uvP-mOubW_5F"
      },
      "source": [
        "# II Solving The Maximum Pairwise Product Programming Challenge in C++"
      ]
    },
    {
      "cell_type": "markdown",
      "metadata": {
        "id": "C12yoFR6Xonl"
      },
      "source": [
        "## C++"
      ]
    },
    {
      "cell_type": "code",
      "source": [
        "%%writefile max_pairwise_product_full.cpp\n",
        "#include <iostream>\n",
        "#include <vector>\n",
        "#include <algorithm>\n",
        "\n",
        "int MaxPairwiseProduct(const std::vector<int>& numbers) {\n",
        "    int max_product = 0;\n",
        "    int aux_product = 0;\n",
        "    int n = numbers.size();\n",
        "\n",
        "    for (int first = 0; first < n; ++first) {\n",
        "        for (int second = 0; second < n; ++second) {\n",
        "          if ( first != second ){\n",
        "                aux_product = numbers[first] * numbers[second];\n",
        "                if (aux_product > max_product)  max_product = aux_product;\n",
        "          }\n",
        "        }\n",
        "    }\n",
        "\n",
        "    return max_product;\n",
        "}\n",
        "\n",
        "int main() {\n",
        "    int n;\n",
        "    std::cin >> n;\n",
        "    std::vector<int> numbers(n);\n",
        "    for (int i = 0; i < n; ++i) {\n",
        "        std::cin >> numbers[i];\n",
        "    }\n",
        "\n",
        "    std::cout << MaxPairwiseProduct(numbers) << \"\\n\";\n",
        "    return 0;\n",
        "}"
      ],
      "metadata": {
        "colab": {
          "base_uri": "https://localhost:8080/"
        },
        "id": "3LpfoGv2Ae81",
        "outputId": "a7073c22-baf9-4da6-f53c-51fa8f397e90"
      },
      "execution_count": null,
      "outputs": [
        {
          "output_type": "stream",
          "name": "stdout",
          "text": [
            "Writing max_pairwise_product_full.cpp\n"
          ]
        }
      ]
    },
    {
      "cell_type": "code",
      "source": [
        "!g++ max_pairwise_product_full.cpp -o max_pairwise_product_full\n",
        "!./max_pairwise_product_full"
      ],
      "metadata": {
        "id": "PCVo1h6nCF9k",
        "colab": {
          "base_uri": "https://localhost:8080/"
        },
        "outputId": "9f6c1618-04c4-4980-c3c1-840f7c62652a"
      },
      "execution_count": null,
      "outputs": [
        {
          "output_type": "stream",
          "name": "stdout",
          "text": [
            "5\n",
            "1 2 3 4 5\n",
            "20\n"
          ]
        }
      ]
    },
    {
      "cell_type": "markdown",
      "metadata": {
        "id": "m75IQQPbEHBS"
      },
      "source": [
        "$$n^2 \\ \\text{first != second  comparisons},  n^2 - n \\ \\ \\text{numbers[first] * numbers[second] products},  O(n^2)$$"
      ]
    },
    {
      "cell_type": "markdown",
      "metadata": {
        "id": "e7KhxHGNS3i0"
      },
      "source": [
        "### Test 1: Small numbers"
      ]
    },
    {
      "cell_type": "code",
      "execution_count": null,
      "metadata": {
        "colab": {
          "base_uri": "https://localhost:8080/"
        },
        "id": "e1mmTzBgShT-",
        "outputId": "9c7d378d-942a-47d3-b85a-b3450ad06d4c"
      },
      "outputs": [
        {
          "output_type": "stream",
          "name": "stdout",
          "text": [
            "Writing input1.txt\n"
          ]
        }
      ],
      "source": [
        "%%writefile input1.txt\n",
        "10\n",
        "1 2 3 4 5 6 7 8 9 10"
      ]
    },
    {
      "cell_type": "code",
      "execution_count": null,
      "metadata": {
        "colab": {
          "base_uri": "https://localhost:8080/"
        },
        "id": "vy_uI0x7TCId",
        "outputId": "9f84ea55-1fd7-4e1b-930d-2c2149f081a2"
      },
      "outputs": [
        {
          "output_type": "stream",
          "name": "stdout",
          "text": [
            "90\n"
          ]
        }
      ],
      "source": [
        "!./max_pairwise_product_full < input1.txt"
      ]
    },
    {
      "cell_type": "code",
      "execution_count": null,
      "metadata": {
        "colab": {
          "base_uri": "https://localhost:8080/"
        },
        "id": "xaj6f9bxC6D6",
        "outputId": "554912e0-eb29-4a82-f326-f4ad72cb803f"
      },
      "outputs": [
        {
          "output_type": "stream",
          "name": "stdout",
          "text": [
            "Overwriting output1.txt\n"
          ]
        }
      ],
      "source": [
        "%%writefile output1.txt\n",
        "90"
      ]
    },
    {
      "cell_type": "code",
      "execution_count": null,
      "metadata": {
        "id": "fYCjAdA_C-wy"
      },
      "outputs": [],
      "source": [
        "!./max_pairwise_product_full< input1.txt > ctest1.txt\n",
        "!grep -xvFf output1.txt ctest1.txt"
      ]
    },
    {
      "cell_type": "code",
      "source": [
        "%%writefile input2.txt\n",
        "10\n",
        "10 9 8 7 6 5 4 3 2 1"
      ],
      "metadata": {
        "colab": {
          "base_uri": "https://localhost:8080/"
        },
        "id": "ZPe40LY14_6f",
        "outputId": "d6039310-50a3-4df9-c1e7-0f309919d4ba"
      },
      "execution_count": null,
      "outputs": [
        {
          "output_type": "stream",
          "name": "stdout",
          "text": [
            "Writing input2.txt\n"
          ]
        }
      ]
    },
    {
      "cell_type": "code",
      "source": [
        "%%writefile output2.txt\n",
        "90"
      ],
      "metadata": {
        "colab": {
          "base_uri": "https://localhost:8080/"
        },
        "id": "xiHmF7HA5Faa",
        "outputId": "d207ee0c-93d3-4505-f575-cba6181a52c4"
      },
      "execution_count": null,
      "outputs": [
        {
          "output_type": "stream",
          "name": "stdout",
          "text": [
            "Overwriting output2.txt\n"
          ]
        }
      ]
    },
    {
      "cell_type": "code",
      "source": [
        "!./max_pairwise_product_full< input2.txt > ctest2.txt\n",
        "!grep -xvFf output2.txt ctest2.txt"
      ],
      "metadata": {
        "id": "jjwc9kwb5t_k"
      },
      "execution_count": null,
      "outputs": []
    },
    {
      "cell_type": "markdown",
      "metadata": {
        "id": "IeZ3kTjpYmR9"
      },
      "source": [
        "### Test 2: largest input numbers 200000 200000 in the input"
      ]
    },
    {
      "cell_type": "code",
      "execution_count": null,
      "metadata": {
        "colab": {
          "base_uri": "https://localhost:8080/"
        },
        "id": "LQNlZqaqYt7U",
        "outputId": "1864e735-1a3f-4b53-f5ab-8ddde7b76a7d"
      },
      "outputs": [
        {
          "output_type": "stream",
          "name": "stdout",
          "text": [
            "Writing input3.txt\n"
          ]
        }
      ],
      "source": [
        "%%writefile input3.txt\n",
        "6\n",
        "1 3 200000 9 200000 23"
      ]
    },
    {
      "cell_type": "code",
      "execution_count": null,
      "metadata": {
        "colab": {
          "base_uri": "https://localhost:8080/"
        },
        "id": "GjQq7QOUCw-9",
        "outputId": "9d2dcf3a-20e5-4e11-bb4f-d96099c3f819"
      },
      "outputs": [
        {
          "output_type": "execute_result",
          "data": {
            "text/plain": [
              "40000000000"
            ]
          },
          "metadata": {},
          "execution_count": 31
        }
      ],
      "source": [
        "200000*200000"
      ]
    },
    {
      "cell_type": "code",
      "execution_count": null,
      "metadata": {
        "colab": {
          "base_uri": "https://localhost:8080/"
        },
        "id": "EuS6n3jtDK5C",
        "outputId": "8d0902c3-d145-4184-e731-12e4688e2bf2"
      },
      "outputs": [
        {
          "output_type": "stream",
          "name": "stdout",
          "text": [
            "Writing output3.txt\n"
          ]
        }
      ],
      "source": [
        "%%writefile output3.txt\n",
        "40000000000"
      ]
    },
    {
      "cell_type": "code",
      "execution_count": null,
      "metadata": {
        "colab": {
          "base_uri": "https://localhost:8080/"
        },
        "id": "2Wad2VZUZDxR",
        "outputId": "58bb1e07-5c15-4cca-94f7-0db7ddb6cec4"
      },
      "outputs": [
        {
          "output_type": "stream",
          "name": "stdout",
          "text": [
            "1345294336\n"
          ]
        }
      ],
      "source": [
        "!./max_pairwise_product_full < input3.txt"
      ]
    },
    {
      "cell_type": "code",
      "execution_count": null,
      "metadata": {
        "colab": {
          "base_uri": "https://localhost:8080/"
        },
        "id": "pEvp1ieyDJGq",
        "outputId": "78da4b23-1c2a-4d96-e367-2ccab7711162"
      },
      "outputs": [
        {
          "output_type": "stream",
          "name": "stdout",
          "text": [
            "1345294336\n"
          ]
        }
      ],
      "source": [
        "!./max_pairwise_product_full < input3.txt > ctest3.txt\n",
        "!grep -xvFf output3.txt ctest3.txt"
      ]
    },
    {
      "cell_type": "code",
      "source": [
        " %%writefile run_all_test.sh\n",
        "#!/bin/bash\n",
        "g++ max_pairwise_product_full.cpp -o max_pairwise_product_full\n",
        "for i in {1..3}\n",
        "do\n",
        "    ./max_pairwise_product_full < input$i.txt > ctest$i.txt\n",
        "    grep -xvFf output$i.txt ctest$i.txt\n",
        "done"
      ],
      "metadata": {
        "colab": {
          "base_uri": "https://localhost:8080/"
        },
        "id": "SrtJrKqM-God",
        "outputId": "137f5513-0344-4cba-d418-778e5ae950f3"
      },
      "execution_count": null,
      "outputs": [
        {
          "output_type": "stream",
          "name": "stdout",
          "text": [
            "Writing run_all_test.sh\n"
          ]
        }
      ]
    },
    {
      "cell_type": "code",
      "source": [
        "!chmod u+x run_all_test.sh\n",
        "!./run_all_test.sh"
      ],
      "metadata": {
        "colab": {
          "base_uri": "https://localhost:8080/"
        },
        "id": "wGWMHtzS-QnA",
        "outputId": "c04ced3e-a7ce-4044-d0ac-7e74b9ad2786"
      },
      "execution_count": null,
      "outputs": [
        {
          "output_type": "stream",
          "name": "stdout",
          "text": [
            "1345294336\n"
          ]
        }
      ]
    },
    {
      "cell_type": "markdown",
      "metadata": {
        "id": "H2SC0Qt5HCzz"
      },
      "source": [
        "Changing the variables to long long"
      ]
    },
    {
      "cell_type": "code",
      "execution_count": null,
      "metadata": {
        "colab": {
          "base_uri": "https://localhost:8080/"
        },
        "id": "MPcmsxiQZSfE",
        "outputId": "6069b625-d553-41cd-d244-41cd31c415b5"
      },
      "outputs": [
        {
          "output_type": "stream",
          "name": "stdout",
          "text": [
            "Writing max_pairwise_product_long_full.cpp\n"
          ]
        }
      ],
      "source": [
        "%%writefile max_pairwise_product_long_full.cpp\n",
        "#include <iostream>\n",
        "#include <vector>\n",
        "#include <algorithm>\n",
        "\n",
        "long long MaxPairwiseProduct(const std::vector<int>& numbers) {\n",
        "    long long max_product = 0LL;\n",
        "\t  long long aux_product = 0LL;\n",
        "    int n = numbers.size();\n",
        "\n",
        "    for (int first = 0; first < n; ++first) {\n",
        "        for (int second = 0; second < n; ++second) {\n",
        "          if ( first != second){\n",
        "                aux_product = (long long) numbers[first] * numbers[second];\n",
        "                if (aux_product > max_product)  max_product = aux_product;\n",
        "          }\n",
        "        }\n",
        "    }\n",
        "\n",
        "\n",
        "    return max_product;\n",
        "}\n",
        "\n",
        "int main() {\n",
        "    int n;\n",
        "    std::cin >> n;\n",
        "    std::vector<int> numbers(n);\n",
        "    for (int i = 0; i < n; ++i) {\n",
        "        std::cin >> numbers[i];\n",
        "    }\n",
        "\n",
        "    std::cout << MaxPairwiseProduct(numbers) << \"\\n\";\n",
        "    return 0;\n",
        "}\n"
      ]
    },
    {
      "cell_type": "code",
      "source": [
        "!g++ max_pairwise_product_long_full.cpp -o max_pairwise_product_long_full"
      ],
      "metadata": {
        "id": "W3xQpFXL6wjO"
      },
      "execution_count": null,
      "outputs": []
    },
    {
      "cell_type": "code",
      "source": [
        "!./max_pairwise_product_long_full < input3.txt"
      ],
      "metadata": {
        "colab": {
          "base_uri": "https://localhost:8080/"
        },
        "id": "H5dvN9M3R9sV",
        "outputId": "d77cb5ae-b20f-4c65-b8e2-fc4b2664058f"
      },
      "execution_count": null,
      "outputs": [
        {
          "output_type": "stream",
          "name": "stdout",
          "text": [
            "40000000000\n"
          ]
        }
      ]
    },
    {
      "cell_type": "markdown",
      "source": [
        "### Runing multuple test with a bash shell"
      ],
      "metadata": {
        "id": "gx-sEYdfQ8f8"
      }
    },
    {
      "cell_type": "code",
      "source": [
        " %%writefile run_all_test.sh\n",
        "#!/bin/bash\n",
        "g++ max_pairwise_product_long_full.cpp -o max_pairwise_product_long_full\n",
        "for i in {1..3}\n",
        "do\n",
        "    ./max_pairwise_product_long_full < input$i.txt > ctest$i.txt\n",
        "    grep -xvFf output$i.txt ctest$i.txt\n",
        "done"
      ],
      "metadata": {
        "colab": {
          "base_uri": "https://localhost:8080/"
        },
        "id": "O9qsq2nn7elw",
        "outputId": "8e575c41-9b2c-4028-e545-70d092146f2f"
      },
      "execution_count": null,
      "outputs": [
        {
          "output_type": "stream",
          "name": "stdout",
          "text": [
            "Overwriting run_all_test.sh\n"
          ]
        }
      ]
    },
    {
      "cell_type": "code",
      "source": [
        "!chmod u+x run_all_test.sh\n",
        "!./run_all_test.sh"
      ],
      "metadata": {
        "id": "0g5kKVph7xIA"
      },
      "execution_count": null,
      "outputs": []
    },
    {
      "cell_type": "markdown",
      "metadata": {
        "id": "XPVHkHxH6_7s"
      },
      "source": [
        "### Test 3  stress tests 6 testing cases files input4.txt/output4.txt .. input10.txt/output10.txt\n",
        "\n",
        "---\n",
        "\n"
      ]
    },
    {
      "cell_type": "markdown",
      "source": [
        "----------------------------------------------------**Test *3.1***-------------------------------------------------"
      ],
      "metadata": {
        "id": "kNdssEKaLCtl"
      }
    },
    {
      "cell_type": "code",
      "execution_count": null,
      "metadata": {
        "id": "PwqpBmYr69fu",
        "colab": {
          "base_uri": "https://localhost:8080/"
        },
        "outputId": "939077b2-65e9-495e-d126-5149a1f0a52e"
      },
      "outputs": [
        {
          "output_type": "stream",
          "name": "stdout",
          "text": [
            "Writing input4.txt\n"
          ]
        }
      ],
      "source": [
        "%%writefile input4.txt\n",
        "10\n",
        "7 8 9554  5214  42  567 331 44  4 1"
      ]
    },
    {
      "cell_type": "code",
      "source": [
        "9554*5214"
      ],
      "metadata": {
        "colab": {
          "base_uri": "https://localhost:8080/"
        },
        "id": "znRSKu9iJv4y",
        "outputId": "a05747c4-b7aa-4c79-cf7c-8eff2a213770"
      },
      "execution_count": null,
      "outputs": [
        {
          "output_type": "execute_result",
          "data": {
            "text/plain": [
              "49814556"
            ]
          },
          "metadata": {},
          "execution_count": 43
        }
      ]
    },
    {
      "cell_type": "code",
      "source": [
        "%%writefile ctest4.txt\n",
        "49814556"
      ],
      "metadata": {
        "colab": {
          "base_uri": "https://localhost:8080/"
        },
        "id": "CGTeM2YuKYuV",
        "outputId": "71751f2b-3d68-4dbf-ba3d-c7910e6e0ead"
      },
      "execution_count": null,
      "outputs": [
        {
          "output_type": "stream",
          "name": "stdout",
          "text": [
            "Writing ctest4.txt\n"
          ]
        }
      ]
    },
    {
      "cell_type": "code",
      "execution_count": null,
      "metadata": {
        "id": "jBCkMeR6Fw4y",
        "colab": {
          "base_uri": "https://localhost:8080/"
        },
        "outputId": "de09d7c5-4fff-415e-b04f-618605609309"
      },
      "outputs": [
        {
          "output_type": "stream",
          "name": "stdout",
          "text": [
            "49814556\n"
          ]
        }
      ],
      "source": [
        "!./max_pairwise_product_long_full < input4.txt"
      ]
    },
    {
      "cell_type": "code",
      "source": [
        "%%writefile output4.txt\n",
        "49814556"
      ],
      "metadata": {
        "colab": {
          "base_uri": "https://localhost:8080/"
        },
        "id": "U-MpdcGtJ6YS",
        "outputId": "dbea7b78-80c0-40cd-fba1-762930042b26"
      },
      "execution_count": null,
      "outputs": [
        {
          "output_type": "stream",
          "name": "stdout",
          "text": [
            "Writing output4.txt\n"
          ]
        }
      ]
    },
    {
      "cell_type": "code",
      "source": [
        "!./max_pairwise_product_long_full < input4.txt > ctest4.txt\n",
        "!grep -xvFf output4.txt ctest4.txt"
      ],
      "metadata": {
        "id": "zED8V8wu-eoM"
      },
      "execution_count": null,
      "outputs": []
    },
    {
      "cell_type": "code",
      "source": [
        "!chmod u+x run_all_test.sh\n",
        "!./run_all_test.sh"
      ],
      "metadata": {
        "id": "PDBtWiLjwWe7"
      },
      "execution_count": null,
      "outputs": []
    },
    {
      "cell_type": "markdown",
      "source": [
        "----------------------------------------------------Test 3.2-------------------------------------------------"
      ],
      "metadata": {
        "id": "28Iz8x04L6xU"
      }
    },
    {
      "cell_type": "code",
      "source": [
        "%%writefile input5.txt\n",
        "5\n",
        "23  5 4455  6871  25"
      ],
      "metadata": {
        "colab": {
          "base_uri": "https://localhost:8080/"
        },
        "id": "mezxRXlSL88Z",
        "outputId": "34abe150-f732-4f07-8593-4556bff73f8c"
      },
      "execution_count": null,
      "outputs": [
        {
          "output_type": "stream",
          "name": "stdout",
          "text": [
            "Writing input5.txt\n"
          ]
        }
      ]
    },
    {
      "cell_type": "code",
      "source": [
        "4455*6871"
      ],
      "metadata": {
        "colab": {
          "base_uri": "https://localhost:8080/"
        },
        "id": "nwwrQG6AMPC-",
        "outputId": "810056d3-e52d-4bb2-c12b-3d1d471b1549"
      },
      "execution_count": null,
      "outputs": [
        {
          "output_type": "execute_result",
          "data": {
            "text/plain": [
              "30610305"
            ]
          },
          "metadata": {},
          "execution_count": 50
        }
      ]
    },
    {
      "cell_type": "code",
      "source": [
        "%%writefile ctest5.txt\n",
        "30610305"
      ],
      "metadata": {
        "colab": {
          "base_uri": "https://localhost:8080/"
        },
        "id": "a3GTxPrpMVCK",
        "outputId": "26bf9da0-fc1f-4e65-ff20-492374028ae3"
      },
      "execution_count": null,
      "outputs": [
        {
          "output_type": "stream",
          "name": "stdout",
          "text": [
            "Writing ctest5.txt\n"
          ]
        }
      ]
    },
    {
      "cell_type": "code",
      "source": [
        "!./max_pairwise_product_long_full < input5.txt"
      ],
      "metadata": {
        "colab": {
          "base_uri": "https://localhost:8080/"
        },
        "id": "pjB6ohzwMa65",
        "outputId": "c4b35342-f005-41ff-84be-b625bfd3b8d1"
      },
      "execution_count": null,
      "outputs": [
        {
          "output_type": "stream",
          "name": "stdout",
          "text": [
            "30610305\n"
          ]
        }
      ]
    },
    {
      "cell_type": "code",
      "source": [
        "%%writefile output5.txt\n",
        "30610305"
      ],
      "metadata": {
        "colab": {
          "base_uri": "https://localhost:8080/"
        },
        "id": "Lv3TT5a9MgsR",
        "outputId": "802ff831-752a-4950-8c56-0262da54e08a"
      },
      "execution_count": null,
      "outputs": [
        {
          "output_type": "stream",
          "name": "stdout",
          "text": [
            "Writing output5.txt\n"
          ]
        }
      ]
    },
    {
      "cell_type": "code",
      "source": [
        "!./max_pairwise_product_long_full < input5.txt > ctest5.txt\n",
        "!grep -xvFf output5.txt ctest5.txt"
      ],
      "metadata": {
        "id": "5creajHDMv-v"
      },
      "execution_count": null,
      "outputs": []
    },
    {
      "cell_type": "code",
      "source": [
        "!chmod u+x run_all_test.sh\n",
        "!./run_all_test.sh"
      ],
      "metadata": {
        "id": "zBngQ_bZwch-"
      },
      "execution_count": null,
      "outputs": []
    },
    {
      "cell_type": "markdown",
      "source": [
        "---------------------------------------------------Test 3.3-------------------------------------------------"
      ],
      "metadata": {
        "id": "f9RAYYdqM4sv"
      }
    },
    {
      "cell_type": "code",
      "source": [
        "%%writefile input6.txt\n",
        "20\n",
        "12  3 6 7 918 4 1 2 85  3 7 23  45  68  72  23  100 58  75  64"
      ],
      "metadata": {
        "colab": {
          "base_uri": "https://localhost:8080/"
        },
        "id": "WNnxrGTpM7NZ",
        "outputId": "c1d9ffec-d6eb-464c-d0a0-77b0e2bd770e"
      },
      "execution_count": null,
      "outputs": [
        {
          "output_type": "stream",
          "name": "stdout",
          "text": [
            "Writing input6.txt\n"
          ]
        }
      ]
    },
    {
      "cell_type": "code",
      "source": [
        "918*100"
      ],
      "metadata": {
        "colab": {
          "base_uri": "https://localhost:8080/"
        },
        "id": "GOzyPpDVNPWh",
        "outputId": "cbb2ab46-c15d-4876-86cd-be64052adefa"
      },
      "execution_count": null,
      "outputs": [
        {
          "output_type": "execute_result",
          "data": {
            "text/plain": [
              "91800"
            ]
          },
          "metadata": {},
          "execution_count": 57
        }
      ]
    },
    {
      "cell_type": "code",
      "source": [
        "%%writefile ctest6.txt\n",
        "91800"
      ],
      "metadata": {
        "colab": {
          "base_uri": "https://localhost:8080/"
        },
        "id": "siTs6VyFNT2x",
        "outputId": "634e2b89-c76c-4d5a-cb57-80c11a39d8a7"
      },
      "execution_count": null,
      "outputs": [
        {
          "output_type": "stream",
          "name": "stdout",
          "text": [
            "Writing ctest6.txt\n"
          ]
        }
      ]
    },
    {
      "cell_type": "code",
      "source": [
        "!./max_pairwise_product_long_full < input6.txt"
      ],
      "metadata": {
        "colab": {
          "base_uri": "https://localhost:8080/"
        },
        "id": "mD-3_5cZNjOW",
        "outputId": "88c2d860-1398-40f6-af76-4502f3baa435"
      },
      "execution_count": null,
      "outputs": [
        {
          "output_type": "stream",
          "name": "stdout",
          "text": [
            "91800\n"
          ]
        }
      ]
    },
    {
      "cell_type": "code",
      "source": [
        "%%writefile output6.txt\n",
        "91800"
      ],
      "metadata": {
        "colab": {
          "base_uri": "https://localhost:8080/"
        },
        "id": "NyWfUu6UNzth",
        "outputId": "24501bd0-a3ef-4113-8f52-e116b6186682"
      },
      "execution_count": null,
      "outputs": [
        {
          "output_type": "stream",
          "name": "stdout",
          "text": [
            "Writing output6.txt\n"
          ]
        }
      ]
    },
    {
      "cell_type": "code",
      "source": [
        "!./max_pairwise_product_long_full < input6.txt > ctest6.txt\n",
        "!grep -xvFf output6.txt ctest6.txt"
      ],
      "metadata": {
        "id": "zdpXqioHN-zP"
      },
      "execution_count": null,
      "outputs": []
    },
    {
      "cell_type": "code",
      "source": [
        "!chmod u+x run_all_test.sh\n",
        "!./run_all_test.sh"
      ],
      "metadata": {
        "id": "iEP2vANFwh6o"
      },
      "execution_count": null,
      "outputs": []
    },
    {
      "cell_type": "markdown",
      "source": [
        "----------------------------------------------------Test 3.4-------------------------------------------------"
      ],
      "metadata": {
        "id": "hz6F4BpiOR9E"
      }
    },
    {
      "cell_type": "code",
      "source": [
        "%%writefile input7.txt\n",
        "3\n",
        "233356464  112745  4556658"
      ],
      "metadata": {
        "colab": {
          "base_uri": "https://localhost:8080/"
        },
        "id": "fRQLGlrVOVc-",
        "outputId": "500826b0-dadb-42f6-9035-42a2c8bcddd0"
      },
      "execution_count": null,
      "outputs": [
        {
          "output_type": "stream",
          "name": "stdout",
          "text": [
            "Writing input7.txt\n"
          ]
        }
      ]
    },
    {
      "cell_type": "code",
      "source": [
        "233356464*4556658"
      ],
      "metadata": {
        "colab": {
          "base_uri": "https://localhost:8080/"
        },
        "id": "4wYiYhjCOhI8",
        "outputId": "84ca354a-ae29-4c1d-9177-aab1f72daae1"
      },
      "execution_count": null,
      "outputs": [
        {
          "output_type": "execute_result",
          "data": {
            "text/plain": [
              "1063325598537312"
            ]
          },
          "metadata": {},
          "execution_count": 64
        }
      ]
    },
    {
      "cell_type": "code",
      "source": [
        "%%writefile ctest7.txt\n",
        "1063325598537312"
      ],
      "metadata": {
        "colab": {
          "base_uri": "https://localhost:8080/"
        },
        "id": "ZpZ5h0cZOorW",
        "outputId": "cbb8ad11-4ec1-4f78-d9aa-f4f6d38cfaa4"
      },
      "execution_count": null,
      "outputs": [
        {
          "output_type": "stream",
          "name": "stdout",
          "text": [
            "Writing ctest7.txt\n"
          ]
        }
      ]
    },
    {
      "cell_type": "code",
      "source": [
        "!./max_pairwise_product_long_full < input7.txt"
      ],
      "metadata": {
        "id": "RvI7spMXOxH-",
        "outputId": "80abfb37-635e-49e0-e600-790afd2cdf0c",
        "colab": {
          "base_uri": "https://localhost:8080/"
        }
      },
      "execution_count": null,
      "outputs": [
        {
          "output_type": "stream",
          "name": "stdout",
          "text": [
            "1063325598537312\n"
          ]
        }
      ]
    },
    {
      "cell_type": "code",
      "source": [
        "%%writefile output7.txt\n",
        "1063325598537312"
      ],
      "metadata": {
        "id": "eVG2i-wnPEkt",
        "outputId": "bd3a0391-a3b4-465b-c5b0-6b0fae78ad87",
        "colab": {
          "base_uri": "https://localhost:8080/"
        }
      },
      "execution_count": null,
      "outputs": [
        {
          "output_type": "stream",
          "name": "stdout",
          "text": [
            "Writing output7.txt\n"
          ]
        }
      ]
    },
    {
      "cell_type": "code",
      "source": [
        "!./max_pairwise_product_long_full < input7.txt > ctest7.txt\n",
        "!grep -xvFf output7.txt ctest7.txt"
      ],
      "metadata": {
        "id": "SopuwqiPPLe1"
      },
      "execution_count": null,
      "outputs": []
    },
    {
      "cell_type": "code",
      "source": [
        "!chmod u+x run_all_test.sh\n",
        "!./run_all_test.sh"
      ],
      "metadata": {
        "id": "ZNeW-E2qwnsA"
      },
      "execution_count": null,
      "outputs": []
    },
    {
      "cell_type": "markdown",
      "source": [
        "---------------------------------------------------Test 3.5-------------------------------------------------"
      ],
      "metadata": {
        "id": "KZdMA6uNPcT9"
      }
    },
    {
      "cell_type": "code",
      "source": [
        "%%writefile input8.txt\n",
        "4\n",
        "10101  10001101  101 1"
      ],
      "metadata": {
        "id": "6bhSTF7zPdc1",
        "outputId": "78b37def-64a7-4d29-c9c0-9e1419568799",
        "colab": {
          "base_uri": "https://localhost:8080/"
        }
      },
      "execution_count": null,
      "outputs": [
        {
          "output_type": "stream",
          "name": "stdout",
          "text": [
            "Writing input8.txt\n"
          ]
        }
      ]
    },
    {
      "cell_type": "code",
      "source": [
        "10101*10001101"
      ],
      "metadata": {
        "id": "pH2LCaSvPrsM",
        "outputId": "5b0e9626-18eb-4736-e0f6-3f3a74dcdada",
        "colab": {
          "base_uri": "https://localhost:8080/"
        }
      },
      "execution_count": null,
      "outputs": [
        {
          "output_type": "execute_result",
          "data": {
            "text/plain": [
              "101021121201"
            ]
          },
          "metadata": {},
          "execution_count": 71
        }
      ]
    },
    {
      "cell_type": "code",
      "source": [
        "%%writefile ctest8.txt\n",
        "101021121201"
      ],
      "metadata": {
        "id": "r2kmFl-KP0MI",
        "outputId": "fc7f70fe-7a07-4f41-bd7d-86264d21ae34",
        "colab": {
          "base_uri": "https://localhost:8080/"
        }
      },
      "execution_count": null,
      "outputs": [
        {
          "output_type": "stream",
          "name": "stdout",
          "text": [
            "Writing ctest8.txt\n"
          ]
        }
      ]
    },
    {
      "cell_type": "code",
      "source": [
        "!./max_pairwise_product_long_full < input8.txt"
      ],
      "metadata": {
        "id": "c84DRGjjQA80",
        "outputId": "b5a57d60-6254-4e50-ecca-f39246601aa3",
        "colab": {
          "base_uri": "https://localhost:8080/"
        }
      },
      "execution_count": null,
      "outputs": [
        {
          "output_type": "stream",
          "name": "stdout",
          "text": [
            "101021121201\n"
          ]
        }
      ]
    },
    {
      "cell_type": "code",
      "source": [
        "%%writefile output8.txt\n",
        "101021121201"
      ],
      "metadata": {
        "id": "MFw_KRLRQEnJ",
        "outputId": "db55401c-4cf5-4e77-cc87-8a222ecde241",
        "colab": {
          "base_uri": "https://localhost:8080/"
        }
      },
      "execution_count": null,
      "outputs": [
        {
          "output_type": "stream",
          "name": "stdout",
          "text": [
            "Writing output8.txt\n"
          ]
        }
      ]
    },
    {
      "cell_type": "code",
      "source": [
        "!./max_pairwise_product_long_full < input8.txt > ctest8.txt\n",
        "!grep -xvFf output8.txt ctest8.txt"
      ],
      "metadata": {
        "id": "sAn0CJX0QOJK"
      },
      "execution_count": null,
      "outputs": []
    },
    {
      "cell_type": "code",
      "source": [
        "!chmod u+x run_all_test.sh\n",
        "!./run_all_test.sh"
      ],
      "metadata": {
        "id": "iOKkwt8vwsYA"
      },
      "execution_count": null,
      "outputs": []
    },
    {
      "cell_type": "markdown",
      "source": [
        "---------------------------------------------------Test 3.6-------------------------------------------------"
      ],
      "metadata": {
        "id": "UJaSC5RCQUJK"
      }
    },
    {
      "cell_type": "code",
      "source": [
        "%%writefile input9.txt\n",
        "7\n",
        "2 3 5 7 4 9 1"
      ],
      "metadata": {
        "id": "WPHHSnHTQZND",
        "outputId": "0b86d0bc-6c50-4255-90a8-b4e146f4352f",
        "colab": {
          "base_uri": "https://localhost:8080/"
        }
      },
      "execution_count": null,
      "outputs": [
        {
          "output_type": "stream",
          "name": "stdout",
          "text": [
            "Writing input9.txt\n"
          ]
        }
      ]
    },
    {
      "cell_type": "code",
      "source": [
        "7*9"
      ],
      "metadata": {
        "id": "Epb0fnQnQmBx",
        "outputId": "2ab324c5-6eba-485e-9d07-ca942574ff7a",
        "colab": {
          "base_uri": "https://localhost:8080/"
        }
      },
      "execution_count": null,
      "outputs": [
        {
          "output_type": "execute_result",
          "data": {
            "text/plain": [
              "63"
            ]
          },
          "metadata": {},
          "execution_count": 78
        }
      ]
    },
    {
      "cell_type": "code",
      "source": [
        "%%writefile ctest9.txt\n",
        "63"
      ],
      "metadata": {
        "id": "N5n1nscCQqUI",
        "outputId": "9a8463b4-ea01-4a3b-fbd8-0cf62282d855",
        "colab": {
          "base_uri": "https://localhost:8080/"
        }
      },
      "execution_count": null,
      "outputs": [
        {
          "output_type": "stream",
          "name": "stdout",
          "text": [
            "Writing ctest9.txt\n"
          ]
        }
      ]
    },
    {
      "cell_type": "code",
      "source": [
        "!./max_pairwise_product_long_full < input9.txt"
      ],
      "metadata": {
        "id": "upZC1OIUQr7u",
        "outputId": "fd9ffaa2-f368-4eac-9b80-8926e83ff110",
        "colab": {
          "base_uri": "https://localhost:8080/"
        }
      },
      "execution_count": null,
      "outputs": [
        {
          "output_type": "stream",
          "name": "stdout",
          "text": [
            "63\n"
          ]
        }
      ]
    },
    {
      "cell_type": "code",
      "source": [
        "%%writefile output9.txt\n",
        "63"
      ],
      "metadata": {
        "id": "ojsPe6ooQzHS",
        "outputId": "a6a22187-ca8b-4c08-df0c-dbcae57a90d6",
        "colab": {
          "base_uri": "https://localhost:8080/"
        }
      },
      "execution_count": null,
      "outputs": [
        {
          "output_type": "stream",
          "name": "stdout",
          "text": [
            "Writing output9.txt\n"
          ]
        }
      ]
    },
    {
      "cell_type": "code",
      "source": [
        "!./max_pairwise_product_long_full < input9.txt > ctest9.txt\n",
        "!grep -xvFf output9.txt ctest9.txt"
      ],
      "metadata": {
        "id": "0XInClImQ7ei"
      },
      "execution_count": null,
      "outputs": []
    },
    {
      "cell_type": "code",
      "source": [
        "!chmod u+x run_all_test.sh\n",
        "!./run_all_test.sh"
      ],
      "metadata": {
        "id": "Uq1PNUf6wxwf"
      },
      "execution_count": null,
      "outputs": []
    },
    {
      "cell_type": "markdown",
      "source": [
        "---------------------------------------------------Test 3.7-------------------------------------------------"
      ],
      "metadata": {
        "id": "6HOTspiORCnO"
      }
    },
    {
      "cell_type": "code",
      "source": [
        "%%writefile input10.txt\n",
        "12\n",
        "2 3 5 7 4 9 1 55 44 56 78 98"
      ],
      "metadata": {
        "id": "SdGR_iRRREwa",
        "outputId": "5862128c-3a0d-443e-ef5d-484438abee1a",
        "colab": {
          "base_uri": "https://localhost:8080/"
        }
      },
      "execution_count": null,
      "outputs": [
        {
          "output_type": "stream",
          "name": "stdout",
          "text": [
            "Writing input10.txt\n"
          ]
        }
      ]
    },
    {
      "cell_type": "code",
      "source": [
        "78*98"
      ],
      "metadata": {
        "id": "GL3iz-IlRVCk",
        "outputId": "5dc7c58d-2b56-419d-e38f-7a488fbdef74",
        "colab": {
          "base_uri": "https://localhost:8080/"
        }
      },
      "execution_count": null,
      "outputs": [
        {
          "output_type": "execute_result",
          "data": {
            "text/plain": [
              "7644"
            ]
          },
          "metadata": {},
          "execution_count": 85
        }
      ]
    },
    {
      "cell_type": "code",
      "source": [
        "%%writefile ctest10.txt\n",
        "7644"
      ],
      "metadata": {
        "id": "nPd_AYYJRb_S",
        "outputId": "3a83a441-186b-42a1-b654-5b0e2fc123ab",
        "colab": {
          "base_uri": "https://localhost:8080/"
        }
      },
      "execution_count": null,
      "outputs": [
        {
          "output_type": "stream",
          "name": "stdout",
          "text": [
            "Writing ctest10.txt\n"
          ]
        }
      ]
    },
    {
      "cell_type": "code",
      "source": [
        "!./max_pairwise_product_long_full < input10.txt"
      ],
      "metadata": {
        "id": "5mlLAyPcRioW",
        "outputId": "e281602a-d160-46cb-a0bd-c69ec6a1e1ce",
        "colab": {
          "base_uri": "https://localhost:8080/"
        }
      },
      "execution_count": null,
      "outputs": [
        {
          "output_type": "stream",
          "name": "stdout",
          "text": [
            "7644\n"
          ]
        }
      ]
    },
    {
      "cell_type": "code",
      "source": [
        "%%writefile output10.txt\n",
        "7644"
      ],
      "metadata": {
        "id": "COcpbUfRRmnN",
        "outputId": "9f6bbdf4-abcb-45ee-c224-9aded27d4612",
        "colab": {
          "base_uri": "https://localhost:8080/"
        }
      },
      "execution_count": null,
      "outputs": [
        {
          "output_type": "stream",
          "name": "stdout",
          "text": [
            "Writing output10.txt\n"
          ]
        }
      ]
    },
    {
      "cell_type": "code",
      "source": [
        "!./max_pairwise_product_long_full < input10.txt > ctest10.txt\n",
        "!grep -xvFf output10.txt ctest10.txt"
      ],
      "metadata": {
        "id": "T4hzHzEMRuiW"
      },
      "execution_count": null,
      "outputs": []
    },
    {
      "cell_type": "code",
      "source": [
        "!chmod u+x run_all_test.sh\n",
        "!./run_all_test.sh"
      ],
      "metadata": {
        "id": "khDTfjDUw2Vy"
      },
      "execution_count": null,
      "outputs": []
    },
    {
      "cell_type": "markdown",
      "metadata": {
        "id": "9z9yr5QkeyJF"
      },
      "source": [
        "### Test 4  time test  measure the execution time running with the the largest worst cases input11.txt  (200000 increasing numbers) and inoput12.txt (199998 increasing numbers and  200000, 200000 at the end)"
      ]
    },
    {
      "cell_type": "code",
      "source": [
        "# input11.txt 200000 increasing numbers:  1 2 .. 200000\n",
        "\n",
        "%%writefile WriteTest.cpp\n",
        "\n",
        "#include <iostream>\n",
        "#include <fstream>\n",
        "#include <cstdlib>\n",
        "\n",
        "using namespace std;\n",
        "\n",
        "int main() {\n",
        "  // Create and open a text file\n",
        "  ofstream MyFile(\"input11.txt\");\n",
        "\n",
        " MyFile << 200000 <<\"\\n\";  // n\n",
        " for (int i=1; i <200001; i++){\n",
        "     MyFile << i <<\" \";\n",
        " }\n",
        "\n",
        "  // Close the file\n",
        "  MyFile.close();\n",
        "}"
      ],
      "metadata": {
        "colab": {
          "base_uri": "https://localhost:8080/"
        },
        "id": "UmB1ipWM_nSk",
        "outputId": "d508b290-e1d8-423e-bb5f-96e9d693bdd4"
      },
      "execution_count": null,
      "outputs": [
        {
          "output_type": "stream",
          "name": "stdout",
          "text": [
            "Overwriting WriteTest.cpp\n"
          ]
        }
      ]
    },
    {
      "cell_type": "code",
      "execution_count": null,
      "metadata": {
        "id": "EH25TkOkZfD9"
      },
      "outputs": [],
      "source": [
        "!g++ WriteTest.cpp -o WriteTest\n",
        "!./WriteTest"
      ]
    },
    {
      "cell_type": "code",
      "source": [
        "199999 * 200000"
      ],
      "metadata": {
        "colab": {
          "base_uri": "https://localhost:8080/"
        },
        "id": "j0mokSOnCCtZ",
        "outputId": "b27ea766-186a-4764-a200-fd2b8b1becce"
      },
      "execution_count": null,
      "outputs": [
        {
          "output_type": "execute_result",
          "data": {
            "text/plain": [
              "39999800000"
            ]
          },
          "metadata": {},
          "execution_count": 23
        }
      ]
    },
    {
      "cell_type": "code",
      "source": [
        "%%writefile output11.txt\n",
        "39999800000"
      ],
      "metadata": {
        "id": "VoDhDV73B5Mo",
        "colab": {
          "base_uri": "https://localhost:8080/"
        },
        "outputId": "eed81b52-b549-43b3-c90a-72b29a20650f"
      },
      "execution_count": null,
      "outputs": [
        {
          "output_type": "stream",
          "name": "stdout",
          "text": [
            "Writing output11.txt\n"
          ]
        }
      ]
    },
    {
      "cell_type": "code",
      "execution_count": null,
      "metadata": {
        "colab": {
          "base_uri": "https://localhost:8080/"
        },
        "id": "oLiMjbAIfPlX",
        "outputId": "3dfc0d3f-0cf0-4fe1-98c7-1f27d01bdd76"
      },
      "outputs": [
        {
          "output_type": "stream",
          "name": "stdout",
          "text": [
            "Overwriting WriteTest.cpp\n"
          ]
        }
      ],
      "source": [
        "# input12.txt 200000 decreasing numbers and 200000, 199999 ...  2 1\n",
        "\n",
        "%%writefile WriteTest.cpp\n",
        "\n",
        "#include <iostream>\n",
        "#include <fstream>\n",
        "#include <cstdlib>\n",
        "\n",
        "using namespace std;\n",
        "\n",
        "int main() {\n",
        "  // Create and open a text file\n",
        "  ofstream MyFile(\"input12.txt\");\n",
        "\n",
        " MyFile << 200000 <<\"\\n\";  // n\n",
        " for (int i=1; i <200001; i++){\n",
        "     MyFile << 200001-i <<\" \";\n",
        " }\n",
        "\n",
        "  // Close the file\n",
        "  MyFile.close();\n",
        "}"
      ]
    },
    {
      "cell_type": "code",
      "source": [
        "!g++ WriteTest.cpp -o WriteTest\n",
        "!./WriteTest"
      ],
      "metadata": {
        "id": "oULNBr_zAd9c"
      },
      "execution_count": null,
      "outputs": []
    },
    {
      "cell_type": "code",
      "source": [
        "%%writefile output12.txt\n",
        "39999800000"
      ],
      "metadata": {
        "colab": {
          "base_uri": "https://localhost:8080/"
        },
        "id": "PQLyocaFB-y4",
        "outputId": "d23dd7da-e000-488a-c2ff-f8767b99d8e6"
      },
      "execution_count": null,
      "outputs": [
        {
          "output_type": "stream",
          "name": "stdout",
          "text": [
            "Writing output12.txt\n"
          ]
        }
      ]
    },
    {
      "cell_type": "markdown",
      "metadata": {
        "id": "JB6f03qO-lj9"
      },
      "source": [
        "Measure time\n",
        "\n",
        "https://askubuntu.com/questions/53444/how-can-i-measure-the-execution-time-of-a-terminal-process"
      ]
    },
    {
      "cell_type": "code",
      "execution_count": null,
      "metadata": {
        "colab": {
          "base_uri": "https://localhost:8080/"
        },
        "id": "6p2QLEr576zk",
        "outputId": "c1885356-55e7-44de-ce3b-e5d90f32e0d9"
      },
      "outputs": [
        {
          "output_type": "stream",
          "name": "stdout",
          "text": [
            "40000000000\n",
            "\n",
            "real\t5m6.795s\n",
            "user\t4m59.238s\n",
            "sys\t0m0.217s\n"
          ]
        }
      ],
      "source": [
        "!g++ max_pairwise_product_long_full.cpp -o max_pairwise_product_long_full\n",
        "!time ./max_pairwise_product_long_full< input11.txt"
      ]
    },
    {
      "cell_type": "code",
      "source": [
        "!g++ max_pairwise_product_long_full.cpp -o max_pairwise_product_long_full\n",
        "!time ./max_pairwise_product_long_full< input12.txt"
      ],
      "metadata": {
        "colab": {
          "base_uri": "https://localhost:8080/"
        },
        "id": "cnjCyeUdAnZj",
        "outputId": "eedfde19-dc60-4768-e36f-be089324a0ab"
      },
      "execution_count": null,
      "outputs": [
        {
          "output_type": "stream",
          "name": "stdout",
          "text": [
            "39999800000\n",
            "\n",
            "real\t5m4.108s\n",
            "user\t4m57.506s\n",
            "sys\t0m0.172s\n"
          ]
        }
      ]
    },
    {
      "cell_type": "markdown",
      "metadata": {
        "id": "FXClpBsUJuXC"
      },
      "source": [
        "##### Calculate the number or and upper bound to the number of instructions executed by the algorithm as a function of n, add in each line a comment with the number of instructions that are executed in that line."
      ]
    },
    {
      "cell_type": "code",
      "execution_count": null,
      "metadata": {
        "colab": {
          "base_uri": "https://localhost:8080/"
        },
        "id": "uG6Mv-Pwlkii",
        "outputId": "43f40d77-7b7a-4675-d235-917d3d390bed"
      },
      "outputs": [
        {
          "output_type": "stream",
          "name": "stdout",
          "text": [
            "Writing max_pairwise_product_long_full.cpp\n"
          ]
        }
      ],
      "source": [
        "%%writefile max_pairwise_product_long_full.cpp\n",
        "#include <iostream>\n",
        "#include <vector>\n",
        "#include <algorithm>\n",
        "\n",
        "long long MaxPairwiseProduct(const std::vector<int>& numbers) {              //N inst exec by line executed\n",
        "    long long max_product = 0LL;                                             //1\n",
        "\t  long long aux_product = 0LL;                                             //1\n",
        "    int n = numbers.size();                                                  //1\n",
        "\n",
        "    for (int first = 0; first < n; ++first) {                                //1+2n\n",
        "        for (int second = 0; second < n; ++second) {                         //n + 2n**2\n",
        "          if ( first != second ){                                            //n**2\n",
        "                aux_product = numbers[first] * numbers[second];              //n**2 -n\n",
        "                if (aux_product > max_product)                               //n**2 -n\n",
        "                    max_product = aux_product;                               //[1, n**2/2 - n/2] upper bound\n",
        "          }\n",
        "        }\n",
        "    }\n",
        "\n",
        "                                                                             // --------------\n",
        "    return max_product;                                                      // 4 + n + [5*n**2+1, 11*n**2/2  - n/2]  upper bound\n",
        "}\n",
        "\n",
        "int main() {                                              //N inst exec by line executed\n",
        "    int n;                                                //1\n",
        "    std::cin >> n;                                        //1\n",
        "    std::vector<int> numbers(n);                          //n\n",
        "    for (int i = 0; i < n; ++i) {                         //1 + 2n\n",
        "        std::cin >> numbers[i];                           //n\n",
        "    }\n",
        "\n",
        "    std::cout << MaxPairwiseProduct(numbers) << \"\\n\";     //1 + 1  + 4 + n + [5*n**2+1, 11*n**2/2  - n/2]\n",
        "\n",
        "    return 0;                                             // --------------\n",
        "}                                                         //  9 + 5*n + [5*n**2+1, 11*n**2/2  - n/2]  upper bound\n"
      ]
    },
    {
      "cell_type": "markdown",
      "metadata": {
        "id": "0vTsUg8OwcHs"
      },
      "source": [
        "Count executed intructions in code"
      ]
    },
    {
      "cell_type": "code",
      "execution_count": null,
      "metadata": {
        "colab": {
          "base_uri": "https://localhost:8080/"
        },
        "id": "CuRKkqQc137V",
        "outputId": "df00c5e6-d234-45bf-f27c-55806ecf6a78"
      },
      "outputs": [
        {
          "output_type": "stream",
          "name": "stdout",
          "text": [
            "Writing max_pairwise_product_long_full_execints.cpp\n"
          ]
        }
      ],
      "source": [
        "%%writefile max_pairwise_product_long_full_execints.cpp\n",
        "#include <iostream>\n",
        "#include <vector>\n",
        "#include <algorithm>\n",
        "\n",
        "long long MaxPairwiseProduct(const std::vector<int>& numbers, long long &execints) {              //N inst exec by line executed\n",
        "\n",
        "    long long max_product = 0LL;                                             //1\n",
        "    execints++;\n",
        "\n",
        "\t  long long aux_product = 0LL;                                             //1\n",
        "    execints++;\n",
        "\n",
        "    int n = numbers.size();                                                  //1\n",
        "    execints++;\n",
        "\n",
        "    execints++;\n",
        "    for (int first = 0; first < n; ++first) {                                //1+2n\n",
        "        execints += 2;\n",
        "\n",
        "        execints++;\n",
        "        for (int second = 0; second < n; ++second) {                         //n + 2n**2\n",
        "          execints += 2;\n",
        "\n",
        "          execints++;\n",
        "          if ( first != second ){                                            //n**2\n",
        "                aux_product = numbers[first] * numbers[second];              //n**2 -n\n",
        "                execints++;\n",
        "\n",
        "                execints++;\n",
        "                if (aux_product > max_product){                               //n**2 -n\n",
        "                    max_product = aux_product;                               //[1,n**2/2 - n/2]  upper bound\n",
        "                    execints++;\n",
        "\n",
        "                }\n",
        "        }\n",
        "      }\n",
        "    }\n",
        "                                                                            // --------------\n",
        "    return max_product;                                                     // 4 + n + [5*n**2+1, 11*n**2/2  - n/2] upper bound\n",
        "}\n",
        "\n",
        "int main() {                                                 //N inst exec by line executed\n",
        "\n",
        "    long long execints =0LL;\n",
        "\n",
        "    int n;                                                   //1\n",
        "    execints++;\n",
        "\n",
        "    std::cin >> n;                                           //1\n",
        "    execints++;\n",
        "\n",
        "    std::vector<int> numbers(n);                             //n\n",
        "    execints += n;\n",
        "\n",
        "    execints++;\n",
        "    for (int i = 0; i < n; ++i) {                            //1 + 2n\n",
        "        execints += 2;\n",
        "\n",
        "        std::cin >> numbers[i];\n",
        "        execints++;                                          //n\n",
        "\n",
        "    }\n",
        "\n",
        "\n",
        "\n",
        "    //std::cout << MaxPairwiseProduct(numbers) << \"\\n\";      //1 + 1  + 4 + n + [5*n**2+1, 11*n**2/2  - n/2] upper bound\n",
        "\n",
        "\n",
        "    execints++;\n",
        "    int M = MaxPairwiseProduct(numbers,execints);\n",
        "\n",
        "    execints++;\n",
        "    std::cout <<  execints << \"\\n\";\n",
        "    return 0;                                                // --------------\n",
        "}                                                            // 9 + 5*n + [5*n**2+1, 11*n**2/2  - n/2]"
      ]
    },
    {
      "cell_type": "markdown",
      "source": [
        "The number of instructions executed by the algooirithm with a list of size $n$ is  \n",
        "\n",
        "$$T (n) = 9 + 5n + \\left[5n^2+1, 11\\frac{n^2}{2}  - \\frac{n}{2}\\right] \\ \\  \\text{upper bound}$$\n",
        "\n",
        "It depends on the size of the lists and  the order of the list.\n",
        "\n",
        "For the input1.txt\n",
        "```\n",
        "10\n",
        "1 2 3 4 5 6 7 8 9 10\n",
        "```\n",
        "$$T = 9 + 5(10) + 5(10)(10) +  9 + 5 + 4 + 3 + 2 + 2 + 2 + 2 + 1 + 0  = 589 $$\n",
        "\n",
        "$$T(10) \\in [560, 604]  $$\n"
      ],
      "metadata": {
        "id": "cUjHtvtdDsmr"
      }
    },
    {
      "cell_type": "code",
      "source": [
        "#The number of times that  max_product = aux_product; in the worst case is less than (n**2 -n)/2 -  upper bound\n",
        "\n",
        "   1  2  3  4  5  6  7  8  9  10\n",
        "1  x  2  3  4  5  6  7  8  9  10         9\n",
        "2  2  x  6  8  10 12 14 16 18 20         5 14\n",
        "3  3  6  x  12 15 18 21 24 27 30         4 18\n",
        "4  4  8  12 x  20 24 28 32 36 40         3 21\n",
        "5  5  10 15 20 x  30 35 40 45 50         2 23\n",
        "6  6  12 18 24 30 x  42 48 54 60         2 25\n",
        "7  7  14 21 28 35 42 x  56 63 70         2 27\n",
        "8  8  18 27 36 45 54 63 72 x  90         1 30\n",
        "10 10 20 30 40 50 60 70 60 90 x          0"
      ],
      "metadata": {
        "id": "K59xQMWiBNFj"
      },
      "execution_count": null,
      "outputs": []
    },
    {
      "cell_type": "code",
      "source": [
        "9 + 5*(10) + 5*(10)*(10) +  9 + 5 + 4 + 3 + 2 + 2 + 2 + 2 + 1 + 0"
      ],
      "metadata": {
        "colab": {
          "base_uri": "https://localhost:8080/"
        },
        "id": "E3O8dzFfEgir",
        "outputId": "a7d00562-29f8-4c7a-976c-cfd5855e82fc"
      },
      "execution_count": null,
      "outputs": [
        {
          "output_type": "execute_result",
          "data": {
            "text/plain": [
              "589"
            ]
          },
          "metadata": {},
          "execution_count": 10
        }
      ]
    },
    {
      "cell_type": "code",
      "source": [
        "n = 10\n",
        "print( 9 + 5*n + 5*n**2+1,  9 + 5*n + 11*n**2/2  - n/2)"
      ],
      "metadata": {
        "colab": {
          "base_uri": "https://localhost:8080/"
        },
        "id": "TCpdl5u_Gq1a",
        "outputId": "0fa98a90-6432-496d-8301-9ea874a6a4b1"
      },
      "execution_count": null,
      "outputs": [
        {
          "output_type": "stream",
          "name": "stdout",
          "text": [
            "560 604.0\n"
          ]
        }
      ]
    },
    {
      "cell_type": "code",
      "execution_count": null,
      "metadata": {
        "colab": {
          "base_uri": "https://localhost:8080/"
        },
        "id": "Kuvm1C05ly2a",
        "outputId": "2bd647ae-00be-4183-c19e-792f87307ebf"
      },
      "outputs": [
        {
          "output_type": "stream",
          "name": "stdout",
          "text": [
            "109\n"
          ]
        }
      ],
      "source": [
        "!g++ max_pairwise_product_long_full_execints.cpp -o max_pairwise_product_long_full_execints\n",
        "!./max_pairwise_product_long_full_execints < input1.txt"
      ]
    },
    {
      "cell_type": "markdown",
      "source": [
        "\n",
        "For the input2.txt\n",
        "```\n",
        "10\n",
        "10 9 8 7 6 5 4 3 2 1\n",
        "```\n",
        "$$T = 9 + 5*(10) + 5*(10)**2 +  1  = 560 $$"
      ],
      "metadata": {
        "id": "Yr_Lb7CaHfxB"
      }
    },
    {
      "cell_type": "code",
      "source": [
        "9 + 5*(10) + 5*(10)**2 +  1"
      ],
      "metadata": {
        "colab": {
          "base_uri": "https://localhost:8080/"
        },
        "id": "HOdqlwJiZUIp",
        "outputId": "fa20ccf8-9b26-4a4d-80db-9e94c9151c6d"
      },
      "execution_count": null,
      "outputs": [
        {
          "output_type": "execute_result",
          "data": {
            "text/plain": [
              "560"
            ]
          },
          "metadata": {},
          "execution_count": 133
        }
      ]
    },
    {
      "cell_type": "code",
      "source": [
        "!g++ max_pairwise_product_long_full_execints.cpp -o max_pairwise_product_long_full_execints\n",
        "!./max_pairwise_product_long_full_execints < input4.txt\n",
        "n= 10"
      ],
      "metadata": {
        "id": "_znzLectjFSe"
      },
      "execution_count": null,
      "outputs": []
    },
    {
      "cell_type": "markdown",
      "metadata": {
        "id": "L_uaamxeAHK7"
      },
      "source": [
        "\n",
        "For the input12.txt\n",
        "```\n",
        "200000\n",
        "200000  199999 ... 2 1\n",
        "```\n",
        "$$T = 9 + 5*(200000) + 5*(200000)**2 +1  = 200001000010 $$\n",
        "\n"
      ]
    },
    {
      "cell_type": "code",
      "source": [
        "9 + 5*(200000) + 5*(200000)**2 +1"
      ],
      "metadata": {
        "colab": {
          "base_uri": "https://localhost:8080/"
        },
        "id": "c7X-ewmeXe-h",
        "outputId": "da71964a-7626-4998-921c-587b7d924e01"
      },
      "execution_count": null,
      "outputs": [
        {
          "output_type": "execute_result",
          "data": {
            "text/plain": [
              "200001000010"
            ]
          },
          "metadata": {},
          "execution_count": 130
        }
      ]
    },
    {
      "cell_type": "markdown",
      "metadata": {
        "id": "NXW7QkoBL6xH"
      },
      "source": [
        "Calculate estimated time by instruction and number of instructions by second"
      ]
    },
    {
      "cell_type": "code",
      "source": [
        "!g++ max_pairwise_product_long_full_execints.cpp -o max_pairwise_product_long_full_execints\n",
        "!./max_pairwise_product_long_full_execints < input12.txt\n"
      ],
      "metadata": {
        "colab": {
          "base_uri": "https://localhost:8080/"
        },
        "id": "BMH8mF3EKn2w",
        "outputId": "71f9691d-6cde-4b48-a065-a08a7506d6b5"
      },
      "execution_count": null,
      "outputs": [
        {
          "output_type": "stream",
          "name": "stdout",
          "text": [
            "200001000021\n"
          ]
        }
      ]
    },
    {
      "cell_type": "code",
      "execution_count": null,
      "metadata": {
        "colab": {
          "base_uri": "https://localhost:8080/"
        },
        "id": "pKqB3i7dIxnc",
        "outputId": "138e509f-fee6-4eb0-8524-7e772fd94165"
      },
      "outputs": [
        {
          "output_type": "execute_result",
          "data": {
            "text/plain": [
              "1.5299923499617505e-09"
            ]
          },
          "metadata": {},
          "execution_count": 84
        }
      ],
      "source": [
        "# Estimated time by instruction\n",
        "\n",
        "306/200001000010\n"
      ]
    },
    {
      "cell_type": "code",
      "execution_count": null,
      "metadata": {
        "colab": {
          "base_uri": "https://localhost:8080/"
        },
        "id": "18N1ouqeMhE1",
        "outputId": "41fcbf71-3c6d-4c75-a08a-34df33f82b06"
      },
      "outputs": [
        {
          "output_type": "execute_result",
          "data": {
            "text/plain": [
              "1.5299923499617505e-09"
            ]
          },
          "metadata": {},
          "execution_count": 85
        }
      ],
      "source": [
        "# Estimated number of instructions by second\n",
        "\n",
        "306/200001000010"
      ]
    },
    {
      "cell_type": "markdown",
      "source": [
        "# Estimate the maximun n that can be solved in 1 second\n",
        "\n",
        "$$5n^2 \\times 1.53*10^{-9} s = 1s$$\n",
        "\n",
        "$$ n \\approx 11000$$\n"
      ],
      "metadata": {
        "id": "KyuxejFkL5X_"
      }
    },
    {
      "cell_type": "code",
      "source": [
        "# Verify input13.txt\n",
        "%%writefile WriteTest.cpp\n",
        "\n",
        "#include <iostream>\n",
        "#include <fstream>\n",
        "#include <cstdlib>\n",
        "\n",
        "using namespace std;\n",
        "\n",
        "int main() {\n",
        "  // Create and open a text file\n",
        "  ofstream MyFile(\"input13.txt\");\n",
        "\n",
        " MyFile << 11000 <<\"\\n\";  // n\n",
        " for (int i=1; i <11001; i++){\n",
        "     MyFile << i <<\" \";\n",
        " }\n",
        "\n",
        "  // Close the file\n",
        "  MyFile.close();\n",
        "}"
      ],
      "metadata": {
        "colab": {
          "base_uri": "https://localhost:8080/"
        },
        "id": "WXu5jp-DLTOI",
        "outputId": "388aa6e5-a83a-4089-ec3a-8ebe0c2dd13d"
      },
      "execution_count": null,
      "outputs": [
        {
          "output_type": "stream",
          "name": "stdout",
          "text": [
            "Overwriting WriteTest.cpp\n"
          ]
        }
      ]
    },
    {
      "cell_type": "code",
      "source": [
        "!g++ WriteTest.cpp -o WriteTest\n",
        "!./WriteTest"
      ],
      "metadata": {
        "id": "AQ8N52pUMCeT"
      },
      "execution_count": null,
      "outputs": []
    },
    {
      "cell_type": "code",
      "source": [
        "!g++ max_pairwise_product_long_full.cpp -o max_pairwise_product_long_full\n",
        "!time ./max_pairwise_product_long_full< input13.txt"
      ],
      "metadata": {
        "colab": {
          "base_uri": "https://localhost:8080/"
        },
        "id": "ussuAokfM2du",
        "outputId": "ae6fb163-4643-4055-e7ed-93e432686254"
      },
      "execution_count": null,
      "outputs": [
        {
          "output_type": "stream",
          "name": "stdout",
          "text": [
            "120989000\n",
            "\n",
            "real\t0m0.873s\n",
            "user\t0m0.852s\n",
            "sys\t0m0.003s\n"
          ]
        }
      ]
    },
    {
      "cell_type": "markdown",
      "metadata": {
        "id": "Tm_AVmt-QQH4"
      },
      "source": [
        "## Python"
      ]
    },
    {
      "cell_type": "code",
      "execution_count": null,
      "metadata": {
        "id": "kAEAoNZEQTCw",
        "colab": {
          "base_uri": "https://localhost:8080/"
        },
        "outputId": "4d994716-cc7d-40fe-9e95-90649232d3a5"
      },
      "outputs": [
        {
          "output_type": "stream",
          "name": "stdout",
          "text": [
            "Archivo input13.txt creado y escrito correctamente.\n"
          ]
        }
      ],
      "source": [
        "# Crear y escribir en el archivo\n",
        "with open(\"input13.txt\", \"w\") as file:\n",
        "    file.write(\"11000\\n\")  # n\n",
        "    for i in range(1, 11001):\n",
        "        file.write(f\"{i} \")\n",
        "\n",
        "print(\"Archivo input13.txt creado y escrito correctamente.\")\n"
      ]
    },
    {
      "cell_type": "code",
      "execution_count": null,
      "metadata": {
        "id": "gRCCcd7IQTKZ",
        "colab": {
          "base_uri": "https://localhost:8080/"
        },
        "outputId": "3d0f0542-18bf-45d3-fb10-4657d8a8593c"
      },
      "outputs": [
        {
          "output_type": "stream",
          "name": "stdout",
          "text": [
            "Overwriting max_pairwise_product_python.py\n"
          ]
        }
      ],
      "source": [
        "%%writefile max_pairwise_product_python.py\n",
        "def max_pairwise_product(numbers):\n",
        "    max_product = 0\n",
        "\n",
        "    for first in range(len(numbers)):\n",
        "        for second in range(len(numbers)):\n",
        "            if first != second:\n",
        "                aux_product = numbers[first] * numbers[second]\n",
        "                if aux_product > max_product:\n",
        "                    max_product = aux_product\n",
        "\n",
        "    return max_product\n",
        "\n",
        "if __name__ == \"__main__\":\n",
        "    n = int(input())\n",
        "    numbers = list(map(int, input().split()))\n",
        "\n",
        "    M = max_pairwise_product(numbers)\n",
        "    print(M)\n"
      ]
    },
    {
      "cell_type": "code",
      "execution_count": null,
      "metadata": {
        "id": "hjw7TJrDL0d-",
        "colab": {
          "base_uri": "https://localhost:8080/"
        },
        "outputId": "9b6c5a83-837d-4924-b625-21388356fc76"
      },
      "outputs": [
        {
          "output_type": "stream",
          "name": "stdout",
          "text": [
            "120989000\n",
            "\n",
            "real\t0m21.137s\n",
            "user\t0m20.803s\n",
            "sys\t0m0.023s\n"
          ]
        }
      ],
      "source": [
        "# Verify\n",
        "!time python max_pairwise_product_python.py < input13.txt"
      ]
    },
    {
      "cell_type": "markdown",
      "metadata": {
        "id": "MKQKSC-vKePK"
      },
      "source": [
        "## Perform the same analysis for an algorithm in C++ and Python that uses\n",
        "$$\\frac{n^2 - n}{2} = O(n^2)\\ \\ \\text{products}$$"
      ]
    },
    {
      "cell_type": "code",
      "execution_count": null,
      "metadata": {
        "id": "jkkHHoxSK65p",
        "colab": {
          "base_uri": "https://localhost:8080/"
        },
        "outputId": "b1f9a5a4-a7e0-432d-d197-169045e0315c"
      },
      "outputs": [
        {
          "output_type": "stream",
          "name": "stdout",
          "text": [
            "Writing max_pairwise_product.cpp\n"
          ]
        }
      ],
      "source": [
        "%%writefile max_pairwise_product.cpp\n",
        "#include <iostream>\n",
        "#include <vector>\n",
        "#include <algorithm>\n",
        "\n",
        "int MaxPairwiseProduct(const std::vector<int>& numbers) {\n",
        "    int max_product = 0;\n",
        "    int n = numbers.size();\n",
        "\n",
        "    for (int first = 0; first < n; ++first) {\n",
        "        for (int second = first + 1; second < n; ++second) {\n",
        "            max_product = std::max(max_product,\n",
        "                numbers[first] * numbers[second]);\n",
        "        }\n",
        "    }\n",
        "\n",
        "    return max_product;\n",
        "}\n",
        "\n",
        "int main() {\n",
        "    int n;\n",
        "    std::cin >> n;\n",
        "    std::vector<int> numbers(n);\n",
        "    for (int i = 0; i < n; ++i) {\n",
        "        std::cin >> numbers[i];\n",
        "    }\n",
        "\n",
        "    std::cout << MaxPairwiseProduct(numbers) << \"\\n\";\n",
        "    return 0;\n",
        "}"
      ]
    },
    {
      "cell_type": "code",
      "execution_count": null,
      "metadata": {
        "id": "sU8-Ote7K8vz",
        "colab": {
          "base_uri": "https://localhost:8080/"
        },
        "outputId": "e151ad34-d99e-4011-83a0-1dbcdd223609"
      },
      "outputs": [
        {
          "output_type": "stream",
          "name": "stdout",
          "text": [
            "Writing max_pairwise_product_long.cpp\n"
          ]
        }
      ],
      "source": [
        "%%writefile max_pairwise_product_long.cpp\n",
        "#include <iostream>\n",
        "#include <vector>\n",
        "#include <algorithm>\n",
        "\n",
        "long long MaxPairwiseProduct(const std::vector<int>& numbers) {              //N inst exec by line executed\n",
        "    long long max_product = 0LL;                                             //1\n",
        "\t  long long aux_product = 0LL;                                             //1\n",
        "    int n = numbers.size();                                                  //1\n",
        "\n",
        "    for (int first = 0; first < n; ++first) {                                //1+2n\n",
        "        for (int second = first + 1; second < n; ++second) {                 //n + (n-1)n\n",
        "\t\t\t       aux_product =  (long long) numbers[first] * numbers[second];    //(n-1)n/2\n",
        "            if (max_product < aux_product)  {                                //(n-1)n/2\n",
        "\t\t\t\t        max_product = aux_product;                                   //[0, (n-1)n/2]\n",
        "             }\n",
        "        }\n",
        "    }\n",
        "                                                                             // --------------\n",
        "    return max_product;                                                      // 4 + 3n + [2(n-1)n, 2.5 (n-1)n] upper bound\n",
        "}\n",
        "\n",
        "int main() {                                              //N inst exec by line executed\n",
        "    int n;                                                //1\n",
        "    std::cin >> n;                                        //1\n",
        "    std::vector<int> numbers(n);                          //n\n",
        "    for (int i = 0; i < n; ++i) {                         //1 + 2n\n",
        "        std::cin >> numbers[i];                           //n\n",
        "    }\n",
        "\n",
        "    std::cout << MaxPairwiseProduct(numbers) << \"\\n\";     //1 + 1  + 4 + 3n + [2(n-1)n, 2.5 (n-1)n]\n",
        "    return 0;                                             // --------------\n",
        "}                                                         // 9 + 7n + [2(n-1)n, 2.5 (n-1)n] upper bound\n"
      ]
    },
    {
      "cell_type": "code",
      "execution_count": null,
      "metadata": {
        "id": "5QWT3fneK8nw"
      },
      "outputs": [],
      "source": [
        "%%writefile max_pairwise_product_python.py\n",
        "def max_pairwise_product(numbers):\n",
        "    max_product = 0\n",
        "    n = len(numbers)\n",
        "\n",
        "    for first in range(n):\n",
        "        for second in range(first + 1, n):\n",
        "            max_product = max(max_product, numbers[first] * numbers[second])\n",
        "\n",
        "    return max_product\n",
        "\n",
        "if __name__ == \"__main__\":\n",
        "    n = int(input())\n",
        "    numbers = list(map(int, input().split()))\n",
        "\n",
        "    print(max_pairwise_product(numbers))\n"
      ]
    },
    {
      "cell_type": "code",
      "execution_count": null,
      "metadata": {
        "id": "mxIVvm1RK8dB"
      },
      "outputs": [],
      "source": [
        "%%writefile max_pairwise_product_long.py\n",
        "def max_pairwise_product(numbers):\n",
        "    max_product = 0\n",
        "    n = len(numbers)\n",
        "\n",
        "    for first in range(n):\n",
        "        for second in range(first + 1, n):\n",
        "            aux_product = numbers[first] * numbers[second]\n",
        "            if max_product < aux_product:\n",
        "                max_product = aux_product\n",
        "\n",
        "    return max_product\n"
      ]
    },
    {
      "cell_type": "markdown",
      "metadata": {
        "id": "1Hsbd-uHOb_j"
      },
      "source": [
        "### Sort solution in C++ and Python\n",
        "\n",
        "$$ O(n \\lg n)$$\n",
        "\n",
        "**Which sorting algorithm is used in GCC?**\n",
        "https://stackoverflow.com/questions/7221257/which-sorting-algorithm-is-used-in-gcc\n",
        "\n",
        "* ...  the algorithm is called introsort, a combination between Insertionsort, Quicksort & Heapsort. ...\n",
        "\n",
        "**Introsort**\n",
        "https://en.wikipedia.org/wiki/Introsort\n",
        "\n",
        "Introsort or introspective sort is a hybrid sorting algorithm that provides both fast average performance and (asymptotically) optimal worst-case performance. It begins with quicksort, it switches to heapsort when the recursion depth exceeds a level based on (the logarithm of) the number of elements being sorted and it switches to insertion sort when the number of elements is below some threshold\n",
        "\n",
        "*   Class\tSorting algorithm\n",
        "*   Data structure\tArray\n",
        "*   Worst-case performance\t$O(n \\lg n)$\n",
        "*   Average performance\t$O(n \\lg n)$\n",
        "\n",
        "**Tinsort**\n",
        "https://en.wikipedia.org/wiki/Timsort\n",
        "\n",
        "Timsort is a hybrid, stable sorting algorithm, derived from merge sort and insertion sort, designed to perform well on many kinds of real-world data. It was implemented by Tim Peters in 2002 for use in the Python programming language.\n",
        "\n",
        "*   Class\tSorting algorithm\n",
        "*   Data structure\tArray\n",
        "*   Worst-case performance\t$O(n \\lg n)$\n",
        "*   Best-case performance $O(n)$\n",
        "*   Average performance\t$O(n \\lg n)$\n",
        "*   Worst-case space complexity $O(n)$"
      ]
    },
    {
      "cell_type": "markdown",
      "metadata": {
        "id": "WMUthAXjOb_k"
      },
      "source": [
        "Add in each line a coment with the number of intstrcution that are executed in that line"
      ]
    },
    {
      "cell_type": "markdown",
      "source": [
        "**-------------------------------------------------------------------------------C++-------------------------------------------------------------------------**"
      ],
      "metadata": {
        "id": "8COy0qCD0dGK"
      }
    },
    {
      "cell_type": "code",
      "execution_count": null,
      "metadata": {
        "id": "2-sXOmqFOb_k",
        "colab": {
          "base_uri": "https://localhost:8080/"
        },
        "outputId": "1a503a2b-8233-4bad-90b3-76819d71ef90"
      },
      "outputs": [
        {
          "output_type": "stream",
          "name": "stdout",
          "text": [
            "Writing introsort.cpp\n"
          ]
        }
      ],
      "source": [
        "%%writefile introsort.cpp\n",
        "\n",
        "#include <iostream>\n",
        "#include <vector>\n",
        "#include <algorithm>\n",
        "\n",
        "// Function to count the number of instructions executed\n",
        "int instruction_count = 0;\n",
        "\n",
        "// Custom comparator function for introsort\n",
        "bool custom_compare(int a, int b) {\n",
        "    // Count a comparison instruction\n",
        "    instruction_count++;\n",
        "    return a < b;\n",
        "}\n",
        "\n",
        "int main() {\n",
        "    int n;\n",
        "    std::cin >> n; // Read the number of elements\n",
        "\n",
        "    std::vector<int> arr(n);\n",
        "\n",
        "    for (int i = 0; i < n; i++) {\n",
        "        std::cin >> arr[i]; // Read the elements\n",
        "    }\n",
        "\n",
        "    std::sort(arr.begin(), arr.end(), custom_compare);\n",
        "\n",
        "    // Print the sorted array\n",
        "    for (int num : arr) {\n",
        "        std::cout << num << \" \";\n",
        "    }\n",
        "\n",
        "    std::cout << std::endl;\n",
        "\n",
        "    // Print the number of instructions executed\n",
        "    std::cout << \"Instruction Count: \" << instruction_count << std::endl;\n",
        "\n",
        "    return 0;\n",
        "}\n"
      ]
    },
    {
      "cell_type": "markdown",
      "source": [
        "**-----------------------------------------------------------------Python---------------------------------------------------------------------**"
      ],
      "metadata": {
        "id": "tc4XG44B1uLe"
      }
    },
    {
      "cell_type": "code",
      "source": [
        "%%writefile timsort.py\n",
        "\n",
        "def timsort(arr):\n",
        "    # Count the number of instructions executed\n",
        "    instruction_count = 0\n",
        "\n",
        "    arr.sort()\n",
        "\n",
        "    return instruction_count\n",
        "\n",
        "if __name__ == \"__main__\":\n",
        "    n = int(input())\n",
        "    arr = list(map(int, input().split()))\n",
        "\n",
        "    # Sort the array using timsort and get the instruction count\n",
        "    instructions = timsort(arr)\n",
        "\n",
        "    # Print the sorted array\n",
        "    print(\"Sorted Array:\", arr)\n",
        "\n",
        "    # Print the number of instructions executed\n",
        "    print(\"Instruction Count:\", instructions)\n"
      ],
      "metadata": {
        "colab": {
          "base_uri": "https://localhost:8080/"
        },
        "id": "wxdTUsk71V5C",
        "outputId": "a8e0e640-b62f-485d-be68-5fedacea226f"
      },
      "execution_count": null,
      "outputs": [
        {
          "output_type": "stream",
          "name": "stdout",
          "text": [
            "Writing timsort.py\n"
          ]
        }
      ]
    },
    {
      "cell_type": "markdown",
      "metadata": {
        "id": "v8pdV9ABOb_k"
      },
      "source": [
        "Test with inputs 1 and 2\n",
        "\n"
      ]
    },
    {
      "cell_type": "code",
      "source": [
        "!g++ introsort.cpp -o introsort\n",
        "!./introsort < input1.txt"
      ],
      "metadata": {
        "colab": {
          "base_uri": "https://localhost:8080/"
        },
        "id": "R5nKKuTp3YFZ",
        "outputId": "1ead712c-c35b-401d-e8ff-26140666b303"
      },
      "execution_count": null,
      "outputs": [
        {
          "output_type": "stream",
          "name": "stdout",
          "text": [
            "1 2 3 4 5 6 7 8 9 10 \n",
            "Instruction Count: 18\n"
          ]
        }
      ]
    },
    {
      "cell_type": "code",
      "source": [
        "!g++ introsort.cpp -o introsort\n",
        "!./introsort < input2.txt"
      ],
      "metadata": {
        "colab": {
          "base_uri": "https://localhost:8080/"
        },
        "id": "MBW1q1En3oT-",
        "outputId": "5eb099f4-8459-4737-ba2a-f37e5b313dc4"
      },
      "execution_count": null,
      "outputs": [
        {
          "output_type": "stream",
          "name": "stdout",
          "text": [
            "1 2 3 4 5 6 7 8 9 10 \n",
            "Instruction Count: 9\n"
          ]
        }
      ]
    },
    {
      "cell_type": "code",
      "execution_count": null,
      "metadata": {
        "id": "kdXAyLG4Ob_k",
        "colab": {
          "base_uri": "https://localhost:8080/"
        },
        "outputId": "bbdd35d4-883d-40be-923f-791bfea4e841"
      },
      "outputs": [
        {
          "output_type": "stream",
          "name": "stdout",
          "text": [
            "Sorted Array: [1, 2, 3, 4, 5, 6, 7, 8, 9, 10]\n",
            "Instruction Count: 0\n"
          ]
        }
      ],
      "source": [
        "!python timsort.py < input1.txt"
      ]
    },
    {
      "cell_type": "code",
      "source": [
        "!python timsort.py < input2.txt"
      ],
      "metadata": {
        "colab": {
          "base_uri": "https://localhost:8080/"
        },
        "id": "uh4ohT4V3scp",
        "outputId": "978243c0-3322-448c-ee3f-3c40f555e992"
      },
      "execution_count": null,
      "outputs": [
        {
          "output_type": "stream",
          "name": "stdout",
          "text": [
            "Sorted Array: [1, 2, 3, 4, 5, 6, 7, 8, 9, 10]\n",
            "Instruction Count: 0\n"
          ]
        }
      ]
    },
    {
      "cell_type": "code",
      "source": [
        "!python timsort.py < input2.txt"
      ],
      "metadata": {
        "colab": {
          "base_uri": "https://localhost:8080/"
        },
        "id": "xHGael_H4hK8",
        "outputId": "6cbc0211-5026-4a2f-890b-0a7b7bd4a697"
      },
      "execution_count": null,
      "outputs": [
        {
          "output_type": "stream",
          "name": "stdout",
          "text": [
            "Sorted Array: [1, 2, 5, 5, 6, 9]\n",
            "Instruction Count: 0\n"
          ]
        }
      ]
    },
    {
      "cell_type": "markdown",
      "metadata": {
        "id": "Sw-5X1q1Ob_k"
      },
      "source": [
        "Test and time it with input 3"
      ]
    },
    {
      "cell_type": "code",
      "execution_count": null,
      "metadata": {
        "id": "ryHJ30WIOb_k",
        "colab": {
          "base_uri": "https://localhost:8080/"
        },
        "outputId": "45d52959-9340-4f6a-db26-a62319bb2029"
      },
      "outputs": [
        {
          "output_type": "stream",
          "name": "stdout",
          "text": [
            "Sorted Array: [1, 3, 9, 23, 200000, 200000]\n",
            "Instruction Count: 0\n"
          ]
        }
      ],
      "source": [
        "!python timsort.py < input3.txt"
      ]
    },
    {
      "cell_type": "code",
      "source": [
        "!g++ introsort.cpp -o introsort\n",
        "!./introsort < input3.txt"
      ],
      "metadata": {
        "colab": {
          "base_uri": "https://localhost:8080/"
        },
        "id": "GdZl0_Dd7Gis",
        "outputId": "a385e13b-0307-4d63-9140-b9947dd4a3a7"
      },
      "execution_count": null,
      "outputs": [
        {
          "output_type": "stream",
          "name": "stdout",
          "text": [
            "1 3 9 23 200000 200000 \n",
            "Instruction Count: 13\n"
          ]
        }
      ]
    },
    {
      "cell_type": "markdown",
      "metadata": {
        "id": "oJGdPl1HOb_k"
      },
      "source": [
        "20 stress tests"
      ]
    },
    {
      "cell_type": "markdown",
      "source": [
        "creamos 20 inputs del 14 al 34"
      ],
      "metadata": {
        "id": "nIrDdEgm8G5Y"
      }
    },
    {
      "cell_type": "code",
      "execution_count": null,
      "metadata": {
        "id": "pXHtO1dEOb_k",
        "colab": {
          "base_uri": "https://localhost:8080/"
        },
        "outputId": "f3e3dc3b-58f5-4784-c42f-8d9eccab2833"
      },
      "outputs": [
        {
          "output_type": "stream",
          "name": "stdout",
          "text": [
            "Archivo input14.txt creado y escrito correctamente.\n",
            "Archivo input15.txt creado y escrito correctamente.\n",
            "Archivo input16.txt creado y escrito correctamente.\n",
            "Archivo input17.txt creado y escrito correctamente.\n",
            "Archivo input18.txt creado y escrito correctamente.\n",
            "Archivo input19.txt creado y escrito correctamente.\n",
            "Archivo input20.txt creado y escrito correctamente.\n",
            "Archivo input21.txt creado y escrito correctamente.\n",
            "Archivo input22.txt creado y escrito correctamente.\n",
            "Archivo input23.txt creado y escrito correctamente.\n",
            "Archivo input24.txt creado y escrito correctamente.\n",
            "Archivo input25.txt creado y escrito correctamente.\n",
            "Archivo input26.txt creado y escrito correctamente.\n",
            "Archivo input27.txt creado y escrito correctamente.\n",
            "Archivo input28.txt creado y escrito correctamente.\n",
            "Archivo input29.txt creado y escrito correctamente.\n",
            "Archivo input30.txt creado y escrito correctamente.\n",
            "Archivo input31.txt creado y escrito correctamente.\n",
            "Archivo input32.txt creado y escrito correctamente.\n",
            "Archivo input33.txt creado y escrito correctamente.\n",
            "Archivo input34.txt creado y escrito correctamente.\n"
          ]
        }
      ],
      "source": [
        "import random\n",
        "\n",
        "for i in range(14, 35):\n",
        "    filename = f\"input{i}.txt\"\n",
        "    n = random.randint(1, 23)  # Número de elementos en cada archivo\n",
        "\n",
        "    with open(filename, \"w\") as file:\n",
        "        file.write(f\"{n}\\n\")  # Escribir el valor de n\n",
        "        numbers = list(range(1, n + 1))\n",
        "        random.shuffle(numbers)  # Mezclar los números en orden aleatorio\n",
        "        file.write(\" \".join(map(str, numbers)))  # Escribir los números en el archivo\n",
        "\n",
        "    print(f\"Archivo {filename} creado y escrito correctamente.\")\n"
      ]
    },
    {
      "cell_type": "markdown",
      "metadata": {
        "id": "2beTmWFPOb_k"
      },
      "source": [
        "Count executed instructions in code and verify with inputs 1,2 and 3\n"
      ]
    },
    {
      "cell_type": "markdown",
      "source": [
        "c++"
      ],
      "metadata": {
        "id": "aBvYvZsGANEh"
      }
    },
    {
      "cell_type": "code",
      "source": [
        "\n",
        " %%writefile torture_introsort.sh\n",
        "#!/bin/bash\n",
        "g++ introsort.cpp -o introsort\n",
        "for i in {14..34}\n",
        "do\n",
        "    echo \"Running introsort with input$i.txt\"\n",
        "    ./introsort < input$i.txt\n",
        "done"
      ],
      "metadata": {
        "colab": {
          "base_uri": "https://localhost:8080/"
        },
        "id": "5Z38LqEB9vrs",
        "outputId": "ec16c1b9-43bc-4f11-e5b0-4dcfa32b126f"
      },
      "execution_count": null,
      "outputs": [
        {
          "output_type": "stream",
          "name": "stdout",
          "text": [
            "Overwriting torture_introsort.sh\n"
          ]
        }
      ]
    },
    {
      "cell_type": "code",
      "source": [
        "!chmod u+x torture_introsort.sh\n",
        "!./torture_introsort.sh"
      ],
      "metadata": {
        "colab": {
          "base_uri": "https://localhost:8080/"
        },
        "id": "lHVgP7E69rvC",
        "outputId": "9d2124c6-9a8c-437e-e08a-bd0b7c29cbfa"
      },
      "execution_count": null,
      "outputs": [
        {
          "output_type": "stream",
          "name": "stdout",
          "text": [
            "Running introsort with input14.txt\n",
            "1 2 3 4 5 6 7 8 9 10 11 \n",
            "Instruction Count: 36\n",
            "Running introsort with input15.txt\n",
            "1 2 3 \n",
            "Instruction Count: 2\n",
            "Running introsort with input16.txt\n",
            "1 2 3 4 5 6 7 8 9 10 11 12 13 14 15 16 17 18 19 \n",
            "Instruction Count: 82\n",
            "Running introsort with input17.txt\n",
            "1 2 3 4 5 6 7 8 9 \n",
            "Instruction Count: 21\n",
            "Running introsort with input18.txt\n",
            "1 2 3 4 5 6 7 8 9 \n",
            "Instruction Count: 24\n",
            "Running introsort with input19.txt\n",
            "1 2 3 4 5 6 7 8 9 10 11 12 13 14 15 16 17 18 19 20 21 22 \n",
            "Instruction Count: 116\n",
            "Running introsort with input20.txt\n",
            "1 2 3 4 5 6 7 8 9 10 11 12 13 \n",
            "Instruction Count: 40\n",
            "Running introsort with input21.txt\n",
            "1 2 3 4 5 6 7 8 9 10 \n",
            "Instruction Count: 27\n",
            "Running introsort with input22.txt\n",
            "1 2 3 4 5 6 7 8 9 10 11 12 13 14 15 16 17 18 19 \n",
            "Instruction Count: 86\n",
            "Running introsort with input23.txt\n",
            "1 2 3 4 5 6 7 \n",
            "Instruction Count: 17\n",
            "Running introsort with input24.txt\n",
            "1 2 3 4 5 6 7 8 9 10 11 12 13 14 15 16 \n",
            "Instruction Count: 79\n",
            "Running introsort with input25.txt\n",
            "1 2 3 4 5 6 7 \n",
            "Instruction Count: 13\n",
            "Running introsort with input26.txt\n",
            "1 2 3 4 5 6 7 8 \n",
            "Instruction Count: 14\n",
            "Running introsort with input27.txt\n",
            "1 2 \n",
            "Instruction Count: 1\n",
            "Running introsort with input28.txt\n",
            "1 2 3 4 5 6 \n",
            "Instruction Count: 18\n",
            "Running introsort with input29.txt\n",
            "1 \n",
            "Instruction Count: 0\n",
            "Running introsort with input30.txt\n",
            "1 2 3 4 5 \n",
            "Instruction Count: 8\n",
            "Running introsort with input31.txt\n",
            "1 2 3 4 5 6 7 8 9 10 11 12 13 14 15 16 17 18 19 20 \n",
            "Instruction Count: 98\n",
            "Running introsort with input32.txt\n",
            "1 2 3 4 5 6 7 \n",
            "Instruction Count: 12\n",
            "Running introsort with input33.txt\n",
            "1 2 3 4 5 6 7 8 9 10 11 12 13 14 15 16 \n",
            "Instruction Count: 84\n",
            "Running introsort with input34.txt\n",
            "1 2 3 4 5 6 7 8 9 10 11 12 13 14 15 16 17 18 19 20 \n",
            "Instruction Count: 97\n"
          ]
        }
      ]
    },
    {
      "cell_type": "markdown",
      "source": [
        "PYTHON"
      ],
      "metadata": {
        "id": "r4GXfrPCAK5y"
      }
    },
    {
      "cell_type": "code",
      "source": [
        "\n",
        " %%writefile torture_timsort.sh\n",
        "#!/bin/bash\n",
        "\n",
        "for i in {14..34}\n",
        "do\n",
        "  echo \"Running timsort with input$i.txt\"\n",
        "  python timsort.py < input$i.txt\n",
        "done"
      ],
      "metadata": {
        "id": "3BLFKUkGAKnu"
      },
      "execution_count": null,
      "outputs": []
    },
    {
      "cell_type": "code",
      "source": [
        "!chmod u+x torture_timsort.sh\n",
        "!./torture_timsort.sh"
      ],
      "metadata": {
        "colab": {
          "base_uri": "https://localhost:8080/"
        },
        "id": "KXDpWbreBUB8",
        "outputId": "b2a553d7-295c-4add-928e-b86c3a5b038b"
      },
      "execution_count": null,
      "outputs": [
        {
          "output_type": "stream",
          "name": "stdout",
          "text": [
            "Running timsort with input14.txt\n",
            "Sorted Array: [1, 2, 3, 4, 5, 6, 7, 8, 9, 10, 11]\n",
            "Instruction Count: 0\n",
            "Running timsort with input15.txt\n",
            "Sorted Array: [1, 2, 3]\n",
            "Instruction Count: 0\n",
            "Running timsort with input16.txt\n",
            "Sorted Array: [1, 2, 3, 4, 5, 6, 7, 8, 9, 10, 11, 12, 13, 14, 15, 16, 17, 18, 19]\n",
            "Instruction Count: 0\n",
            "Running timsort with input17.txt\n",
            "Sorted Array: [1, 2, 3, 4, 5, 6, 7, 8, 9]\n",
            "Instruction Count: 0\n",
            "Running timsort with input18.txt\n",
            "Sorted Array: [1, 2, 3, 4, 5, 6, 7, 8, 9]\n",
            "Instruction Count: 0\n",
            "Running timsort with input19.txt\n",
            "Sorted Array: [1, 2, 3, 4, 5, 6, 7, 8, 9, 10, 11, 12, 13, 14, 15, 16, 17, 18, 19, 20, 21, 22]\n",
            "Instruction Count: 0\n",
            "Running timsort with input20.txt\n",
            "Sorted Array: [1, 2, 3, 4, 5, 6, 7, 8, 9, 10, 11, 12, 13]\n",
            "Instruction Count: 0\n",
            "Running timsort with input21.txt\n",
            "Sorted Array: [1, 2, 3, 4, 5, 6, 7, 8, 9, 10]\n",
            "Instruction Count: 0\n",
            "Running timsort with input22.txt\n",
            "Sorted Array: [1, 2, 3, 4, 5, 6, 7, 8, 9, 10, 11, 12, 13, 14, 15, 16, 17, 18, 19]\n",
            "Instruction Count: 0\n",
            "Running timsort with input23.txt\n",
            "Sorted Array: [1, 2, 3, 4, 5, 6, 7]\n",
            "Instruction Count: 0\n",
            "Running timsort with input24.txt\n",
            "Sorted Array: [1, 2, 3, 4, 5, 6, 7, 8, 9, 10, 11, 12, 13, 14, 15, 16]\n",
            "Instruction Count: 0\n",
            "Running timsort with input25.txt\n",
            "Sorted Array: [1, 2, 3, 4, 5, 6, 7]\n",
            "Instruction Count: 0\n",
            "Running timsort with input26.txt\n",
            "Sorted Array: [1, 2, 3, 4, 5, 6, 7, 8]\n",
            "Instruction Count: 0\n",
            "Running timsort with input27.txt\n",
            "Sorted Array: [1, 2]\n",
            "Instruction Count: 0\n",
            "Running timsort with input28.txt\n",
            "Sorted Array: [1, 2, 3, 4, 5, 6]\n",
            "Instruction Count: 0\n",
            "Running timsort with input29.txt\n",
            "Sorted Array: [1]\n",
            "Instruction Count: 0\n",
            "Running timsort with input30.txt\n",
            "Sorted Array: [1, 2, 3, 4, 5]\n",
            "Instruction Count: 0\n",
            "Running timsort with input31.txt\n",
            "Sorted Array: [1, 2, 3, 4, 5, 6, 7, 8, 9, 10, 11, 12, 13, 14, 15, 16, 17, 18, 19, 20]\n",
            "Instruction Count: 0\n",
            "Running timsort with input32.txt\n",
            "Sorted Array: [1, 2, 3, 4, 5, 6, 7]\n",
            "Instruction Count: 0\n",
            "Running timsort with input33.txt\n",
            "Sorted Array: [1, 2, 3, 4, 5, 6, 7, 8, 9, 10, 11, 12, 13, 14, 15, 16]\n",
            "Instruction Count: 0\n",
            "Running timsort with input34.txt\n",
            "Sorted Array: [1, 2, 3, 4, 5, 6, 7, 8, 9, 10, 11, 12, 13, 14, 15, 16, 17, 18, 19, 20]\n",
            "Instruction Count: 0\n"
          ]
        }
      ]
    },
    {
      "cell_type": "markdown",
      "metadata": {
        "id": "x2CXhkwTOb_l"
      },
      "source": [
        "Calculate estimated time by instruction and number of instructions by second"
      ]
    },
    {
      "cell_type": "markdown",
      "source": [
        "c++"
      ],
      "metadata": {
        "id": "gRkNfOAqDcpC"
      }
    },
    {
      "cell_type": "code",
      "execution_count": null,
      "metadata": {
        "id": "nTjxyTMtOb_l",
        "colab": {
          "base_uri": "https://localhost:8080/"
        },
        "outputId": "530e14fc-9d4d-4443-82ca-9b5d8c5a5ecf"
      },
      "outputs": [
        {
          "output_type": "stream",
          "name": "stdout",
          "text": [
            "Writing torture_time_introsort.sh\n"
          ]
        }
      ],
      "source": [
        "\n",
        " %%writefile torture_time_introsort.sh\n",
        "#!/bin/bash\n",
        "g++ introsort.cpp -o introsort\n",
        "for i in {14..34}\n",
        "do\n",
        "    echo \"Running introsort with input$i.txt\"\n",
        "    (time ./introsort < input$i.txt) 2>&1 | grep -E 'real|sys'\n",
        "done\n"
      ]
    },
    {
      "cell_type": "code",
      "source": [
        "!chmod u+x  torture_time_introsort.sh\n",
        "!./torture_time_introsort.sh"
      ],
      "metadata": {
        "colab": {
          "base_uri": "https://localhost:8080/"
        },
        "id": "anlHgPFMCYt7",
        "outputId": "0ee98d58-209a-4c56-a26e-e52b165fd2b3"
      },
      "execution_count": null,
      "outputs": [
        {
          "output_type": "stream",
          "name": "stdout",
          "text": [
            "Running introsort with input14.txt\n",
            "real\t0m0.003s\n",
            "sys\t0m0.002s\n",
            "Running introsort with input15.txt\n",
            "real\t0m0.003s\n",
            "sys\t0m0.002s\n",
            "Running introsort with input16.txt\n",
            "real\t0m0.003s\n",
            "sys\t0m0.002s\n",
            "Running introsort with input17.txt\n",
            "real\t0m0.003s\n",
            "sys\t0m0.001s\n",
            "Running introsort with input18.txt\n",
            "real\t0m0.003s\n",
            "sys\t0m0.001s\n",
            "Running introsort with input19.txt\n",
            "real\t0m0.003s\n",
            "sys\t0m0.002s\n",
            "Running introsort with input20.txt\n",
            "real\t0m0.003s\n",
            "sys\t0m0.003s\n",
            "Running introsort with input21.txt\n",
            "real\t0m0.003s\n",
            "sys\t0m0.001s\n",
            "Running introsort with input22.txt\n",
            "real\t0m0.004s\n",
            "sys\t0m0.002s\n",
            "Running introsort with input23.txt\n",
            "real\t0m0.004s\n",
            "sys\t0m0.000s\n",
            "Running introsort with input24.txt\n",
            "real\t0m0.003s\n",
            "sys\t0m0.002s\n",
            "Running introsort with input25.txt\n",
            "real\t0m0.003s\n",
            "sys\t0m0.000s\n",
            "Running introsort with input26.txt\n",
            "real\t0m0.003s\n",
            "sys\t0m0.002s\n",
            "Running introsort with input27.txt\n",
            "real\t0m0.003s\n",
            "sys\t0m0.003s\n",
            "Running introsort with input28.txt\n",
            "real\t0m0.004s\n",
            "sys\t0m0.001s\n",
            "Running introsort with input29.txt\n",
            "real\t0m0.003s\n",
            "sys\t0m0.002s\n",
            "Running introsort with input30.txt\n",
            "real\t0m0.003s\n",
            "sys\t0m0.002s\n",
            "Running introsort with input31.txt\n",
            "real\t0m0.003s\n",
            "sys\t0m0.003s\n",
            "Running introsort with input32.txt\n",
            "real\t0m0.003s\n",
            "sys\t0m0.001s\n",
            "Running introsort with input33.txt\n",
            "real\t0m0.003s\n",
            "sys\t0m0.002s\n",
            "Running introsort with input34.txt\n",
            "real\t0m0.003s\n",
            "sys\t0m0.002s\n"
          ]
        }
      ]
    },
    {
      "cell_type": "markdown",
      "source": [
        "python"
      ],
      "metadata": {
        "id": "3hv296RtDfFh"
      }
    },
    {
      "cell_type": "code",
      "source": [
        " %%writefile torture_time_timsort.sh\n",
        "#!/bin/bash\n",
        "for i in {14..34}\n",
        "do\n",
        "    echo \"Running timsort with input$i.txt\"\n",
        "    (time python timsort.py < input$i.txt) 2>&1 | grep -E 'real|sys'\n",
        "done\n"
      ],
      "metadata": {
        "id": "7I9XEb7cDhq2"
      },
      "execution_count": null,
      "outputs": []
    },
    {
      "cell_type": "code",
      "source": [
        "!chmod u+x torture_time_timsort.sh\n",
        "!./torture_time_timsort.sh"
      ],
      "metadata": {
        "colab": {
          "base_uri": "https://localhost:8080/"
        },
        "id": "CmP-A8i2D3pK",
        "outputId": "85021cb1-1ad8-4d47-feb4-6c0d35294526"
      },
      "execution_count": null,
      "outputs": [
        {
          "output_type": "stream",
          "name": "stdout",
          "text": [
            "Running timsort with input14.txt\n",
            "real\t0m0.047s\n",
            "sys\t0m0.011s\n",
            "Running timsort with input15.txt\n",
            "real\t0m0.046s\n",
            "sys\t0m0.008s\n",
            "Running timsort with input16.txt\n",
            "real\t0m0.046s\n",
            "sys\t0m0.012s\n",
            "Running timsort with input17.txt\n",
            "real\t0m0.044s\n",
            "sys\t0m0.014s\n",
            "Running timsort with input18.txt\n",
            "real\t0m0.048s\n",
            "sys\t0m0.012s\n",
            "Running timsort with input19.txt\n",
            "real\t0m0.057s\n",
            "sys\t0m0.012s\n",
            "Running timsort with input20.txt\n",
            "real\t0m0.056s\n",
            "sys\t0m0.015s\n",
            "Running timsort with input21.txt\n",
            "real\t0m0.044s\n",
            "sys\t0m0.009s\n",
            "Running timsort with input22.txt\n",
            "real\t0m0.045s\n",
            "sys\t0m0.013s\n",
            "Running timsort with input23.txt\n",
            "real\t0m0.053s\n",
            "sys\t0m0.007s\n",
            "Running timsort with input24.txt\n",
            "real\t0m0.060s\n",
            "sys\t0m0.010s\n",
            "Running timsort with input25.txt\n",
            "real\t0m0.062s\n",
            "sys\t0m0.016s\n",
            "Running timsort with input26.txt\n",
            "real\t0m0.055s\n",
            "sys\t0m0.014s\n",
            "Running timsort with input27.txt\n",
            "real\t0m0.046s\n",
            "sys\t0m0.012s\n",
            "Running timsort with input28.txt\n",
            "real\t0m0.051s\n",
            "sys\t0m0.008s\n",
            "Running timsort with input29.txt\n",
            "real\t0m0.050s\n",
            "sys\t0m0.008s\n",
            "Running timsort with input30.txt\n",
            "real\t0m0.046s\n",
            "sys\t0m0.009s\n",
            "Running timsort with input31.txt\n",
            "real\t0m0.046s\n",
            "sys\t0m0.007s\n",
            "Running timsort with input32.txt\n",
            "real\t0m0.046s\n",
            "sys\t0m0.007s\n",
            "Running timsort with input33.txt\n",
            "real\t0m0.058s\n",
            "sys\t0m0.008s\n",
            "Running timsort with input34.txt\n",
            "real\t0m0.046s\n",
            "sys\t0m0.007s\n"
          ]
        }
      ]
    },
    {
      "cell_type": "markdown",
      "metadata": {
        "id": "VMKC5duEOQfk"
      },
      "source": [
        "### Efficient solution largest and second-largest in an list, array or vector in C++ and Python\n",
        " $$2.5 n = O(n)$$\n",
        "\n",
        "\n",
        "\n"
      ]
    },
    {
      "cell_type": "markdown",
      "metadata": {
        "id": "nLcKBwbU0QsE"
      },
      "source": [
        "Add in each line a coment with the number of intstrcution that are executed in that line"
      ]
    },
    {
      "cell_type": "markdown",
      "source": [
        "c++"
      ],
      "metadata": {
        "id": "27JALQ2YFYJz"
      }
    },
    {
      "cell_type": "code",
      "execution_count": null,
      "metadata": {
        "id": "knls5Fh3NSt_",
        "colab": {
          "base_uri": "https://localhost:8080/"
        },
        "outputId": "15e614e9-c3c8-43b9-e1b3-5b296b385635"
      },
      "outputs": [
        {
          "output_type": "stream",
          "name": "stdout",
          "text": [
            "Writing find_cpp.cpp\n"
          ]
        }
      ],
      "source": [
        "%%writefile find_cpp.cpp\n",
        "#include <iostream>\n",
        "#include <vector>\n",
        "#include <climits> // Include the <climits> header for INT_MIN\n",
        "\n",
        "void findLargestAndSecondLargest(const std::vector<int>& arr) {\n",
        "    int largest = INT_MIN;          // Initialize with smallest possible integer\n",
        "    int secondLargest = INT_MIN;    // Initialize with smallest possible integer\n",
        "\n",
        "    for (int num : arr) {\n",
        "        if (num > largest) {\n",
        "            secondLargest = largest;\n",
        "            largest = num;\n",
        "        } else if (num > secondLargest && num != largest) {\n",
        "            secondLargest = num;\n",
        "        }\n",
        "    }\n",
        "\n",
        "    std::cout << \"Largest: \" << largest << std::endl;\n",
        "    std::cout << \"Second Largest: \" << secondLargest << std::endl;\n",
        "}\n",
        "\n",
        "int main() {\n",
        "    int n;\n",
        "    std::cin >> n;  // Read the number of elements\n",
        "\n",
        "    std::vector<int> arr(n);\n",
        "\n",
        "    for (int i = 0; i < n; i++) {\n",
        "        std::cin >> arr[i];  // Read the elements\n",
        "    }\n",
        "\n",
        "    findLargestAndSecondLargest(arr);\n",
        "\n",
        "    return 0;\n",
        "}\n"
      ]
    },
    {
      "cell_type": "markdown",
      "source": [
        "PYTHON"
      ],
      "metadata": {
        "id": "72b3Pe1wG2dZ"
      }
    },
    {
      "cell_type": "code",
      "execution_count": null,
      "metadata": {
        "id": "TrTGAfqlNVXT",
        "colab": {
          "base_uri": "https://localhost:8080/"
        },
        "outputId": "db1e66bc-335c-4daa-88a7-2879ec8d56b8"
      },
      "outputs": [
        {
          "output_type": "stream",
          "name": "stdout",
          "text": [
            "Overwriting find_python.py\n"
          ]
        }
      ],
      "source": [
        "%%writefile find_python.py\n",
        "def find_largest_and_second_largest(arr):\n",
        "    largest = float('-inf')  # Initialize with negative infinity\n",
        "    second_largest = float('-inf')  # Initialize with negative infinity\n",
        "\n",
        "    for num in arr:\n",
        "        if num > largest:\n",
        "            second_largest = largest\n",
        "            largest = num\n",
        "        elif num > second_largest and num != largest:\n",
        "            second_largest = num\n",
        "\n",
        "    print(\"Largest:\", largest)\n",
        "    print(\"Second Largest:\", second_largest)\n",
        "\n",
        "if __name__ == \"__main__\":\n",
        "    n = int(input())  # Read the number of elements\n",
        "    arr = list(map(int, input().split()))  # Read the elements\n",
        "\n",
        "    find_largest_and_second_largest(arr)\n"
      ]
    },
    {
      "cell_type": "markdown",
      "metadata": {
        "id": "-JCijbWxNSii"
      },
      "source": [
        "Test with inputs 1 and 2\n",
        "\n"
      ]
    },
    {
      "cell_type": "markdown",
      "source": [
        "C++"
      ],
      "metadata": {
        "id": "4lbDlO9ZILqO"
      }
    },
    {
      "cell_type": "code",
      "execution_count": null,
      "metadata": {
        "id": "v4z7-Is_NRt7",
        "colab": {
          "base_uri": "https://localhost:8080/"
        },
        "outputId": "ca04920a-427e-43ef-8dc1-e95bdc09be3d"
      },
      "outputs": [
        {
          "output_type": "stream",
          "name": "stdout",
          "text": [
            "Largest: 10\n",
            "Second Largest: 9\n"
          ]
        }
      ],
      "source": [
        "!g++ find_cpp.cpp -o find_cpp\n",
        "!./find_cpp < input1.txt"
      ]
    },
    {
      "cell_type": "code",
      "source": [
        "!./find_cpp < input2.txt"
      ],
      "metadata": {
        "colab": {
          "base_uri": "https://localhost:8080/"
        },
        "id": "JHYdRpzfIbPo",
        "outputId": "d3beebb8-a8f1-4e88-cb13-a409089684b9"
      },
      "execution_count": null,
      "outputs": [
        {
          "output_type": "stream",
          "name": "stdout",
          "text": [
            "Largest: 10\n",
            "Second Largest: 9\n"
          ]
        }
      ]
    },
    {
      "cell_type": "markdown",
      "source": [
        "PYTHON"
      ],
      "metadata": {
        "id": "oaEgVMl1IJ8j"
      }
    },
    {
      "cell_type": "code",
      "source": [
        "!python find_python.py < input1.txt"
      ],
      "metadata": {
        "colab": {
          "base_uri": "https://localhost:8080/"
        },
        "id": "vvSg16H5IN2R",
        "outputId": "53c86e10-5349-4bd3-9d0f-016af825bdd9"
      },
      "execution_count": null,
      "outputs": [
        {
          "output_type": "stream",
          "name": "stdout",
          "text": [
            "Largest: 10\n",
            "Second Largest: 9\n"
          ]
        }
      ]
    },
    {
      "cell_type": "code",
      "source": [
        "!python find_python.py < input2.txt"
      ],
      "metadata": {
        "colab": {
          "base_uri": "https://localhost:8080/"
        },
        "id": "ZRy9uWytJiBr",
        "outputId": "f60c386e-407c-407f-8c94-997a30be1e52"
      },
      "execution_count": null,
      "outputs": [
        {
          "output_type": "stream",
          "name": "stdout",
          "text": [
            "Largest: 10\n",
            "Second Largest: 9\n"
          ]
        }
      ]
    },
    {
      "cell_type": "markdown",
      "metadata": {
        "id": "PRX51wADNR8b"
      },
      "source": [
        "Test and time it with input 3"
      ]
    },
    {
      "cell_type": "code",
      "source": [
        "!g++ find_cpp.cpp -o find_cpp\n",
        "!./find_cpp < input3.txt"
      ],
      "metadata": {
        "colab": {
          "base_uri": "https://localhost:8080/"
        },
        "id": "EsQ5TH2LJzGK",
        "outputId": "09b1b211-6fb1-4f4e-a18c-73e9efffea93"
      },
      "execution_count": null,
      "outputs": [
        {
          "output_type": "stream",
          "name": "stdout",
          "text": [
            "Largest: 200000\n",
            "Second Largest: 23\n"
          ]
        }
      ]
    },
    {
      "cell_type": "code",
      "source": [
        "!python find_python.py < input3.txt"
      ],
      "metadata": {
        "colab": {
          "base_uri": "https://localhost:8080/"
        },
        "id": "0HsqzlgYJ4FQ",
        "outputId": "40fb55c3-d9e8-450f-d8e2-82eb1f95d2c0"
      },
      "execution_count": null,
      "outputs": [
        {
          "output_type": "stream",
          "name": "stdout",
          "text": [
            "Largest: 200000\n",
            "Second Largest: 23\n"
          ]
        }
      ]
    },
    {
      "cell_type": "markdown",
      "metadata": {
        "id": "rpdfs0_TNZJf"
      },
      "source": [
        "20 stress tests"
      ]
    },
    {
      "cell_type": "code",
      "execution_count": null,
      "metadata": {
        "id": "Lu4tYcKzNcTT",
        "colab": {
          "base_uri": "https://localhost:8080/"
        },
        "outputId": "ac95d509-e458-4555-cd25-b76c0c496eeb"
      },
      "outputs": [
        {
          "output_type": "stream",
          "name": "stdout",
          "text": [
            "Writing torture_find_cpp.sh\n"
          ]
        }
      ],
      "source": [
        "\n",
        " %%writefile torture_find_cpp.sh\n",
        "#!/bin/bash\n",
        "g++  find_cpp.cpp -o find_cpp\n",
        "for i in {14..34}\n",
        "do\n",
        "    echo \"Running find_cpp with input$i.txt\"\n",
        "    ./find_cpp < input$i.txt\n",
        "done"
      ]
    },
    {
      "cell_type": "markdown",
      "metadata": {
        "id": "L8U4151JNbxk"
      },
      "source": [
        "Count executed instructions in code and verify with inputs 1,2 and 3\n"
      ]
    },
    {
      "cell_type": "code",
      "execution_count": null,
      "metadata": {
        "id": "dh85RM8vNhFz",
        "colab": {
          "base_uri": "https://localhost:8080/"
        },
        "outputId": "ef9a3314-1f07-4b8c-aed0-9642419839e2"
      },
      "outputs": [
        {
          "output_type": "stream",
          "name": "stdout",
          "text": [
            "Running find_cpp with input14.txt\n",
            "Largest: 11\n",
            "Second Largest: 10\n",
            "Running find_cpp with input15.txt\n",
            "Largest: 3\n",
            "Second Largest: 2\n",
            "Running find_cpp with input16.txt\n",
            "Largest: 19\n",
            "Second Largest: 18\n",
            "Running find_cpp with input17.txt\n",
            "Largest: 9\n",
            "Second Largest: 8\n",
            "Running find_cpp with input18.txt\n",
            "Largest: 9\n",
            "Second Largest: 8\n",
            "Running find_cpp with input19.txt\n",
            "Largest: 22\n",
            "Second Largest: 21\n",
            "Running find_cpp with input20.txt\n",
            "Largest: 13\n",
            "Second Largest: 12\n",
            "Running find_cpp with input21.txt\n",
            "Largest: 10\n",
            "Second Largest: 9\n",
            "Running find_cpp with input22.txt\n",
            "Largest: 19\n",
            "Second Largest: 18\n",
            "Running find_cpp with input23.txt\n",
            "Largest: 7\n",
            "Second Largest: 6\n",
            "Running find_cpp with input24.txt\n",
            "Largest: 16\n",
            "Second Largest: 15\n",
            "Running find_cpp with input25.txt\n",
            "Largest: 7\n",
            "Second Largest: 6\n",
            "Running find_cpp with input26.txt\n",
            "Largest: 8\n",
            "Second Largest: 7\n",
            "Running find_cpp with input27.txt\n",
            "Largest: 2\n",
            "Second Largest: 1\n",
            "Running find_cpp with input28.txt\n",
            "Largest: 6\n",
            "Second Largest: 5\n",
            "Running find_cpp with input29.txt\n",
            "Largest: 1\n",
            "Second Largest: -2147483648\n",
            "Running find_cpp with input30.txt\n",
            "Largest: 5\n",
            "Second Largest: 4\n",
            "Running find_cpp with input31.txt\n",
            "Largest: 20\n",
            "Second Largest: 19\n",
            "Running find_cpp with input32.txt\n",
            "Largest: 7\n",
            "Second Largest: 6\n",
            "Running find_cpp with input33.txt\n",
            "Largest: 16\n",
            "Second Largest: 15\n",
            "Running find_cpp with input34.txt\n",
            "Largest: 20\n",
            "Second Largest: 19\n"
          ]
        }
      ],
      "source": [
        "!chmod u+x torture_find_cpp.sh\n",
        "!./torture_find_cpp.sh"
      ]
    },
    {
      "cell_type": "markdown",
      "source": [
        "python\n"
      ],
      "metadata": {
        "id": "el_Owi_2K2uw"
      }
    },
    {
      "cell_type": "code",
      "source": [
        "\n",
        " %%writefile torture_find_python.sh\n",
        "#!/bin/bash\n",
        "\n",
        "for i in {14..34}\n",
        "do\n",
        "  echo \"Running find_python with input$i.txt\"\n",
        "  python find_python.py < input$i.txt\n",
        "done"
      ],
      "metadata": {
        "colab": {
          "base_uri": "https://localhost:8080/"
        },
        "id": "Y9W1pxaOK4go",
        "outputId": "f00cdf1c-0a8f-442c-e804-c8da32d4aa2a"
      },
      "execution_count": null,
      "outputs": [
        {
          "output_type": "stream",
          "name": "stdout",
          "text": [
            "Writing torture_find_python.sh\n"
          ]
        }
      ]
    },
    {
      "cell_type": "code",
      "source": [
        "!chmod u+x torture_find_python.sh\n",
        "!./torture_find_python.sh"
      ],
      "metadata": {
        "colab": {
          "base_uri": "https://localhost:8080/"
        },
        "id": "3w2ZmAxjLwt5",
        "outputId": "155c2ed2-615c-424a-b0cf-f3800b48d044"
      },
      "execution_count": null,
      "outputs": [
        {
          "output_type": "stream",
          "name": "stdout",
          "text": [
            "Running find_python with input14.txt\n",
            "Largest: 11\n",
            "Second Largest: 10\n",
            "Running find_python with input15.txt\n",
            "Largest: 3\n",
            "Second Largest: 2\n",
            "Running find_python with input16.txt\n",
            "Largest: 19\n",
            "Second Largest: 18\n",
            "Running find_python with input17.txt\n",
            "Largest: 9\n",
            "Second Largest: 8\n",
            "Running find_python with input18.txt\n",
            "Largest: 9\n",
            "Second Largest: 8\n",
            "Running find_python with input19.txt\n",
            "Largest: 22\n",
            "Second Largest: 21\n",
            "Running find_python with input20.txt\n",
            "Largest: 13\n",
            "Second Largest: 12\n",
            "Running find_python with input21.txt\n",
            "Largest: 10\n",
            "Second Largest: 9\n",
            "Running find_python with input22.txt\n",
            "Largest: 19\n",
            "Second Largest: 18\n",
            "Running find_python with input23.txt\n",
            "Largest: 7\n",
            "Second Largest: 6\n",
            "Running find_python with input24.txt\n",
            "Largest: 16\n",
            "Second Largest: 15\n",
            "Running find_python with input25.txt\n",
            "Largest: 7\n",
            "Second Largest: 6\n",
            "Running find_python with input26.txt\n",
            "Largest: 8\n",
            "Second Largest: 7\n",
            "Running find_python with input27.txt\n",
            "Largest: 2\n",
            "Second Largest: 1\n",
            "Running find_python with input28.txt\n",
            "Largest: 6\n",
            "Second Largest: 5\n",
            "Running find_python with input29.txt\n",
            "Largest: 1\n",
            "Second Largest: -inf\n",
            "Running find_python with input30.txt\n",
            "Largest: 5\n",
            "Second Largest: 4\n",
            "Running find_python with input31.txt\n",
            "Largest: 20\n",
            "Second Largest: 19\n",
            "Running find_python with input32.txt\n",
            "Largest: 7\n",
            "Second Largest: 6\n",
            "Running find_python with input33.txt\n",
            "Largest: 16\n",
            "Second Largest: 15\n",
            "Running find_python with input34.txt\n",
            "Largest: 20\n",
            "Second Largest: 19\n"
          ]
        }
      ]
    },
    {
      "cell_type": "markdown",
      "metadata": {
        "id": "K6ybgCmpNygr"
      },
      "source": [
        "Calculate estimated time by instruction and number of instructions by second"
      ]
    },
    {
      "cell_type": "markdown",
      "source": [
        "C++"
      ],
      "metadata": {
        "id": "yGtfydOHtNOt"
      }
    },
    {
      "cell_type": "code",
      "execution_count": null,
      "metadata": {
        "id": "kwe3G1O3Nz1w",
        "colab": {
          "base_uri": "https://localhost:8080/"
        },
        "outputId": "d2e6d235-0694-426c-a088-b2dc7ac09a1f"
      },
      "outputs": [
        {
          "output_type": "stream",
          "name": "stdout",
          "text": [
            "Overwriting torture_time_find_cpp.sh\n"
          ]
        }
      ],
      "source": [
        " %%writefile torture_time_find_cpp.sh\n",
        "#!/bin/bash\n",
        "g++ introsort.cpp -o introsort\n",
        "for i in {14..34}\n",
        "do\n",
        "    echo \"Running time´s find_cpp with input$i.txt\"\n",
        "    (time ./introsort < input$i.txt) 2>&1 | grep -E 'real|sys'\n",
        "done"
      ]
    },
    {
      "cell_type": "code",
      "source": [
        "!chmod u+x  torture_time_find_cpp.sh\n",
        "!./torture_time_find_cpp.sh"
      ],
      "metadata": {
        "colab": {
          "base_uri": "https://localhost:8080/"
        },
        "id": "BH24MODXq5sd",
        "outputId": "942f1fe6-1682-4519-cd45-78aaf8c667e4"
      },
      "execution_count": null,
      "outputs": [
        {
          "output_type": "stream",
          "name": "stdout",
          "text": [
            "Running time´s find_cpp with input14.txt\n",
            "real\t0m0.003s\n",
            "sys\t0m0.002s\n",
            "Running time´s find_cpp with input15.txt\n",
            "real\t0m0.002s\n",
            "sys\t0m0.002s\n",
            "Running time´s find_cpp with input16.txt\n",
            "real\t0m0.002s\n",
            "sys\t0m0.001s\n",
            "Running time´s find_cpp with input17.txt\n",
            "real\t0m0.002s\n",
            "sys\t0m0.000s\n",
            "Running time´s find_cpp with input18.txt\n",
            "real\t0m0.002s\n",
            "sys\t0m0.002s\n",
            "Running time´s find_cpp with input19.txt\n",
            "real\t0m0.002s\n",
            "sys\t0m0.001s\n",
            "Running time´s find_cpp with input20.txt\n",
            "real\t0m0.002s\n",
            "sys\t0m0.002s\n",
            "Running time´s find_cpp with input21.txt\n",
            "real\t0m0.002s\n",
            "sys\t0m0.002s\n",
            "Running time´s find_cpp with input22.txt\n",
            "real\t0m0.002s\n",
            "sys\t0m0.001s\n",
            "Running time´s find_cpp with input23.txt\n",
            "real\t0m0.002s\n",
            "sys\t0m0.001s\n",
            "Running time´s find_cpp with input24.txt\n",
            "real\t0m0.002s\n",
            "sys\t0m0.000s\n",
            "Running time´s find_cpp with input25.txt\n",
            "real\t0m0.002s\n",
            "sys\t0m0.000s\n",
            "Running time´s find_cpp with input26.txt\n",
            "real\t0m0.002s\n",
            "sys\t0m0.002s\n",
            "Running time´s find_cpp with input27.txt\n",
            "real\t0m0.002s\n",
            "sys\t0m0.002s\n",
            "Running time´s find_cpp with input28.txt\n",
            "real\t0m0.002s\n",
            "sys\t0m0.002s\n",
            "Running time´s find_cpp with input29.txt\n",
            "real\t0m0.002s\n",
            "sys\t0m0.000s\n",
            "Running time´s find_cpp with input30.txt\n",
            "real\t0m0.002s\n",
            "sys\t0m0.001s\n",
            "Running time´s find_cpp with input31.txt\n",
            "real\t0m0.002s\n",
            "sys\t0m0.000s\n",
            "Running time´s find_cpp with input32.txt\n",
            "real\t0m0.002s\n",
            "sys\t0m0.000s\n",
            "Running time´s find_cpp with input33.txt\n",
            "real\t0m0.002s\n",
            "sys\t0m0.002s\n",
            "Running time´s find_cpp with input34.txt\n",
            "real\t0m0.002s\n",
            "sys\t0m0.001s\n"
          ]
        }
      ]
    },
    {
      "cell_type": "markdown",
      "source": [
        "PYTHON\n"
      ],
      "metadata": {
        "id": "Du2YuCzEsxVG"
      }
    },
    {
      "cell_type": "code",
      "source": [
        " %%writefile torture_time_find_python.sh\n",
        "#!/bin/bash\n",
        "for i in {14..34}\n",
        "do\n",
        "    echo \"Running time´s find_python with input$i.txt\"\n",
        "    (time python find_python < input$i.txt) 2>&1 | grep -E 'real|sys'\n",
        "done"
      ],
      "metadata": {
        "colab": {
          "base_uri": "https://localhost:8080/"
        },
        "id": "0uiTkNoPsz_o",
        "outputId": "99b85f5f-17be-4e0f-eaa8-abd277321449"
      },
      "execution_count": null,
      "outputs": [
        {
          "output_type": "stream",
          "name": "stdout",
          "text": [
            "Overwriting torture_time_find_python.sh\n"
          ]
        }
      ]
    },
    {
      "cell_type": "code",
      "source": [
        "!chmod u+x  torture_time_find_python.sh\n",
        "!./torture_time_find_python.sh"
      ],
      "metadata": {
        "colab": {
          "base_uri": "https://localhost:8080/"
        },
        "id": "q6IQ9uLItE8-",
        "outputId": "0d403f9b-1db1-4702-e9e1-cb0f961769d5"
      },
      "execution_count": null,
      "outputs": [
        {
          "output_type": "stream",
          "name": "stdout",
          "text": [
            "Running time´s find_python with input14.txt\n",
            "real\t0m0.043s\n",
            "sys\t0m0.008s\n",
            "Running time´s find_python with input15.txt\n",
            "real\t0m0.057s\n",
            "sys\t0m0.011s\n",
            "Running time´s find_python with input16.txt\n",
            "real\t0m0.053s\n",
            "sys\t0m0.010s\n",
            "Running time´s find_python with input17.txt\n",
            "real\t0m0.047s\n",
            "sys\t0m0.010s\n",
            "Running time´s find_python with input18.txt\n",
            "real\t0m0.048s\n",
            "sys\t0m0.007s\n",
            "Running time´s find_python with input19.txt\n",
            "real\t0m0.059s\n",
            "sys\t0m0.013s\n",
            "Running time´s find_python with input20.txt\n",
            "real\t0m0.048s\n",
            "sys\t0m0.010s\n",
            "Running time´s find_python with input21.txt\n",
            "real\t0m0.053s\n",
            "sys\t0m0.010s\n",
            "Running time´s find_python with input22.txt\n",
            "real\t0m0.047s\n",
            "sys\t0m0.009s\n",
            "Running time´s find_python with input23.txt\n",
            "real\t0m0.047s\n",
            "sys\t0m0.009s\n",
            "Running time´s find_python with input24.txt\n",
            "real\t0m0.044s\n",
            "sys\t0m0.008s\n",
            "Running time´s find_python with input25.txt\n",
            "real\t0m0.051s\n",
            "sys\t0m0.012s\n",
            "Running time´s find_python with input26.txt\n",
            "real\t0m0.053s\n",
            "sys\t0m0.014s\n",
            "Running time´s find_python with input27.txt\n",
            "real\t0m0.049s\n",
            "sys\t0m0.012s\n",
            "Running time´s find_python with input28.txt\n",
            "real\t0m0.046s\n",
            "sys\t0m0.012s\n",
            "Running time´s find_python with input29.txt\n",
            "real\t0m0.050s\n",
            "sys\t0m0.010s\n",
            "Running time´s find_python with input30.txt\n",
            "real\t0m0.045s\n",
            "sys\t0m0.013s\n",
            "Running time´s find_python with input31.txt\n",
            "real\t0m0.050s\n",
            "sys\t0m0.013s\n",
            "Running time´s find_python with input32.txt\n",
            "real\t0m0.050s\n",
            "sys\t0m0.011s\n",
            "Running time´s find_python with input33.txt\n",
            "real\t0m0.049s\n",
            "sys\t0m0.007s\n",
            "Running time´s find_python with input34.txt\n",
            "real\t0m0.045s\n",
            "sys\t0m0.014s\n"
          ]
        }
      ]
    },
    {
      "cell_type": "markdown",
      "metadata": {
        "id": "sUpIWcykOGpT"
      },
      "source": [
        "### Super efficient solution\n",
        "\n",
        "Whitout storing the list in memory, only stpring the largest and second largest and whitout calling a function, add in each line a coment with the number of instructions that are executed in that line\n",
        "\n",
        "in C++ and Python\n",
        " $$2 n = O(n)$$"
      ]
    },
    {
      "cell_type": "code",
      "execution_count": null,
      "metadata": {
        "id": "hBLt_xBQLy8E",
        "colab": {
          "base_uri": "https://localhost:8080/"
        },
        "outputId": "d36c4685-4f34-4ad6-9c3e-8afb5cb64f8b"
      },
      "outputs": [
        {
          "output_type": "stream",
          "name": "stdout",
          "text": [
            "Writing find_cpp_op.cpp\n"
          ]
        }
      ],
      "source": [
        "%%writefile find_cpp_op.cpp\n",
        "#include <iostream>\n",
        "#include <climits>\n",
        "\n",
        "int main() {\n",
        "    int largest = INT_MIN;          // Initialize largest with smallest possible integer\n",
        "    int secondLargest = INT_MIN;    // Initialize secondLargest with smallest possible integer\n",
        "    int num;                        // Variable to store the current number\n",
        "\n",
        "    while (std::cin >> num) {       // Read numbers from input until EOF\n",
        "        // Check if the current number is greater than the largest\n",
        "        // If yes, update both largest and secondLargest\n",
        "        if (num > largest) {\n",
        "            secondLargest = largest;\n",
        "            largest = num;\n",
        "        }\n",
        "        // Check if the current number is greater than the secondLargest\n",
        "        // If yes, update only the secondLargest\n",
        "        else if (num > secondLargest && num != largest) {\n",
        "            secondLargest = num;\n",
        "        }\n",
        "    }\n",
        "\n",
        "    std::cout << \"Largest: \" << largest << std::endl;\n",
        "    std::cout << \"Second Largest: \" << secondLargest << std::endl;\n",
        "\n",
        "    return 0;\n",
        "}\n"
      ]
    },
    {
      "cell_type": "markdown",
      "metadata": {
        "id": "683gc3roHqzb"
      },
      "source": [
        "Test with inputs 1 and 2\n",
        "\n",
        "\n"
      ]
    },
    {
      "cell_type": "code",
      "execution_count": null,
      "metadata": {
        "id": "b7d4LA8OIc2_",
        "colab": {
          "base_uri": "https://localhost:8080/"
        },
        "outputId": "3ad723c1-f10c-40dd-9b4b-87e33b54638d"
      },
      "outputs": [
        {
          "output_type": "stream",
          "name": "stdout",
          "text": [
            "Largest: 10\n",
            "Second Largest: 9\n"
          ]
        }
      ],
      "source": [
        "!g++ find_cpp_op.cpp -o find_cpp_op\n",
        "!./find_cpp_op < input1.txt"
      ]
    },
    {
      "cell_type": "code",
      "source": [
        "!./find_cpp_op < input2.txt"
      ],
      "metadata": {
        "colab": {
          "base_uri": "https://localhost:8080/"
        },
        "id": "ZWOzdWNjvmqm",
        "outputId": "f25d886a-1abe-48c5-8e01-705d55e809c8"
      },
      "execution_count": null,
      "outputs": [
        {
          "output_type": "stream",
          "name": "stdout",
          "text": [
            "Largest: 10\n",
            "Second Largest: 9\n"
          ]
        }
      ]
    },
    {
      "cell_type": "markdown",
      "metadata": {
        "id": "36Ugn1odIeJz"
      },
      "source": [
        "Test and time it with input 3"
      ]
    },
    {
      "cell_type": "code",
      "execution_count": null,
      "metadata": {
        "id": "jDyMbCnxHqSN",
        "colab": {
          "base_uri": "https://localhost:8080/"
        },
        "outputId": "a1f12895-cc81-49f9-bbfe-f92846637751"
      },
      "outputs": [
        {
          "output_type": "stream",
          "name": "stdout",
          "text": [
            "Largest: 200000\n",
            "Second Largest: 23\n"
          ]
        }
      ],
      "source": [
        "!./find_cpp_op < input3.txt"
      ]
    },
    {
      "cell_type": "markdown",
      "metadata": {
        "id": "bhqiKQG6fjKM"
      },
      "source": [
        "20 stress tests"
      ]
    },
    {
      "cell_type": "code",
      "execution_count": null,
      "metadata": {
        "id": "2KsiXKhALzwm",
        "colab": {
          "base_uri": "https://localhost:8080/"
        },
        "outputId": "66501c95-9f23-41d9-809d-aa8e9cc91145"
      },
      "outputs": [
        {
          "output_type": "stream",
          "name": "stdout",
          "text": [
            "Overwriting torture_find_cpp_op.sh\n"
          ]
        }
      ],
      "source": [
        "\n",
        " %%writefile torture_find_cpp_op.sh\n",
        "#!/bin/bash\n",
        "g++  find_cpp_op.cpp -o find_cpp_op\n",
        "for i in {14..34}\n",
        "do\n",
        "    echo \"Running find_cpp with input$i.txt\"\n",
        "    ./find_cpp_op < input$i.txt\n",
        "done"
      ]
    },
    {
      "cell_type": "code",
      "source": [
        "!chmod u+x  torture_find_cpp_op.sh\n",
        "!./torture_find_cpp_op.sh"
      ],
      "metadata": {
        "colab": {
          "base_uri": "https://localhost:8080/"
        },
        "id": "7muCP8PGwFzq",
        "outputId": "d3035371-d328-4431-cc63-fe86c553797a"
      },
      "execution_count": null,
      "outputs": [
        {
          "output_type": "stream",
          "name": "stdout",
          "text": [
            "Running find_cpp with input14.txt\n",
            "Largest: 11\n",
            "Second Largest: 10\n",
            "Running find_cpp with input15.txt\n",
            "Largest: 3\n",
            "Second Largest: 2\n",
            "Running find_cpp with input16.txt\n",
            "Largest: 19\n",
            "Second Largest: 18\n",
            "Running find_cpp with input17.txt\n",
            "Largest: 9\n",
            "Second Largest: 8\n",
            "Running find_cpp with input18.txt\n",
            "Largest: 9\n",
            "Second Largest: 8\n",
            "Running find_cpp with input19.txt\n",
            "Largest: 22\n",
            "Second Largest: 21\n",
            "Running find_cpp with input20.txt\n",
            "Largest: 13\n",
            "Second Largest: 12\n",
            "Running find_cpp with input21.txt\n",
            "Largest: 10\n",
            "Second Largest: 9\n",
            "Running find_cpp with input22.txt\n",
            "Largest: 19\n",
            "Second Largest: 18\n",
            "Running find_cpp with input23.txt\n",
            "Largest: 7\n",
            "Second Largest: 6\n",
            "Running find_cpp with input24.txt\n",
            "Largest: 16\n",
            "Second Largest: 15\n",
            "Running find_cpp with input25.txt\n",
            "Largest: 7\n",
            "Second Largest: 6\n",
            "Running find_cpp with input26.txt\n",
            "Largest: 8\n",
            "Second Largest: 7\n",
            "Running find_cpp with input27.txt\n",
            "Largest: 2\n",
            "Second Largest: 1\n",
            "Running find_cpp with input28.txt\n",
            "Largest: 6\n",
            "Second Largest: 5\n",
            "Running find_cpp with input29.txt\n",
            "Largest: 1\n",
            "Second Largest: -2147483648\n",
            "Running find_cpp with input30.txt\n",
            "Largest: 5\n",
            "Second Largest: 4\n",
            "Running find_cpp with input31.txt\n",
            "Largest: 20\n",
            "Second Largest: 19\n",
            "Running find_cpp with input32.txt\n",
            "Largest: 7\n",
            "Second Largest: 6\n",
            "Running find_cpp with input33.txt\n",
            "Largest: 16\n",
            "Second Largest: 15\n",
            "Running find_cpp with input34.txt\n",
            "Largest: 20\n",
            "Second Largest: 19\n"
          ]
        }
      ]
    },
    {
      "cell_type": "markdown",
      "metadata": {
        "id": "fEXj8GHJH5p1"
      },
      "source": [
        "Count executed instructions in code and verify with inputs 1,2 and 3"
      ]
    },
    {
      "cell_type": "markdown",
      "source": [
        "c++"
      ],
      "metadata": {
        "id": "7iAadS5T0isF"
      }
    },
    {
      "cell_type": "markdown",
      "source": [],
      "metadata": {
        "id": "agkVlbd40ikZ"
      }
    },
    {
      "cell_type": "code",
      "execution_count": null,
      "metadata": {
        "id": "LF1DHjKXIAsF",
        "colab": {
          "base_uri": "https://localhost:8080/"
        },
        "outputId": "390bed27-f4ce-4c87-afad-680cec3a9939"
      },
      "outputs": [
        {
          "output_type": "stream",
          "name": "stdout",
          "text": [
            "instructions for input1.txt\n",
            "2\n"
          ]
        }
      ],
      "source": [
        "!echo \"instructions for input1.txt\"\n",
        "!objdump -d ./find_cpp_op | wc -l < input1.txt\n"
      ]
    },
    {
      "cell_type": "code",
      "source": [
        "!echo \"instructions for input3.txt\"\n",
        "!objdump -d ./find_cpp_op | wc -l < input2.txt\n"
      ],
      "metadata": {
        "colab": {
          "base_uri": "https://localhost:8080/"
        },
        "id": "uunu0idW0saG",
        "outputId": "ebf322ea-3e86-49c7-9b44-b30d7507ab70"
      },
      "execution_count": null,
      "outputs": [
        {
          "output_type": "stream",
          "name": "stdout",
          "text": [
            "instructions for input3.txt\n",
            "2\n"
          ]
        }
      ]
    },
    {
      "cell_type": "code",
      "source": [
        "%%writefile instructions_cpp.cpp\n",
        "#include <iostream>\n",
        "#include <climits>\n",
        "\n",
        "int main() {\n",
        "    int largest = INT_MIN;          // 1: Initialize largest with smallest possible integer\n",
        "    int secondLargest = INT_MIN;    // 1: Initialize secondLargest with smallest possible integer\n",
        "    int num;                        // 1: Variable to store the current number\n",
        "    int instruction_count = 3;      // 3 instructions for variable initialization\n",
        "\n",
        "    while (std::cin >> num) {       // Read numbers from input until EOF\n",
        "        // Check if the current number is greater than the largest\n",
        "        // If yes, update both largest and secondLargest\n",
        "        // 3: Comparison, 2 assignments, 1 arithmetic operation (num > largest)\n",
        "        if (num > largest) {\n",
        "            secondLargest = largest;    // 1: Assignment\n",
        "            largest = num;              // 1: Assignment\n",
        "        }\n",
        "        // Check if the current number is greater than the secondLargest\n",
        "        // If yes, update only the secondLargest\n",
        "        // 3: Comparison, 1 assignment (num > secondLargest)\n",
        "        // 1: Comparison (num != largest)\n",
        "        else if (num > secondLargest && num != largest) {\n",
        "            secondLargest = num;        // 1: Assignment\n",
        "        }\n",
        "        instruction_count += 8;  // Update instruction count for each loop iteration\n",
        "    }\n",
        "    std::cout << \"Instruction Count: \" << instruction_count << std::endl;  // Print total instruction count\n",
        "\n",
        "    return 0;\n",
        "}\n"
      ],
      "metadata": {
        "colab": {
          "base_uri": "https://localhost:8080/"
        },
        "id": "4SUA_2vi9qFL",
        "outputId": "d8a9b4bf-4476-4174-9fd8-ccc0effdb048"
      },
      "execution_count": null,
      "outputs": [
        {
          "output_type": "stream",
          "name": "stdout",
          "text": [
            "Overwriting instructions_cpp.cpp\n"
          ]
        }
      ]
    },
    {
      "cell_type": "code",
      "source": [
        "!g++ instructions_cpp.cpp -o instructions_cpp\n",
        "!./instructions_cpp < input1.txt"
      ],
      "metadata": {
        "colab": {
          "base_uri": "https://localhost:8080/"
        },
        "id": "19Xjuory9w1p",
        "outputId": "e4243be6-c7b6-4868-f036-1bf4a983984e"
      },
      "execution_count": null,
      "outputs": [
        {
          "output_type": "stream",
          "name": "stdout",
          "text": [
            "Instruction Count: 91\n"
          ]
        }
      ]
    },
    {
      "cell_type": "code",
      "source": [
        "!./instructions_cpp < input2.txt"
      ],
      "metadata": {
        "colab": {
          "base_uri": "https://localhost:8080/"
        },
        "id": "Bmr0qbWX-Csa",
        "outputId": "a7797129-32c7-43f6-f508-42e5abf760ce"
      },
      "execution_count": null,
      "outputs": [
        {
          "output_type": "stream",
          "name": "stdout",
          "text": [
            "Instruction Count: 91\n"
          ]
        }
      ]
    },
    {
      "cell_type": "code",
      "source": [
        "!./instructions_cpp < input3.txt"
      ],
      "metadata": {
        "colab": {
          "base_uri": "https://localhost:8080/"
        },
        "id": "_Y4OvcU1-FZD",
        "outputId": "b935504c-d6ac-456f-d678-b209dbdf89ca"
      },
      "execution_count": null,
      "outputs": [
        {
          "output_type": "stream",
          "name": "stdout",
          "text": [
            "Instruction Count: 59\n"
          ]
        }
      ]
    },
    {
      "cell_type": "markdown",
      "metadata": {
        "id": "yae7sSm2IG9U"
      },
      "source": [
        "Calculate estimated time by instruction and number of instructions by second"
      ]
    },
    {
      "cell_type": "code",
      "execution_count": null,
      "metadata": {
        "id": "suouY7BYL2dz",
        "colab": {
          "base_uri": "https://localhost:8080/"
        },
        "outputId": "bb02e244-ad9d-4e7d-aa45-1a89b965f7e0"
      },
      "outputs": [
        {
          "output_type": "stream",
          "name": "stdout",
          "text": [
            "Writing estimated.cpp\n"
          ]
        }
      ],
      "source": [
        "%%writefile estimated.cpp\n",
        "#include <iostream>\n",
        "#include <climits>\n",
        "#include <chrono>\n",
        "\n",
        "int main() {\n",
        "    int largest = INT_MIN;\n",
        "    int secondLargest = INT_MIN;\n",
        "    int num;\n",
        "    int instruction_count = 3;\n",
        "\n",
        "    auto start_time = std::chrono::high_resolution_clock::now();\n",
        "\n",
        "    while (std::cin >> num) {\n",
        "        if (num > largest) {\n",
        "            secondLargest = largest;\n",
        "            largest = num;\n",
        "        }\n",
        "        else if (num > secondLargest && num != largest) {\n",
        "            secondLargest = num;\n",
        "        }\n",
        "        instruction_count += 8;\n",
        "    }\n",
        "\n",
        "    auto end_time = std::chrono::high_resolution_clock::now();\n",
        "    std::chrono::duration<double> elapsed_seconds = end_time - start_time;\n",
        "    double execution_time = elapsed_seconds.count();\n",
        "\n",
        "    std::cout << \"Instruction Count: \" << instruction_count << std::endl;\n",
        "    std::cout << \"Execution Time (seconds): \" << execution_time << std::endl;\n",
        "\n",
        "    // Calculate estimated time per instruction\n",
        "    double estimated_time_per_instruction = execution_time / instruction_count;\n",
        "\n",
        "    // Calculate instructions per second\n",
        "    double instructions_per_second = 1.0 / estimated_time_per_instruction;\n",
        "\n",
        "    std::cout << \"Estimated Time per Instruction (seconds): \" << estimated_time_per_instruction << std::endl;\n",
        "    std::cout << \"Instructions per Second: \" << instructions_per_second << std::endl;\n",
        "\n",
        "    return 0;\n",
        "}\n"
      ]
    },
    {
      "cell_type": "code",
      "source": [
        "!g++ estimated.cpp -o estimated\n",
        "!./estimated < input1.txt"
      ],
      "metadata": {
        "colab": {
          "base_uri": "https://localhost:8080/"
        },
        "id": "W6RXVqe-DseH",
        "outputId": "61a0d4a1-1dd9-4887-dbe9-0ecf86c0c6d9"
      },
      "execution_count": null,
      "outputs": [
        {
          "output_type": "stream",
          "name": "stdout",
          "text": [
            "Instruction Count: 91\n",
            "Execution Time (seconds): 8.485e-05\n",
            "Estimated Time per Instruction (seconds): 9.32418e-07\n",
            "Instructions per Second: 1.07248e+06\n"
          ]
        }
      ]
    },
    {
      "cell_type": "markdown",
      "metadata": {
        "id": "sy33CNNfPxcE"
      },
      "source": [
        "### Super efficient solution in Python\n",
        "\n",
        "Whitout storing the list in memory and whitout calling a function, add in each line a coment with the number of intstrcution that are executed in that line"
      ]
    },
    {
      "cell_type": "code",
      "execution_count": null,
      "metadata": {
        "id": "_mOjJwKrPxcJ",
        "colab": {
          "base_uri": "https://localhost:8080/"
        },
        "outputId": "de9b74fa-2ec7-4daa-95c2-cc69e250e46c"
      },
      "outputs": [
        {
          "output_type": "stream",
          "name": "stdout",
          "text": [
            "Overwriting find_python_op.py\n"
          ]
        }
      ],
      "source": []
    },
    {
      "cell_type": "markdown",
      "metadata": {
        "id": "K08Eow0hPxcJ"
      },
      "source": [
        "Test with inputs 1 and 2\n",
        "\n",
        "\n"
      ]
    },
    {
      "cell_type": "code",
      "source": [],
      "metadata": {
        "id": "OCGyO3O1CoVU"
      },
      "execution_count": null,
      "outputs": []
    },
    {
      "cell_type": "markdown",
      "metadata": {
        "id": "CE5DB3CmPxcJ"
      },
      "source": [
        "Test and time it with input 3"
      ]
    },
    {
      "cell_type": "code",
      "execution_count": null,
      "metadata": {
        "id": "lyLhFOoePxcJ"
      },
      "outputs": [],
      "source": []
    },
    {
      "cell_type": "markdown",
      "metadata": {
        "id": "HZEI236lPxcK"
      },
      "source": [
        "20 stress tests"
      ]
    },
    {
      "cell_type": "code",
      "execution_count": null,
      "metadata": {
        "id": "_LoV-p4zPxcK"
      },
      "outputs": [],
      "source": []
    },
    {
      "cell_type": "markdown",
      "metadata": {
        "id": "IRVdP3iuPxcK"
      },
      "source": [
        "Count executed instructions in code and verify with inputs 1,2 and 3"
      ]
    },
    {
      "cell_type": "code",
      "execution_count": null,
      "metadata": {
        "id": "RghJOg78PxcK"
      },
      "outputs": [],
      "source": []
    },
    {
      "cell_type": "markdown",
      "metadata": {
        "id": "R6qeUjPaPxcK"
      },
      "source": [
        "Calculate estimated time by instruction and number of instructions by second"
      ]
    },
    {
      "cell_type": "code",
      "execution_count": null,
      "metadata": {
        "id": "iLdXYvn3PxcK"
      },
      "outputs": [],
      "source": []
    }
  ],
  "metadata": {
    "colab": {
      "provenance": []
    },
    "kernelspec": {
      "display_name": "Python 3",
      "name": "python3"
    },
    "language_info": {
      "name": "python"
    }
  },
  "nbformat": 4,
  "nbformat_minor": 0
}