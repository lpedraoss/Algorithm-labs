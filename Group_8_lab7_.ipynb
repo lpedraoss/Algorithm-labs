{
  "nbformat": 4,
  "nbformat_minor": 0,
  "metadata": {
    "colab": {
      "provenance": [],
      "include_colab_link": true
    },
    "kernelspec": {
      "name": "python3",
      "display_name": "Python 3"
    },
    "language_info": {
      "name": "python"
    }
  },
  "cells": [
    {
      "cell_type": "markdown",
      "metadata": {
        "id": "view-in-github",
        "colab_type": "text"
      },
      "source": [
        "<a href=\"https://colab.research.google.com/github/lpedraoss/AlgorithmsUN2023II/blob/main/Group_8_lab7_.ipynb\" target=\"_parent\"><img src=\"https://colab.research.google.com/assets/colab-badge.svg\" alt=\"Open In Colab\"/></a>"
      ]
    },
    {
      "cell_type": "code",
      "source": [
        "# Python3 program for stable marriage problem\n",
        "\n",
        "# Number of Men or Women\n",
        "N = 4\n",
        "\n",
        "# This function returns true if\n",
        "# woman 'w' prefers man 'm1' over man 'm'\n",
        "def wPrefersM1OverM(prefer, w, m, m1):\n",
        "\n",
        "\t# Check if w prefers m over her\n",
        "\t# current engagement m1\n",
        "\tfor i in range(N):\n",
        "\n",
        "\t\t# If m1 comes before m in list of w,\n",
        "\t\t# then w prefers her current engagement,\n",
        "\t\t# don't do anything\n",
        "\t\tif (prefer[w][i] == m1):\n",
        "\t\t\treturn True\n",
        "\n",
        "\t\t# If m comes before m1 in w's list,\n",
        "\t\t# then free her current engagement\n",
        "\t\t# and engage her with m\n",
        "\t\tif (prefer[w][i] == m):\n",
        "\t\t\treturn False\n",
        "\n",
        "# Prints stable matching for N boys and N girls.\n",
        "# Boys are numbered as 0 to N-1.\n",
        "# Girls are numbered as N to 2N-1.\n",
        "def stableMarriage(prefer):\n",
        "\n",
        "\t# Stores partner of women. This is our output\n",
        "\t# array that stores passing information.\n",
        "\t# The value of wPartner[i] indicates the partner\n",
        "\t# assigned to woman N+i. Note that the woman numbers\n",
        "\t# between N and 2*N-1. The value -1 indicates\n",
        "\t# that (N+i)'th woman is free\n",
        "\twPartner = [-1 for i in range(N)]\n",
        "\n",
        "\t# An array to store availability of men.\n",
        "\t# If mFree[i] is false, then man 'i' is free,\n",
        "\t# otherwise engaged.\n",
        "\tmFree = [False for i in range(N)]\n",
        "\n",
        "\tfreeCount = N\n",
        "\n",
        "\t# While there are free men\n",
        "\twhile (freeCount > 0):\n",
        "\n",
        "\t\t# Pick the first free man (we could pick any)\n",
        "\t\tm = 0\n",
        "\t\twhile (m < N):\n",
        "\t\t\tif (mFree[m] == False):\n",
        "\t\t\t\tbreak\n",
        "\t\t\tm += 1\n",
        "\n",
        "\t\t# One by one go to all women according to\n",
        "\t\t# m's preferences. Here m is the picked free man\n",
        "\t\ti = 0\n",
        "\t\twhile i < N and mFree[m] == False:\n",
        "\t\t\tw = prefer[m][i]\n",
        "\n",
        "\t\t\t# The woman of preference is free,\n",
        "\t\t\t# w and m become partners (Note that\n",
        "\t\t\t# the partnership maybe changed later).\n",
        "\t\t\t# So we can say they are engaged not married\n",
        "\t\t\tif (wPartner[w - N] == -1):\n",
        "\t\t\t\twPartner[w - N] = m\n",
        "\t\t\t\tmFree[m] = True\n",
        "\t\t\t\tfreeCount -= 1\n",
        "\n",
        "\t\t\telse:\n",
        "\n",
        "\t\t\t\t# If w is not free\n",
        "\t\t\t\t# Find current engagement of w\n",
        "\t\t\t\tm1 = wPartner[w - N]\n",
        "\n",
        "\t\t\t\t# If w prefers m over her current engagement m1,\n",
        "\t\t\t\t# then break the engagement between w and m1 and\n",
        "\t\t\t\t# engage m with w.\n",
        "\t\t\t\tif (wPrefersM1OverM(prefer, w, m, m1) == False):\n",
        "\t\t\t\t\twPartner[w - N] = m\n",
        "\t\t\t\t\tmFree[m] = True\n",
        "\t\t\t\t\tmFree[m1] = False\n",
        "\t\t\ti += 1\n",
        "\n",
        "\t\t\t# End of Else\n",
        "\t\t# End of the for loop that goes\n",
        "\t\t# to all women in m's list\n",
        "\t# End of main while loop\n",
        "\n",
        "\t# Print solution\n",
        "\tprint(\"Woman \", \" Man\")\n",
        "\tfor i in range(N):\n",
        "\t\tprint(i + N, \"\\t\", wPartner[i])\n",
        "\n",
        "# Driver Code\n",
        "prefer = [[7, 5, 6, 4], [5, 4, 6, 7],\n",
        "\t\t[4, 5, 6, 7], [4, 5, 6, 7],\n",
        "\t\t[0, 1, 2, 3], [0, 1, 2, 3],\n",
        "\t\t[0, 1, 2, 3], [0, 1, 2, 3]]\n",
        "\n",
        "stableMarriage(prefer)\n",
        "\n",
        "# This code is contributed by Mohit Kumar\n"
      ],
      "metadata": {
        "id": "z5xPqVtMVpRB",
        "outputId": "b538c851-83ff-4521-a7a6-345dfd3143d4",
        "colab": {
          "base_uri": "https://localhost:8080/"
        }
      },
      "execution_count": 1,
      "outputs": [
        {
          "output_type": "stream",
          "name": "stdout",
          "text": [
            "Woman   Man\n",
            "4 \t 2\n",
            "5 \t 1\n",
            "6 \t 3\n",
            "7 \t 0\n"
          ]
        }
      ]
    }
  ]
}