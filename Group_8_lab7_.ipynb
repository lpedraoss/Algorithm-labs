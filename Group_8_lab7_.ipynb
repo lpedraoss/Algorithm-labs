{
  "nbformat": 4,
  "nbformat_minor": 0,
  "metadata": {
    "colab": {
      "provenance": [],
      "include_colab_link": true
    },
    "kernelspec": {
      "name": "python3",
      "display_name": "Python 3"
    },
    "language_info": {
      "name": "python"
    }
  },
  "cells": [
    {
      "cell_type": "markdown",
      "metadata": {
        "id": "view-in-github",
        "colab_type": "text"
      },
      "source": [
        "<a href=\"https://colab.research.google.com/github/lpedraoss/AlgorithmsUN2023II/blob/main/Group_8_lab7_.ipynb\" target=\"_parent\"><img src=\"https://colab.research.google.com/assets/colab-badge.svg\" alt=\"Open In Colab\"/></a>"
      ]
    },
    {
      "cell_type": "markdown",
      "source": [
        "\n",
        "**Stable Marriage Problem**\n"
      ],
      "metadata": {
        "id": "SpwllG8xWd49"
      }
    },
    {
      "cell_type": "code",
      "source": [
        "# Python3 program for the stable marriage problem\n",
        "\n",
        "# Number of Men or Women\n",
        "N = 4\n",
        "\n",
        "# This function returns true if\n",
        "# woman 'w' prefers man 'm1' over man 'm'\n",
        "def wPrefersM1OverM(prefer, w, m, m1):\n",
        "\n",
        "\t# Check if w prefers m over her\n",
        "\t# current engagement m1\n",
        "\tfor i in range(N):\n",
        "\n",
        "\t\t# If m1 comes before m in the list of w,\n",
        "\t\t# then w prefers her current engagement,\n",
        "\t\t# don't do anything\n",
        "\t\tif prefer[w][i] == m1:\n",
        "\t\t\treturn True\n",
        "\n",
        "\t\t# If m comes before m1 in w's list,\n",
        "\t\t# then free her current engagement\n",
        "\t\t# and engage her with m\n",
        "\t\tif prefer[w][i] == m:\n",
        "\t\t\treturn False\n",
        "\n",
        "# Prints stable matching for N boys and N girls.\n",
        "# Boys are numbered as 0 to N-1.\n",
        "# Girls are numbered as N to 2N-1.\n",
        "def stableMarriage(prefer):\n",
        "\n",
        "\t# Stores the partner of women. This is our output\n",
        "\t# array that stores passing information.\n",
        "\t# The value of wPartner[i] indicates the partner\n",
        "\t# assigned to woman N+i. Note that the woman numbers\n",
        "\t# between N and 2*N-1. The value -1 indicates\n",
        "\t# that the (N+i)'th woman is free\n",
        "\twPartner = [-1 for i in range(N)]\n",
        "\n",
        "\t# An array to store the availability of men.\n",
        "\t# If mFree[i] is false, then man 'i' is free,\n",
        "\t# otherwise, he is engaged.\n",
        "\tmFree = [False for i in range(N)]\n",
        "\n",
        "\tfreeCount = N\n",
        "\n",
        "\t# While there are free men\n",
        "\twhile freeCount > 0:\n",
        "\n",
        "\t\t# Pick the first free man (we could pick any)\n",
        "\t\tm = 0\n",
        "\t\twhile m < N:\n",
        "\t\t\tif not mFree[m]:\n",
        "\t\t\t\tbreak\n",
        "\t\t\tm += 1\n",
        "\n",
        "\t\t# One by one go to all women according to\n",
        "\t\t# m's preferences. Here m is the picked free man\n",
        "\t\ti = 0\n",
        "\t\twhile i < N and not mFree[m]:\n",
        "\t\t\tw = prefer[m][i]\n",
        "\n",
        "\t\t\t# The woman of preference is free,\n",
        "\t\t\t# w and m become partners (Note that\n",
        "\t\t\t# the partnership may be changed later).\n",
        "\t\t\t# So we can say they are engaged not married\n",
        "\t\t\tif wPartner[w - N] == -1:\n",
        "\t\t\t\twPartner[w - N] = m\n",
        "\t\t\t\tmFree[m] = True\n",
        "\t\t\t\tfreeCount -= 1\n",
        "\n",
        "\t\t\telse:\n",
        "\n",
        "\t\t\t\t# If w is not free\n",
        "\t\t\t\t# Find the current engagement of w\n",
        "\t\t\t\tm1 = wPartner[w - N]\n",
        "\n",
        "\t\t\t\t# If w prefers m over her current engagement m1,\n",
        "\t\t\t\t# then break the engagement between w and m1 and\n",
        "\t\t\t\t# engage m with w.\n",
        "\t\t\t\tif not wPrefersM1OverM(prefer, w, m, m1):\n",
        "\t\t\t\t\twPartner[w - N] = m\n",
        "\t\t\t\t\tmFree[m] = True\n",
        "\t\t\t\t\tmFree[m1] = False\n",
        "\t\t\ti += 1\n",
        "\n",
        "\t\t\t# End of Else\n",
        "\t\t# End of the for loop that goes\n",
        "\t\t# to all women in m's list\n",
        "\t# End of main while loop\n",
        "\n",
        "\t# Print solution\n",
        "\tprint(\"Woman \", \" Man\")\n",
        "\tfor i in range(N):\n",
        "\t\tprint(i + N, \"\\t\", wPartner[i])\n",
        "\n",
        "# Driver Code\n",
        "prefer = ((7, 5, 6, 4), (5, 4, 6, 7),\n",
        "          (4, 5, 6, 7), (4, 5, 6, 7),\n",
        "          (0, 1, 2, 3), (0, 1, 2, 3),\n",
        "          (0, 1, 2, 3), (0, 1, 2, 3))\n",
        "\n",
        "stableMarriage(prefer)\n",
        "\n"
      ],
      "metadata": {
        "colab": {
          "base_uri": "https://localhost:8080/"
        },
        "id": "z5xPqVtMVpRB",
        "outputId": "63959817-eaf0-4f71-8858-3f423807301c"
      },
      "execution_count": 17,
      "outputs": [
        {
          "output_type": "stream",
          "name": "stdout",
          "text": [
            "Woman   Man\n",
            "4 \t 2\n",
            "5 \t 1\n",
            "6 \t 3\n",
            "7 \t 0\n"
          ]
        }
      ]
    },
    {
      "cell_type": "markdown",
      "source": [
        "The Gale-Shapley algorithm in Python\n",
        "\n",
        "David Gale and Lloyd Shapley proved that in cases with when two sets are equal there always a way to create stable pairs. I recommend reading the original paper[2] to be familiar with the elegant prove they provided.\n",
        "\n",
        "There are different implementations of the Gale-Shapley algorithm in Python [3, 4, 5], let’s create this algorithm closer to pseudocode solution without going into complicated OOP.\n",
        "\n",
        "In a pseudocode solution looks like this [6]:\n",
        "\n",
        "function stableMatching {\n",
        "  \n",
        "    Initialize all m ∈ M and w ∈ W to free\n",
        "    while ∃ free man m who still has a woman w to propose to {\n",
        "       w = first woman on m’s list to whom m has not yet proposed\n",
        "       if w is free\n",
        "         (m, w) become engaged\n",
        "       else some pair (m', w) already exists\n",
        "         if w prefers m to m'\n",
        "            m' becomes free\n",
        "           (m, w) become engaged\n",
        "         else\n",
        "           (m', w) remain engaged\n",
        "    }\n",
        "}"
      ],
      "metadata": {
        "id": "S0zFJ0VBYe8E"
      }
    },
    {
      "cell_type": "code",
      "source": [
        "%pylab inline\n",
        "import pandas as pd\n",
        "import numpy as np\n",
        "from collections import Counter\n",
        "from copy import copy"
      ],
      "metadata": {
        "colab": {
          "base_uri": "https://localhost:8080/"
        },
        "id": "kkb2J95eWpan",
        "outputId": "b72bde9d-7e8b-46ff-9302-c1097c1ee013"
      },
      "execution_count": 3,
      "outputs": [
        {
          "output_type": "stream",
          "name": "stdout",
          "text": [
            "Populating the interactive namespace from numpy and matplotlib\n"
          ]
        },
        {
          "output_type": "stream",
          "name": "stderr",
          "text": [
            "/usr/local/lib/python3.10/dist-packages/IPython/core/magics/pylab.py:159: UserWarning: pylab import has clobbered these variables: ['copy']\n",
            "`%matplotlib` prevents importing * from pylab and numpy\n",
            "  warn(\"pylab import has clobbered these variables: %s\"  % clobbered +\n"
          ]
        }
      ]
    },
    {
      "cell_type": "markdown",
      "source": [
        "Define men and women data frames"
      ],
      "metadata": {
        "id": "6ITMcvkoY-aQ"
      }
    },
    {
      "cell_type": "code",
      "source": [
        "man_list = ['a', 'b', 'c', 'd']\n",
        "women_list = ['A', 'B', 'C', 'D']\n",
        "women_df = pd.DataFrame({'A': [3,4,2,1], 'B': [3,1,4,2], 'C':[2,3,4,1], 'D':[3,2,1,4]})\n",
        "women_df.index = man_list\n",
        "man_df = pd.DataFrame({'A': [1,1,2,4], 'B': [2,4,1,2], 'C':[3,3,3,3], 'D':[4,2,4,1]})\n",
        "man_df.index = man_list"
      ],
      "metadata": {
        "id": "Edxi80vxZBAL"
      },
      "execution_count": 9,
      "outputs": []
    },
    {
      "cell_type": "markdown",
      "source": [
        "Gale-Shapley algorithm"
      ],
      "metadata": {
        "id": "iUN2_zVxZw0L"
      }
    },
    {
      "cell_type": "code",
      "source": [
        "# dict to control which women each man can make proposals\n",
        "women_available = {man:women_list for man in man_list}\n",
        "# waiting list of men that were able to create pair on each iteration\n",
        "waiting_list = []\n",
        "# dict to store created pairs\n",
        "proposals = {}\n",
        "# variable to count number of iterations\n",
        "count = 0"
      ],
      "metadata": {
        "id": "ooZ1OarfZ0b0"
      },
      "execution_count": 10,
      "outputs": []
    },
    {
      "cell_type": "code",
      "source": [
        "# while not all men have pairs\n",
        "while len(waiting_list)<len(man_list):\n",
        "    # man makes proposals\n",
        "    for man in man_list:\n",
        "        if man not in waiting_list:\n",
        "            # each man make proposal to the top women from it's list\n",
        "            women = women_available[man]\n",
        "            best_choice = man_df.loc[man][man_df.loc[man].index.isin(women)].idxmin()\n",
        "            proposals[(man, best_choice)]=(man_df.loc[man][best_choice],\n",
        "                                                 women_df.loc[man][best_choice])\n",
        "    # if women have more than one proposals\n",
        "    # she will choose the best option\n",
        "    overlays = Counter([key[1] for key in proposals.keys()])\n",
        "    # cycle to choose the best options\n",
        "    for women in overlays.keys():\n",
        "        if overlays[women]>1:\n",
        "            # pairs to drop from proposals\n",
        "            pairs_to_drop = sorted({pair: proposals[pair] for pair in proposals.keys()\n",
        "                    if women in pair}.items(),\n",
        "                   key=lambda x: x[1][1]\n",
        "                  )[1:]\n",
        "            # if man was rejected by woman\n",
        "            # there is no pint for him to make proposal\n",
        "            # second time to the same woman\n",
        "            for p_to_drop in pairs_to_drop:\n",
        "                del proposals[p_to_drop[0]]\n",
        "                _women = copy(women_available[p_to_drop[0][0]])\n",
        "                _women.remove(p_to_drop[0][1])\n",
        "                women_available[p_to_drop[0][0]] = _women\n",
        "    # man who successfully created pairs must be added to the waiting list\n",
        "    waiting_list = [man[0] for man in proposals.keys()]\n",
        "    # update counter\n",
        "    count+=1\n"
      ],
      "metadata": {
        "id": "BezCHq74Z3Yo"
      },
      "execution_count": 11,
      "outputs": []
    },
    {
      "cell_type": "markdown",
      "source": [
        "Stable pairs"
      ],
      "metadata": {
        "id": "SnyxkLdnaAMc"
      }
    },
    {
      "cell_type": "code",
      "source": [
        "proposals"
      ],
      "metadata": {
        "colab": {
          "base_uri": "https://localhost:8080/"
        },
        "id": "OOTTHCEpZ8VX",
        "outputId": "7b79a292-7b1c-49ac-b14e-3807484bed34"
      },
      "execution_count": 14,
      "outputs": [
        {
          "output_type": "execute_result",
          "data": {
            "text/plain": [
              "{('b', 'D'): (2, 2),\n",
              " ('d', 'B'): (2, 2),\n",
              " ('c', 'A'): (2, 2),\n",
              " ('a', 'C'): (3, 2)}"
            ]
          },
          "metadata": {},
          "execution_count": 14
        }
      ]
    },
    {
      "cell_type": "code",
      "source": [
        "count"
      ],
      "metadata": {
        "colab": {
          "base_uri": "https://localhost:8080/"
        },
        "id": "gDopSFSdaLMa",
        "outputId": "4b4f0951-dc33-4194-af1f-110155abc0ab"
      },
      "execution_count": 15,
      "outputs": [
        {
          "output_type": "execute_result",
          "data": {
            "text/plain": [
              "6"
            ]
          },
          "metadata": {},
          "execution_count": 15
        }
      ]
    }
  ]
}