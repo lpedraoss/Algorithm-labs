{
  "nbformat": 4,
  "nbformat_minor": 0,
  "metadata": {
    "colab": {
      "provenance": [],
      "include_colab_link": true
    },
    "kernelspec": {
      "name": "python3",
      "display_name": "Python 3"
    },
    "language_info": {
      "name": "python"
    }
  },
  "cells": [
    {
      "cell_type": "markdown",
      "metadata": {
        "id": "view-in-github",
        "colab_type": "text"
      },
      "source": [
        "<a href=\"https://colab.research.google.com/github/lpedraoss/AlgorithmsUN2023II/blob/main/Group_8_lab7_.ipynb\" target=\"_parent\"><img src=\"https://colab.research.google.com/assets/colab-badge.svg\" alt=\"Open In Colab\"/></a>"
      ]
    },
    {
      "cell_type": "markdown",
      "source": [
        "\n",
        "**Stable Marriage Problem**\n"
      ],
      "metadata": {
        "id": "SpwllG8xWd49"
      }
    },
    {
      "cell_type": "code",
      "source": [
        "# Python3 program for the stable marriage problem\n",
        "\n",
        "# Number of Men or Women\n",
        "N = 4\n",
        "\n",
        "# This function returns true if\n",
        "# woman 'w' prefers man 'm1' over man 'm'\n",
        "def wPrefersM1OverM(prefer, w, m, m1):\n",
        "\n",
        "\t# Check if w prefers m over her\n",
        "\t# current engagement m1\n",
        "\tfor i in range(N):\n",
        "\n",
        "\t\t# If m1 comes before m in the list of w,\n",
        "\t\t# then w prefers her current engagement,\n",
        "\t\t# don't do anything\n",
        "\t\tif prefer[w][i] == m1:\n",
        "\t\t\treturn True\n",
        "\n",
        "\t\t# If m comes before m1 in w's list,\n",
        "\t\t# then free her current engagement\n",
        "\t\t# and engage her with m\n",
        "\t\tif prefer[w][i] == m:\n",
        "\t\t\treturn False\n",
        "\n",
        "# Prints stable matching for N boys and N girls.\n",
        "# Boys are numbered as 0 to N-1.\n",
        "# Girls are numbered as N to 2N-1.\n",
        "def stableMarriage(prefer):\n",
        "\n",
        "\t# Stores the partner of women. This is our output\n",
        "\t# array that stores passing information.\n",
        "\t# The value of wPartner[i] indicates the partner\n",
        "\t# assigned to woman N+i. Note that the woman numbers\n",
        "\t# between N and 2*N-1. The value -1 indicates\n",
        "\t# that the (N+i)'th woman is free\n",
        "\twPartner = [-1 for i in range(N)]\n",
        "\n",
        "\t# An array to store the availability of men.\n",
        "\t# If mFree[i] is false, then man 'i' is free,\n",
        "\t# otherwise, he is engaged.\n",
        "\tmFree = [False for i in range(N)]\n",
        "\n",
        "\tfreeCount = N\n",
        "\n",
        "\t# While there are free men\n",
        "\twhile freeCount > 0:\n",
        "\n",
        "\t\t# Pick the first free man (we could pick any)\n",
        "\t\tm = 0\n",
        "\t\twhile m < N:\n",
        "\t\t\tif not mFree[m]:\n",
        "\t\t\t\tbreak\n",
        "\t\t\tm += 1\n",
        "\n",
        "\t\t# One by one go to all women according to\n",
        "\t\t# m's preferences. Here m is the picked free man\n",
        "\t\ti = 0\n",
        "\t\twhile i < N and not mFree[m]:\n",
        "\t\t\tw = prefer[m][i]\n",
        "\n",
        "\t\t\t# The woman of preference is free,\n",
        "\t\t\t# w and m become partners (Note that\n",
        "\t\t\t# the partnership may be changed later).\n",
        "\t\t\t# So we can say they are engaged not married\n",
        "\t\t\tif wPartner[w - N] == -1:\n",
        "\t\t\t\twPartner[w - N] = m\n",
        "\t\t\t\tmFree[m] = True\n",
        "\t\t\t\tfreeCount -= 1\n",
        "\n",
        "\t\t\telse:\n",
        "\n",
        "\t\t\t\t# If w is not free\n",
        "\t\t\t\t# Find the current engagement of w\n",
        "\t\t\t\tm1 = wPartner[w - N]\n",
        "\n",
        "\t\t\t\t# If w prefers m over her current engagement m1,\n",
        "\t\t\t\t# then break the engagement between w and m1 and\n",
        "\t\t\t\t# engage m with w.\n",
        "\t\t\t\tif not wPrefersM1OverM(prefer, w, m, m1):\n",
        "\t\t\t\t\twPartner[w - N] = m\n",
        "\t\t\t\t\tmFree[m] = True\n",
        "\t\t\t\t\tmFree[m1] = False\n",
        "\t\t\ti += 1\n",
        "\n",
        "\t\t\t# End of Else\n",
        "\t\t# End of the for loop that goes\n",
        "\t\t# to all women in m's list\n",
        "\t# End of main while loop\n",
        "\n",
        "\t# Print solution\n",
        "\tprint(\"Woman \", \" Man\")\n",
        "\tfor i in range(N):\n",
        "\t\tprint(i + N, \"\\t\", wPartner[i])\n",
        "\n",
        "# Driver Code\n",
        "prefer = ((7, 5, 6, 4), (5, 4, 6, 7),\n",
        "          (4, 5, 6, 7), (4, 5, 6, 7),\n",
        "          (0, 3, 4,1), (2, 1, 6, 3),\n",
        "          (0, 1, 2, 3), (1, 2, 3, 5))\n",
        "\n",
        "stableMarriage(prefer)\n",
        "\n"
      ],
      "metadata": {
        "colab": {
          "base_uri": "https://localhost:8080/"
        },
        "id": "z5xPqVtMVpRB",
        "outputId": "44891563-f915-4644-ce84-ccdc32591451"
      },
      "execution_count": null,
      "outputs": [
        {
          "output_type": "stream",
          "name": "stdout",
          "text": [
            "Woman   Man\n",
            "4 \t 3\n",
            "5 \t 2\n",
            "6 \t 1\n",
            "7 \t 0\n"
          ]
        }
      ]
    },
    {
      "cell_type": "code",
      "source": [
        "# Python3 program for the stable marriage problem\n",
        "import itertools\n",
        "# Number of Men or Women\n",
        "N = 4\n",
        "\n",
        "def wPrefersM1OverM(prefer, w, m, m1):\n",
        "    for i in range(N):\n",
        "        if prefer[w][i] == m1:\n",
        "            return True\n",
        "        if prefer[w][i] == m:\n",
        "            return False\n",
        "\n",
        "def stableMarriage(prefer):\n",
        "    wPartner = [-1 for i in range(N)]\n",
        "    mFree = [False for i in range(N)]\n",
        "    freeCount = N\n",
        "\n",
        "    while freeCount > 0:\n",
        "        m = 0\n",
        "        while m < N:\n",
        "            if not mFree[m]:\n",
        "                break\n",
        "            m += 1\n",
        "\n",
        "        i = 0\n",
        "        while i < N and not mFree[m]:\n",
        "            w = prefer[m][i]\n",
        "\n",
        "            if wPartner[w - N] == -1:\n",
        "                wPartner[w - N] = m\n",
        "                mFree[m] = True\n",
        "                freeCount -= 1\n",
        "            else:\n",
        "                m1 = wPartner[w - N]\n",
        "                if not wPrefersM1OverM(prefer, w, m, m1):\n",
        "                    wPartner[w - N] = m\n",
        "                    mFree[m] = True\n",
        "                    mFree[m1] = False\n",
        "            i += 1\n",
        "\n",
        "    return wPartner\n",
        "\n",
        "def checkStability(prefer, pairs):\n",
        "    wPartner = stableMarriage(prefer)\n",
        "\n",
        "    print(\"\\nPreferencias:\")\n",
        "    for i in range(N):\n",
        "        print(f\"Preferencias de la mujer {i + N}: {prefer[i + N]}\")\n",
        "\n",
        "    print(\"\\nParejas:\")\n",
        "    for pair in pairs:\n",
        "        w, m = pair\n",
        "        current_partner = wPartner[w - N]\n",
        "        if not wPrefersM1OverM(prefer, w, m, current_partner):\n",
        "            print(f\"{pair} => Inestable\")\n",
        "        else:\n",
        "            print(f\"{pair} => Estable\")\n",
        "\n",
        "\n",
        "\n",
        "n = len(prefer[0])\n",
        "all_combinations = list(itertools.product(range(n, 2 * n), range(n)))\n",
        "\n",
        "print(\"Combinaciones:\")\n",
        "checkStability(prefer, all_combinations)\n"
      ],
      "metadata": {
        "id": "yl7RiwYbgmYC",
        "outputId": "26f025c2-ac05-4a48-c172-3c9048c08ea6",
        "colab": {
          "base_uri": "https://localhost:8080/"
        }
      },
      "execution_count": null,
      "outputs": [
        {
          "output_type": "stream",
          "name": "stdout",
          "text": [
            "Combinaciones:\n",
            "\n",
            "Preferencias:\n",
            "Preferencias de la mujer 4: (0, 3, 4, 1)\n",
            "Preferencias de la mujer 5: (2, 1, 6, 3)\n",
            "Preferencias de la mujer 6: (0, 1, 2, 3)\n",
            "Preferencias de la mujer 7: (1, 2, 3, 5)\n",
            "\n",
            "Parejas:\n",
            "(4, 0) => Inestable\n",
            "(4, 1) => Estable\n",
            "(4, 2) => Estable\n",
            "(4, 3) => Estable\n",
            "(5, 0) => Estable\n",
            "(5, 1) => Estable\n",
            "(5, 2) => Estable\n",
            "(5, 3) => Estable\n",
            "(6, 0) => Inestable\n",
            "(6, 1) => Estable\n",
            "(6, 2) => Estable\n",
            "(6, 3) => Estable\n",
            "(7, 0) => Inestable\n",
            "(7, 1) => Inestable\n",
            "(7, 2) => Inestable\n",
            "(7, 3) => Inestable\n"
          ]
        }
      ]
    },
    {
      "cell_type": "markdown",
      "source": [
        "The Gale-Shapley algorithm in Python\n",
        "\n",
        "David Gale and Lloyd Shapley proved that in cases with when two sets are equal there always a way to create stable pairs. I recommend reading the original paper[2] to be familiar with the elegant prove they provided.\n",
        "\n",
        "There are different implementations of the Gale-Shapley algorithm in Python [3, 4, 5], let’s create this algorithm closer to pseudocode solution without going into complicated OOP.\n",
        "\n",
        "In a pseudocode solution looks like this [6]:\n",
        "\n",
        "function stableMatching {\n",
        "  \n",
        "    Initialize all m ∈ M and w ∈ W to free\n",
        "    while ∃ free man m who still has a woman w to propose to {\n",
        "       w = first woman on m’s list to whom m has not yet proposed\n",
        "       if w is free\n",
        "         (m, w) become engaged\n",
        "       else some pair (m', w) already exists\n",
        "         if w prefers m to m'\n",
        "            m' becomes free\n",
        "           (m, w) become engaged\n",
        "         else\n",
        "           (m', w) remain engaged\n",
        "    }\n",
        "}"
      ],
      "metadata": {
        "id": "S0zFJ0VBYe8E"
      }
    },
    {
      "cell_type": "code",
      "source": [
        "%pylab inline\n",
        "import pandas as pd\n",
        "import numpy as np\n",
        "from collections import Counter\n",
        "from copy import copy"
      ],
      "metadata": {
        "colab": {
          "base_uri": "https://localhost:8080/"
        },
        "id": "kkb2J95eWpan",
        "outputId": "b72bde9d-7e8b-46ff-9302-c1097c1ee013"
      },
      "execution_count": null,
      "outputs": [
        {
          "output_type": "stream",
          "name": "stdout",
          "text": [
            "Populating the interactive namespace from numpy and matplotlib\n"
          ]
        },
        {
          "output_type": "stream",
          "name": "stderr",
          "text": [
            "/usr/local/lib/python3.10/dist-packages/IPython/core/magics/pylab.py:159: UserWarning: pylab import has clobbered these variables: ['copy']\n",
            "`%matplotlib` prevents importing * from pylab and numpy\n",
            "  warn(\"pylab import has clobbered these variables: %s\"  % clobbered +\n"
          ]
        }
      ]
    },
    {
      "cell_type": "markdown",
      "source": [
        "Define men and women data frames"
      ],
      "metadata": {
        "id": "6ITMcvkoY-aQ"
      }
    },
    {
      "cell_type": "code",
      "source": [
        "man_list = ['a', 'b', 'c', 'd']\n",
        "women_list = ['A', 'B', 'C', 'D']\n",
        "women_df = pd.DataFrame({'A': [3,4,2,1], 'B': [3,1,4,2], 'C':[2,3,4,1], 'D':[3,2,1,4]})\n",
        "women_df.index = man_list\n",
        "man_df = pd.DataFrame({'A': [1,1,2,4], 'B': [2,4,1,2], 'C':[3,3,3,3], 'D':[4,2,4,1]})\n",
        "man_df.index = man_list"
      ],
      "metadata": {
        "id": "Edxi80vxZBAL"
      },
      "execution_count": null,
      "outputs": []
    },
    {
      "cell_type": "markdown",
      "source": [
        "Gale-Shapley algorithm"
      ],
      "metadata": {
        "id": "iUN2_zVxZw0L"
      }
    },
    {
      "cell_type": "code",
      "source": [
        "# dict to control which women each man can make proposals\n",
        "women_available = {man:women_list for man in man_list}\n",
        "# waiting list of men that were able to create pair on each iteration\n",
        "waiting_list = []\n",
        "# dict to store created pairs\n",
        "proposals = {}\n",
        "# variable to count number of iterations\n",
        "count = 0"
      ],
      "metadata": {
        "id": "ooZ1OarfZ0b0"
      },
      "execution_count": null,
      "outputs": []
    },
    {
      "cell_type": "code",
      "source": [
        "# while not all men have pairs\n",
        "while len(waiting_list)<len(man_list):\n",
        "    # man makes proposals\n",
        "    for man in man_list:\n",
        "        if man not in waiting_list:\n",
        "            # each man make proposal to the top women from it's list\n",
        "            women = women_available[man]\n",
        "            best_choice = man_df.loc[man][man_df.loc[man].index.isin(women)].idxmin()\n",
        "            proposals[(man, best_choice)]=(man_df.loc[man][best_choice],\n",
        "                                                 women_df.loc[man][best_choice])\n",
        "    # if women have more than one proposals\n",
        "    # she will choose the best option\n",
        "    overlays = Counter([key[1] for key in proposals.keys()])\n",
        "    # cycle to choose the best options\n",
        "    for women in overlays.keys():\n",
        "        if overlays[women]>1:\n",
        "            # pairs to drop from proposals\n",
        "            pairs_to_drop = sorted({pair: proposals[pair] for pair in proposals.keys()\n",
        "                    if women in pair}.items(),\n",
        "                   key=lambda x: x[1][1]\n",
        "                  )[1:]\n",
        "            # if man was rejected by woman\n",
        "            # there is no pint for him to make proposal\n",
        "            # second time to the same woman\n",
        "            for p_to_drop in pairs_to_drop:\n",
        "                del proposals[p_to_drop[0]]\n",
        "                _women = copy(women_available[p_to_drop[0][0]])\n",
        "                _women.remove(p_to_drop[0][1])\n",
        "                women_available[p_to_drop[0][0]] = _women\n",
        "    # man who successfully created pairs must be added to the waiting list\n",
        "    waiting_list = [man[0] for man in proposals.keys()]\n",
        "    # update counter\n",
        "    count+=1\n"
      ],
      "metadata": {
        "id": "BezCHq74Z3Yo"
      },
      "execution_count": null,
      "outputs": []
    },
    {
      "cell_type": "markdown",
      "source": [
        "Stable pairs"
      ],
      "metadata": {
        "id": "SnyxkLdnaAMc"
      }
    },
    {
      "cell_type": "code",
      "source": [
        "proposals"
      ],
      "metadata": {
        "colab": {
          "base_uri": "https://localhost:8080/"
        },
        "id": "OOTTHCEpZ8VX",
        "outputId": "7b79a292-7b1c-49ac-b14e-3807484bed34"
      },
      "execution_count": null,
      "outputs": [
        {
          "output_type": "execute_result",
          "data": {
            "text/plain": [
              "{('b', 'D'): (2, 2),\n",
              " ('d', 'B'): (2, 2),\n",
              " ('c', 'A'): (2, 2),\n",
              " ('a', 'C'): (3, 2)}"
            ]
          },
          "metadata": {},
          "execution_count": 14
        }
      ]
    },
    {
      "cell_type": "code",
      "source": [
        "count"
      ],
      "metadata": {
        "colab": {
          "base_uri": "https://localhost:8080/"
        },
        "id": "gDopSFSdaLMa",
        "outputId": "4b4f0951-dc33-4194-af1f-110155abc0ab"
      },
      "execution_count": null,
      "outputs": [
        {
          "output_type": "execute_result",
          "data": {
            "text/plain": [
              "6"
            ]
          },
          "metadata": {},
          "execution_count": 15
        }
      ]
    },
    {
      "cell_type": "code",
      "source": [
        "!pip install devtools\n",
        "!pip install animation\n",
        "\n"
      ],
      "metadata": {
        "id": "cZByn_-D5SWf",
        "outputId": "2623147d-63a8-4d17-a2ef-5a07305e7ce2",
        "colab": {
          "base_uri": "https://localhost:8080/"
        }
      },
      "execution_count": 81,
      "outputs": [
        {
          "output_type": "stream",
          "name": "stdout",
          "text": [
            "Collecting devtools\n",
            "  Downloading devtools-0.12.2-py3-none-any.whl (19 kB)\n",
            "Collecting asttokens<3.0.0,>=2.0.0 (from devtools)\n",
            "  Downloading asttokens-2.4.1-py2.py3-none-any.whl (27 kB)\n",
            "Collecting executing>=1.1.1 (from devtools)\n",
            "  Downloading executing-2.0.1-py2.py3-none-any.whl (24 kB)\n",
            "Requirement already satisfied: pygments>=2.15.0 in /usr/local/lib/python3.10/dist-packages (from devtools) (2.16.1)\n",
            "Requirement already satisfied: six>=1.12.0 in /usr/local/lib/python3.10/dist-packages (from asttokens<3.0.0,>=2.0.0->devtools) (1.16.0)\n",
            "Installing collected packages: executing, asttokens, devtools\n",
            "Successfully installed asttokens-2.4.1 devtools-0.12.2 executing-2.0.1\n",
            "Collecting animation\n",
            "  Downloading animation-0.0.7-py2.py3-none-any.whl (5.3 kB)\n",
            "Collecting pychalk (from animation)\n",
            "  Downloading pychalk-2.0.1.tar.gz (17 kB)\n",
            "  Preparing metadata (setup.py) ... \u001b[?25l\u001b[?25hdone\n",
            "Requirement already satisfied: six>=1.11.0 in /usr/local/lib/python3.10/dist-packages (from pychalk->animation) (1.16.0)\n",
            "Building wheels for collected packages: pychalk\n",
            "  Building wheel for pychalk (setup.py) ... \u001b[?25l\u001b[?25hdone\n",
            "  Created wheel for pychalk: filename=pychalk-2.0.1-py3-none-any.whl size=7644 sha256=d5051ebaf417b34ec4fd192c8fb463bdb0f5cf75e8cf48e95606325f6ba57e3c\n",
            "  Stored in directory: /root/.cache/pip/wheels/9e/7d/90/dad43fb6dfeb3c2885f5ce49bd68de2c8395a5e8e34e928916\n",
            "Successfully built pychalk\n",
            "Installing collected packages: pychalk, animation\n",
            "Successfully installed animation-0.0.7 pychalk-2.0.1\n"
          ]
        }
      ]
    },
    {
      "cell_type": "code",
      "source": [
        "code = \"\"\"\n",
        "# deferred acceptance algorithm after Gale and Shapley\n",
        "# ... (rest of your code)\n",
        "# deferred acceptance algorithm after Gale and Shapley\n",
        "\n",
        "# Deferred Acceptance Algorithm with male offer\n",
        "# accepts your preferences or chooses randomly\n",
        "\n",
        "daa <- function(nMen,nWomen,m.prefs=NULL,w.prefs=NULL){\n",
        "\trequire(animation)\t# load animation package\n",
        "\n",
        "\tif (is.null(m.prefs)){\t# if no prefs given, make them randomly\n",
        "\t\tm.prefs <- replicate(n=nMen,sample(seq(from=1,to=nWomen,by=1)))\n",
        "\t\tw.prefs <- replicate(n=nWomen,sample(seq(from=1,to=nMen,by=1)))\n",
        "\t}\n",
        "\tm.hist    <- rep(0,length=nMen)\t# number of proposals made\n",
        "\tw.hist    <- rep(0,length=nWomen)\t# current mate\n",
        "\tm.singles <- 1:nMen\n",
        "\tw.singles <- 1:nWomen\n",
        "\tm.mat <- matrix(data=1:nMen,nrow=nMen,ncol=nWomen,byrow=F)\n",
        "\tsaveGIF({\t# this line and next are for recording the movie\n",
        "\t\tani.options(interval=0.5,nmax=nWomen,ani.width=1000,ani.height=1000,dev=png,type=\"png\",\"convert\",outdir=getwd())\n",
        "\t\tfor (iter in 1:nWomen){\t\t# there are as many rounds as maximal preference orders\n",
        "\t\t\t# look at market: all single men\n",
        "\t\t\t# if history not full (been rejected by all women in his prefs)\n",
        "\t\t\t# look at single male's history\n",
        "\t\t\t# propose to next woman on list\n",
        "\t\t\toffers <- NULL\n",
        "\t\t\tfor (i in 1:length(m.singles)){\n",
        "\t\t\t\tm.hist[m.singles[i]] <- m.hist[m.singles[i]]+1\t# make next proposal according to single i's count\n",
        "\t\t\t\toffers[i] <- m.prefs[m.hist[m.singles[i]],m.singles[i]]\t\t# offer if single i is the index of the woman corresponding to current round\n",
        "\t\t\t}\n",
        "\t\t\tapproached   <- unique(offers)\t# index of women who received offers\n",
        "\t\t\ttemp.singles <- m.singles\n",
        "\t\t\tm.singles    <- NULL\t# reset singles\n",
        "\t\t\tfor (j in approached){\n",
        "\t\t\t\tproposers   <- temp.singles[offers==j]\n",
        "\t\t\t\tstay.single <- temp.singles[offers==0]\t\t# guys who prefer staying single at current history\n",
        "\t\t\t\tfor (k in 1:length(proposers)){\n",
        "\t\t\t\t\tif (w.hist[j]==0&any(w.prefs[ ,j]==proposers[k])){\t# if no history and proposer\n",
        "\t\t\t\t\t\tw.hist[j] <- proposers[k]\t\t\t\t\t\t# is somewhere on preference list, accept\n",
        "\n",
        "\t\t\t\t\t} else if (match(w.prefs[w.prefs[ ,j]==proposers[k],j],w.prefs[ ,j])<match(w.prefs[w.prefs[ ,j]==w.hist[j],j],w.prefs[ ,j])){\n",
        "\t\t\t\t\t\t\t\tm.singles <- c(m.singles,w.hist[j])\t\t# if proposer better, fire current guy\n",
        "\t\t\t\t\t\t\t\tw.hist[j] <- proposers[k]\t# and take proposer on\n",
        "\t\t\t\t\t\t\t} else {\n",
        "\t\t\t\t\t\t\t\tm.singles <- c(m.singles,proposers[k])\t# otherwise k stays single\n",
        "\t\t\t\t\t\t\t}\n",
        "\t\t\t\t}\n",
        "\t\t\t}\n",
        "\t\t\tm.singles <- sort(c(m.singles,stay.single))\n",
        "\t\t\tif (length(m.singles)==0){\t# if no singles left: stop\n",
        "\t\t\t\treturn(list(m.prefs=m.prefs,w.prefs=w.prefs,iterations=iter,matches=w.hist,singles=m.singles))\n",
        "\t\t\t\tbreak\n",
        "\t\t\t}\n",
        "\t\tcurrent.match   <- (matrix(rep(w.hist,each=nMen),nrow=nMen,ncol=nWomen)==m.mat)\n",
        "\t\tcurrent.singles <- matrix(m.mat %in% m.singles,nrow=nMen)*2\n",
        "\t\timage(y=1:nWomen,x=1:nMen,z=current.match+current.singles,ylab=\"women\",xlab=\"men\",col=c(\"white\",\"black\",\"red\"),\n",
        "\t\t\t  sub=paste(\"Iterations to go: \",nWomen-iter,\". currently \",length(m.singles),\" males single\", sep=\"\"))\n",
        "\t\ttitle(\"Current matches (black) and male singles (red)\",line=3)\n",
        "\t\ttitle(paste(nMen,\" men and \",nWomen,\" women\",sep=\"\"),line=2)\n",
        "\t\tgrid(nx=nMen,ny=nWomen,col=\"black\",lty=1)\n",
        "\t\t}\n",
        "\t},movie.name=\"dda_plot.gif\")\t# end movie recorder\n",
        "\treturn(list(m.prefs=m.prefs,w.prefs=w.prefs,iterations=iter,matches=w.hist,match.mat=current.match,singles=m.singles))\n",
        "}\n",
        "\"\"\"\n",
        "\n",
        "with open(\"dda2.r\", \"w\") as f:\n",
        "    f.write(code)\n"
      ],
      "metadata": {
        "id": "b5M19Ifk5wWC"
      },
      "execution_count": 88,
      "outputs": []
    }
  ]
}